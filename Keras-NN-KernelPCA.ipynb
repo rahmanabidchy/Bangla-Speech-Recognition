{
 "cells": [
  {
   "cell_type": "code",
   "execution_count": 1,
   "metadata": {},
   "outputs": [
    {
     "name": "stderr",
     "output_type": "stream",
     "text": [
      "C:\\Users\\lenovo_pc\\Anaconda3\\lib\\site-packages\\h5py\\__init__.py:36: FutureWarning: Conversion of the second argument of issubdtype from `float` to `np.floating` is deprecated. In future, it will be treated as `np.float64 == np.dtype(float).type`.\n",
      "  from ._conv import register_converters as _register_converters\n",
      "Using TensorFlow backend.\n"
     ]
    }
   ],
   "source": [
    "import keras\n",
    "import os\n",
    "import librosa\n",
    "\n",
    "\n",
    "import numpy as np\n",
    "import pandas as pd\n",
    "\n",
    "from sklearn.preprocessing import StandardScaler\n",
    "from sklearn.decomposition import KernelPCA\n",
    "\n",
    "from keras.models import Sequential\n",
    "from keras.utils import np_utils\n",
    "from keras.utils import to_categorical\n",
    "from keras.layers import Dense, Dropout, GaussianNoise, Conv1D\n",
    "from keras.preprocessing.image import ImageDataGenerator\n",
    "\n",
    "import matplotlib.pyplot as plt\n",
    "import seaborn as sns\n",
    "%matplotlib inline"
   ]
  },
  {
   "cell_type": "code",
   "execution_count": 2,
   "metadata": {},
   "outputs": [],
   "source": [
    "def get_labels(path):\n",
    "    labels = os.listdir(path)\n",
    "    label_indices = np.arange(0, len(labels))    \n",
    "    return labels, label_indices, to_categorical(label_indices)\n",
    "\n",
    "\n",
    "\n"
   ]
  },
  {
   "cell_type": "code",
   "execution_count": 3,
   "metadata": {},
   "outputs": [],
   "source": [
    "from sklearn.model_selection import train_test_split\n",
    "\n",
    "\n",
    "def get_train_test(split_ratio=0.8, random_state=42):\n",
    "    # Get available labels\n",
    "    labels, indices, _ = get_labels(DATA_PATH)\n",
    "\n",
    "    # Getting first arrays\n",
    "    X = np.load(labels[0] + '.npy')\n",
    "    y = np.zeros(X.shape[0])\n",
    "\n",
    "    # Append all of the dataset into one single array, same goes for y\n",
    "    for i, label in enumerate(labels[1:]):\n",
    "        x = np.load(label + '.npy')\n",
    "        X = np.vstack((X, x))\n",
    "        y = np.append(y, np.full(x.shape[0], fill_value= (i + 1)))\n",
    "\n",
    "    assert X.shape[0] == len(y)\n",
    "\n",
    "    return train_test_split(X, y, test_size= (1 - split_ratio), random_state=random_state, shuffle=True)\n",
    "\n",
    "\n",
    "\n",
    "def save_data_to_array(path, max_pad_len):\n",
    "    labels, _, _ = get_labels(path)\n",
    "\n",
    "    for label in labels:\n",
    "        # Init mfcc vectors\n",
    "        melspectrogram_vectors = []\n",
    "\n",
    "        wavfiles = [path + '/' + label + '/' + wavfile for wavfile in os.listdir(path + '/' + label)]\n",
    "        #wavfiles = librosa.util.find_files(db)\n",
    "        #print(wavfiles)\n",
    "        x=0\n",
    "        for wavfile in wavfiles:\n",
    "            name=label+'_'+str(x)\n",
    "            melspectrogram = wav2melspectrogram(wavfile, name, max_pad_len=max_pad_len)            \n",
    "            melspectrogram_vectors.append(melspectrogram)            \n",
    "            x=x+1\n",
    "        \n",
    "        #computing PCA and saving\n",
    "        \n",
    "        np.save(label + '.npy', melspectrogram_vectors)\n",
    "        #y=np.load(label + '.npy')\n",
    "        #y = sklearn.preprocessing.scale(y)\n",
    "        #y.mean()\n",
    "        #model = sklearn.decomposition.PCA(n_components=2, whiten=True)\n",
    "        #model.fit(y)\n",
    "        #y = model.transform(y)\n",
    "        #pd.DataFrame(y).to_csv(VALUE_PATH+'/'+label+'.csv')\n",
    "        \n",
    "        \n",
    "\n",
    "\n",
    "def wav2melspectrogram(file_path, name, max_pad_len):\n",
    "    wave, sr = librosa.load(file_path)\n",
    "    x = librosa.feature.melspectrogram(wave, sr=sr)\n",
    "    pad_width = max_pad_len - x.shape[1]\n",
    "    x = np.pad(x, pad_width=((0, 0), (0, pad_width)), mode='constant')\n",
    "    x = x.flatten()\n",
    "    pd.DataFrame(x).to_csv(VALUE_PATH+'/'+name+'.csv')\n",
    "    return x"
   ]
  },
  {
   "cell_type": "code",
   "execution_count": 4,
   "metadata": {},
   "outputs": [],
   "source": [
    "DATA_PATH = r'C:\\Users\\lenovo_pc\\Desktop\\CNN_SR\\Dataset-v2'\n",
    "VALUE_PATH = r'C:\\Users\\lenovo_pc\\Desktop\\CNN_SR\\flattened_matrix'\n",
    "\n",
    "\n",
    "#db = r'C:\\Users\\lenovo_pc\\Desktop\\CNN_SR\\SampleData'\n",
    "\n",
    "\n",
    "# Second dimension of the feature is dim2\n",
    "feature_dim_2 = 22\n",
    "\n",
    "# Save data to array file first\n",
    "save_data_to_array(DATA_PATH,feature_dim_2)\n",
    "\n",
    "# # Loading train set and test set\n",
    "X_train, X_test, y_train, y_test = get_train_test()\n",
    "\n",
    "# # Feature dimension\n",
    "feature_dim_1 = 128\n",
    "channel = 1\n",
    "epochs = 50\n",
    "batch_size = 100\n",
    "verbose = 1\n",
    "num_classes = 2\n",
    "\n",
    "\n",
    "y_train_hot = to_categorical(y_train)\n",
    "y_test_hot = to_categorical(y_test)"
   ]
  },
  {
   "cell_type": "code",
   "execution_count": 5,
   "metadata": {},
   "outputs": [],
   "source": [
    "scaler = StandardScaler()\n",
    "scaler.fit(X_train)\n",
    "X_sc_train = scaler.transform(X_train)\n",
    "X_sc_test = scaler.transform(X_test)"
   ]
  },
  {
   "cell_type": "code",
   "execution_count": 6,
   "metadata": {},
   "outputs": [
    {
     "data": {
      "text/plain": [
       "Text(0,0.5,'Cumulative explained variance')"
      ]
     },
     "execution_count": 6,
     "metadata": {},
     "output_type": "execute_result"
    },
    {
     "data": {
      "image/png": "[encoded data removed]",
      "text/plain": [
       "<Figure size 432x288 with 1 Axes>"
      ]
     },
     "metadata": {
      "needs_background": "light"
     },
     "output_type": "display_data"
    }
   ],
   "source": [
    "kpca = KernelPCA(n_components=500)\n",
    "kpca.fit(X_train)\n",
    "\n",
    "kpca_transform = kpca.fit_transform(X_train)\n",
    "explained_variance = np.var(kpca_transform , axis=0)\n",
    "explained_variance_ratio = explained_variance / np.sum(explained_variance)\n",
    "\n",
    "np.cumsum(explained_variance_ratio)\n",
    "\n",
    "plt.plot(np.cumsum(explained_variance_ratio))\n",
    "plt.xlabel('Number of components')\n",
    "plt.ylabel('Cumulative explained variance')"
   ]
  },
  {
   "cell_type": "code",
   "execution_count": 7,
   "metadata": {},
   "outputs": [
    {
     "name": "stdout",
     "output_type": "stream",
     "text": [
      "(224, 2816)\n",
      "(224, 50)\n",
      "(57, 50)\n"
     ]
    }
   ],
   "source": [
    "NCOMPONENTS = 50\n",
    "\n",
    "kpca = KernelPCA(n_components=NCOMPONENTS)\n",
    "X_kpca_train = kpca.fit_transform(X_sc_train)\n",
    "X_kpca_test = kpca.transform(X_sc_test)\n",
    "kpca_std = np.std(X_kpca_train)\n",
    "\n",
    "print(X_sc_train.shape)\n",
    "print(X_kpca_train.shape)\n",
    "print(X_kpca_test.shape)"
   ]
  },
  {
   "cell_type": "code",
   "execution_count": 8,
   "metadata": {},
   "outputs": [],
   "source": [
    "from keras.models import Sequential\n",
    "from keras.layers import Dense, Dropout\n",
    "from keras.layers import Embedding\n",
    "from keras.layers import Conv1D, GlobalAveragePooling1D, MaxPooling1D"
   ]
  },
  {
   "cell_type": "code",
   "execution_count": 9,
   "metadata": {},
   "outputs": [
    {
     "name": "stdout",
     "output_type": "stream",
     "text": [
      "Train on 190 samples, validate on 34 samples\n",
      "Epoch 1/100\n",
      "190/190 [==============================] - 1s 3ms/step - loss: 4.8325 - acc: 0.5684 - val_loss: 0.4873 - val_acc: 0.9706\n",
      "Epoch 2/100\n",
      "190/190 [==============================] - 0s 358us/step - loss: 4.0573 - acc: 0.6211 - val_loss: 0.5109 - val_acc: 0.9412\n",
      "Epoch 3/100\n",
      "190/190 [==============================] - 0s 358us/step - loss: 2.8628 - acc: 0.6789 - val_loss: 0.4186 - val_acc: 0.9412\n",
      "Epoch 4/100\n",
      "190/190 [==============================] - 0s 337us/step - loss: 2.7313 - acc: 0.7105 - val_loss: 0.4862 - val_acc: 0.9706\n",
      "Epoch 5/100\n",
      "190/190 [==============================] - 0s 400us/step - loss: 2.6641 - acc: 0.7053 - val_loss: 0.4837 - val_acc: 0.9706\n",
      "Epoch 6/100\n",
      "190/190 [==============================] - 0s 379us/step - loss: 2.0167 - acc: 0.7947 - val_loss: 0.4514 - val_acc: 0.9706\n",
      "Epoch 7/100\n",
      "190/190 [==============================] - 0s 358us/step - loss: 1.8036 - acc: 0.8053 - val_loss: 0.4762 - val_acc: 0.9706\n",
      "Epoch 8/100\n",
      "190/190 [==============================] - 0s 379us/step - loss: 1.5298 - acc: 0.8263 - val_loss: 0.4755 - val_acc: 0.9706\n",
      "Epoch 9/100\n",
      "190/190 [==============================] - 0s 379us/step - loss: 1.3074 - acc: 0.8632 - val_loss: 0.4751 - val_acc: 0.9706\n",
      "Epoch 10/100\n",
      "190/190 [==============================] - 0s 337us/step - loss: 1.5354 - acc: 0.8421 - val_loss: 0.4743 - val_acc: 0.9706\n",
      "Epoch 11/100\n",
      "190/190 [==============================] - 0s 337us/step - loss: 1.1385 - acc: 0.8684 - val_loss: 0.4741 - val_acc: 0.9706\n",
      "Epoch 12/100\n",
      "190/190 [==============================] - 0s 379us/step - loss: 1.2093 - acc: 0.8737 - val_loss: 0.3635 - val_acc: 0.9706\n",
      "Epoch 13/100\n",
      "190/190 [==============================] - 0s 358us/step - loss: 0.6548 - acc: 0.9263 - val_loss: 0.2654 - val_acc: 0.9706\n",
      "Epoch 14/100\n",
      "190/190 [==============================] - 0s 358us/step - loss: 0.9408 - acc: 0.9105 - val_loss: 0.2599 - val_acc: 0.9706\n",
      "Epoch 15/100\n",
      "190/190 [==============================] - 0s 379us/step - loss: 0.8698 - acc: 0.9053 - val_loss: 0.3772 - val_acc: 0.9706\n",
      "Epoch 16/100\n",
      "190/190 [==============================] - 0s 337us/step - loss: 0.9794 - acc: 0.9158 - val_loss: 0.3704 - val_acc: 0.9706\n",
      "Epoch 17/100\n",
      "190/190 [==============================] - 0s 337us/step - loss: 0.4972 - acc: 0.9316 - val_loss: 0.2255 - val_acc: 0.9706\n",
      "Epoch 18/100\n",
      "190/190 [==============================] - 0s 316us/step - loss: 0.6989 - acc: 0.9368 - val_loss: 0.2081 - val_acc: 0.9706\n",
      "Epoch 19/100\n",
      "190/190 [==============================] - 0s 337us/step - loss: 1.0076 - acc: 0.9105 - val_loss: 0.3059 - val_acc: 0.9706\n",
      "Epoch 20/100\n",
      "190/190 [==============================] - 0s 358us/step - loss: 0.4275 - acc: 0.9579 - val_loss: 0.4115 - val_acc: 0.9706\n",
      "Epoch 21/100\n",
      "190/190 [==============================] - 0s 358us/step - loss: 0.5142 - acc: 0.9474 - val_loss: 0.4604 - val_acc: 0.9706\n",
      "Epoch 22/100\n",
      "190/190 [==============================] - 0s 337us/step - loss: 0.5093 - acc: 0.9421 - val_loss: 0.3696 - val_acc: 0.9706\n",
      "Epoch 23/100\n",
      "190/190 [==============================] - 0s 358us/step - loss: 0.3601 - acc: 0.9526 - val_loss: 0.4448 - val_acc: 0.9706\n",
      "Epoch 24/100\n",
      "190/190 [==============================] - 0s 400us/step - loss: 0.5578 - acc: 0.9368 - val_loss: 0.4741 - val_acc: 0.9706\n",
      "Epoch 25/100\n",
      "190/190 [==============================] - 0s 337us/step - loss: 0.2610 - acc: 0.9737 - val_loss: 0.4741 - val_acc: 0.9706\n",
      "Epoch 26/100\n",
      "190/190 [==============================] - 0s 316us/step - loss: 0.4773 - acc: 0.9421 - val_loss: 0.4397 - val_acc: 0.9706\n",
      "Epoch 27/100\n",
      "190/190 [==============================] - 0s 358us/step - loss: 0.4142 - acc: 0.9526 - val_loss: 0.4741 - val_acc: 0.9706\n",
      "Epoch 28/100\n",
      "190/190 [==============================] - 0s 337us/step - loss: 0.4868 - acc: 0.9526 - val_loss: 0.4603 - val_acc: 0.9706\n",
      "Epoch 29/100\n",
      "190/190 [==============================] - 0s 337us/step - loss: 0.1134 - acc: 0.9789 - val_loss: 0.4741 - val_acc: 0.9706\n",
      "Epoch 30/100\n",
      "190/190 [==============================] - 0s 358us/step - loss: 0.3585 - acc: 0.9579 - val_loss: 0.4741 - val_acc: 0.9706\n",
      "Epoch 31/100\n",
      "190/190 [==============================] - 0s 379us/step - loss: 0.2942 - acc: 0.9579 - val_loss: 0.4741 - val_acc: 0.9706\n",
      "Epoch 32/100\n",
      "190/190 [==============================] - 0s 316us/step - loss: 0.5663 - acc: 0.9579 - val_loss: 0.4571 - val_acc: 0.9706\n",
      "Epoch 33/100\n",
      "190/190 [==============================] - 0s 337us/step - loss: 0.3093 - acc: 0.9632 - val_loss: 0.4523 - val_acc: 0.9706\n",
      "Epoch 34/100\n",
      "190/190 [==============================] - 0s 316us/step - loss: 0.2184 - acc: 0.9684 - val_loss: 0.3547 - val_acc: 0.9706\n",
      "Epoch 35/100\n",
      "190/190 [==============================] - 0s 337us/step - loss: 0.4258 - acc: 0.9737 - val_loss: 0.3286 - val_acc: 0.9706\n",
      "Epoch 36/100\n",
      "190/190 [==============================] - 0s 337us/step - loss: 0.3425 - acc: 0.9632 - val_loss: 0.4164 - val_acc: 0.9706\n",
      "Epoch 37/100\n",
      "190/190 [==============================] - 0s 337us/step - loss: 0.3268 - acc: 0.9579 - val_loss: 0.4389 - val_acc: 0.9706\n",
      "Epoch 38/100\n",
      "190/190 [==============================] - 0s 358us/step - loss: 0.1738 - acc: 0.9737 - val_loss: 0.4741 - val_acc: 0.9706\n",
      "Epoch 39/100\n",
      "190/190 [==============================] - 0s 316us/step - loss: 0.0342 - acc: 0.9842 - val_loss: 0.3855 - val_acc: 0.9706\n",
      "Epoch 40/100\n",
      "190/190 [==============================] - 0s 316us/step - loss: 0.1990 - acc: 0.9737 - val_loss: 0.3634 - val_acc: 0.9706\n",
      "Epoch 41/100\n",
      "190/190 [==============================] - 0s 358us/step - loss: 0.3579 - acc: 0.9632 - val_loss: 0.4216 - val_acc: 0.9706\n",
      "Epoch 42/100\n",
      "190/190 [==============================] - 0s 358us/step - loss: 0.3525 - acc: 0.9684 - val_loss: 0.4741 - val_acc: 0.9706\n",
      "Epoch 43/100\n",
      "190/190 [==============================] - 0s 316us/step - loss: 0.3065 - acc: 0.9737 - val_loss: 0.4741 - val_acc: 0.9706\n",
      "Epoch 44/100\n",
      "190/190 [==============================] - 0s 337us/step - loss: 0.1352 - acc: 0.9842 - val_loss: 0.4741 - val_acc: 0.9706\n",
      "Epoch 45/100\n",
      "190/190 [==============================] - 0s 295us/step - loss: 0.1565 - acc: 0.9895 - val_loss: 0.4741 - val_acc: 0.9706\n",
      "Epoch 46/100\n",
      "190/190 [==============================] - 0s 337us/step - loss: 0.1177 - acc: 0.9895 - val_loss: 0.4741 - val_acc: 0.9706\n",
      "Epoch 47/100\n",
      "190/190 [==============================] - 0s 337us/step - loss: 0.1257 - acc: 0.9895 - val_loss: 0.4642 - val_acc: 0.9706\n",
      "Epoch 48/100\n",
      "190/190 [==============================] - 0s 337us/step - loss: 0.3203 - acc: 0.9684 - val_loss: 0.4275 - val_acc: 0.9706\n",
      "Epoch 49/100\n",
      "190/190 [==============================] - 0s 337us/step - loss: 0.3724 - acc: 0.9632 - val_loss: 0.4728 - val_acc: 0.9706\n",
      "Epoch 50/100\n",
      "190/190 [==============================] - 0s 295us/step - loss: 0.1822 - acc: 0.9789 - val_loss: 0.4539 - val_acc: 0.9706\n",
      "Epoch 51/100\n",
      "190/190 [==============================] - 0s 337us/step - loss: 0.0848 - acc: 0.9947 - val_loss: 0.4540 - val_acc: 0.9706\n",
      "Epoch 52/100\n",
      "190/190 [==============================] - 0s 337us/step - loss: 0.3164 - acc: 0.9737 - val_loss: 0.4571 - val_acc: 0.9706\n",
      "Epoch 53/100\n",
      "190/190 [==============================] - 0s 295us/step - loss: 0.3481 - acc: 0.9737 - val_loss: 0.4741 - val_acc: 0.9706\n",
      "Epoch 54/100\n",
      "190/190 [==============================] - 0s 337us/step - loss: 0.1679 - acc: 0.9842 - val_loss: 0.4741 - val_acc: 0.9706\n",
      "Epoch 55/100\n",
      "190/190 [==============================] - 0s 358us/step - loss: 0.2821 - acc: 0.9789 - val_loss: 0.4741 - val_acc: 0.9706\n",
      "Epoch 56/100\n",
      "190/190 [==============================] - 0s 337us/step - loss: 0.2327 - acc: 0.9737 - val_loss: 0.4741 - val_acc: 0.9706\n",
      "Epoch 57/100\n",
      "190/190 [==============================] - 0s 295us/step - loss: 0.1343 - acc: 0.9842 - val_loss: 0.4741 - val_acc: 0.9706\n",
      "Epoch 58/100\n",
      "190/190 [==============================] - 0s 337us/step - loss: 0.4555 - acc: 0.9684 - val_loss: 0.4741 - val_acc: 0.9706\n",
      "Epoch 59/100\n",
      "190/190 [==============================] - 0s 337us/step - loss: 0.0468 - acc: 0.9947 - val_loss: 0.4741 - val_acc: 0.9706\n",
      "Epoch 60/100\n",
      "190/190 [==============================] - 0s 295us/step - loss: 0.1182 - acc: 0.9895 - val_loss: 0.4741 - val_acc: 0.9706\n"
     ]
    },
    {
     "name": "stdout",
     "output_type": "stream",
     "text": [
      "Epoch 61/100\n",
      "190/190 [==============================] - 0s 337us/step - loss: 0.2269 - acc: 0.9684 - val_loss: 0.4741 - val_acc: 0.9706\n",
      "Epoch 62/100\n",
      "190/190 [==============================] - 0s 379us/step - loss: 0.1573 - acc: 0.9789 - val_loss: 0.4741 - val_acc: 0.9706\n",
      "Epoch 63/100\n",
      "190/190 [==============================] - 0s 337us/step - loss: 0.3872 - acc: 0.9632 - val_loss: 0.4741 - val_acc: 0.9706\n",
      "Epoch 64/100\n",
      "190/190 [==============================] - 0s 337us/step - loss: 0.0142 - acc: 0.9895 - val_loss: 0.4741 - val_acc: 0.9706\n",
      "Epoch 65/100\n",
      "190/190 [==============================] - 0s 316us/step - loss: 0.1485 - acc: 0.9789 - val_loss: 0.4741 - val_acc: 0.9706\n",
      "Epoch 66/100\n",
      "190/190 [==============================] - 0s 295us/step - loss: 0.0106 - acc: 0.9895 - val_loss: 0.4741 - val_acc: 0.9706\n",
      "Epoch 67/100\n",
      "190/190 [==============================] - 0s 337us/step - loss: 0.3076 - acc: 0.9684 - val_loss: 0.4741 - val_acc: 0.9706\n",
      "Epoch 68/100\n",
      "190/190 [==============================] - 0s 337us/step - loss: 0.3305 - acc: 0.9684 - val_loss: 0.4741 - val_acc: 0.9706\n",
      "Epoch 69/100\n",
      "190/190 [==============================] - 0s 337us/step - loss: 0.2879 - acc: 0.9789 - val_loss: 0.4741 - val_acc: 0.9706\n",
      "Epoch 70/100\n",
      "190/190 [==============================] - 0s 358us/step - loss: 0.1413 - acc: 0.9842 - val_loss: 0.4741 - val_acc: 0.9706\n",
      "Epoch 71/100\n",
      "190/190 [==============================] - 0s 379us/step - loss: 0.1697 - acc: 0.9895 - val_loss: 0.4741 - val_acc: 0.9706\n",
      "Epoch 72/100\n",
      "190/190 [==============================] - 0s 358us/step - loss: 0.2812 - acc: 0.9737 - val_loss: 0.4741 - val_acc: 0.9706\n",
      "Epoch 73/100\n",
      "190/190 [==============================] - 0s 337us/step - loss: 0.1294 - acc: 0.9895 - val_loss: 0.4741 - val_acc: 0.9706\n",
      "Epoch 74/100\n",
      "190/190 [==============================] - 0s 316us/step - loss: 0.1658 - acc: 0.9842 - val_loss: 0.4741 - val_acc: 0.9706\n",
      "Epoch 75/100\n",
      "190/190 [==============================] - 0s 358us/step - loss: 0.1955 - acc: 0.9842 - val_loss: 0.4741 - val_acc: 0.9706\n",
      "Epoch 76/100\n",
      "190/190 [==============================] - 0s 337us/step - loss: 0.1592 - acc: 0.9789 - val_loss: 0.4777 - val_acc: 0.9706\n",
      "Epoch 77/100\n",
      "190/190 [==============================] - 0s 337us/step - loss: 0.0852 - acc: 0.9947 - val_loss: 0.4785 - val_acc: 0.9706\n",
      "Epoch 78/100\n",
      "190/190 [==============================] - 0s 337us/step - loss: 0.0543 - acc: 0.9895 - val_loss: 0.4760 - val_acc: 0.9706\n",
      "Epoch 79/100\n",
      "190/190 [==============================] - 0s 337us/step - loss: 0.0019 - acc: 1.0000 - val_loss: 0.4744 - val_acc: 0.9706\n",
      "Epoch 80/100\n",
      "190/190 [==============================] - 0s 337us/step - loss: 0.2168 - acc: 0.9842 - val_loss: 0.4741 - val_acc: 0.9706\n",
      "Epoch 81/100\n",
      "190/190 [==============================] - 0s 358us/step - loss: 0.3095 - acc: 0.9684 - val_loss: 0.4742 - val_acc: 0.9706\n",
      "Epoch 82/100\n",
      "190/190 [==============================] - 0s 295us/step - loss: 0.1990 - acc: 0.9842 - val_loss: 0.4741 - val_acc: 0.9706\n",
      "Epoch 83/100\n",
      "190/190 [==============================] - 0s 295us/step - loss: 0.0258 - acc: 0.9947 - val_loss: 0.4741 - val_acc: 0.9706\n",
      "Epoch 84/100\n",
      "190/190 [==============================] - 0s 316us/step - loss: 0.0162 - acc: 0.9947 - val_loss: 0.4741 - val_acc: 0.9706\n",
      "Epoch 85/100\n",
      "190/190 [==============================] - 0s 337us/step - loss: 0.0215 - acc: 0.9947 - val_loss: 0.4741 - val_acc: 0.9706\n",
      "Epoch 86/100\n",
      "190/190 [==============================] - 0s 316us/step - loss: 0.1496 - acc: 0.9842 - val_loss: 0.4741 - val_acc: 0.9706\n",
      "Epoch 87/100\n",
      "190/190 [==============================] - 0s 316us/step - loss: 0.2008 - acc: 0.9842 - val_loss: 0.4741 - val_acc: 0.9706\n",
      "Epoch 88/100\n",
      "190/190 [==============================] - 0s 337us/step - loss: 0.0849 - acc: 0.9947 - val_loss: 0.4741 - val_acc: 0.9706\n",
      "Epoch 89/100\n",
      "190/190 [==============================] - 0s 358us/step - loss: 3.9278e-05 - acc: 1.0000 - val_loss: 0.4741 - val_acc: 0.9706\n",
      "Epoch 90/100\n",
      "190/190 [==============================] - 0s 358us/step - loss: 0.2076 - acc: 0.9842 - val_loss: 0.4741 - val_acc: 0.9706\n",
      "Epoch 91/100\n",
      "190/190 [==============================] - 0s 337us/step - loss: 0.2009 - acc: 0.9684 - val_loss: 0.4741 - val_acc: 0.9706\n",
      "Epoch 92/100\n",
      "190/190 [==============================] - 0s 316us/step - loss: 0.1889 - acc: 0.9842 - val_loss: 0.4741 - val_acc: 0.9706\n",
      "Epoch 93/100\n",
      "190/190 [==============================] - 0s 337us/step - loss: 0.1697 - acc: 0.9895 - val_loss: 0.4741 - val_acc: 0.9706\n",
      "Epoch 94/100\n",
      "190/190 [==============================] - 0s 358us/step - loss: 0.0226 - acc: 0.9947 - val_loss: 0.4741 - val_acc: 0.9706\n",
      "Epoch 95/100\n",
      "190/190 [==============================] - 0s 358us/step - loss: 0.0751 - acc: 0.9947 - val_loss: 0.4741 - val_acc: 0.9706\n",
      "Epoch 96/100\n",
      "190/190 [==============================] - 0s 358us/step - loss: 0.1189 - acc: 0.9895 - val_loss: 0.4581 - val_acc: 0.9706\n",
      "Epoch 97/100\n",
      "190/190 [==============================] - 0s 337us/step - loss: 0.1518 - acc: 0.9737 - val_loss: 0.4465 - val_acc: 0.9706\n",
      "Epoch 98/100\n",
      "190/190 [==============================] - 0s 316us/step - loss: 0.1564 - acc: 0.9895 - val_loss: 0.4742 - val_acc: 0.9706\n",
      "Epoch 99/100\n",
      "190/190 [==============================] - 0s 337us/step - loss: 0.0025 - acc: 1.0000 - val_loss: 0.4527 - val_acc: 0.9706\n",
      "Epoch 100/100\n",
      "190/190 [==============================] - 0s 337us/step - loss: 0.2622 - acc: 0.9789 - val_loss: 0.4398 - val_acc: 0.9706\n"
     ]
    }
   ],
   "source": [
    "model = Sequential()\n",
    "layers = 1\n",
    "units = 128\n",
    "\n",
    "model.add(Dense(units, input_dim=NCOMPONENTS, activation='relu'))\n",
    "model.add(GaussianNoise(kpca_std))\n",
    "for i in range(layers):\n",
    "    model.add(Dense(units, activation='relu'))\n",
    "    model.add(GaussianNoise(kpca_std))\n",
    "    model.add(Dropout(0.1))\n",
    "model.add(Dense(2, activation='softmax'))\n",
    "\n",
    "model.compile(loss='categorical_crossentropy', optimizer='rmsprop', metrics=['accuracy'])\n",
    "\n",
    "history = model.fit(X_kpca_train, y_train_hot, epochs=100, batch_size=8, validation_split=0.15, verbose=1)"
   ]
  },
  {
   "cell_type": "code",
   "execution_count": 10,
   "metadata": {},
   "outputs": [
    {
     "data": {
      "image/png": "[encoded data removed]",
      "text/plain": [
       "<Figure size 432x288 with 1 Axes>"
      ]
     },
     "metadata": {
      "needs_background": "light"
     },
     "output_type": "display_data"
    }
   ],
   "source": [
    "# summarize history for accuracy\n",
    "plt.plot(history.history['acc'])\n",
    "plt.plot(history.history['val_acc'])\n",
    "plt.title('model accuracy')\n",
    "plt.ylabel('accuracy')\n",
    "plt.xlabel('epoch')\n",
    "plt.legend(['train', 'test'], loc='upper left')\n",
    "plt.show()\n"
   ]
  },
  {
   "cell_type": "code",
   "execution_count": 11,
   "metadata": {},
   "outputs": [
    {
     "data": {
      "image/png": "[encoded data removed]",
      "text/plain": [
       "<Figure size 432x288 with 1 Axes>"
      ]
     },
     "metadata": {
      "needs_background": "light"
     },
     "output_type": "display_data"
    }
   ],
   "source": [
    "# summarize history for loss\n",
    "plt.plot(history.history['loss'])\n",
    "plt.plot(history.history['val_loss'])\n",
    "plt.title('model loss')\n",
    "plt.ylabel('loss')\n",
    "plt.xlabel('epoch')\n",
    "plt.legend(['train', 'test'], loc='upper left')\n",
    "plt.show()"
   ]
  },
  {
   "cell_type": "code",
   "execution_count": 12,
   "metadata": {},
   "outputs": [
    {
     "name": "stdout",
     "output_type": "stream",
     "text": [
      "model train data score       :  100.0 %\n",
      "model test data score        :  98.0 %\n"
     ]
    }
   ],
   "source": [
    "score = model.evaluate(X_kpca_train, y_train_hot, verbose=2) \n",
    "print (\"model train data score       : \",round(score[1]*100) , \"%\")\n",
    "\n",
    "score = model.evaluate(X_kpca_test, y_test_hot, verbose=2) \n",
    "print (\"model test data score        : \",round(score[1]*100) , \"%\")\n"
   ]
  },
  {
   "cell_type": "code",
   "execution_count": null,
   "metadata": {},
   "outputs": [],
   "source": []
  }
 ],
 "metadata": {
  "kernelspec": {
   "display_name": "Python 3",
   "language": "python",
   "name": "python3"
  },
  "language_info": {
   "codemirror_mode": {
    "name": "ipython",
    "version": 3
   },
   "file_extension": ".py",
   "mimetype": "text/x-python",
   "name": "python",
   "nbconvert_exporter": "python",
   "pygments_lexer": "ipython3",
   "version": "3.6.4"
  }
 },
 "nbformat": 4,
 "nbformat_minor": 2
}
