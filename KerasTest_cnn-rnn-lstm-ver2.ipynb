{
 "cells": [
  {
   "cell_type": "code",
   "execution_count": 1,
   "metadata": {},
   "outputs": [
    {
     "name": "stderr",
     "output_type": "stream",
     "text": [
      "C:\\Users\\lenovo_pc\\Anaconda3\\lib\\site-packages\\h5py\\__init__.py:36: FutureWarning: Conversion of the second argument of issubdtype from `float` to `np.floating` is deprecated. In future, it will be treated as `np.float64 == np.dtype(float).type`.\n",
      "  from ._conv import register_converters as _register_converters\n",
      "Using TensorFlow backend.\n"
     ]
    }
   ],
   "source": [
    "import keras\n",
    "import numpy as np\n",
    "import matplotlib.pyplot as plt\n",
    "import os\n",
    "import pandas as pd\n",
    "import librosa\n",
    "from keras.utils import to_categorical"
   ]
  },
  {
   "cell_type": "code",
   "execution_count": 2,
   "metadata": {},
   "outputs": [],
   "source": [
    "def get_labels(path):\n",
    "    labels = os.listdir(path)\n",
    "    label_indices = np.arange(0, len(labels))    \n",
    "    return labels, label_indices, to_categorical(label_indices)\n",
    "\n",
    "\n",
    "\n"
   ]
  },
  {
   "cell_type": "code",
   "execution_count": 3,
   "metadata": {},
   "outputs": [],
   "source": [
    "from sklearn.model_selection import train_test_split\n",
    "\n",
    "def get_train_test(split_ratio=0.8, random_state=42):\n",
    "    # Get available labels\n",
    "    labels, indices, _ = get_labels(DATA_PATH)\n",
    "\n",
    "    # Getting first arrays\n",
    "    X = np.load(labels[0] + '.npy')\n",
    "    y = np.zeros(X.shape[0])\n",
    "\n",
    "    # Append all of the dataset into one single array, same goes for y\n",
    "    for i, label in enumerate(labels[1:]):\n",
    "        x = np.load(label + '.npy')\n",
    "        X = np.vstack((X, x))\n",
    "        y = np.append(y, np.full(x.shape[0], fill_value= (i + 1)))\n",
    "\n",
    "    assert X.shape[0] == len(y)\n",
    "\n",
    "    return train_test_split(X, y, test_size= (1 - split_ratio), random_state=random_state, shuffle=True)\n",
    "\n",
    "\n",
    "\n",
    "def save_data_to_array(path, max_pad_len):\n",
    "    labels, _, _ = get_labels(path)\n",
    "\n",
    "    for label in labels:\n",
    "        # Init mfcc vectors\n",
    "        mfcc_vectors = []\n",
    "\n",
    "        wavfiles = [path + '/' + label + '/' + wavfile for wavfile in os.listdir(path + '/' + label)]\n",
    "        #wavfiles = librosa.util.find_files(db)\n",
    "        #print(wavfiles)\n",
    "        x=0\n",
    "        for wavfile in wavfiles:\n",
    "            name=label+'_'+str(x)\n",
    "            mfcc = wav2mfcc(wavfile, name, max_pad_len=max_pad_len)\n",
    "            mfcc_vectors.append(mfcc)\n",
    "            x=x+1\n",
    "        np.save(label + '.npy', mfcc_vectors)\n",
    "        \n",
    "        \n",
    "        \n",
    "max_pad_len=30\n",
    "\n",
    "def wav2mfcc(file_path, name, max_pad_len=30):\n",
    "    wave, sr = librosa.load(file_path)\n",
    "    mfcc = librosa.feature.melspectrogram(wave, sr=sr)\n",
    "    pad_width = max_pad_len - mfcc.shape[1]\n",
    "    mfcc = np.pad(mfcc, pad_width=((0, 0), (0, pad_width)), mode='constant')\n",
    "    pd.DataFrame(mfcc).to_csv(VALUE_PATH+'/'+name+'.csv')\n",
    "    return mfcc"
   ]
  },
  {
   "cell_type": "code",
   "execution_count": 4,
   "metadata": {},
   "outputs": [],
   "source": [
    "DATA_PATH = r'C:\\Users\\lenovo_pc\\Desktop\\CNN_SR\\Dataset-v2'\n",
    "VALUE_PATH = r'C:\\Users\\lenovo_pc\\Desktop\\CNN_SR\\melspectrogramValues'\n",
    "\n",
    "\n",
    "#db = r'C:\\Users\\lenovo_pc\\Desktop\\CNN_SR\\SampleData'\n",
    "\n",
    "\n",
    "# Second dimension of the feature is dim2\n",
    "feature_dim_2 = 22\n",
    "\n",
    "# Save data to array file first\n",
    "save_data_to_array(DATA_PATH,feature_dim_2)\n",
    "\n",
    "# # Loading train set and test set\n",
    "X_train, X_test, y_train, y_test = get_train_test()\n",
    "\n",
    "# # Feature dimension\n",
    "feature_dim_1 = 128\n",
    "channel = 1\n",
    "epochs = 50\n",
    "batch_size = 100\n",
    "verbose = 1\n",
    "num_classes = 2\n",
    "\n",
    "\n",
    "y_train_hot = to_categorical(y_train)\n",
    "y_test_hot = to_categorical(y_test)"
   ]
  },
  {
   "cell_type": "code",
   "execution_count": 22,
   "metadata": {},
   "outputs": [
    {
     "name": "stdout",
     "output_type": "stream",
     "text": [
      "(224, 128, 22)\n",
      "(57, 128, 22)\n"
     ]
    }
   ],
   "source": [
    "\n",
    "#X_train = np.array(x_train)\n",
    "print(X_train.shape)\n",
    "print(X_test.shape)\n"
   ]
  },
  {
   "cell_type": "code",
   "execution_count": 6,
   "metadata": {},
   "outputs": [],
   "source": [
    "from keras.models import Sequential\n",
    "from keras.layers import Dense, Dropout\n",
    "from keras.layers import Embedding\n",
    "from keras.layers import Conv1D, GlobalAveragePooling1D, MaxPooling1D"
   ]
  },
  {
   "cell_type": "code",
   "execution_count": 7,
   "metadata": {},
   "outputs": [],
   "source": [
    "seq_length = 128\n",
    "\n",
    "model = Sequential()\n",
    "model.add(Conv1D(64, 3, activation='relu', input_shape=(seq_length,30)))\n",
    "model.add(Conv1D(64, 3, activation='relu'))\n",
    "model.add(MaxPooling1D(3))\n",
    "model.add(Conv1D(128, 3, activation='relu'))\n",
    "model.add(Conv1D(128, 3, activation='relu'))\n",
    "model.add(GlobalAveragePooling1D())\n",
    "model.add(Dropout(0.5))\n",
    "model.add(Dense(2, activation='sigmoid'))\n"
   ]
  },
  {
   "cell_type": "code",
   "execution_count": 8,
   "metadata": {},
   "outputs": [],
   "source": [
    "model.compile(loss='binary_crossentropy',\n",
    "              optimizer='rmsprop',\n",
    "              metrics=['accuracy'])"
   ]
  },
  {
   "cell_type": "code",
   "execution_count": 9,
   "metadata": {},
   "outputs": [
    {
     "name": "stdout",
     "output_type": "stream",
     "text": [
      "Train on 224 samples, validate on 57 samples\n",
      "Epoch 1/50\n",
      "224/224 [==============================] - 15s 68ms/step - loss: 0.5982 - acc: 0.6562 - val_loss: 0.4284 - val_acc: 0.7895\n",
      "Epoch 2/50\n",
      "224/224 [==============================] - 12s 54ms/step - loss: 0.3778 - acc: 0.8482 - val_loss: 0.1638 - val_acc: 0.9825\n",
      "Epoch 3/50\n",
      "224/224 [==============================] - 15s 68ms/step - loss: 0.2068 - acc: 0.9621 - val_loss: 0.1088 - val_acc: 1.0000\n",
      "Epoch 4/50\n",
      "224/224 [==============================] - 18s 81ms/step - loss: 0.1387 - acc: 0.9799 - val_loss: 0.0815 - val_acc: 1.0000\n",
      "Epoch 5/50\n",
      "224/224 [==============================] - 16s 70ms/step - loss: 0.1180 - acc: 0.9888 - val_loss: 0.0607 - val_acc: 1.0000\n",
      "Epoch 6/50\n",
      "224/224 [==============================] - 17s 74ms/step - loss: 0.1080 - acc: 0.9888 - val_loss: 0.0457 - val_acc: 1.0000\n",
      "Epoch 7/50\n",
      "224/224 [==============================] - 14s 63ms/step - loss: 0.0672 - acc: 0.9978 - val_loss: 0.0321 - val_acc: 1.0000\n",
      "Epoch 8/50\n",
      "224/224 [==============================] - 16s 72ms/step - loss: 0.0641 - acc: 0.9933 - val_loss: 0.0250 - val_acc: 1.0000\n",
      "Epoch 9/50\n",
      "224/224 [==============================] - 16s 71ms/step - loss: 0.0486 - acc: 0.9933 - val_loss: 0.0160 - val_acc: 1.0000\n",
      "Epoch 10/50\n",
      "224/224 [==============================] - 18s 79ms/step - loss: 0.0357 - acc: 0.9978 - val_loss: 0.0112 - val_acc: 1.0000\n",
      "Epoch 11/50\n",
      "224/224 [==============================] - 16s 70ms/step - loss: 0.0319 - acc: 0.9955 - val_loss: 0.0075 - val_acc: 1.0000\n",
      "Epoch 12/50\n",
      "224/224 [==============================] - 15s 69ms/step - loss: 0.0520 - acc: 0.9866 - val_loss: 0.9226 - val_acc: 0.8772\n",
      "Epoch 13/50\n",
      "224/224 [==============================] - 17s 77ms/step - loss: 0.4862 - acc: 0.9397 - val_loss: 0.0080 - val_acc: 1.0000\n",
      "Epoch 14/50\n",
      "224/224 [==============================] - 16s 71ms/step - loss: 0.0239 - acc: 0.9933 - val_loss: 0.0058 - val_acc: 1.0000\n",
      "Epoch 15/50\n",
      "224/224 [==============================] - 16s 73ms/step - loss: 0.0234 - acc: 0.9955 - val_loss: 0.0052 - val_acc: 1.0000\n",
      "Epoch 16/50\n",
      "224/224 [==============================] - 16s 71ms/step - loss: 0.0212 - acc: 0.9978 - val_loss: 0.0046 - val_acc: 1.0000\n",
      "Epoch 17/50\n",
      "224/224 [==============================] - 15s 68ms/step - loss: 0.0183 - acc: 1.0000 - val_loss: 0.0041 - val_acc: 1.0000\n",
      "Epoch 18/50\n",
      "224/224 [==============================] - 14s 63ms/step - loss: 0.0168 - acc: 1.0000 - val_loss: 0.0037 - val_acc: 1.0000\n",
      "Epoch 19/50\n",
      "224/224 [==============================] - 14s 62ms/step - loss: 0.0156 - acc: 1.0000 - val_loss: 0.0035 - val_acc: 1.0000\n",
      "Epoch 20/50\n",
      "224/224 [==============================] - 15s 68ms/step - loss: 0.0221 - acc: 0.9978 - val_loss: 0.0031 - val_acc: 1.0000\n",
      "Epoch 21/50\n",
      "224/224 [==============================] - 15s 65ms/step - loss: 0.0159 - acc: 0.9978 - val_loss: 0.0025 - val_acc: 1.0000\n",
      "Epoch 22/50\n",
      "224/224 [==============================] - 15s 66ms/step - loss: 0.0134 - acc: 1.0000 - val_loss: 0.0021 - val_acc: 1.0000\n",
      "Epoch 23/50\n",
      "224/224 [==============================] - 14s 62ms/step - loss: 0.0129 - acc: 1.0000 - val_loss: 0.0017 - val_acc: 1.0000\n",
      "Epoch 24/50\n",
      "224/224 [==============================] - 15s 65ms/step - loss: 0.0094 - acc: 1.0000 - val_loss: 0.0014 - val_acc: 1.0000\n",
      "Epoch 25/50\n",
      "224/224 [==============================] - 16s 73ms/step - loss: 0.0115 - acc: 1.0000 - val_loss: 0.0012 - val_acc: 1.0000\n",
      "Epoch 26/50\n",
      "224/224 [==============================] - 17s 74ms/step - loss: 0.0092 - acc: 1.0000 - val_loss: 0.0015 - val_acc: 1.0000\n",
      "Epoch 27/50\n",
      "224/224 [==============================] - 15s 69ms/step - loss: 0.0085 - acc: 1.0000 - val_loss: 8.4778e-04 - val_acc: 1.0000\n",
      "Epoch 28/50\n",
      "224/224 [==============================] - 17s 76ms/step - loss: 0.0056 - acc: 1.0000 - val_loss: 4.6365e-04 - val_acc: 1.0000\n",
      "Epoch 29/50\n",
      "224/224 [==============================] - 17s 78ms/step - loss: 0.0069 - acc: 1.0000 - val_loss: 4.4637e-04 - val_acc: 1.0000\n",
      "Epoch 30/50\n",
      "224/224 [==============================] - 17s 74ms/step - loss: 0.0048 - acc: 1.0000 - val_loss: 0.0011 - val_acc: 1.0000\n",
      "Epoch 31/50\n",
      "224/224 [==============================] - 15s 68ms/step - loss: 0.0101 - acc: 0.9978 - val_loss: 0.0022 - val_acc: 1.0000\n",
      "Epoch 32/50\n",
      "224/224 [==============================] - 15s 66ms/step - loss: 0.3070 - acc: 0.9286 - val_loss: 1.0123e-04 - val_acc: 1.0000\n",
      "Epoch 33/50\n",
      "224/224 [==============================] - 16s 72ms/step - loss: 0.0056 - acc: 0.9978 - val_loss: 9.8380e-05 - val_acc: 1.0000\n",
      "Epoch 34/50\n",
      "224/224 [==============================] - 16s 72ms/step - loss: 0.0093 - acc: 0.9933 - val_loss: 9.6640e-05 - val_acc: 1.0000\n",
      "Epoch 35/50\n",
      "224/224 [==============================] - 16s 73ms/step - loss: 0.0076 - acc: 0.9955 - val_loss: 1.0037e-04 - val_acc: 1.0000\n",
      "Epoch 36/50\n",
      "224/224 [==============================] - 16s 73ms/step - loss: 0.0050 - acc: 1.0000 - val_loss: 1.2686e-04 - val_acc: 1.0000\n",
      "Epoch 37/50\n",
      "224/224 [==============================] - 15s 68ms/step - loss: 0.0032 - acc: 1.0000 - val_loss: 1.2317e-04 - val_acc: 1.0000\n",
      "Epoch 38/50\n",
      "224/224 [==============================] - 12s 52ms/step - loss: 0.0040 - acc: 1.0000 - val_loss: 1.2383e-04 - val_acc: 1.0000\n",
      "Epoch 39/50\n",
      "224/224 [==============================] - 10s 45ms/step - loss: 0.0036 - acc: 1.0000 - val_loss: 1.2894e-04 - val_acc: 1.0000\n",
      "Epoch 40/50\n",
      "224/224 [==============================] - 11s 49ms/step - loss: 0.0031 - acc: 1.0000 - val_loss: 1.2057e-04 - val_acc: 1.0000\n",
      "Epoch 41/50\n",
      "224/224 [==============================] - 11s 50ms/step - loss: 0.0023 - acc: 1.0000 - val_loss: 1.1501e-04 - val_acc: 1.0000\n",
      "Epoch 42/50\n",
      "224/224 [==============================] - 11s 48ms/step - loss: 0.0024 - acc: 1.0000 - val_loss: 1.0655e-04 - val_acc: 1.0000\n",
      "Epoch 43/50\n",
      "224/224 [==============================] - 12s 54ms/step - loss: 0.0021 - acc: 1.0000 - val_loss: 9.5635e-05 - val_acc: 1.0000\n",
      "Epoch 44/50\n",
      "224/224 [==============================] - 11s 48ms/step - loss: 0.0023 - acc: 1.0000 - val_loss: 7.6755e-05 - val_acc: 1.0000\n",
      "Epoch 45/50\n",
      "224/224 [==============================] - 11s 50ms/step - loss: 0.0025 - acc: 1.0000 - val_loss: 6.9917e-05 - val_acc: 1.0000\n",
      "Epoch 46/50\n",
      "224/224 [==============================] - 11s 50ms/step - loss: 0.0035 - acc: 1.0000 - val_loss: 8.8002e-05 - val_acc: 1.0000\n",
      "Epoch 47/50\n",
      "224/224 [==============================] - 12s 52ms/step - loss: 0.0018 - acc: 1.0000 - val_loss: 7.9918e-05 - val_acc: 1.0000\n",
      "Epoch 48/50\n",
      "224/224 [==============================] - 12s 52ms/step - loss: 0.0016 - acc: 1.0000 - val_loss: 1.0146e-04 - val_acc: 1.0000\n",
      "Epoch 49/50\n",
      "224/224 [==============================] - 12s 52ms/step - loss: 0.0018 - acc: 1.0000 - val_loss: 4.3815e-05 - val_acc: 1.0000\n",
      "Epoch 50/50\n",
      "224/224 [==============================] - 13s 56ms/step - loss: 0.0020 - acc: 1.0000 - val_loss: 2.7461e-05 - val_acc: 1.0000\n"
     ]
    }
   ],
   "source": [
    "#model.fit(x_train, y_train, batch_size=7, epochs=10)\n",
    "\n",
    "history = model.fit(X_train, y_train_hot, batch_size=batch_size, epochs=epochs, verbose=verbose, validation_data=(X_test, y_test_hot))"
   ]
  },
  {
   "cell_type": "code",
   "execution_count": 10,
   "metadata": {},
   "outputs": [
    {
     "data": {
      "image/png": "[encoded data removed]",
      "text/plain": [
       "<Figure size 432x288 with 1 Axes>"
      ]
     },
     "metadata": {
      "needs_background": "light"
     },
     "output_type": "display_data"
    }
   ],
   "source": [
    "# summarize history for accuracy\n",
    "plt.plot(history.history['acc'])\n",
    "plt.plot(history.history['val_acc'])\n",
    "plt.title('model accuracy')\n",
    "plt.ylabel('accuracy')\n",
    "plt.xlabel('epoch')\n",
    "plt.legend(['train', 'test'], loc='upper left')\n",
    "plt.show()\n"
   ]
  },
  {
   "cell_type": "code",
   "execution_count": 11,
   "metadata": {},
   "outputs": [
    {
     "data": {
      "image/png": "[encoded data removed]",
      "text/plain": [
       "<Figure size 432x288 with 1 Axes>"
      ]
     },
     "metadata": {
      "needs_background": "light"
     },
     "output_type": "display_data"
    }
   ],
   "source": [
    "# summarize history for loss\n",
    "plt.plot(history.history['loss'])\n",
    "plt.plot(history.history['val_loss'])\n",
    "plt.title('model loss')\n",
    "plt.ylabel('loss')\n",
    "plt.xlabel('epoch')\n",
    "plt.legend(['train', 'test'], loc='upper left')\n",
    "plt.show()"
   ]
  },
  {
   "cell_type": "code",
   "execution_count": 12,
   "metadata": {},
   "outputs": [],
   "source": [
    "seq_length = 128\n",
    "\n",
    "model = Sequential()\n",
    "model.add(Conv1D(64, 4, activation='relu', input_shape=(seq_length,30)))\n",
    "model.add(Conv1D(64, 4, activation='relu'))\n",
    "model.add(Conv1D(64, 4, activation='relu'))\n",
    "model.add(Conv1D(64, 4, activation='relu'))\n",
    "model.add(MaxPooling1D(3))\n",
    "model.add(Conv1D(128, 3, activation='relu'))\n",
    "model.add(Conv1D(128, 3, activation='relu'))\n",
    "model.add(Conv1D(128, 3, activation='relu'))\n",
    "model.add(MaxPooling1D(3))\n",
    "model.add(Conv1D(256, 2, activation='relu'))\n",
    "model.add(Conv1D(256, 2, activation='relu'))\n",
    "model.add(GlobalAveragePooling1D())\n",
    "model.add(Dropout(0.5))\n",
    "model.add(Dense(2, activation='sigmoid'))"
   ]
  },
  {
   "cell_type": "code",
   "execution_count": 13,
   "metadata": {},
   "outputs": [],
   "source": [
    "model.compile(loss='binary_crossentropy',\n",
    "              optimizer='sgd',\n",
    "              metrics=['accuracy'])"
   ]
  },
  {
   "cell_type": "code",
   "execution_count": 14,
   "metadata": {},
   "outputs": [
    {
     "name": "stdout",
     "output_type": "stream",
     "text": [
      "Train on 224 samples, validate on 57 samples\n",
      "Epoch 1/10\n",
      "224/224 [==============================] - 39s 175ms/step - loss: 0.6263 - acc: 0.8237 - val_loss: 0.5114 - val_acc: 1.0000\n",
      "Epoch 2/10\n",
      "224/224 [==============================] - 40s 180ms/step - loss: 0.3749 - acc: 0.9933 - val_loss: 0.2085 - val_acc: 1.0000\n",
      "Epoch 3/10\n",
      "224/224 [==============================] - 41s 182ms/step - loss: 0.1773 - acc: 0.9955 - val_loss: 0.1005 - val_acc: 1.0000\n",
      "Epoch 4/10\n",
      "224/224 [==============================] - 39s 174ms/step - loss: 0.1125 - acc: 1.0000 - val_loss: 0.0668 - val_acc: 1.0000\n",
      "Epoch 5/10\n",
      "224/224 [==============================] - 48s 214ms/step - loss: 0.0892 - acc: 1.0000 - val_loss: 0.0514 - val_acc: 1.0000\n",
      "Epoch 6/10\n",
      "224/224 [==============================] - 47s 209ms/step - loss: 0.0770 - acc: 0.9978 - val_loss: 0.0414 - val_acc: 1.0000\n",
      "Epoch 7/10\n",
      "224/224 [==============================] - 57s 256ms/step - loss: 0.0680 - acc: 1.0000 - val_loss: 0.0342 - val_acc: 1.0000\n",
      "Epoch 8/10\n",
      "224/224 [==============================] - 43s 193ms/step - loss: 0.0602 - acc: 1.0000 - val_loss: 0.0286 - val_acc: 1.0000\n",
      "Epoch 9/10\n",
      "224/224 [==============================] - 44s 196ms/step - loss: 0.0541 - acc: 1.0000 - val_loss: 0.0230 - val_acc: 1.0000\n",
      "Epoch 10/10\n",
      "224/224 [==============================] - 43s 194ms/step - loss: 0.0476 - acc: 1.0000 - val_loss: 0.0192 - val_acc: 1.0000\n"
     ]
    }
   ],
   "source": [
    "\n",
    "history = model.fit(X_train, y_train_hot, batch_size=7, epochs=10, validation_data=(X_test, y_test_hot))"
   ]
  },
  {
   "cell_type": "code",
   "execution_count": 15,
   "metadata": {},
   "outputs": [
    {
     "data": {
      "image/png": "[encoded data removed]",
      "text/plain": [
       "<Figure size 432x288 with 1 Axes>"
      ]
     },
     "metadata": {
      "needs_background": "light"
     },
     "output_type": "display_data"
    }
   ],
   "source": [
    "# summarize history for accuracy\n",
    "plt.plot(history.history['acc'])\n",
    "plt.plot(history.history['val_acc'])\n",
    "plt.title('model accuracy')\n",
    "plt.ylabel('accuracy')\n",
    "plt.xlabel('epoch')\n",
    "plt.legend(['train', 'test'], loc='upper left')\n",
    "plt.show()"
   ]
  },
  {
   "cell_type": "code",
   "execution_count": 16,
   "metadata": {},
   "outputs": [
    {
     "data": {
      "image/png": "[encoded data removed]",
      "text/plain": [
       "<Figure size 432x288 with 1 Axes>"
      ]
     },
     "metadata": {
      "needs_background": "light"
     },
     "output_type": "display_data"
    }
   ],
   "source": [
    "# summarize history for loss\n",
    "plt.plot(history.history['loss'])\n",
    "plt.plot(history.history['val_loss'])\n",
    "plt.title('model loss')\n",
    "plt.ylabel('loss')\n",
    "plt.xlabel('epoch')\n",
    "plt.legend(['train', 'test'], loc='upper left')\n",
    "plt.show()"
   ]
  },
  {
   "cell_type": "code",
   "execution_count": 17,
   "metadata": {},
   "outputs": [],
   "source": [
    "import numpy as np\n",
    "from keras.models import Sequential\n",
    "from keras.layers import Dense, Dropout, Activation, Flatten, LSTM\n",
    "from keras.layers import Convolution2D, MaxPooling2D\n",
    "from keras.optimizers import Adam\n",
    "from keras.callbacks import EarlyStopping,ReduceLROnPlateau,ModelCheckpoint,TensorBoard,ProgbarLogger\n",
    "from keras.utils import np_utils\n",
    "from sklearn import metrics \n",
    "from sklearn.metrics import confusion_matrix, classification_report, accuracy_score\n",
    "from sklearn.preprocessing import LabelEncoder\n",
    "import itertools"
   ]
  },
  {
   "cell_type": "code",
   "execution_count": 18,
   "metadata": {},
   "outputs": [
    {
     "name": "stdout",
     "output_type": "stream",
     "text": [
      "Build LSTM RNN model ...\n",
      "_________________________________________________________________\n",
      "Layer (type)                 Output Shape              Param #   \n",
      "=================================================================\n",
      "lstm_1 (LSTM)                (None, 128, 64)           24320     \n",
      "_________________________________________________________________\n",
      "lstm_2 (LSTM)                (None, 32)                12416     \n",
      "_________________________________________________________________\n",
      "dense_3 (Dense)              (None, 2)                 66        \n",
      "=================================================================\n",
      "Total params: 36,802\n",
      "Trainable params: 36,802\n",
      "Non-trainable params: 0\n",
      "_________________________________________________________________\n"
     ]
    }
   ],
   "source": [
    "print('Build LSTM RNN model ...')\n",
    "model = Sequential()\n",
    "model.add(LSTM(units=64, dropout=0.05, recurrent_dropout=0.20, return_sequences=True,input_shape = (128,30)))\n",
    "model.add(LSTM(units=32, dropout=0.05, recurrent_dropout=0.20, return_sequences=False))\n",
    "model.add(Dense(2, activation='softmax'))\n",
    "model.compile(loss='categorical_crossentropy', optimizer='Adamax', metrics=['acc','mse', 'mae', 'mape', 'cosine'])\n",
    "model.summary()"
   ]
  },
  {
   "cell_type": "code",
   "execution_count": 19,
   "metadata": {},
   "outputs": [
    {
     "name": "stdout",
     "output_type": "stream",
     "text": [
      "training started..... please wait.\n",
      "\n",
      "Epoch 00001: loss improved from inf to 0.69135, saving model to ./best_model_trained.hdf5\n",
      "\n",
      "Epoch 00002: loss improved from 0.69135 to 0.61298, saving model to ./best_model_trained.hdf5\n",
      "\n",
      "Epoch 00003: loss improved from 0.61298 to 0.41398, saving model to ./best_model_trained.hdf5\n",
      "\n",
      "Epoch 00004: loss improved from 0.41398 to 0.35103, saving model to ./best_model_trained.hdf5\n",
      "\n",
      "Epoch 00005: loss improved from 0.35103 to 0.33514, saving model to ./best_model_trained.hdf5\n",
      "\n",
      "Epoch 00006: loss improved from 0.33514 to 0.30277, saving model to ./best_model_trained.hdf5\n",
      "\n",
      "Epoch 00007: loss improved from 0.30277 to 0.27145, saving model to ./best_model_trained.hdf5\n",
      "\n",
      "Epoch 00008: loss improved from 0.27145 to 0.18757, saving model to ./best_model_trained.hdf5\n",
      "\n",
      "Epoch 00009: loss improved from 0.18757 to 0.16186, saving model to ./best_model_trained.hdf5\n",
      "\n",
      "Epoch 00010: loss did not improve from 0.16186\n",
      "\n",
      "Epoch 00011: loss did not improve from 0.16186\n",
      "\n",
      "Epoch 00012: loss improved from 0.16186 to 0.12285, saving model to ./best_model_trained.hdf5\n",
      "\n",
      "Epoch 00013: loss improved from 0.12285 to 0.10485, saving model to ./best_model_trained.hdf5\n",
      "\n",
      "Epoch 00014: loss did not improve from 0.10485\n",
      "\n",
      "Epoch 00015: loss improved from 0.10485 to 0.08152, saving model to ./best_model_trained.hdf5\n",
      "\n",
      "Epoch 00016: loss did not improve from 0.08152\n",
      "\n",
      "Epoch 00017: loss did not improve from 0.08152\n",
      "\n",
      "Epoch 00018: loss improved from 0.08152 to 0.07388, saving model to ./best_model_trained.hdf5\n",
      "\n",
      "Epoch 00019: loss improved from 0.07388 to 0.05537, saving model to ./best_model_trained.hdf5\n",
      "\n",
      "Epoch 00020: loss did not improve from 0.05537\n",
      "\n",
      "Epoch 00021: loss improved from 0.05537 to 0.03797, saving model to ./best_model_trained.hdf5\n",
      "\n",
      "Epoch 00022: loss did not improve from 0.03797\n",
      "\n",
      "Epoch 00023: loss did not improve from 0.03797\n",
      "\n",
      "Epoch 00024: loss improved from 0.03797 to 0.03130, saving model to ./best_model_trained.hdf5\n",
      "\n",
      "Epoch 00025: loss improved from 0.03130 to 0.02614, saving model to ./best_model_trained.hdf5\n",
      "\n",
      "Epoch 00026: loss did not improve from 0.02614\n",
      "\n",
      "Epoch 00027: loss did not improve from 0.02614\n",
      "\n",
      "Epoch 00028: loss did not improve from 0.02614\n",
      "\n",
      "Epoch 00029: loss did not improve from 0.02614\n",
      "\n",
      "Epoch 00030: loss did not improve from 0.02614\n",
      "\n",
      "Epoch 00031: loss did not improve from 0.02614\n",
      "\n",
      "Epoch 00032: loss did not improve from 0.02614\n",
      "\n",
      "Epoch 00033: loss did not improve from 0.02614\n",
      "\n",
      "Epoch 00034: loss did not improve from 0.02614\n",
      "\n",
      "Epoch 00035: loss did not improve from 0.02614\n",
      "\n",
      "Epoch 00036: loss did not improve from 0.02614\n",
      "\n",
      "Epoch 00037: loss did not improve from 0.02614\n",
      "\n",
      "Epoch 00038: loss did not improve from 0.02614\n",
      "\n",
      "Epoch 00039: loss improved from 0.02614 to 0.00789, saving model to ./best_model_trained.hdf5\n",
      "\n",
      "Epoch 00040: loss did not improve from 0.00789\n",
      "\n",
      "Epoch 00041: loss did not improve from 0.00789\n",
      "\n",
      "Epoch 00042: loss did not improve from 0.00789\n",
      "\n",
      "Epoch 00043: loss did not improve from 0.00789\n",
      "\n",
      "Epoch 00044: loss did not improve from 0.00789\n",
      "\n",
      "Epoch 00045: loss improved from 0.00789 to 0.00532, saving model to ./best_model_trained.hdf5\n",
      "\n",
      "Epoch 00046: loss did not improve from 0.00532\n",
      "\n",
      "Epoch 00047: loss did not improve from 0.00532\n",
      "\n",
      "Epoch 00048: loss did not improve from 0.00532\n",
      "\n",
      "Epoch 00049: loss did not improve from 0.00532\n",
      "\n",
      "Epoch 00050: loss improved from 0.00532 to 0.00436, saving model to ./best_model_trained.hdf5\n",
      "training finised!\n",
      "Wall time: 6min 46s\n"
     ]
    }
   ],
   "source": [
    "%%time\n",
    "# saved model checkpoint file\n",
    "best_model_file=\"./best_model_trained.hdf5\"\n",
    "#train_model_file=file_path+\"/checkpoints/weights.best_{epoch:02d}-{loss:.2f}.hdf5\"\n",
    "MAX_PATIENT=12\n",
    "MAX_EPOCHS=50\n",
    "MAX_BATCH=7\n",
    "\n",
    "# callbacks\n",
    "# removed EarlyStopping(patience=MAX_PATIENT)\n",
    "callback=[ReduceLROnPlateau(patience=MAX_PATIENT, verbose=1),\n",
    "          ModelCheckpoint(filepath=best_model_file, monitor='loss', verbose=1, save_best_only=True)]\n",
    "\n",
    "print (\"training started..... please wait.\")\n",
    "# training\n",
    "history=model.fit(X_train, y_train_hot, \n",
    "                  batch_size=MAX_BATCH, \n",
    "                  epochs=MAX_EPOCHS,\n",
    "                  verbose=0,\n",
    "                  validation_data=(X_test, y_test_hot),\n",
    "                  callbacks=callback) \n",
    "\n",
    "print (\"training finised!\")\n",
    "\n",
    "\n"
   ]
  },
  {
   "cell_type": "code",
   "execution_count": 20,
   "metadata": {},
   "outputs": [
    {
     "name": "stdout",
     "output_type": "stream",
     "text": [
      "model train data score       :  100.0 %\n",
      "model test data score        :  100.0 %\n"
     ]
    }
   ],
   "source": [
    "score = model.evaluate(X_train, y_train_hot, verbose=0) \n",
    "print (\"model train data score       : \",round(score[1]*100) , \"%\")\n",
    "\n",
    "score = model.evaluate(X_test, y_test_hot, verbose=0) \n",
    "print (\"model test data score        : \",round(score[1]*100) , \"%\")\n"
   ]
  },
  {
   "cell_type": "code",
   "execution_count": 21,
   "metadata": {},
   "outputs": [
    {
     "data": {
      "image/png": "[encoded data removed]",
      "text/plain": [
       "<Figure size 432x288 with 1 Axes>"
      ]
     },
     "metadata": {
      "needs_background": "light"
     },
     "output_type": "display_data"
    }
   ],
   "source": [
    "# summarize history for accuracy\n",
    "plt.plot(history.history['acc'])\n",
    "plt.plot(history.history['val_acc'])\n",
    "plt.title('model accuracy')\n",
    "plt.ylabel('accuracy')\n",
    "plt.xlabel('epoch')\n",
    "plt.legend(['train', 'test'], loc='upper left')\n",
    "plt.show()"
   ]
  },
  {
   "cell_type": "code",
   "execution_count": 22,
   "metadata": {},
   "outputs": [
    {
     "data": {
      "image/png": "[encoded data removed]",
      "text/plain": [
       "<Figure size 432x288 with 1 Axes>"
      ]
     },
     "metadata": {
      "needs_background": "light"
     },
     "output_type": "display_data"
    }
   ],
   "source": [
    "# summarize history for loss\n",
    "plt.plot(history.history['loss'])\n",
    "plt.plot(history.history['val_loss'])\n",
    "plt.title('model loss')\n",
    "plt.ylabel('loss')\n",
    "plt.xlabel('epoch')\n",
    "plt.legend(['train', 'test'], loc='upper left')\n",
    "plt.show()"
   ]
  },
  {
   "cell_type": "code",
   "execution_count": null,
   "metadata": {},
   "outputs": [],
   "source": []
  }
 ],
 "metadata": {
  "kernelspec": {
   "display_name": "Python 3",
   "language": "python",
   "name": "python3"
  },
  "language_info": {
   "codemirror_mode": {
    "name": "ipython",
    "version": 3
   },
   "file_extension": ".py",
   "mimetype": "text/x-python",
   "name": "python",
   "nbconvert_exporter": "python",
   "pygments_lexer": "ipython3",
   "version": "3.6.4"
  }
 },
 "nbformat": 4,
 "nbformat_minor": 2
}
