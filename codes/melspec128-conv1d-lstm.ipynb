{
 "cells": [
  {
   "cell_type": "code",
   "execution_count": 1,
   "metadata": {},
   "outputs": [
    {
     "name": "stderr",
     "output_type": "stream",
     "text": [
      "C:\\Users\\lenovo_pc\\Anaconda3\\lib\\site-packages\\h5py\\__init__.py:36: FutureWarning: Conversion of the second argument of issubdtype from `float` to `np.floating` is deprecated. In future, it will be treated as `np.float64 == np.dtype(float).type`.\n",
      "  from ._conv import register_converters as _register_converters\n",
      "Using TensorFlow backend.\n"
     ]
    }
   ],
   "source": [
    "import keras\n",
    "import numpy as np\n",
    "import matplotlib.pyplot as plt\n",
    "import os\n",
    "import pandas as pd\n",
    "import librosa\n",
    "from keras.utils import to_categorical"
   ]
  },
  {
   "cell_type": "code",
   "execution_count": 2,
   "metadata": {},
   "outputs": [],
   "source": [
    "feature_dim_1 = 128"
   ]
  },
  {
   "cell_type": "code",
   "execution_count": 3,
   "metadata": {},
   "outputs": [],
   "source": [
    "def get_labels(path):\n",
    "    labels = os.listdir(path)\n",
    "    label_indices = np.arange(0, len(labels))    \n",
    "    return labels, label_indices, to_categorical(label_indices)\n",
    "\n",
    "\n",
    "\n"
   ]
  },
  {
   "cell_type": "code",
   "execution_count": 4,
   "metadata": {},
   "outputs": [],
   "source": [
    "from sklearn.model_selection import train_test_split\n",
    "\n",
    "def get_train_test(split_ratio=0.8, random_state=42):\n",
    "    # Get available labels\n",
    "    labels, indices, _ = get_labels(DATA_PATH)\n",
    "\n",
    "    # Getting first arrays\n",
    "    X = np.load(labels[0] + '.npy')\n",
    "    y = np.zeros(X.shape[0])\n",
    "\n",
    "    # Append all of the dataset into one single array, same goes for y\n",
    "    for i, label in enumerate(labels[1:]):\n",
    "        x = np.load(label + '.npy')\n",
    "        X = np.vstack((X, x))\n",
    "        y = np.append(y, np.full(x.shape[0], fill_value= (i + 1)))\n",
    "\n",
    "    assert X.shape[0] == len(y)\n",
    "\n",
    "    return train_test_split(X, y, test_size= (1 - split_ratio), random_state=random_state, shuffle=True)\n",
    "\n",
    "\n",
    "\n",
    "def save_data_to_array(path, max_pad_len):\n",
    "    labels, _, _ = get_labels(path)\n",
    "\n",
    "    for label in labels:\n",
    "        # Init mfcc vectors\n",
    "        mfcc_vectors = []\n",
    "\n",
    "        wavfiles = [path + '/' + label + '/' + wavfile for wavfile in os.listdir(path + '/' + label)]\n",
    "        #wavfiles = librosa.util.find_files(db)\n",
    "        #print(wavfiles)\n",
    "        x=0\n",
    "        for wavfile in wavfiles:\n",
    "            name=label+'_'+str(x)\n",
    "            mfcc = wav2mfcc(wavfile, name, max_pad_len=max_pad_len)\n",
    "            mfcc_vectors.append(mfcc)\n",
    "            x=x+1\n",
    "        np.save(label + '.npy', mfcc_vectors)\n",
    "        \n",
    "        \n",
    "        \n",
    "\n",
    "def wav2mfcc(file_path, name, max_pad_len=30):\n",
    "    wave, sr = librosa.load(file_path)\n",
    "    mfcc = librosa.feature.melspectrogram(wave, sr=sr, n_mels = feature_dim_1)\n",
    "    pad_width = max_pad_len - mfcc.shape[1]\n",
    "    mfcc = np.pad(mfcc, pad_width=((0, 0), (0, pad_width)), mode='constant')\n",
    "    return mfcc"
   ]
  },
  {
   "cell_type": "code",
   "execution_count": 5,
   "metadata": {},
   "outputs": [],
   "source": [
    "DATA_PATH = r'C:\\Users\\lenovo_pc\\Desktop\\CNN_SR\\Dataset-merged'\n",
    "\n",
    "\n",
    "#db = r'C:\\Users\\lenovo_pc\\Desktop\\CNN_SR\\SampleData'\n",
    "\n",
    "\n",
    "# Second dimension of the feature is dim2\n",
    "feature_dim_2 = 28\n",
    "\n",
    "# Save data to array file first\n",
    "save_data_to_array(DATA_PATH,feature_dim_2)\n",
    "\n",
    "# # Loading train set and test set\n",
    "X_train, X_test, y_train, y_test = get_train_test()\n",
    "\n",
    "# # Feature dimension\n",
    "verbose = 1\n",
    "num_classes = 2\n",
    "\n",
    "\n",
    "y_train_hot = to_categorical(y_train)\n",
    "y_test_hot = to_categorical(y_test)"
   ]
  },
  {
   "cell_type": "code",
   "execution_count": 6,
   "metadata": {},
   "outputs": [
    {
     "name": "stdout",
     "output_type": "stream",
     "text": [
      "(472, 128, 28)\n",
      "(119, 128, 28)\n"
     ]
    }
   ],
   "source": [
    "\n",
    "#X_train = np.array(x_train)\n",
    "print(X_train.shape)\n",
    "print(X_test.shape)\n"
   ]
  },
  {
   "cell_type": "code",
   "execution_count": 1,
   "metadata": {},
   "outputs": [
    {
     "name": "stderr",
     "output_type": "stream",
     "text": [
      "C:\\Users\\lenovo_pc\\Anaconda3\\lib\\site-packages\\h5py\\__init__.py:36: FutureWarning: Conversion of the second argument of issubdtype from `float` to `np.floating` is deprecated. In future, it will be treated as `np.float64 == np.dtype(float).type`.\n",
      "  from ._conv import register_converters as _register_converters\n",
      "Using TensorFlow backend.\n"
     ]
    }
   ],
   "source": [
    "from keras.models import Sequential\n",
    "from keras.layers import Dense, Dropout\n",
    "from keras.layers import Embedding\n",
    "from keras.regularizers import l2\n",
    "from keras import regularizers\n",
    "from keras.layers import Conv1D, GlobalAveragePooling1D, MaxPooling1D"
   ]
  },
  {
   "cell_type": "code",
   "execution_count": 8,
   "metadata": {},
   "outputs": [],
   "source": [
    "feature_dim_1\n",
    "feature_dim_2=\n",
    "\n",
    "model = Sequential()\n",
    "model.add(Conv1D(64, 3, activation='relu', kernel_regularizer=l2(0.02), input_shape=(feature_dim_1,feature_dim_2) ,data_format='channels_first'))\n",
    "model.add(Conv1D(64, 3, activation='relu', kernel_regularizer=l2(0.05), ))\n",
    "model.add(MaxPooling1D(3))\n",
    "#model.add(Conv1D(128, 3, activation='relu', ))\n",
    "#model.add(Conv1D(128, 3, activation='relu', ))\n",
    "model.add(GlobalAveragePooling1D())\n",
    "model.add(Dropout(0.5))\n",
    "model.add(Dense(2, activation='sigmoid'))\n"
   ]
  },
  {
   "cell_type": "code",
   "execution_count": 9,
   "metadata": {},
   "outputs": [],
   "source": [
    "model.compile(loss='binary_crossentropy',\n",
    "              optimizer='rmsprop',\n",
    "              metrics=['accuracy'])\n",
    "\n"
   ]
  },
  {
   "cell_type": "code",
   "execution_count": 10,
   "metadata": {},
   "outputs": [
    {
     "name": "stdout",
     "output_type": "stream",
     "text": [
      "Train on 472 samples, validate on 119 samples\n",
      "Epoch 1/50\n",
      "472/472 [==============================] - 11s 22ms/step - loss: 7.2297 - acc: 0.5169 - val_loss: 5.9863 - val_acc: 0.5882\n",
      "Epoch 2/50\n",
      "472/472 [==============================] - 9s 18ms/step - loss: 6.4127 - acc: 0.5847 - val_loss: 4.9367 - val_acc: 0.6891\n",
      "Epoch 3/50\n",
      "472/472 [==============================] - 9s 19ms/step - loss: 5.5762 - acc: 0.6356 - val_loss: 4.7722 - val_acc: 0.6933\n",
      "Epoch 4/50\n",
      "472/472 [==============================] - 9s 19ms/step - loss: 5.1915 - acc: 0.6419 - val_loss: 3.9909 - val_acc: 0.7857\n",
      "Epoch 5/50\n",
      "472/472 [==============================] - 8s 17ms/step - loss: 4.8692 - acc: 0.6653 - val_loss: 3.5549 - val_acc: 0.7899\n",
      "Epoch 6/50\n",
      "472/472 [==============================] - 9s 19ms/step - loss: 4.6103 - acc: 0.6992 - val_loss: 3.4967 - val_acc: 0.7983\n",
      "Epoch 7/50\n",
      "472/472 [==============================] - 9s 20ms/step - loss: 4.2012 - acc: 0.7172 - val_loss: 3.4414 - val_acc: 0.7605\n",
      "Epoch 8/50\n",
      "472/472 [==============================] - 9s 19ms/step - loss: 4.1459 - acc: 0.7066 - val_loss: 3.1838 - val_acc: 0.7941\n",
      "Epoch 9/50\n",
      "472/472 [==============================] - 9s 18ms/step - loss: 3.8544 - acc: 0.7288 - val_loss: 3.0187 - val_acc: 0.8067\n",
      "Epoch 10/50\n",
      "472/472 [==============================] - 9s 18ms/step - loss: 3.6463 - acc: 0.7532 - val_loss: 2.7833 - val_acc: 0.8403\n",
      "Epoch 11/50\n",
      "472/472 [==============================] - 8s 18ms/step - loss: 3.5516 - acc: 0.7489 - val_loss: 2.5392 - val_acc: 0.8361\n",
      "Epoch 12/50\n",
      "472/472 [==============================] - 9s 19ms/step - loss: 3.1632 - acc: 0.7733 - val_loss: 2.4398 - val_acc: 0.8361\n",
      "Epoch 13/50\n",
      "472/472 [==============================] - 8s 18ms/step - loss: 2.9731 - acc: 0.7680 - val_loss: 2.2889 - val_acc: 0.8445\n",
      "Epoch 14/50\n",
      "472/472 [==============================] - 9s 19ms/step - loss: 2.7859 - acc: 0.7754 - val_loss: 2.1823 - val_acc: 0.8445\n",
      "Epoch 15/50\n",
      "472/472 [==============================] - 10s 21ms/step - loss: 2.4805 - acc: 0.8136 - val_loss: 2.1034 - val_acc: 0.8487\n",
      "Epoch 16/50\n",
      "472/472 [==============================] - 9s 18ms/step - loss: 2.5113 - acc: 0.8136 - val_loss: 2.0373 - val_acc: 0.8487\n",
      "Epoch 17/50\n",
      "472/472 [==============================] - 10s 20ms/step - loss: 2.3042 - acc: 0.8210 - val_loss: 1.8933 - val_acc: 0.8655\n",
      "Epoch 18/50\n",
      "472/472 [==============================] - 9s 19ms/step - loss: 2.0906 - acc: 0.8242 - val_loss: 1.8142 - val_acc: 0.8782\n",
      "Epoch 19/50\n",
      "472/472 [==============================] - 9s 19ms/step - loss: 2.0883 - acc: 0.8114 - val_loss: 1.7409 - val_acc: 0.8866\n",
      "Epoch 20/50\n",
      "472/472 [==============================] - 8s 17ms/step - loss: 1.8668 - acc: 0.8612 - val_loss: 1.6730 - val_acc: 0.8782\n",
      "Epoch 21/50\n",
      "472/472 [==============================] - 9s 18ms/step - loss: 1.7607 - acc: 0.8591 - val_loss: 1.6049 - val_acc: 0.8908\n",
      "Epoch 22/50\n",
      "472/472 [==============================] - 8s 17ms/step - loss: 1.7554 - acc: 0.8612 - val_loss: 1.5434 - val_acc: 0.8908\n",
      "Epoch 23/50\n",
      "472/472 [==============================] - 9s 18ms/step - loss: 1.6298 - acc: 0.8824 - val_loss: 1.5129 - val_acc: 0.8824\n",
      "Epoch 24/50\n",
      "472/472 [==============================] - 9s 18ms/step - loss: 1.5342 - acc: 0.8803 - val_loss: 1.4316 - val_acc: 0.8824\n",
      "Epoch 25/50\n",
      "472/472 [==============================] - 8s 18ms/step - loss: 1.4726 - acc: 0.8898 - val_loss: 1.3694 - val_acc: 0.8824\n",
      "Epoch 26/50\n",
      "472/472 [==============================] - 8s 17ms/step - loss: 1.3960 - acc: 0.8941 - val_loss: 1.2986 - val_acc: 0.8866\n",
      "Epoch 27/50\n",
      "472/472 [==============================] - 9s 19ms/step - loss: 1.3185 - acc: 0.9089 - val_loss: 1.2424 - val_acc: 0.8866\n",
      "Epoch 28/50\n",
      "472/472 [==============================] - 9s 19ms/step - loss: 1.2340 - acc: 0.9004 - val_loss: 1.1731 - val_acc: 0.9034\n",
      "Epoch 29/50\n",
      "472/472 [==============================] - 9s 18ms/step - loss: 1.1465 - acc: 0.9121 - val_loss: 1.1473 - val_acc: 0.8824\n",
      "Epoch 30/50\n",
      "472/472 [==============================] - 9s 19ms/step - loss: 1.1455 - acc: 0.9057 - val_loss: 1.0785 - val_acc: 0.8908\n",
      "Epoch 31/50\n",
      "472/472 [==============================] - 9s 18ms/step - loss: 1.0637 - acc: 0.9184 - val_loss: 1.0163 - val_acc: 0.8992\n",
      "Epoch 32/50\n",
      "472/472 [==============================] - 10s 20ms/step - loss: 1.0145 - acc: 0.9100 - val_loss: 0.9845 - val_acc: 0.8992\n",
      "Epoch 33/50\n",
      "472/472 [==============================] - 10s 22ms/step - loss: 0.9513 - acc: 0.9153 - val_loss: 0.9079 - val_acc: 0.9286\n",
      "Epoch 34/50\n",
      "472/472 [==============================] - 8s 18ms/step - loss: 0.9714 - acc: 0.9184 - val_loss: 0.8691 - val_acc: 0.9202\n",
      "Epoch 35/50\n",
      "472/472 [==============================] - 8s 17ms/step - loss: 0.8588 - acc: 0.9174 - val_loss: 0.8387 - val_acc: 0.9118\n",
      "Epoch 36/50\n",
      "472/472 [==============================] - 8s 18ms/step - loss: 0.8622 - acc: 0.9121 - val_loss: 0.8082 - val_acc: 0.9160\n",
      "Epoch 37/50\n",
      "472/472 [==============================] - 8s 18ms/step - loss: 0.7986 - acc: 0.9131 - val_loss: 0.7629 - val_acc: 0.9202\n",
      "Epoch 38/50\n",
      "472/472 [==============================] - 10s 20ms/step - loss: 0.8026 - acc: 0.9216 - val_loss: 0.7682 - val_acc: 0.9076\n",
      "Epoch 39/50\n",
      "472/472 [==============================] - 9s 19ms/step - loss: 0.7167 - acc: 0.9301 - val_loss: 0.7310 - val_acc: 0.9118\n",
      "Epoch 40/50\n",
      "472/472 [==============================] - 9s 18ms/step - loss: 0.6791 - acc: 0.9311 - val_loss: 0.6887 - val_acc: 0.9118\n",
      "Epoch 41/50\n",
      "472/472 [==============================] - 8s 17ms/step - loss: 0.6797 - acc: 0.9354 - val_loss: 0.7136 - val_acc: 0.8950\n",
      "Epoch 42/50\n",
      "472/472 [==============================] - 8s 18ms/step - loss: 0.6364 - acc: 0.9311 - val_loss: 0.6570 - val_acc: 0.9118\n",
      "Epoch 43/50\n",
      "472/472 [==============================] - 9s 19ms/step - loss: 0.6236 - acc: 0.9227 - val_loss: 0.6213 - val_acc: 0.9202\n",
      "Epoch 44/50\n",
      "472/472 [==============================] - 9s 18ms/step - loss: 0.5956 - acc: 0.9386 - val_loss: 0.6029 - val_acc: 0.9118\n",
      "Epoch 45/50\n",
      "472/472 [==============================] - 8s 17ms/step - loss: 0.5490 - acc: 0.9354 - val_loss: 0.6098 - val_acc: 0.9034\n",
      "Epoch 46/50\n",
      "472/472 [==============================] - 9s 18ms/step - loss: 0.5449 - acc: 0.9333 - val_loss: 0.5513 - val_acc: 0.9160\n",
      "Epoch 47/50\n",
      "472/472 [==============================] - 8s 17ms/step - loss: 0.5213 - acc: 0.9375 - val_loss: 0.5283 - val_acc: 0.9286\n",
      "Epoch 48/50\n",
      "472/472 [==============================] - 9s 18ms/step - loss: 0.5154 - acc: 0.9322 - val_loss: 0.5285 - val_acc: 0.9160\n",
      "Epoch 49/50\n",
      "472/472 [==============================] - 10s 22ms/step - loss: 0.4802 - acc: 0.9311 - val_loss: 0.5172 - val_acc: 0.9160\n",
      "Epoch 50/50\n",
      "472/472 [==============================] - 9s 18ms/step - loss: 0.4605 - acc: 0.9396 - val_loss: 0.5062 - val_acc: 0.9034\n"
     ]
    }
   ],
   "source": [
    "#model.fit(x_train, y_train, batch_size=7, epochs=10)\n",
    "\n",
    "history = model.fit(X_train, y_train_hot, batch_size=150, epochs=50, verbose=verbose, validation_data=(X_test, y_test_hot))"
   ]
  },
  {
   "cell_type": "code",
   "execution_count": 11,
   "metadata": {},
   "outputs": [
    {
     "name": "stdout",
     "output_type": "stream",
     "text": [
      "model train data score: acc       :  93.43 %\n",
      "model train data score: loss      :  43.25 %\n",
      "model test data score: acc        :  90.34 %\n",
      "model test data score: loss       :  50.62 %\n"
     ]
    }
   ],
   "source": [
    "score = model.evaluate(X_train, y_train_hot, verbose=0) \n",
    "print (\"model train data score: acc       : \",round(score[1]*100,2) , \"%\")\n",
    "print (\"model train data score: loss      : \",round(score[0]*100,2) , \"%\")\n",
    "\n",
    "score = model.evaluate(X_test, y_test_hot, verbose=0) \n",
    "print (\"model test data score: acc        : \",round(score[1]*100,2) , \"%\")\n",
    "print (\"model test data score: loss       : \",round(score[0]*100,2) , \"%\")\n"
   ]
  },
  {
   "cell_type": "code",
   "execution_count": 12,
   "metadata": {
    "scrolled": true
   },
   "outputs": [
    {
     "data": {
      "image/png": "[encoded data removed]",
      "text/plain": [
       "<Figure size 432x288 with 1 Axes>"
      ]
     },
     "metadata": {
      "needs_background": "light"
     },
     "output_type": "display_data"
    }
   ],
   "source": [
    "# summarize history for accuracy\n",
    "plt.plot(history.history['acc'])\n",
    "plt.plot(history.history['val_acc'])\n",
    "plt.title('model accuracy')\n",
    "plt.ylabel('accuracy')\n",
    "plt.xlabel('epoch')\n",
    "plt.legend(['train', 'test'], loc='upper left')\n",
    "plt.show()\n"
   ]
  },
  {
   "cell_type": "code",
   "execution_count": 13,
   "metadata": {},
   "outputs": [
    {
     "data": {
      "image/png": "[encoded data removed]",
      "text/plain": [
       "<Figure size 432x288 with 1 Axes>"
      ]
     },
     "metadata": {
      "needs_background": "light"
     },
     "output_type": "display_data"
    }
   ],
   "source": [
    "# summarize history for loss\n",
    "plt.plot(history.history['loss'])\n",
    "plt.plot(history.history['val_loss'])\n",
    "plt.title('model loss')\n",
    "plt.ylabel('loss')\n",
    "plt.xlabel('epoch')\n",
    "plt.legend(['train', 'test'], loc='upper left')\n",
    "plt.show()"
   ]
  },
  {
   "cell_type": "code",
   "execution_count": 14,
   "metadata": {},
   "outputs": [],
   "source": [
    "import numpy as np\n",
    "from keras.models import Sequential\n",
    "from keras.layers import Dense, Dropout, Activation, Flatten, LSTM\n",
    "from keras.layers import Convolution2D, MaxPooling2D\n",
    "from keras.optimizers import Adam\n",
    "from keras.regularizers import l2\n",
    "from keras.callbacks import EarlyStopping,ReduceLROnPlateau,ModelCheckpoint,TensorBoard,ProgbarLogger\n",
    "from keras.utils import np_utils\n",
    "from sklearn import metrics \n",
    "from sklearn.metrics import confusion_matrix, classification_report, accuracy_score\n",
    "from sklearn.preprocessing import LabelEncoder\n",
    "import itertools"
   ]
  },
  {
   "cell_type": "code",
   "execution_count": 15,
   "metadata": {},
   "outputs": [
    {
     "name": "stdout",
     "output_type": "stream",
     "text": [
      "Build LSTM RNN model ...\n",
      "_________________________________________________________________\n",
      "Layer (type)                 Output Shape              Param #   \n",
      "=================================================================\n",
      "lstm_1 (LSTM)                (None, 128, 64)           23808     \n",
      "_________________________________________________________________\n",
      "lstm_2 (LSTM)                (None, 32)                12416     \n",
      "_________________________________________________________________\n",
      "dense_2 (Dense)              (None, 2)                 66        \n",
      "=================================================================\n",
      "Total params: 36,290\n",
      "Trainable params: 36,290\n",
      "Non-trainable params: 0\n",
      "_________________________________________________________________\n"
     ]
    }
   ],
   "source": [
    "print('Build LSTM RNN model ...')\n",
    "model = Sequential()\n",
    "model.add(LSTM(units=64, dropout=0.05, recurrent_dropout=0.20, return_sequences=True,input_shape = (feature_dim_1,feature_dim_2)))\n",
    "model.add(LSTM(units=32, dropout=0.05, recurrent_dropout=0.20, return_sequences=False))\n",
    "model.add(Dense(2, activation='softmax'))\n",
    "model.compile(loss='categorical_crossentropy', optimizer='Adamax', metrics=['acc','mse', 'mae', 'mape', 'cosine'])\n",
    "model.summary()"
   ]
  },
  {
   "cell_type": "code",
   "execution_count": 16,
   "metadata": {},
   "outputs": [
    {
     "name": "stdout",
     "output_type": "stream",
     "text": [
      "training started..... please wait.\n",
      "\n",
      "Epoch 00001: loss improved from inf to 0.69428, saving model to ./best_model_trained.hdf5\n",
      "\n",
      "Epoch 00002: loss improved from 0.69428 to 0.68659, saving model to ./best_model_trained.hdf5\n",
      "\n",
      "Epoch 00003: loss improved from 0.68659 to 0.58757, saving model to ./best_model_trained.hdf5\n",
      "\n",
      "Epoch 00004: loss did not improve from 0.58757\n",
      "\n",
      "Epoch 00005: loss did not improve from 0.58757\n",
      "\n",
      "Epoch 00006: loss did not improve from 0.58757\n",
      "\n",
      "Epoch 00007: loss improved from 0.58757 to 0.53711, saving model to ./best_model_trained.hdf5\n",
      "\n",
      "Epoch 00008: loss improved from 0.53711 to 0.53220, saving model to ./best_model_trained.hdf5\n",
      "\n",
      "Epoch 00009: loss improved from 0.53220 to 0.49976, saving model to ./best_model_trained.hdf5\n",
      "\n",
      "Epoch 00010: loss did not improve from 0.49976\n",
      "\n",
      "Epoch 00011: loss improved from 0.49976 to 0.49966, saving model to ./best_model_trained.hdf5\n",
      "\n",
      "Epoch 00012: loss improved from 0.49966 to 0.47811, saving model to ./best_model_trained.hdf5\n",
      "\n",
      "Epoch 00013: loss improved from 0.47811 to 0.45750, saving model to ./best_model_trained.hdf5\n",
      "\n",
      "Epoch 00014: loss did not improve from 0.45750\n",
      "\n",
      "Epoch 00015: loss did not improve from 0.45750\n",
      "\n",
      "Epoch 00016: loss improved from 0.45750 to 0.44974, saving model to ./best_model_trained.hdf5\n",
      "\n",
      "Epoch 00017: loss did not improve from 0.44974\n",
      "\n",
      "Epoch 00018: loss did not improve from 0.44974\n",
      "\n",
      "Epoch 00019: loss improved from 0.44974 to 0.44735, saving model to ./best_model_trained.hdf5\n",
      "\n",
      "Epoch 00020: loss improved from 0.44735 to 0.41305, saving model to ./best_model_trained.hdf5\n",
      "\n",
      "Epoch 00021: loss did not improve from 0.41305\n",
      "\n",
      "Epoch 00022: loss improved from 0.41305 to 0.41204, saving model to ./best_model_trained.hdf5\n",
      "\n",
      "Epoch 00023: loss improved from 0.41204 to 0.39343, saving model to ./best_model_trained.hdf5\n",
      "\n",
      "Epoch 00024: loss did not improve from 0.39343\n",
      "\n",
      "Epoch 00025: loss did not improve from 0.39343\n",
      "\n",
      "Epoch 00026: loss did not improve from 0.39343\n",
      "\n",
      "Epoch 00027: loss improved from 0.39343 to 0.37278, saving model to ./best_model_trained.hdf5\n",
      "\n",
      "Epoch 00028: loss did not improve from 0.37278\n",
      "\n",
      "Epoch 00029: loss did not improve from 0.37278\n",
      "\n",
      "Epoch 00030: loss improved from 0.37278 to 0.36956, saving model to ./best_model_trained.hdf5\n",
      "\n",
      "Epoch 00031: loss improved from 0.36956 to 0.35942, saving model to ./best_model_trained.hdf5\n",
      "\n",
      "Epoch 00032: loss improved from 0.35942 to 0.35331, saving model to ./best_model_trained.hdf5\n",
      "\n",
      "Epoch 00033: loss did not improve from 0.35331\n",
      "\n",
      "Epoch 00034: loss did not improve from 0.35331\n",
      "\n",
      "Epoch 00035: loss improved from 0.35331 to 0.34506, saving model to ./best_model_trained.hdf5\n",
      "\n",
      "Epoch 00036: loss improved from 0.34506 to 0.34134, saving model to ./best_model_trained.hdf5\n",
      "\n",
      "Epoch 00037: loss did not improve from 0.34134\n",
      "\n",
      "Epoch 00038: loss did not improve from 0.34134\n",
      "\n",
      "Epoch 00039: loss improved from 0.34134 to 0.33073, saving model to ./best_model_trained.hdf5\n",
      "\n",
      "Epoch 00040: loss did not improve from 0.33073\n",
      "\n",
      "Epoch 00041: loss did not improve from 0.33073\n",
      "\n",
      "Epoch 00042: loss improved from 0.33073 to 0.31164, saving model to ./best_model_trained.hdf5\n",
      "\n",
      "Epoch 00043: loss improved from 0.31164 to 0.30865, saving model to ./best_model_trained.hdf5\n",
      "\n",
      "Epoch 00044: loss did not improve from 0.30865\n",
      "\n",
      "Epoch 00045: loss did not improve from 0.30865\n",
      "\n",
      "Epoch 00046: loss did not improve from 0.30865\n",
      "\n",
      "Epoch 00047: loss did not improve from 0.30865\n",
      "\n",
      "Epoch 00048: loss improved from 0.30865 to 0.30643, saving model to ./best_model_trained.hdf5\n",
      "\n",
      "Epoch 00049: loss did not improve from 0.30643\n",
      "\n",
      "Epoch 00050: loss did not improve from 0.30643\n",
      "_________________________________________________________________\n",
      "Layer (type)                 Output Shape              Param #   \n",
      "=================================================================\n",
      "lstm_1 (LSTM)                (None, 128, 64)           23808     \n",
      "_________________________________________________________________\n",
      "lstm_2 (LSTM)                (None, 32)                12416     \n",
      "_________________________________________________________________\n",
      "dense_2 (Dense)              (None, 2)                 66        \n",
      "=================================================================\n",
      "Total params: 36,290\n",
      "Trainable params: 36,290\n",
      "Non-trainable params: 0\n",
      "_________________________________________________________________\n",
      "training finised!\n",
      "Wall time: 11min 28s\n"
     ]
    }
   ],
   "source": [
    "%%time\n",
    "# saved model checkpoint file\n",
    "best_model_file=\"./best_model_trained.hdf5\"\n",
    "#train_model_file=file_path+\"/checkpoints/weights.best_{epoch:02d}-{loss:.2f}.hdf5\"\n",
    "MAX_PATIENT=12\n",
    "MAX_EPOCHS=50\n",
    "MAX_BATCH=7\n",
    "\n",
    "# callbacks\n",
    "# removed EarlyStopping(patience=MAX_PATIENT)\n",
    "callback=[ReduceLROnPlateau(patience=MAX_PATIENT, verbose=1),\n",
    "          ModelCheckpoint(filepath=best_model_file, monitor='loss', verbose=1, save_best_only=True)]\n",
    "\n",
    "print (\"training started..... please wait.\")\n",
    "# training\n",
    "history=model.fit(X_train, y_train_hot, \n",
    "                  batch_size=MAX_BATCH, \n",
    "                  epochs=MAX_EPOCHS,\n",
    "                  verbose=0,\n",
    "                  validation_data=(X_test, y_test_hot),\n",
    "                  callbacks=callback) \n",
    "model.summary()\n",
    "print (\"training finised!\")\n",
    "\n",
    "\n"
   ]
  },
  {
   "cell_type": "code",
   "execution_count": 17,
   "metadata": {},
   "outputs": [
    {
     "name": "stdout",
     "output_type": "stream",
     "text": [
      "472/472 [==============================] - 1s 2ms/step\n",
      "model train data score       :  92.16 %\n",
      "model train data score: loss :  25.55 %\n",
      "[0.25546913985478675, 0.9216101694915254, 0.06890662835311082, 0.15034080713482226, 75170414.37288135, -0.927397799693932]\n",
      "119/119 [==============================] - 0s 2ms/step\n",
      "model test data score        :  91.6 %\n",
      "model test data score: loss  :  28.54 %\n",
      "[0.28536552691660005, 0.9159663810449488, 0.07733285101521917, 0.16047658038740398, 80238299.02521008, -0.9192634750814999]\n"
     ]
    }
   ],
   "source": [
    "score = model.evaluate(X_train, y_train_hot, verbose=1) \n",
    "print (\"model train data score       : \",round(score[1]*100,2) , \"%\")\n",
    "print (\"model train data score: loss : \",round(score[0]*100,2) , \"%\")\n",
    "print(score)\n",
    "score = model.evaluate(X_test, y_test_hot, verbose=1) \n",
    "print (\"model test data score        : \",round(score[1]*100,2) , \"%\")\n",
    "print (\"model test data score: loss  : \",round(score[0]*100,2) , \"%\")\n",
    "\n",
    "print(score)"
   ]
  },
  {
   "cell_type": "code",
   "execution_count": 18,
   "metadata": {},
   "outputs": [
    {
     "data": {
      "image/png": "[encoded data removed]",
      "text/plain": [
       "<Figure size 432x288 with 1 Axes>"
      ]
     },
     "metadata": {
      "needs_background": "light"
     },
     "output_type": "display_data"
    }
   ],
   "source": [
    "# summarize history for accuracy\n",
    "plt.plot(history.history['acc'])\n",
    "plt.plot(history.history['val_acc'])\n",
    "plt.title('model accuracy')\n",
    "plt.ylabel('accuracy')\n",
    "plt.xlabel('epoch')\n",
    "plt.legend(['train', 'test'], loc='upper left')\n",
    "plt.show()"
   ]
  },
  {
   "cell_type": "code",
   "execution_count": 19,
   "metadata": {},
   "outputs": [
    {
     "data": {
      "image/png": "[encoded data removed]",
      "text/plain": [
       "<Figure size 432x288 with 1 Axes>"
      ]
     },
     "metadata": {
      "needs_background": "light"
     },
     "output_type": "display_data"
    }
   ],
   "source": [
    "# summarize history for loss\n",
    "plt.plot(history.history['loss'])\n",
    "plt.plot(history.history['val_loss'])\n",
    "plt.title('model loss')\n",
    "plt.ylabel('loss')\n",
    "plt.xlabel('epoch')\n",
    "plt.legend(['train', 'test'], loc='upper left')\n",
    "plt.show()"
   ]
  }
 ],
 "metadata": {
  "kernelspec": {
   "display_name": "Python 3",
   "language": "python",
   "name": "python3"
  },
  "language_info": {
   "codemirror_mode": {
    "name": "ipython",
    "version": 3
   },
   "file_extension": ".py",
   "mimetype": "text/x-python",
   "name": "python",
   "nbconvert_exporter": "python",
   "pygments_lexer": "ipython3",
   "version": "3.6.4"
  }
 },
 "nbformat": 4,
 "nbformat_minor": 2
}
