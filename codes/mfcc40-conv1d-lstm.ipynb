{
 "cells": [
  {
   "cell_type": "code",
   "execution_count": 1,
   "metadata": {},
   "outputs": [
    {
     "name": "stderr",
     "output_type": "stream",
     "text": [
      "C:\\Users\\lenovo_pc\\Anaconda3\\lib\\site-packages\\h5py\\__init__.py:36: FutureWarning: Conversion of the second argument of issubdtype from `float` to `np.floating` is deprecated. In future, it will be treated as `np.float64 == np.dtype(float).type`.\n",
      "  from ._conv import register_converters as _register_converters\n",
      "Using TensorFlow backend.\n"
     ]
    }
   ],
   "source": [
    "import keras\n",
    "import numpy as np\n",
    "import matplotlib.pyplot as plt\n",
    "import os\n",
    "import pandas as pd\n",
    "import librosa\n",
    "from keras.utils import to_categorical"
   ]
  },
  {
   "cell_type": "code",
   "execution_count": 2,
   "metadata": {},
   "outputs": [],
   "source": [
    "feature_dim_1 = 40"
   ]
  },
  {
   "cell_type": "code",
   "execution_count": 3,
   "metadata": {},
   "outputs": [],
   "source": [
    "def get_labels(path):\n",
    "    labels = os.listdir(path)\n",
    "    label_indices = np.arange(0, len(labels))    \n",
    "    return labels, label_indices, to_categorical(label_indices)\n",
    "\n",
    "\n",
    "\n"
   ]
  },
  {
   "cell_type": "code",
   "execution_count": 4,
   "metadata": {},
   "outputs": [],
   "source": [
    "from sklearn.model_selection import train_test_split\n",
    "\n",
    "def get_train_test(split_ratio=0.8, random_state=42):\n",
    "    # Get available labels\n",
    "    labels, indices, _ = get_labels(DATA_PATH)\n",
    "\n",
    "    # Getting first arrays\n",
    "    X = np.load(labels[0] + '.npy')\n",
    "    y = np.zeros(X.shape[0])\n",
    "\n",
    "    # Append all of the dataset into one single array, same goes for y\n",
    "    for i, label in enumerate(labels[1:]):\n",
    "        x = np.load(label + '.npy')\n",
    "        X = np.vstack((X, x))\n",
    "        y = np.append(y, np.full(x.shape[0], fill_value= (i + 1)))\n",
    "\n",
    "    assert X.shape[0] == len(y)\n",
    "\n",
    "    return train_test_split(X, y, test_size= (1 - split_ratio), random_state=random_state, shuffle=True)\n",
    "\n",
    "\n",
    "\n",
    "def save_data_to_array(path, max_pad_len):\n",
    "    labels, _, _ = get_labels(path)\n",
    "\n",
    "    for label in labels:\n",
    "        # Init mfcc vectors\n",
    "        mfcc_vectors = []\n",
    "\n",
    "        wavfiles = [path + '/' + label + '/' + wavfile for wavfile in os.listdir(path + '/' + label)]\n",
    "        #wavfiles = librosa.util.find_files(db)\n",
    "        #print(wavfiles)\n",
    "        x=0\n",
    "        for wavfile in wavfiles:\n",
    "            name=label+'_'+str(x)\n",
    "            mfcc = wav2mfcc(wavfile, name, max_pad_len=max_pad_len)\n",
    "            mfcc_vectors.append(mfcc)\n",
    "            x=x+1\n",
    "        np.save(label + '.npy', mfcc_vectors)\n",
    "        \n",
    "        \n",
    "        \n",
    "\n",
    "def wav2mfcc(file_path, name, max_pad_len=30):\n",
    "    wave, sr = librosa.load(file_path)\n",
    "    mfcc = librosa.feature.mfcc(wave, sr=sr, n_mfcc = feature_dim_1)\n",
    "    pad_width = max_pad_len - mfcc.shape[1]\n",
    "    mfcc = np.pad(mfcc, pad_width=((0, 0), (0, pad_width)), mode='constant')\n",
    "    return mfcc"
   ]
  },
  {
   "cell_type": "code",
   "execution_count": 5,
   "metadata": {},
   "outputs": [],
   "source": [
    "DATA_PATH = r'C:\\Users\\lenovo_pc\\Desktop\\CNN_SR\\Dataset-merged'\n",
    "\n",
    "\n",
    "#db = r'C:\\Users\\lenovo_pc\\Desktop\\CNN_SR\\SampleData'\n",
    "\n",
    "\n",
    "# Second dimension of the feature is dim2\n",
    "feature_dim_2 = 28\n",
    "\n",
    "# Save data to array file first\n",
    "save_data_to_array(DATA_PATH,feature_dim_2)\n",
    "\n",
    "# # Loading train set and test set\n",
    "X_train, X_test, y_train, y_test = get_train_test()\n",
    "\n",
    "# # Feature dimension\n",
    "verbose = 1\n",
    "num_classes = 2\n",
    "\n",
    "\n",
    "y_train_hot = to_categorical(y_train)\n",
    "y_test_hot = to_categorical(y_test)"
   ]
  },
  {
   "cell_type": "code",
   "execution_count": 6,
   "metadata": {},
   "outputs": [
    {
     "name": "stdout",
     "output_type": "stream",
     "text": [
      "(472, 40, 28)\n",
      "(119, 40, 28)\n"
     ]
    }
   ],
   "source": [
    "\n",
    "#X_train = np.array(x_train)\n",
    "print(X_train.shape)\n",
    "print(X_test.shape)\n"
   ]
  },
  {
   "cell_type": "code",
   "execution_count": 7,
   "metadata": {},
   "outputs": [],
   "source": [
    "from keras.models import Sequential\n",
    "from keras.layers import Dense, Dropout\n",
    "from keras.layers import Embedding\n",
    "from keras.regularizers import l2\n",
    "from keras import regularizers\n",
    "from keras.layers import Conv1D, GlobalAveragePooling1D, MaxPooling1D"
   ]
  },
  {
   "cell_type": "code",
   "execution_count": 8,
   "metadata": {},
   "outputs": [],
   "source": [
    "\n",
    "model = Sequential()\n",
    "model.add(Conv1D(64, 3, activation='relu', kernel_regularizer=l2(0.02), input_shape=(feature_dim_1,feature_dim_2) ,data_format='channels_first'))\n",
    "model.add(Conv1D(64, 3, activation='relu', kernel_regularizer=l2(0.05), ))\n",
    "model.add(MaxPooling1D(3))\n",
    "#model.add(Conv1D(128, 3, activation='relu', ))\n",
    "#model.add(Conv1D(128, 3, activation='relu', ))\n",
    "model.add(GlobalAveragePooling1D())\n",
    "model.add(Dropout(0.5))\n",
    "model.add(Dense(2, activation='sigmoid'))\n"
   ]
  },
  {
   "cell_type": "code",
   "execution_count": 9,
   "metadata": {},
   "outputs": [],
   "source": [
    "model.compile(loss='binary_crossentropy',\n",
    "              optimizer='rmsprop',\n",
    "              metrics=['accuracy'])\n",
    "\n"
   ]
  },
  {
   "cell_type": "code",
   "execution_count": 10,
   "metadata": {},
   "outputs": [
    {
     "name": "stdout",
     "output_type": "stream",
     "text": [
      "Train on 472 samples, validate on 119 samples\n",
      "Epoch 1/50\n",
      "472/472 [==============================] - 10s 21ms/step - loss: 9.5182 - acc: 0.4873 - val_loss: 7.6211 - val_acc: 0.5210\n",
      "Epoch 2/50\n",
      "472/472 [==============================] - 9s 19ms/step - loss: 8.1647 - acc: 0.5265 - val_loss: 4.7058 - val_acc: 0.5378\n",
      "Epoch 3/50\n",
      "472/472 [==============================] - 9s 20ms/step - loss: 6.9782 - acc: 0.5530 - val_loss: 4.9218 - val_acc: 0.6429\n",
      "Epoch 4/50\n",
      "472/472 [==============================] - 9s 20ms/step - loss: 6.6278 - acc: 0.5604 - val_loss: 4.0599 - val_acc: 0.6597\n",
      "Epoch 5/50\n",
      "472/472 [==============================] - 10s 21ms/step - loss: 5.4815 - acc: 0.5911 - val_loss: 3.1679 - val_acc: 0.7185\n",
      "Epoch 6/50\n",
      "472/472 [==============================] - 9s 19ms/step - loss: 4.5775 - acc: 0.6525 - val_loss: 2.8258 - val_acc: 0.7941\n",
      "Epoch 7/50\n",
      "472/472 [==============================] - 9s 19ms/step - loss: 4.0231 - acc: 0.6547 - val_loss: 2.6863 - val_acc: 0.8193\n",
      "Epoch 8/50\n",
      "472/472 [==============================] - 10s 21ms/step - loss: 3.5864 - acc: 0.6822 - val_loss: 2.5109 - val_acc: 0.8782\n",
      "Epoch 9/50\n",
      "472/472 [==============================] - 9s 18ms/step - loss: 3.3548 - acc: 0.7161 - val_loss: 2.4592 - val_acc: 0.8824\n",
      "Epoch 10/50\n",
      "472/472 [==============================] - 9s 20ms/step - loss: 3.0420 - acc: 0.7383 - val_loss: 2.3802 - val_acc: 0.8866\n",
      "Epoch 11/50\n",
      "472/472 [==============================] - 8s 18ms/step - loss: 2.8283 - acc: 0.7892 - val_loss: 2.2372 - val_acc: 0.9286\n",
      "Epoch 12/50\n",
      "472/472 [==============================] - 9s 19ms/step - loss: 2.6156 - acc: 0.7998 - val_loss: 2.1591 - val_acc: 0.9076\n",
      "Epoch 13/50\n",
      "472/472 [==============================] - 8s 17ms/step - loss: 2.4905 - acc: 0.8199 - val_loss: 2.0797 - val_acc: 0.9286\n",
      "Epoch 14/50\n",
      "472/472 [==============================] - 10s 21ms/step - loss: 2.2909 - acc: 0.8506 - val_loss: 2.0350 - val_acc: 0.9202\n",
      "Epoch 15/50\n",
      "472/472 [==============================] - 9s 19ms/step - loss: 2.1715 - acc: 0.8718 - val_loss: 1.9086 - val_acc: 0.9370\n",
      "Epoch 16/50\n",
      "472/472 [==============================] - 10s 21ms/step - loss: 2.0653 - acc: 0.8845 - val_loss: 1.8539 - val_acc: 0.9286\n",
      "Epoch 17/50\n",
      "472/472 [==============================] - 9s 19ms/step - loss: 1.9520 - acc: 0.8761 - val_loss: 1.7372 - val_acc: 0.9454\n",
      "Epoch 18/50\n",
      "472/472 [==============================] - 8s 18ms/step - loss: 1.8858 - acc: 0.8888 - val_loss: 1.6768 - val_acc: 0.9412\n",
      "Epoch 19/50\n",
      "472/472 [==============================] - 9s 18ms/step - loss: 1.7336 - acc: 0.9184 - val_loss: 1.5734 - val_acc: 0.9538\n",
      "Epoch 20/50\n",
      "472/472 [==============================] - 10s 22ms/step - loss: 1.6996 - acc: 0.9004 - val_loss: 1.5030 - val_acc: 0.9496\n",
      "Epoch 21/50\n",
      "472/472 [==============================] - 9s 19ms/step - loss: 1.5916 - acc: 0.9301 - val_loss: 1.4203 - val_acc: 0.9538\n",
      "Epoch 22/50\n",
      "472/472 [==============================] - 10s 21ms/step - loss: 1.4770 - acc: 0.9375 - val_loss: 1.3869 - val_acc: 0.9496\n",
      "Epoch 23/50\n",
      "472/472 [==============================] - 9s 19ms/step - loss: 1.4010 - acc: 0.9386 - val_loss: 1.2787 - val_acc: 0.9622\n",
      "Epoch 24/50\n",
      "472/472 [==============================] - 9s 19ms/step - loss: 1.3147 - acc: 0.9492 - val_loss: 1.2030 - val_acc: 0.9580\n",
      "Epoch 25/50\n",
      "472/472 [==============================] - 9s 20ms/step - loss: 1.2678 - acc: 0.9407 - val_loss: 1.1310 - val_acc: 0.9706\n",
      "Epoch 26/50\n",
      "472/472 [==============================] - 10s 20ms/step - loss: 1.1861 - acc: 0.9449 - val_loss: 1.0606 - val_acc: 0.9706\n",
      "Epoch 27/50\n",
      "472/472 [==============================] - 9s 19ms/step - loss: 1.1058 - acc: 0.9513 - val_loss: 1.0077 - val_acc: 0.9580\n",
      "Epoch 28/50\n",
      "472/472 [==============================] - 9s 19ms/step - loss: 1.0183 - acc: 0.9608 - val_loss: 0.9339 - val_acc: 0.9706\n",
      "Epoch 29/50\n",
      "472/472 [==============================] - 10s 21ms/step - loss: 0.9450 - acc: 0.9597 - val_loss: 0.8624 - val_acc: 0.9916\n",
      "Epoch 30/50\n",
      "472/472 [==============================] - 9s 20ms/step - loss: 0.8902 - acc: 0.9682 - val_loss: 0.8146 - val_acc: 0.9748\n",
      "Epoch 31/50\n",
      "472/472 [==============================] - 9s 19ms/step - loss: 0.8278 - acc: 0.9714 - val_loss: 0.7541 - val_acc: 0.9748\n",
      "Epoch 32/50\n",
      "472/472 [==============================] - 8s 17ms/step - loss: 0.7699 - acc: 0.9725 - val_loss: 0.7043 - val_acc: 0.9748\n",
      "Epoch 33/50\n",
      "472/472 [==============================] - 9s 19ms/step - loss: 0.7323 - acc: 0.9714 - val_loss: 0.6451 - val_acc: 0.9958\n",
      "Epoch 34/50\n",
      "472/472 [==============================] - 10s 21ms/step - loss: 0.6636 - acc: 0.9820 - val_loss: 0.6150 - val_acc: 0.9832\n",
      "Epoch 35/50\n",
      "472/472 [==============================] - 9s 19ms/step - loss: 0.6127 - acc: 0.9862 - val_loss: 0.5733 - val_acc: 0.9874\n",
      "Epoch 36/50\n",
      "472/472 [==============================] - 9s 19ms/step - loss: 0.5655 - acc: 0.9820 - val_loss: 0.5196 - val_acc: 0.9916\n",
      "Epoch 37/50\n",
      "472/472 [==============================] - 9s 19ms/step - loss: 0.5371 - acc: 0.9831 - val_loss: 0.4806 - val_acc: 1.0000\n",
      "Epoch 38/50\n",
      "472/472 [==============================] - 8s 17ms/step - loss: 0.5136 - acc: 0.9788 - val_loss: 0.4529 - val_acc: 0.9916\n",
      "Epoch 39/50\n",
      "472/472 [==============================] - 8s 18ms/step - loss: 0.4621 - acc: 0.9883 - val_loss: 0.4161 - val_acc: 0.9958\n",
      "Epoch 40/50\n",
      "472/472 [==============================] - 8s 18ms/step - loss: 0.4514 - acc: 0.9788 - val_loss: 0.4127 - val_acc: 0.9916\n",
      "Epoch 41/50\n",
      "472/472 [==============================] - 9s 18ms/step - loss: 0.4089 - acc: 0.9883 - val_loss: 0.3796 - val_acc: 0.9916\n",
      "Epoch 42/50\n",
      "472/472 [==============================] - 10s 20ms/step - loss: 0.3813 - acc: 0.9894 - val_loss: 0.3511 - val_acc: 0.9916\n",
      "Epoch 43/50\n",
      "472/472 [==============================] - 9s 18ms/step - loss: 0.3487 - acc: 0.9936 - val_loss: 0.3317 - val_acc: 0.9916\n",
      "Epoch 44/50\n",
      "472/472 [==============================] - 9s 18ms/step - loss: 0.3535 - acc: 0.9841 - val_loss: 0.3917 - val_acc: 0.9622\n",
      "Epoch 45/50\n",
      "472/472 [==============================] - 8s 17ms/step - loss: 0.3534 - acc: 0.9831 - val_loss: 0.2969 - val_acc: 0.9958\n",
      "Epoch 46/50\n",
      "472/472 [==============================] - 9s 20ms/step - loss: 0.3153 - acc: 0.9873 - val_loss: 0.2816 - val_acc: 1.0000\n",
      "Epoch 47/50\n",
      "472/472 [==============================] - 9s 19ms/step - loss: 0.3102 - acc: 0.9873 - val_loss: 0.2829 - val_acc: 0.9874\n",
      "Epoch 48/50\n",
      "472/472 [==============================] - 10s 21ms/step - loss: 0.2835 - acc: 0.9926 - val_loss: 0.2717 - val_acc: 0.9916\n",
      "Epoch 49/50\n",
      "472/472 [==============================] - 8s 17ms/step - loss: 0.2677 - acc: 0.9958 - val_loss: 0.2479 - val_acc: 1.0000\n",
      "Epoch 50/50\n",
      "472/472 [==============================] - 10s 21ms/step - loss: 0.2582 - acc: 0.9958 - val_loss: 0.2349 - val_acc: 1.0000\n"
     ]
    }
   ],
   "source": [
    "#model.fit(x_train, y_train, batch_size=7, epochs=10)\n",
    "\n",
    "history = model.fit(X_train, y_train_hot, batch_size=150, epochs=50, verbose=verbose, validation_data=(X_test, y_test_hot))"
   ]
  },
  {
   "cell_type": "code",
   "execution_count": 11,
   "metadata": {},
   "outputs": [
    {
     "name": "stdout",
     "output_type": "stream",
     "text": [
      "model train data score: acc       :  99.68 %\n",
      "model train data score: loss      :  23.8 %\n",
      "model test data score: acc        :  100.0 %\n",
      "model test data score: loss       :  23.49 %\n"
     ]
    }
   ],
   "source": [
    "score = model.evaluate(X_train, y_train_hot, verbose=0) \n",
    "print (\"model train data score: acc       : \",round(score[1]*100,2) , \"%\")\n",
    "print (\"model train data score: loss      : \",round(score[0]*100,2) , \"%\")\n",
    "\n",
    "score = model.evaluate(X_test, y_test_hot, verbose=0) \n",
    "print (\"model test data score: acc        : \",round(score[1]*100,2) , \"%\")\n",
    "print (\"model test data score: loss       : \",round(score[0]*100,2) , \"%\")\n"
   ]
  },
  {
   "cell_type": "code",
   "execution_count": 12,
   "metadata": {
    "scrolled": true
   },
   "outputs": [
    {
     "data": {
      "image/png": "[encoded data removed]",
      "text/plain": [
       "<Figure size 432x288 with 1 Axes>"
      ]
     },
     "metadata": {
      "needs_background": "light"
     },
     "output_type": "display_data"
    }
   ],
   "source": [
    "# summarize history for accuracy\n",
    "plt.plot(history.history['acc'])\n",
    "plt.plot(history.history['val_acc'])\n",
    "plt.title('model accuracy')\n",
    "plt.ylabel('accuracy')\n",
    "plt.xlabel('epoch')\n",
    "plt.legend(['train', 'test'], loc='upper left')\n",
    "plt.show()\n"
   ]
  },
  {
   "cell_type": "code",
   "execution_count": 13,
   "metadata": {},
   "outputs": [
    {
     "data": {
      "image/png": "[encoded data removed]",
      "text/plain": [
       "<Figure size 432x288 with 1 Axes>"
      ]
     },
     "metadata": {
      "needs_background": "light"
     },
     "output_type": "display_data"
    }
   ],
   "source": [
    "# summarize history for loss\n",
    "plt.plot(history.history['loss'])\n",
    "plt.plot(history.history['val_loss'])\n",
    "plt.title('model loss')\n",
    "plt.ylabel('loss')\n",
    "plt.xlabel('epoch')\n",
    "plt.legend(['train', 'test'], loc='upper left')\n",
    "plt.show()"
   ]
  },
  {
   "cell_type": "code",
   "execution_count": 14,
   "metadata": {},
   "outputs": [],
   "source": [
    "import numpy as np\n",
    "from keras.models import Sequential\n",
    "from keras.layers import Dense, Dropout, Activation, Flatten, LSTM\n",
    "from keras.layers import Convolution2D, MaxPooling2D\n",
    "from keras.optimizers import Adam\n",
    "from keras.regularizers import l2\n",
    "from keras.callbacks import EarlyStopping,ReduceLROnPlateau,ModelCheckpoint,TensorBoard,ProgbarLogger\n",
    "from keras.utils import np_utils\n",
    "from sklearn import metrics \n",
    "from sklearn.metrics import confusion_matrix, classification_report, accuracy_score\n",
    "from sklearn.preprocessing import LabelEncoder\n",
    "import itertools"
   ]
  },
  {
   "cell_type": "code",
   "execution_count": 15,
   "metadata": {},
   "outputs": [
    {
     "name": "stdout",
     "output_type": "stream",
     "text": [
      "Build LSTM RNN model ...\n",
      "_________________________________________________________________\n",
      "Layer (type)                 Output Shape              Param #   \n",
      "=================================================================\n",
      "lstm_1 (LSTM)                (None, 40, 64)            23808     \n",
      "_________________________________________________________________\n",
      "lstm_2 (LSTM)                (None, 32)                12416     \n",
      "_________________________________________________________________\n",
      "dense_2 (Dense)              (None, 2)                 66        \n",
      "=================================================================\n",
      "Total params: 36,290\n",
      "Trainable params: 36,290\n",
      "Non-trainable params: 0\n",
      "_________________________________________________________________\n"
     ]
    }
   ],
   "source": [
    "print('Build LSTM RNN model ...')\n",
    "model = Sequential()\n",
    "model.add(LSTM(units=64, dropout=0.05, recurrent_dropout=0.20, return_sequences=True,input_shape = (feature_dim_1,feature_dim_2)))\n",
    "model.add(LSTM(units=32, dropout=0.05, recurrent_dropout=0.20, return_sequences=False))\n",
    "model.add(Dense(2, activation='softmax'))\n",
    "model.compile(loss='categorical_crossentropy', optimizer='Adamax', metrics=['acc','mse', 'mae', 'mape', 'cosine'])\n",
    "model.summary()"
   ]
  },
  {
   "cell_type": "code",
   "execution_count": 16,
   "metadata": {},
   "outputs": [
    {
     "name": "stdout",
     "output_type": "stream",
     "text": [
      "training started..... please wait.\n",
      "\n",
      "Epoch 00001: loss improved from inf to 0.57744, saving model to ./best_model_trained.hdf5\n",
      "\n",
      "Epoch 00002: loss improved from 0.57744 to 0.39741, saving model to ./best_model_trained.hdf5\n",
      "\n",
      "Epoch 00003: loss improved from 0.39741 to 0.28869, saving model to ./best_model_trained.hdf5\n",
      "\n",
      "Epoch 00004: loss improved from 0.28869 to 0.27138, saving model to ./best_model_trained.hdf5\n",
      "\n",
      "Epoch 00005: loss improved from 0.27138 to 0.22839, saving model to ./best_model_trained.hdf5\n",
      "\n",
      "Epoch 00006: loss improved from 0.22839 to 0.20548, saving model to ./best_model_trained.hdf5\n",
      "\n",
      "Epoch 00007: loss improved from 0.20548 to 0.18168, saving model to ./best_model_trained.hdf5\n",
      "\n",
      "Epoch 00008: loss improved from 0.18168 to 0.17995, saving model to ./best_model_trained.hdf5\n",
      "\n",
      "Epoch 00009: loss improved from 0.17995 to 0.14767, saving model to ./best_model_trained.hdf5\n",
      "\n",
      "Epoch 00010: loss improved from 0.14767 to 0.11688, saving model to ./best_model_trained.hdf5\n",
      "\n",
      "Epoch 00011: loss improved from 0.11688 to 0.09787, saving model to ./best_model_trained.hdf5\n",
      "\n",
      "Epoch 00012: loss improved from 0.09787 to 0.09203, saving model to ./best_model_trained.hdf5\n",
      "\n",
      "Epoch 00013: loss improved from 0.09203 to 0.07882, saving model to ./best_model_trained.hdf5\n",
      "\n",
      "Epoch 00014: loss improved from 0.07882 to 0.07852, saving model to ./best_model_trained.hdf5\n",
      "\n",
      "Epoch 00015: loss improved from 0.07852 to 0.06587, saving model to ./best_model_trained.hdf5\n",
      "\n",
      "Epoch 00016: loss did not improve from 0.06587\n",
      "\n",
      "Epoch 00017: loss improved from 0.06587 to 0.04352, saving model to ./best_model_trained.hdf5\n",
      "\n",
      "Epoch 00018: loss did not improve from 0.04352\n",
      "\n",
      "Epoch 00019: loss did not improve from 0.04352\n",
      "\n",
      "Epoch 00020: loss did not improve from 0.04352\n",
      "\n",
      "Epoch 00021: loss did not improve from 0.04352\n",
      "\n",
      "Epoch 00022: loss did not improve from 0.04352\n",
      "\n",
      "Epoch 00023: loss did not improve from 0.04352\n",
      "\n",
      "Epoch 00024: loss improved from 0.04352 to 0.02292, saving model to ./best_model_trained.hdf5\n",
      "\n",
      "Epoch 00025: loss did not improve from 0.02292\n",
      "\n",
      "Epoch 00026: loss did not improve from 0.02292\n",
      "\n",
      "Epoch 00027: loss did not improve from 0.02292\n",
      "\n",
      "Epoch 00028: loss improved from 0.02292 to 0.01867, saving model to ./best_model_trained.hdf5\n",
      "\n",
      "Epoch 00029: loss did not improve from 0.01867\n",
      "\n",
      "Epoch 00030: loss did not improve from 0.01867\n",
      "\n",
      "Epoch 00031: loss did not improve from 0.01867\n",
      "\n",
      "Epoch 00032: loss did not improve from 0.01867\n",
      "\n",
      "Epoch 00033: loss did not improve from 0.01867\n",
      "\n",
      "Epoch 00034: loss did not improve from 0.01867\n",
      "\n",
      "Epoch 00035: loss did not improve from 0.01867\n",
      "\n",
      "Epoch 00036: loss improved from 0.01867 to 0.01563, saving model to ./best_model_trained.hdf5\n",
      "\n",
      "Epoch 00037: loss did not improve from 0.01563\n",
      "\n",
      "Epoch 00038: loss did not improve from 0.01563\n",
      "\n",
      "Epoch 00039: ReduceLROnPlateau reducing learning rate to 0.00020000000949949026.\n",
      "\n",
      "Epoch 00039: loss did not improve from 0.01563\n",
      "\n",
      "Epoch 00040: loss did not improve from 0.01563\n",
      "\n",
      "Epoch 00041: loss improved from 0.01563 to 0.01444, saving model to ./best_model_trained.hdf5\n",
      "\n",
      "Epoch 00042: loss did not improve from 0.01444\n",
      "\n",
      "Epoch 00043: loss did not improve from 0.01444\n",
      "\n",
      "Epoch 00044: loss did not improve from 0.01444\n",
      "\n",
      "Epoch 00045: loss improved from 0.01444 to 0.00997, saving model to ./best_model_trained.hdf5\n",
      "\n",
      "Epoch 00046: loss did not improve from 0.00997\n",
      "\n",
      "Epoch 00047: loss did not improve from 0.00997\n",
      "\n",
      "Epoch 00048: loss improved from 0.00997 to 0.00942, saving model to ./best_model_trained.hdf5\n",
      "\n",
      "Epoch 00049: loss did not improve from 0.00942\n",
      "\n",
      "Epoch 00050: loss did not improve from 0.00942\n",
      "_________________________________________________________________\n",
      "Layer (type)                 Output Shape              Param #   \n",
      "=================================================================\n",
      "lstm_1 (LSTM)                (None, 40, 64)            23808     \n",
      "_________________________________________________________________\n",
      "lstm_2 (LSTM)                (None, 32)                12416     \n",
      "_________________________________________________________________\n",
      "dense_2 (Dense)              (None, 2)                 66        \n",
      "=================================================================\n",
      "Total params: 36,290\n",
      "Trainable params: 36,290\n",
      "Non-trainable params: 0\n",
      "_________________________________________________________________\n",
      "training finised!\n",
      "Wall time: 3min 36s\n"
     ]
    }
   ],
   "source": [
    "%%time\n",
    "# saved model checkpoint file\n",
    "best_model_file=\"./best_model_trained.hdf5\"\n",
    "#train_model_file=file_path+\"/checkpoints/weights.best_{epoch:02d}-{loss:.2f}.hdf5\"\n",
    "MAX_PATIENT=12\n",
    "MAX_EPOCHS=50\n",
    "MAX_BATCH=7\n",
    "\n",
    "# callbacks\n",
    "# removed EarlyStopping(patience=MAX_PATIENT)\n",
    "callback=[ReduceLROnPlateau(patience=MAX_PATIENT, verbose=1),\n",
    "          ModelCheckpoint(filepath=best_model_file, monitor='loss', verbose=1, save_best_only=True)]\n",
    "\n",
    "print (\"training started..... please wait.\")\n",
    "# training\n",
    "history=model.fit(X_train, y_train_hot, \n",
    "                  batch_size=MAX_BATCH, \n",
    "                  epochs=MAX_EPOCHS,\n",
    "                  verbose=0,\n",
    "                  validation_data=(X_test, y_test_hot),\n",
    "                  callbacks=callback) \n",
    "model.summary()\n",
    "print (\"training finised!\")\n",
    "\n",
    "\n"
   ]
  },
  {
   "cell_type": "code",
   "execution_count": 17,
   "metadata": {},
   "outputs": [
    {
     "name": "stdout",
     "output_type": "stream",
     "text": [
      "472/472 [==============================] - 0s 517us/step\n",
      "model train data score       :  100.0 %\n",
      "model train data score: loss :  0.16 %\n",
      "[0.0015968458521795476, 1.0, 2.9643811088181655e-05, 0.0015814509124384593, 790724.4502118644, -0.9999833177712004]\n",
      "119/119 [==============================] - 0s 504us/step\n",
      "model test data score        :  91.6 %\n",
      "model test data score: loss  :  14.73 %\n",
      "[0.1472878060421022, 0.9159663810449488, 0.047407505705076104, 0.06671397544506218, 33356990.084033612, -0.9458777523842179]\n"
     ]
    }
   ],
   "source": [
    "score = model.evaluate(X_train, y_train_hot, verbose=1) \n",
    "print (\"model train data score       : \",round(score[1]*100,2) , \"%\")\n",
    "print (\"model train data score: loss : \",round(score[0]*100,2) , \"%\")\n",
    "print(score)\n",
    "score = model.evaluate(X_test, y_test_hot, verbose=1) \n",
    "print (\"model test data score        : \",round(score[1]*100,2) , \"%\")\n",
    "print (\"model test data score: loss  : \",round(score[0]*100,2) , \"%\")\n",
    "\n",
    "print(score)"
   ]
  },
  {
   "cell_type": "code",
   "execution_count": 18,
   "metadata": {},
   "outputs": [
    {
     "data": {
      "image/png": "[encoded data removed]",
      "text/plain": [
       "<Figure size 432x288 with 1 Axes>"
      ]
     },
     "metadata": {
      "needs_background": "light"
     },
     "output_type": "display_data"
    }
   ],
   "source": [
    "# summarize history for accuracy\n",
    "plt.plot(history.history['acc'])\n",
    "plt.plot(history.history['val_acc'])\n",
    "plt.title('model accuracy')\n",
    "plt.ylabel('accuracy')\n",
    "plt.xlabel('epoch')\n",
    "plt.legend(['train', 'test'], loc='upper left')\n",
    "plt.show()"
   ]
  },
  {
   "cell_type": "code",
   "execution_count": 19,
   "metadata": {},
   "outputs": [
    {
     "data": {
      "image/png": "[encoded data removed]",
      "text/plain": [
       "<Figure size 432x288 with 1 Axes>"
      ]
     },
     "metadata": {
      "needs_background": "light"
     },
     "output_type": "display_data"
    }
   ],
   "source": [
    "# summarize history for loss\n",
    "plt.plot(history.history['loss'])\n",
    "plt.plot(history.history['val_loss'])\n",
    "plt.title('model loss')\n",
    "plt.ylabel('loss')\n",
    "plt.xlabel('epoch')\n",
    "plt.legend(['train', 'test'], loc='upper left')\n",
    "plt.show()"
   ]
  }
 ],
 "metadata": {
  "kernelspec": {
   "display_name": "Python 3",
   "language": "python",
   "name": "python3"
  },
  "language_info": {
   "codemirror_mode": {
    "name": "ipython",
    "version": 3
   },
   "file_extension": ".py",
   "mimetype": "text/x-python",
   "name": "python",
   "nbconvert_exporter": "python",
   "pygments_lexer": "ipython3",
   "version": "3.6.4"
  }
 },
 "nbformat": 4,
 "nbformat_minor": 2
}
