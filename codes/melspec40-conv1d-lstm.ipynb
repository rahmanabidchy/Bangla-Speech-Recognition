{
 "cells": [
  {
   "cell_type": "code",
   "execution_count": 1,
   "metadata": {},
   "outputs": [
    {
     "name": "stderr",
     "output_type": "stream",
     "text": [
      "C:\\Users\\lenovo_pc\\Anaconda3\\lib\\site-packages\\h5py\\__init__.py:36: FutureWarning: Conversion of the second argument of issubdtype from `float` to `np.floating` is deprecated. In future, it will be treated as `np.float64 == np.dtype(float).type`.\n",
      "  from ._conv import register_converters as _register_converters\n",
      "Using TensorFlow backend.\n"
     ]
    }
   ],
   "source": [
    "import keras\n",
    "import numpy as np\n",
    "import matplotlib.pyplot as plt\n",
    "import os\n",
    "import pandas as pd\n",
    "import librosa\n",
    "from keras.utils import to_categorical"
   ]
  },
  {
   "cell_type": "code",
   "execution_count": 2,
   "metadata": {},
   "outputs": [],
   "source": [
    "feature_dim_1 = 40"
   ]
  },
  {
   "cell_type": "code",
   "execution_count": 3,
   "metadata": {},
   "outputs": [],
   "source": [
    "def get_labels(path):\n",
    "    labels = os.listdir(path)\n",
    "    label_indices = np.arange(0, len(labels))    \n",
    "    return labels, label_indices, to_categorical(label_indices)\n",
    "\n",
    "\n",
    "\n"
   ]
  },
  {
   "cell_type": "code",
   "execution_count": 4,
   "metadata": {},
   "outputs": [],
   "source": [
    "from sklearn.model_selection import train_test_split\n",
    "\n",
    "def get_train_test(split_ratio=0.8, random_state=42):\n",
    "    # Get available labels\n",
    "    labels, indices, _ = get_labels(DATA_PATH)\n",
    "\n",
    "    # Getting first arrays\n",
    "    X = np.load(labels[0] + '.npy')\n",
    "    y = np.zeros(X.shape[0])\n",
    "\n",
    "    # Append all of the dataset into one single array, same goes for y\n",
    "    for i, label in enumerate(labels[1:]):\n",
    "        x = np.load(label + '.npy')\n",
    "        X = np.vstack((X, x))\n",
    "        y = np.append(y, np.full(x.shape[0], fill_value= (i + 1)))\n",
    "\n",
    "    assert X.shape[0] == len(y)\n",
    "\n",
    "    return train_test_split(X, y, test_size= (1 - split_ratio), random_state=random_state, shuffle=True)\n",
    "\n",
    "\n",
    "\n",
    "def save_data_to_array(path, max_pad_len):\n",
    "    labels, _, _ = get_labels(path)\n",
    "\n",
    "    for label in labels:\n",
    "        # Init mfcc vectors\n",
    "        mfcc_vectors = []\n",
    "\n",
    "        wavfiles = [path + '/' + label + '/' + wavfile for wavfile in os.listdir(path + '/' + label)]\n",
    "        #wavfiles = librosa.util.find_files(db)\n",
    "        #print(wavfiles)\n",
    "        x=0\n",
    "        for wavfile in wavfiles:\n",
    "            name=label+'_'+str(x)\n",
    "            mfcc = wav2mfcc(wavfile, name, max_pad_len=max_pad_len)\n",
    "            mfcc_vectors.append(mfcc)\n",
    "            x=x+1\n",
    "        np.save(label + '.npy', mfcc_vectors)\n",
    "        \n",
    "        \n",
    "        \n",
    "\n",
    "def wav2mfcc(file_path, name, max_pad_len=30):\n",
    "    wave, sr = librosa.load(file_path)\n",
    "    mfcc = librosa.feature.melspectrogram(wave, sr=sr, n_mels = feature_dim_1)\n",
    "    pad_width = max_pad_len - mfcc.shape[1]\n",
    "    mfcc = np.pad(mfcc, pad_width=((0, 0), (0, pad_width)), mode='constant')\n",
    "    return mfcc"
   ]
  },
  {
   "cell_type": "code",
   "execution_count": 5,
   "metadata": {},
   "outputs": [],
   "source": [
    "DATA_PATH = r'C:\\Users\\lenovo_pc\\Desktop\\CNN_SR\\Dataset-merged'\n",
    "\n",
    "\n",
    "#db = r'C:\\Users\\lenovo_pc\\Desktop\\CNN_SR\\SampleData'\n",
    "\n",
    "\n",
    "# Second dimension of the feature is dim2\n",
    "feature_dim_2 = 28\n",
    "\n",
    "# Save data to array file first\n",
    "save_data_to_array(DATA_PATH,feature_dim_2)\n",
    "\n",
    "# # Loading train set and test set\n",
    "X_train, X_test, y_train, y_test = get_train_test()\n",
    "\n",
    "# # Feature dimension\n",
    "verbose = 1\n",
    "num_classes = 2\n",
    "\n",
    "\n",
    "y_train_hot = to_categorical(y_train)\n",
    "y_test_hot = to_categorical(y_test)"
   ]
  },
  {
   "cell_type": "code",
   "execution_count": 6,
   "metadata": {},
   "outputs": [
    {
     "name": "stdout",
     "output_type": "stream",
     "text": [
      "(472, 40, 28)\n",
      "(119, 40, 28)\n"
     ]
    }
   ],
   "source": [
    "\n",
    "#X_train = np.array(x_train)\n",
    "print(X_train.shape)\n",
    "print(X_test.shape)\n"
   ]
  },
  {
   "cell_type": "code",
   "execution_count": 7,
   "metadata": {},
   "outputs": [],
   "source": [
    "from keras.models import Sequential\n",
    "from keras.layers import Dense, Dropout\n",
    "from keras.layers import Embedding\n",
    "from keras.regularizers import l2\n",
    "from keras import regularizers\n",
    "from keras.layers import Conv1D, GlobalAveragePooling1D, MaxPooling1D"
   ]
  },
  {
   "cell_type": "code",
   "execution_count": 8,
   "metadata": {},
   "outputs": [],
   "source": [
    "\n",
    "model = Sequential()\n",
    "model.add(Conv1D(64, 3, activation='relu', kernel_regularizer=l2(0.02), input_shape=(feature_dim_1,feature_dim_2) ,data_format='channels_first'))\n",
    "model.add(Conv1D(64, 3, activation='relu', kernel_regularizer=l2(0.05), ))\n",
    "model.add(MaxPooling1D(3))\n",
    "#model.add(Conv1D(128, 3, activation='relu', ))\n",
    "#model.add(Conv1D(128, 3, activation='relu', ))\n",
    "model.add(GlobalAveragePooling1D())\n",
    "model.add(Dropout(0.5))\n",
    "model.add(Dense(2, activation='sigmoid'))\n"
   ]
  },
  {
   "cell_type": "code",
   "execution_count": 9,
   "metadata": {},
   "outputs": [],
   "source": [
    "model.compile(loss='binary_crossentropy',\n",
    "              optimizer='rmsprop',\n",
    "              metrics=['accuracy'])\n",
    "\n"
   ]
  },
  {
   "cell_type": "code",
   "execution_count": 10,
   "metadata": {},
   "outputs": [
    {
     "name": "stdout",
     "output_type": "stream",
     "text": [
      "Train on 472 samples, validate on 119 samples\n",
      "Epoch 1/50\n",
      "472/472 [==============================] - 11s 23ms/step - loss: 5.6347 - acc: 0.5646 - val_loss: 3.7235 - val_acc: 0.7983\n",
      "Epoch 2/50\n",
      "472/472 [==============================] - 9s 18ms/step - loss: 4.7152 - acc: 0.6314 - val_loss: 3.3195 - val_acc: 0.7941\n",
      "Epoch 3/50\n",
      "472/472 [==============================] - 9s 18ms/step - loss: 4.0946 - acc: 0.6600 - val_loss: 3.0719 - val_acc: 0.7857\n",
      "Epoch 4/50\n",
      "472/472 [==============================] - 9s 19ms/step - loss: 3.6971 - acc: 0.7002 - val_loss: 2.8069 - val_acc: 0.7941\n",
      "Epoch 5/50\n",
      "472/472 [==============================] - 8s 17ms/step - loss: 3.5763 - acc: 0.6578 - val_loss: 2.8021 - val_acc: 0.7857\n",
      "Epoch 6/50\n",
      "472/472 [==============================] - 9s 19ms/step - loss: 3.2939 - acc: 0.6886 - val_loss: 2.5428 - val_acc: 0.7983\n",
      "Epoch 7/50\n",
      "472/472 [==============================] - 8s 18ms/step - loss: 3.0122 - acc: 0.7013 - val_loss: 2.4674 - val_acc: 0.8109\n",
      "Epoch 8/50\n",
      "472/472 [==============================] - 9s 19ms/step - loss: 2.8561 - acc: 0.7320 - val_loss: 2.3031 - val_acc: 0.8277\n",
      "Epoch 9/50\n",
      "472/472 [==============================] - 9s 19ms/step - loss: 2.7262 - acc: 0.7394 - val_loss: 2.2318 - val_acc: 0.8403\n",
      "Epoch 10/50\n",
      "472/472 [==============================] - 9s 19ms/step - loss: 2.3668 - acc: 0.7521 - val_loss: 2.1046 - val_acc: 0.8403\n",
      "Epoch 11/50\n",
      "472/472 [==============================] - 9s 18ms/step - loss: 2.2990 - acc: 0.7818 - val_loss: 2.0400 - val_acc: 0.8361\n",
      "Epoch 12/50\n",
      "472/472 [==============================] - 10s 21ms/step - loss: 2.2186 - acc: 0.7595 - val_loss: 1.9401 - val_acc: 0.8445\n",
      "Epoch 13/50\n",
      "472/472 [==============================] - 9s 19ms/step - loss: 2.0437 - acc: 0.8051 - val_loss: 1.8459 - val_acc: 0.8403\n",
      "Epoch 14/50\n",
      "472/472 [==============================] - 8s 17ms/step - loss: 1.9618 - acc: 0.7881 - val_loss: 1.7528 - val_acc: 0.8529\n",
      "Epoch 15/50\n",
      "472/472 [==============================] - 9s 19ms/step - loss: 1.8182 - acc: 0.7945 - val_loss: 1.6588 - val_acc: 0.8487\n",
      "Epoch 16/50\n",
      "472/472 [==============================] - 10s 21ms/step - loss: 1.7332 - acc: 0.8189 - val_loss: 1.5691 - val_acc: 0.8487\n",
      "Epoch 17/50\n",
      "472/472 [==============================] - 9s 19ms/step - loss: 1.6290 - acc: 0.8284 - val_loss: 1.4763 - val_acc: 0.8782\n",
      "Epoch 18/50\n",
      "472/472 [==============================] - 9s 19ms/step - loss: 1.5484 - acc: 0.8210 - val_loss: 1.4005 - val_acc: 0.8866\n",
      "Epoch 19/50\n",
      "472/472 [==============================] - 10s 22ms/step - loss: 1.3938 - acc: 0.8570 - val_loss: 1.3122 - val_acc: 0.8908\n",
      "Epoch 20/50\n",
      "472/472 [==============================] - 9s 19ms/step - loss: 1.3632 - acc: 0.8464 - val_loss: 1.2629 - val_acc: 0.8739\n",
      "Epoch 21/50\n",
      "472/472 [==============================] - 10s 22ms/step - loss: 1.2617 - acc: 0.8602 - val_loss: 1.1752 - val_acc: 0.8950\n",
      "Epoch 22/50\n",
      "472/472 [==============================] - 9s 18ms/step - loss: 1.2261 - acc: 0.8464 - val_loss: 1.1017 - val_acc: 0.8992\n",
      "Epoch 23/50\n",
      "472/472 [==============================] - 9s 19ms/step - loss: 1.1232 - acc: 0.8814 - val_loss: 1.0422 - val_acc: 0.8992\n",
      "Epoch 24/50\n",
      "472/472 [==============================] - 9s 19ms/step - loss: 1.0554 - acc: 0.8803 - val_loss: 1.0083 - val_acc: 0.8950\n",
      "Epoch 25/50\n",
      "472/472 [==============================] - 8s 17ms/step - loss: 1.0068 - acc: 0.8814 - val_loss: 0.9447 - val_acc: 0.9118\n",
      "Epoch 26/50\n",
      "472/472 [==============================] - 11s 22ms/step - loss: 0.9363 - acc: 0.8888 - val_loss: 0.8864 - val_acc: 0.9118\n",
      "Epoch 27/50\n",
      "472/472 [==============================] - 9s 18ms/step - loss: 0.8846 - acc: 0.8941 - val_loss: 0.8434 - val_acc: 0.9118\n",
      "Epoch 28/50\n",
      "472/472 [==============================] - 10s 20ms/step - loss: 0.8232 - acc: 0.9004 - val_loss: 0.7879 - val_acc: 0.9160\n",
      "Epoch 29/50\n",
      "472/472 [==============================] - 9s 19ms/step - loss: 0.7821 - acc: 0.9025 - val_loss: 0.7397 - val_acc: 0.9118\n",
      "Epoch 30/50\n",
      "472/472 [==============================] - 9s 19ms/step - loss: 0.7170 - acc: 0.9110 - val_loss: 0.6912 - val_acc: 0.9244\n",
      "Epoch 31/50\n",
      "472/472 [==============================] - 10s 21ms/step - loss: 0.7068 - acc: 0.9068 - val_loss: 0.6614 - val_acc: 0.9244\n",
      "Epoch 32/50\n",
      "472/472 [==============================] - 9s 18ms/step - loss: 0.6427 - acc: 0.9206 - val_loss: 0.6227 - val_acc: 0.9244\n",
      "Epoch 33/50\n",
      "472/472 [==============================] - 9s 20ms/step - loss: 0.6181 - acc: 0.9174 - val_loss: 0.5827 - val_acc: 0.9370\n",
      "Epoch 34/50\n",
      "472/472 [==============================] - 10s 21ms/step - loss: 0.5887 - acc: 0.9237 - val_loss: 0.5495 - val_acc: 0.9286\n",
      "Epoch 35/50\n",
      "472/472 [==============================] - 9s 19ms/step - loss: 0.5562 - acc: 0.9163 - val_loss: 0.5231 - val_acc: 0.9244\n",
      "Epoch 36/50\n",
      "472/472 [==============================] - 9s 19ms/step - loss: 0.5256 - acc: 0.9311 - val_loss: 0.4963 - val_acc: 0.9286\n",
      "Epoch 37/50\n",
      "472/472 [==============================] - 9s 18ms/step - loss: 0.4819 - acc: 0.9311 - val_loss: 0.4767 - val_acc: 0.9496\n",
      "Epoch 38/50\n",
      "472/472 [==============================] - 10s 21ms/step - loss: 0.4817 - acc: 0.9216 - val_loss: 0.4792 - val_acc: 0.9496\n",
      "Epoch 39/50\n",
      "472/472 [==============================] - 9s 19ms/step - loss: 0.4645 - acc: 0.9206 - val_loss: 0.4437 - val_acc: 0.9496\n",
      "Epoch 40/50\n",
      "472/472 [==============================] - 9s 18ms/step - loss: 0.4235 - acc: 0.9386 - val_loss: 0.4107 - val_acc: 0.9580\n",
      "Epoch 41/50\n",
      "472/472 [==============================] - 10s 21ms/step - loss: 0.3892 - acc: 0.9439 - val_loss: 0.3888 - val_acc: 0.9538\n",
      "Epoch 42/50\n",
      "472/472 [==============================] - 8s 18ms/step - loss: 0.3860 - acc: 0.9364 - val_loss: 0.3719 - val_acc: 0.9496\n",
      "Epoch 43/50\n",
      "472/472 [==============================] - 9s 19ms/step - loss: 0.3621 - acc: 0.9333 - val_loss: 0.3523 - val_acc: 0.9538\n",
      "Epoch 44/50\n",
      "472/472 [==============================] - 8s 17ms/step - loss: 0.3561 - acc: 0.9311 - val_loss: 0.3432 - val_acc: 0.9538\n",
      "Epoch 45/50\n",
      "472/472 [==============================] - 10s 20ms/step - loss: 0.3307 - acc: 0.9417 - val_loss: 0.3278 - val_acc: 0.9538\n",
      "Epoch 46/50\n",
      "472/472 [==============================] - 9s 19ms/step - loss: 0.3192 - acc: 0.9470 - val_loss: 0.3107 - val_acc: 0.9538\n",
      "Epoch 47/50\n",
      "472/472 [==============================] - 9s 19ms/step - loss: 0.3046 - acc: 0.9354 - val_loss: 0.3072 - val_acc: 0.9538\n",
      "Epoch 48/50\n",
      "472/472 [==============================] - 9s 19ms/step - loss: 0.2941 - acc: 0.9470 - val_loss: 0.2906 - val_acc: 0.9538\n",
      "Epoch 49/50\n",
      "472/472 [==============================] - 9s 20ms/step - loss: 0.2957 - acc: 0.9407 - val_loss: 0.2815 - val_acc: 0.9580\n",
      "Epoch 50/50\n",
      "472/472 [==============================] - 9s 19ms/step - loss: 0.2759 - acc: 0.9386 - val_loss: 0.2702 - val_acc: 0.9538\n"
     ]
    }
   ],
   "source": [
    "#model.fit(x_train, y_train, batch_size=7, epochs=10)\n",
    "\n",
    "history = model.fit(X_train, y_train_hot, batch_size=150, epochs=50, verbose=verbose, validation_data=(X_test, y_test_hot))"
   ]
  },
  {
   "cell_type": "code",
   "execution_count": 11,
   "metadata": {},
   "outputs": [
    {
     "name": "stdout",
     "output_type": "stream",
     "text": [
      "model train data score: acc       :  94.6 %\n",
      "model train data score: loss      :  25.34 %\n",
      "model test data score: acc        :  95.38 %\n",
      "model test data score: loss       :  27.02 %\n"
     ]
    }
   ],
   "source": [
    "score = model.evaluate(X_train, y_train_hot, verbose=0) \n",
    "print (\"model train data score: acc       : \",round(score[1]*100,2) , \"%\")\n",
    "print (\"model train data score: loss      : \",round(score[0]*100,2) , \"%\")\n",
    "\n",
    "score = model.evaluate(X_test, y_test_hot, verbose=0) \n",
    "print (\"model test data score: acc        : \",round(score[1]*100,2) , \"%\")\n",
    "print (\"model test data score: loss       : \",round(score[0]*100,2) , \"%\")\n"
   ]
  },
  {
   "cell_type": "code",
   "execution_count": 12,
   "metadata": {
    "scrolled": true
   },
   "outputs": [
    {
     "data": {
      "image/png": "[encoded data removed]",
      "text/plain": [
       "<Figure size 432x288 with 1 Axes>"
      ]
     },
     "metadata": {
      "needs_background": "light"
     },
     "output_type": "display_data"
    }
   ],
   "source": [
    "# summarize history for accuracy\n",
    "plt.plot(history.history['acc'])\n",
    "plt.plot(history.history['val_acc'])\n",
    "plt.title('model accuracy')\n",
    "plt.ylabel('accuracy')\n",
    "plt.xlabel('epoch')\n",
    "plt.legend(['train', 'test'], loc='upper left')\n",
    "plt.show()\n"
   ]
  },
  {
   "cell_type": "code",
   "execution_count": 13,
   "metadata": {},
   "outputs": [
    {
     "data": {
      "image/png": "[encoded data removed]",
      "text/plain": [
       "<Figure size 432x288 with 1 Axes>"
      ]
     },
     "metadata": {
      "needs_background": "light"
     },
     "output_type": "display_data"
    }
   ],
   "source": [
    "# summarize history for loss\n",
    "plt.plot(history.history['loss'])\n",
    "plt.plot(history.history['val_loss'])\n",
    "plt.title('model loss')\n",
    "plt.ylabel('loss')\n",
    "plt.xlabel('epoch')\n",
    "plt.legend(['train', 'test'], loc='upper left')\n",
    "plt.show()"
   ]
  },
  {
   "cell_type": "code",
   "execution_count": 14,
   "metadata": {},
   "outputs": [],
   "source": [
    "import numpy as np\n",
    "from keras.models import Sequential\n",
    "from keras.layers import Dense, Dropout, Activation, Flatten, LSTM\n",
    "from keras.layers import Convolution2D, MaxPooling2D\n",
    "from keras.optimizers import Adam\n",
    "from keras.regularizers import l2\n",
    "from keras.callbacks import EarlyStopping,ReduceLROnPlateau,ModelCheckpoint,TensorBoard,ProgbarLogger\n",
    "from keras.utils import np_utils\n",
    "from sklearn import metrics \n",
    "from sklearn.metrics import confusion_matrix, classification_report, accuracy_score\n",
    "from sklearn.preprocessing import LabelEncoder\n",
    "import itertools"
   ]
  },
  {
   "cell_type": "code",
   "execution_count": 15,
   "metadata": {},
   "outputs": [
    {
     "name": "stdout",
     "output_type": "stream",
     "text": [
      "Build LSTM RNN model ...\n",
      "_________________________________________________________________\n",
      "Layer (type)                 Output Shape              Param #   \n",
      "=================================================================\n",
      "lstm_1 (LSTM)                (None, 40, 64)            23808     \n",
      "_________________________________________________________________\n",
      "lstm_2 (LSTM)                (None, 32)                12416     \n",
      "_________________________________________________________________\n",
      "dense_2 (Dense)              (None, 2)                 66        \n",
      "=================================================================\n",
      "Total params: 36,290\n",
      "Trainable params: 36,290\n",
      "Non-trainable params: 0\n",
      "_________________________________________________________________\n"
     ]
    }
   ],
   "source": [
    "print('Build LSTM RNN model ...')\n",
    "model = Sequential()\n",
    "model.add(LSTM(units=64, dropout=0.05, recurrent_dropout=0.20, return_sequences=True,input_shape = (feature_dim_1,feature_dim_2)))\n",
    "model.add(LSTM(units=32, dropout=0.05, recurrent_dropout=0.20, return_sequences=False))\n",
    "model.add(Dense(2, activation='softmax'))\n",
    "model.compile(loss='categorical_crossentropy', optimizer='Adamax', metrics=['acc','mse', 'mae', 'mape', 'cosine'])\n",
    "model.summary()"
   ]
  },
  {
   "cell_type": "code",
   "execution_count": 16,
   "metadata": {},
   "outputs": [
    {
     "name": "stdout",
     "output_type": "stream",
     "text": [
      "training started..... please wait.\n",
      "\n",
      "Epoch 00001: loss improved from inf to 0.60485, saving model to ./best_model_trained.hdf5\n",
      "\n",
      "Epoch 00002: loss improved from 0.60485 to 0.44903, saving model to ./best_model_trained.hdf5\n",
      "\n",
      "Epoch 00003: loss improved from 0.44903 to 0.35657, saving model to ./best_model_trained.hdf5\n",
      "\n",
      "Epoch 00004: loss improved from 0.35657 to 0.28463, saving model to ./best_model_trained.hdf5\n",
      "\n",
      "Epoch 00005: loss improved from 0.28463 to 0.23147, saving model to ./best_model_trained.hdf5\n",
      "\n",
      "Epoch 00006: loss improved from 0.23147 to 0.19062, saving model to ./best_model_trained.hdf5\n",
      "\n",
      "Epoch 00007: loss improved from 0.19062 to 0.14861, saving model to ./best_model_trained.hdf5\n",
      "\n",
      "Epoch 00008: loss did not improve from 0.14861\n",
      "\n",
      "Epoch 00009: loss did not improve from 0.14861\n",
      "\n",
      "Epoch 00010: loss improved from 0.14861 to 0.12493, saving model to ./best_model_trained.hdf5\n",
      "\n",
      "Epoch 00011: loss improved from 0.12493 to 0.09670, saving model to ./best_model_trained.hdf5\n",
      "\n",
      "Epoch 00012: loss improved from 0.09670 to 0.08943, saving model to ./best_model_trained.hdf5\n",
      "\n",
      "Epoch 00013: loss did not improve from 0.08943\n",
      "\n",
      "Epoch 00014: loss did not improve from 0.08943\n",
      "\n",
      "Epoch 00015: loss improved from 0.08943 to 0.07576, saving model to ./best_model_trained.hdf5\n",
      "\n",
      "Epoch 00016: loss did not improve from 0.07576\n",
      "\n",
      "Epoch 00017: loss did not improve from 0.07576\n",
      "\n",
      "Epoch 00018: loss did not improve from 0.07576\n",
      "\n",
      "Epoch 00019: loss did not improve from 0.07576\n",
      "\n",
      "Epoch 00020: loss improved from 0.07576 to 0.06938, saving model to ./best_model_trained.hdf5\n",
      "\n",
      "Epoch 00021: loss did not improve from 0.06938\n",
      "\n",
      "Epoch 00022: loss did not improve from 0.06938\n",
      "\n",
      "Epoch 00023: loss improved from 0.06938 to 0.06715, saving model to ./best_model_trained.hdf5\n",
      "\n",
      "Epoch 00024: loss improved from 0.06715 to 0.04482, saving model to ./best_model_trained.hdf5\n",
      "\n",
      "Epoch 00025: loss did not improve from 0.04482\n",
      "\n",
      "Epoch 00026: loss did not improve from 0.04482\n",
      "\n",
      "Epoch 00027: loss improved from 0.04482 to 0.03494, saving model to ./best_model_trained.hdf5\n",
      "\n",
      "Epoch 00028: loss did not improve from 0.03494\n",
      "\n",
      "Epoch 00029: loss improved from 0.03494 to 0.02205, saving model to ./best_model_trained.hdf5\n",
      "\n",
      "Epoch 00030: loss improved from 0.02205 to 0.02107, saving model to ./best_model_trained.hdf5\n",
      "\n",
      "Epoch 00031: loss did not improve from 0.02107\n",
      "\n",
      "Epoch 00032: loss did not improve from 0.02107\n",
      "\n",
      "Epoch 00033: loss did not improve from 0.02107\n",
      "\n",
      "Epoch 00034: loss improved from 0.02107 to 0.01653, saving model to ./best_model_trained.hdf5\n",
      "\n",
      "Epoch 00035: loss did not improve from 0.01653\n",
      "\n",
      "Epoch 00036: loss did not improve from 0.01653\n",
      "\n",
      "Epoch 00037: loss did not improve from 0.01653\n",
      "\n",
      "Epoch 00038: loss improved from 0.01653 to 0.01589, saving model to ./best_model_trained.hdf5\n",
      "\n",
      "Epoch 00039: loss improved from 0.01589 to 0.01588, saving model to ./best_model_trained.hdf5\n",
      "\n",
      "Epoch 00040: loss did not improve from 0.01588\n",
      "\n",
      "Epoch 00041: loss did not improve from 0.01588\n",
      "\n",
      "Epoch 00042: loss did not improve from 0.01588\n",
      "\n",
      "Epoch 00043: loss improved from 0.01588 to 0.00542, saving model to ./best_model_trained.hdf5\n",
      "\n",
      "Epoch 00044: loss did not improve from 0.00542\n",
      "\n",
      "Epoch 00045: loss did not improve from 0.00542\n",
      "\n",
      "Epoch 00046: loss did not improve from 0.00542\n",
      "\n",
      "Epoch 00047: loss did not improve from 0.00542\n",
      "\n",
      "Epoch 00048: ReduceLROnPlateau reducing learning rate to 0.00020000000949949026.\n",
      "\n",
      "Epoch 00048: loss did not improve from 0.00542\n",
      "\n",
      "Epoch 00049: loss did not improve from 0.00542\n",
      "\n",
      "Epoch 00050: loss improved from 0.00542 to 0.00290, saving model to ./best_model_trained.hdf5\n",
      "_________________________________________________________________\n",
      "Layer (type)                 Output Shape              Param #   \n",
      "=================================================================\n",
      "lstm_1 (LSTM)                (None, 40, 64)            23808     \n",
      "_________________________________________________________________\n",
      "lstm_2 (LSTM)                (None, 32)                12416     \n",
      "_________________________________________________________________\n",
      "dense_2 (Dense)              (None, 2)                 66        \n",
      "=================================================================\n",
      "Total params: 36,290\n",
      "Trainable params: 36,290\n",
      "Non-trainable params: 0\n",
      "_________________________________________________________________\n",
      "training finised!\n",
      "Wall time: 3min 44s\n"
     ]
    }
   ],
   "source": [
    "%%time\n",
    "# saved model checkpoint file\n",
    "best_model_file=\"./best_model_trained.hdf5\"\n",
    "#train_model_file=file_path+\"/checkpoints/weights.best_{epoch:02d}-{loss:.2f}.hdf5\"\n",
    "MAX_PATIENT=12\n",
    "MAX_EPOCHS=50\n",
    "MAX_BATCH=7\n",
    "\n",
    "# callbacks\n",
    "# removed EarlyStopping(patience=MAX_PATIENT)\n",
    "callback=[ReduceLROnPlateau(patience=MAX_PATIENT, verbose=1),\n",
    "          ModelCheckpoint(filepath=best_model_file, monitor='loss', verbose=1, save_best_only=True)]\n",
    "\n",
    "print (\"training started..... please wait.\")\n",
    "# training\n",
    "history=model.fit(X_train, y_train_hot, \n",
    "                  batch_size=MAX_BATCH, \n",
    "                  epochs=MAX_EPOCHS,\n",
    "                  verbose=0,\n",
    "                  validation_data=(X_test, y_test_hot),\n",
    "                  callbacks=callback) \n",
    "model.summary()\n",
    "print (\"training finised!\")\n",
    "\n",
    "\n"
   ]
  },
  {
   "cell_type": "code",
   "execution_count": 17,
   "metadata": {},
   "outputs": [
    {
     "name": "stdout",
     "output_type": "stream",
     "text": [
      "472/472 [==============================] - 0s 590us/step\n",
      "model train data score       :  100.0 %\n",
      "model train data score: loss :  0.1 %\n",
      "[0.00099719669354164, 1.0, 3.4636816315592653e-06, 0.0009954533178627618, 497726.7309322034, -0.9999981290203029]\n",
      "119/119 [==============================] - 0s 614us/step\n",
      "model test data score        :  97.48 %\n",
      "model test data score: loss  :  15.88 %\n",
      "[0.1587544244502773, 0.9747899199734215, 0.025110189981236195, 0.026375787097866796, 13187895.42857143, -0.9748399387888548]\n"
     ]
    }
   ],
   "source": [
    "score = model.evaluate(X_train, y_train_hot, verbose=1) \n",
    "print (\"model train data score       : \",round(score[1]*100,2) , \"%\")\n",
    "print (\"model train data score: loss : \",round(score[0]*100,2) , \"%\")\n",
    "print(score)\n",
    "score = model.evaluate(X_test, y_test_hot, verbose=1) \n",
    "print (\"model test data score        : \",round(score[1]*100,2) , \"%\")\n",
    "print (\"model test data score: loss  : \",round(score[0]*100,2) , \"%\")\n",
    "\n",
    "print(score)"
   ]
  },
  {
   "cell_type": "code",
   "execution_count": 18,
   "metadata": {},
   "outputs": [
    {
     "data": {
      "image/png": "[encoded data removed]",
      "text/plain": [
       "<Figure size 432x288 with 1 Axes>"
      ]
     },
     "metadata": {
      "needs_background": "light"
     },
     "output_type": "display_data"
    }
   ],
   "source": [
    "# summarize history for accuracy\n",
    "plt.plot(history.history['acc'])\n",
    "plt.plot(history.history['val_acc'])\n",
    "plt.title('model accuracy')\n",
    "plt.ylabel('accuracy')\n",
    "plt.xlabel('epoch')\n",
    "plt.legend(['train', 'test'], loc='upper left')\n",
    "plt.show()"
   ]
  },
  {
   "cell_type": "code",
   "execution_count": 19,
   "metadata": {},
   "outputs": [
    {
     "data": {
      "image/png": "[encoded data removed]",
      "text/plain": [
       "<Figure size 432x288 with 1 Axes>"
      ]
     },
     "metadata": {
      "needs_background": "light"
     },
     "output_type": "display_data"
    }
   ],
   "source": [
    "# summarize history for loss\n",
    "plt.plot(history.history['loss'])\n",
    "plt.plot(history.history['val_loss'])\n",
    "plt.title('model loss')\n",
    "plt.ylabel('loss')\n",
    "plt.xlabel('epoch')\n",
    "plt.legend(['train', 'test'], loc='upper left')\n",
    "plt.show()"
   ]
  }
 ],
 "metadata": {
  "kernelspec": {
   "display_name": "Python 3",
   "language": "python",
   "name": "python3"
  },
  "language_info": {
   "codemirror_mode": {
    "name": "ipython",
    "version": 3
   },
   "file_extension": ".py",
   "mimetype": "text/x-python",
   "name": "python",
   "nbconvert_exporter": "python",
   "pygments_lexer": "ipython3",
   "version": "3.6.4"
  }
 },
 "nbformat": 4,
 "nbformat_minor": 2
}
