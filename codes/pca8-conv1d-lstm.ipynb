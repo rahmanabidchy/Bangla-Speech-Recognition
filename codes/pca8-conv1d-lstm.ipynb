{
 "cells": [
  {
   "cell_type": "code",
   "execution_count": 1,
   "metadata": {},
   "outputs": [
    {
     "name": "stderr",
     "output_type": "stream",
     "text": [
      "C:\\Users\\lenovo_pc\\Anaconda3\\lib\\site-packages\\h5py\\__init__.py:36: FutureWarning: Conversion of the second argument of issubdtype from `float` to `np.floating` is deprecated. In future, it will be treated as `np.float64 == np.dtype(float).type`.\n",
      "  from ._conv import register_converters as _register_converters\n",
      "Using TensorFlow backend.\n"
     ]
    }
   ],
   "source": [
    "import keras\n",
    "import os\n",
    "import librosa\n",
    "\n",
    "\n",
    "import numpy as np\n",
    "import pandas as pd\n",
    "\n",
    "from sklearn.preprocessing import StandardScaler\n",
    "from sklearn.decomposition import PCA\n",
    "\n",
    "from keras.models import Sequential\n",
    "from keras.utils import np_utils\n",
    "from keras.utils import to_categorical\n",
    "from keras.layers import Dense, Dropout, GaussianNoise, Conv1D\n",
    "from keras.preprocessing.image import ImageDataGenerator\n",
    "\n",
    "import matplotlib.pyplot as plt\n",
    "import seaborn as sns\n",
    "%matplotlib inline"
   ]
  },
  {
   "cell_type": "code",
   "execution_count": 2,
   "metadata": {},
   "outputs": [],
   "source": [
    "DATA_PATH = r'C:\\Users\\lenovo_pc\\Desktop\\CNN_SR\\Dataset-merged'\n",
    "feature_dim_1 = 8"
   ]
  },
  {
   "cell_type": "code",
   "execution_count": 3,
   "metadata": {},
   "outputs": [],
   "source": [
    "def get_labels(path):\n",
    "    labels = os.listdir(path)\n",
    "    label_indices = np.arange(0, len(labels))    \n",
    "    return labels, label_indices, to_categorical(label_indices)\n",
    "\n",
    "\n",
    "\n"
   ]
  },
  {
   "cell_type": "code",
   "execution_count": 4,
   "metadata": {},
   "outputs": [],
   "source": [
    "\n",
    "\n",
    "def save_data_to_array(path, max_pad_len):\n",
    "    labels, _, _ = get_labels(path)\n",
    "\n",
    "    for label in labels:\n",
    "        # Init mfcc vectors\n",
    "        mfcc_vectors = []\n",
    "\n",
    "        wavfiles = [path + '/' + label + '/' + wavfile for wavfile in os.listdir(path + '/' + label)]\n",
    "        #wavfiles = librosa.util.find_files(db)\n",
    "        #print(wavfiles)\n",
    "        x=0\n",
    "        for wavfile in wavfiles:\n",
    "            name=label+'_'+str(x)\n",
    "            mfcc = wav2mfcc(wavfile, name, max_pad_len=max_pad_len)            \n",
    "            mfcc_vectors.append(mfcc)            \n",
    "            x=x+1\n",
    "        \n",
    "        #computing PCA and saving\n",
    "        \n",
    "        np.save(label + '.npy', mfcc_vectors)\n",
    "        #y=np.load(label + '.npy')\n",
    "        #y = sklearn.preprocessing.scale(y)\n",
    "        #y.mean()\n",
    "        #model = sklearn.decomposition.PCA(n_components=2, whiten=True)\n",
    "        #model.fit(y)\n",
    "        #y = model.transform(y)\n",
    "        #pd.DataFrame(y).to_csv(VALUE_PATH+'/'+label+'.csv')\n",
    "        \n",
    "        \n",
    "sample_x=[]\n",
    "\n",
    "def wav2mfcc(file_path, name, max_pad_len):\n",
    "    wave, sr = librosa.load(file_path)\n",
    "    x = librosa.feature.mfcc(wave, sr=sr, n_mfcc=128)\n",
    "    pad_width = max_pad_len - x.shape[1]\n",
    "    x = np.pad(x, pad_width=((0, 0), (0, pad_width)), mode='constant')\n",
    "    #here the dimensions are getting reduced \n",
    "    #through PCA decompostion\n",
    "    x = reduce_dimension(x)\n",
    "    return x.T"
   ]
  },
  {
   "cell_type": "markdown",
   "metadata": {},
   "source": [
    "# PCA decomposition\n",
    "Before I use data with reduced dimensionality, I would like to show what is this about.\n",
    "\n",
    "I arbitrary set number of components to 500. It depends on data, to do such visualization we should aim to set number of components close to the number of original feature number. Transformation take more time depending on number of components."
   ]
  },
  {
   "cell_type": "code",
   "execution_count": 5,
   "metadata": {},
   "outputs": [],
   "source": [
    "NCOMPONENTS = feature_dim_1\n",
    "def reduce_dimension(X):\n",
    "    scaler = StandardScaler()\n",
    "    scaler.fit(X.T)\n",
    "    X_data = scaler.transform(X.T)\n",
    "    \n",
    "    pca = PCA(n_components=NCOMPONENTS)\n",
    "    X_pca = pca.fit_transform(X.T)\n",
    "    \n",
    "    return X_pca.T"
   ]
  },
  {
   "cell_type": "code",
   "execution_count": 6,
   "metadata": {},
   "outputs": [],
   "source": [
    "from sklearn.model_selection import train_test_split\n",
    "\n",
    "\n",
    "def get_train_test(split_ratio=0.8, random_state=42):\n",
    "    # Get available labels\n",
    "    labels, indices, _ = get_labels(DATA_PATH)\n",
    "\n",
    "    # Getting first arrays\n",
    "    X = np.load(labels[0] + '.npy')\n",
    "    # print(X.shape[0]) returns: 129\n",
    "    y = np.zeros(X.shape[0])\n",
    "\n",
    "    # Append all of the dataset into one single array, same goes for y\n",
    "    for i, label in enumerate(labels[1:]):\n",
    "        x = np.load(label + '.npy')\n",
    "        X = np.vstack((X, x))\n",
    "        #print(X.shape[0]) returns: 129+152=281\n",
    "        #print(i) returns: 0: So all y values are 1 for Seven and 0 for Tin\n",
    "        y = np.append(y, np.full(x.shape[0], fill_value= (i + 1)))\n",
    "\n",
    "    assert X.shape[0] == len(y)\n",
    "\n",
    "    return train_test_split(X, y, test_size= (1 - split_ratio), random_state=random_state, shuffle=True)\n",
    "\n"
   ]
  },
  {
   "cell_type": "code",
   "execution_count": 7,
   "metadata": {},
   "outputs": [],
   "source": [
    "\n",
    "\n",
    "#db = r'C:\\Users\\lenovo_pc\\Desktop\\CNN_SR\\SampleData'\n",
    "\n",
    "\n",
    "# Second dimension of the feature is dim2\n",
    "feature_dim_2 = 28\n",
    "\n",
    "# Save data to array file first\n",
    "save_data_to_array(DATA_PATH,feature_dim_2)\n",
    "\n",
    "# # Loading train set and test set\n",
    "X_train, X_test, y_train, y_test = get_train_test()\n",
    "\n",
    "# # Feature dimension\n",
    "channel = 1\n",
    "epochs = 50\n",
    "batch_size = 100\n",
    "verbose = 1\n",
    "num_classes = 2\n",
    "\n",
    "\n",
    "y_train_hot = to_categorical(y_train)\n",
    "y_test_hot = to_categorical(y_test)"
   ]
  },
  {
   "cell_type": "code",
   "execution_count": 8,
   "metadata": {},
   "outputs": [
    {
     "name": "stdout",
     "output_type": "stream",
     "text": [
      "(472, 28, 8)\n",
      "(119, 28, 8)\n"
     ]
    }
   ],
   "source": [
    "\n",
    "#X_train = np.array(x_train)\n",
    "print(X_train.shape)\n",
    "print(X_test.shape)"
   ]
  },
  {
   "cell_type": "markdown",
   "metadata": {},
   "source": [
    "# *********++++++*********++++++*********++++++*********++++++"
   ]
  },
  {
   "cell_type": "code",
   "execution_count": 9,
   "metadata": {},
   "outputs": [],
   "source": [
    "from keras.models import Sequential\n",
    "from keras.layers import Dense, Dropout\n",
    "from keras.layers import Embedding\n",
    "from keras import regularizers\n",
    "from keras.layers import Conv1D, GlobalAveragePooling1D, MaxPooling1D"
   ]
  },
  {
   "cell_type": "code",
   "execution_count": 10,
   "metadata": {},
   "outputs": [],
   "source": [
    "#seq_length = NCOMPONENTS\n",
    "\n",
    "#model = Sequential()\n",
    "#model.add(Conv1D(64, 3, activation='relu', input_shape=(feature_dim_2,seq_length), padding='causal'))\n",
    "#model.add(Conv1D(64, 3, activation='relu'))\n",
    "#model.add(MaxPooling1D(3))\n",
    "#model.add(Conv1D(128, 3, activation='relu'))\n",
    "#model.add(Conv1D(128, 3, activation='relu'))\n",
    "#model.add(GlobalAveragePooling1D())\n",
    "#model.add(Dropout(0.5))\n",
    "#model.add(Dense(2, activation='sigmoid'))"
   ]
  },
  {
   "cell_type": "code",
   "execution_count": 11,
   "metadata": {},
   "outputs": [],
   "source": [
    "\n",
    "\n",
    "model = Sequential()\n",
    "model.add(Conv1D(64, 3, activation='relu', input_shape=(feature_dim_2,feature_dim_1) ,padding='causal'))\n",
    "model.add(Conv1D(64, 3, activation='relu', ))\n",
    "model.add(MaxPooling1D(3))\n",
    "#model.add(Conv1D(128, 3, activation='relu', ))\n",
    "#model.add(Conv1D(128, 3, activation='relu', ))\n",
    "model.add(GlobalAveragePooling1D())\n",
    "model.add(Dropout(0.7))\n",
    "model.add(Dense(2, activation='sigmoid'))\n"
   ]
  },
  {
   "cell_type": "code",
   "execution_count": 12,
   "metadata": {},
   "outputs": [],
   "source": [
    "model.compile(loss='binary_crossentropy',\n",
    "              optimizer='rmsprop',\n",
    "              metrics=['accuracy'])"
   ]
  },
  {
   "cell_type": "code",
   "execution_count": 13,
   "metadata": {},
   "outputs": [
    {
     "name": "stdout",
     "output_type": "stream",
     "text": [
      "Train on 472 samples, validate on 119 samples\n",
      "Epoch 1/50\n",
      "472/472 [==============================] - 13s 27ms/step - loss: 5.5495 - acc: 0.5350 - val_loss: 1.7778 - val_acc: 0.6134\n",
      "Epoch 2/50\n",
      "472/472 [==============================] - 10s 21ms/step - loss: 4.5987 - acc: 0.5646 - val_loss: 0.5903 - val_acc: 0.8277\n",
      "Epoch 3/50\n",
      "472/472 [==============================] - 10s 22ms/step - loss: 2.8982 - acc: 0.6419 - val_loss: 0.6443 - val_acc: 0.8067\n",
      "Epoch 4/50\n",
      "472/472 [==============================] - 10s 21ms/step - loss: 1.8433 - acc: 0.6992 - val_loss: 0.3873 - val_acc: 0.8697\n",
      "Epoch 5/50\n",
      "472/472 [==============================] - 9s 20ms/step - loss: 1.2040 - acc: 0.7447 - val_loss: 0.2663 - val_acc: 0.8950\n",
      "Epoch 6/50\n",
      "472/472 [==============================] - 10s 22ms/step - loss: 0.9966 - acc: 0.7299 - val_loss: 0.2336 - val_acc: 0.9076\n",
      "Epoch 7/50\n",
      "472/472 [==============================] - 9s 19ms/step - loss: 0.5684 - acc: 0.7966 - val_loss: 0.2189 - val_acc: 0.9118\n",
      "Epoch 8/50\n",
      "472/472 [==============================] - 9s 20ms/step - loss: 0.6483 - acc: 0.7574 - val_loss: 0.2264 - val_acc: 0.9160\n",
      "Epoch 9/50\n",
      "472/472 [==============================] - 9s 20ms/step - loss: 0.5346 - acc: 0.7691 - val_loss: 0.2269 - val_acc: 0.9076\n",
      "Epoch 10/50\n",
      "472/472 [==============================] - 9s 19ms/step - loss: 0.4622 - acc: 0.7987 - val_loss: 0.2324 - val_acc: 0.9202\n",
      "Epoch 11/50\n",
      "472/472 [==============================] - 10s 21ms/step - loss: 0.4325 - acc: 0.8040 - val_loss: 0.2520 - val_acc: 0.8950\n",
      "Epoch 12/50\n",
      "472/472 [==============================] - 10s 22ms/step - loss: 0.4434 - acc: 0.7945 - val_loss: 0.2346 - val_acc: 0.9160\n",
      "Epoch 13/50\n",
      "472/472 [==============================] - 10s 22ms/step - loss: 0.3876 - acc: 0.8136 - val_loss: 0.2494 - val_acc: 0.8866\n",
      "Epoch 14/50\n",
      "472/472 [==============================] - 10s 21ms/step - loss: 0.3798 - acc: 0.8411 - val_loss: 0.2458 - val_acc: 0.8992\n",
      "Epoch 15/50\n",
      "472/472 [==============================] - 12s 25ms/step - loss: 0.3675 - acc: 0.8316 - val_loss: 0.2111 - val_acc: 0.9118\n",
      "Epoch 16/50\n",
      "472/472 [==============================] - 10s 22ms/step - loss: 0.3665 - acc: 0.8252 - val_loss: 0.2224 - val_acc: 0.9202\n",
      "Epoch 17/50\n",
      "472/472 [==============================] - 10s 22ms/step - loss: 0.3182 - acc: 0.8602 - val_loss: 0.2000 - val_acc: 0.9118\n",
      "Epoch 18/50\n",
      "472/472 [==============================] - 11s 23ms/step - loss: 0.3609 - acc: 0.8231 - val_loss: 0.2200 - val_acc: 0.9118\n",
      "Epoch 19/50\n",
      "472/472 [==============================] - 10s 22ms/step - loss: 0.3566 - acc: 0.8316 - val_loss: 0.2073 - val_acc: 0.9076\n",
      "Epoch 20/50\n",
      "472/472 [==============================] - 10s 22ms/step - loss: 0.3440 - acc: 0.8570 - val_loss: 0.2022 - val_acc: 0.9076\n",
      "Epoch 21/50\n",
      "472/472 [==============================] - 11s 23ms/step - loss: 0.3488 - acc: 0.8464 - val_loss: 0.1923 - val_acc: 0.9160\n",
      "Epoch 22/50\n",
      "472/472 [==============================] - 10s 22ms/step - loss: 0.2736 - acc: 0.8814 - val_loss: 0.2176 - val_acc: 0.9076\n",
      "Epoch 23/50\n",
      "472/472 [==============================] - 10s 22ms/step - loss: 0.3064 - acc: 0.8570 - val_loss: 0.2964 - val_acc: 0.8866\n",
      "Epoch 24/50\n",
      "472/472 [==============================] - 12s 25ms/step - loss: 0.2665 - acc: 0.8867 - val_loss: 0.2031 - val_acc: 0.9118\n",
      "Epoch 25/50\n",
      "472/472 [==============================] - 10s 22ms/step - loss: 0.2482 - acc: 0.9057 - val_loss: 0.2066 - val_acc: 0.9328\n",
      "Epoch 26/50\n",
      "472/472 [==============================] - 9s 20ms/step - loss: 0.2967 - acc: 0.8718 - val_loss: 0.1725 - val_acc: 0.9202\n",
      "Epoch 27/50\n",
      "472/472 [==============================] - 10s 22ms/step - loss: 0.2721 - acc: 0.8835 - val_loss: 0.1780 - val_acc: 0.9328\n",
      "Epoch 28/50\n",
      "472/472 [==============================] - 10s 21ms/step - loss: 0.2497 - acc: 0.8941 - val_loss: 0.1662 - val_acc: 0.9244\n",
      "Epoch 29/50\n",
      "472/472 [==============================] - 11s 22ms/step - loss: 0.2484 - acc: 0.8909 - val_loss: 0.2294 - val_acc: 0.9160\n",
      "Epoch 30/50\n",
      "472/472 [==============================] - 10s 20ms/step - loss: 0.2720 - acc: 0.8771 - val_loss: 0.2176 - val_acc: 0.9160\n",
      "Epoch 31/50\n",
      "472/472 [==============================] - 10s 22ms/step - loss: 0.2222 - acc: 0.9025 - val_loss: 0.1587 - val_acc: 0.9370\n",
      "Epoch 32/50\n",
      "472/472 [==============================] - 10s 21ms/step - loss: 0.2053 - acc: 0.9216 - val_loss: 0.1495 - val_acc: 0.9454\n",
      "Epoch 33/50\n",
      "472/472 [==============================] - 10s 22ms/step - loss: 0.2387 - acc: 0.8941 - val_loss: 0.1458 - val_acc: 0.9370\n",
      "Epoch 34/50\n",
      "472/472 [==============================] - 10s 22ms/step - loss: 0.1942 - acc: 0.9121 - val_loss: 0.1874 - val_acc: 0.9328\n",
      "Epoch 35/50\n",
      "472/472 [==============================] - 10s 22ms/step - loss: 0.2353 - acc: 0.8994 - val_loss: 0.2199 - val_acc: 0.9160\n",
      "Epoch 36/50\n",
      "472/472 [==============================] - 10s 20ms/step - loss: 0.2192 - acc: 0.9131 - val_loss: 0.2071 - val_acc: 0.9286\n",
      "Epoch 37/50\n",
      "472/472 [==============================] - 10s 21ms/step - loss: 0.2094 - acc: 0.9206 - val_loss: 0.1396 - val_acc: 0.9454\n",
      "Epoch 38/50\n",
      "472/472 [==============================] - 10s 22ms/step - loss: 0.1650 - acc: 0.9343 - val_loss: 0.1700 - val_acc: 0.9244\n",
      "Epoch 39/50\n",
      "472/472 [==============================] - 11s 23ms/step - loss: 0.1801 - acc: 0.9206 - val_loss: 0.1526 - val_acc: 0.9286\n",
      "Epoch 40/50\n",
      "472/472 [==============================] - 10s 22ms/step - loss: 0.1634 - acc: 0.9343 - val_loss: 0.1532 - val_acc: 0.9370\n",
      "Epoch 41/50\n",
      "472/472 [==============================] - 10s 22ms/step - loss: 0.2342 - acc: 0.9047 - val_loss: 0.1769 - val_acc: 0.9244\n",
      "Epoch 42/50\n",
      "472/472 [==============================] - 10s 22ms/step - loss: 0.1529 - acc: 0.9417 - val_loss: 0.1419 - val_acc: 0.9412\n",
      "Epoch 43/50\n",
      "472/472 [==============================] - 10s 22ms/step - loss: 0.1962 - acc: 0.9153 - val_loss: 0.1485 - val_acc: 0.9412\n",
      "Epoch 44/50\n",
      "472/472 [==============================] - 10s 22ms/step - loss: 0.1740 - acc: 0.9163 - val_loss: 0.2256 - val_acc: 0.9370\n",
      "Epoch 45/50\n",
      "472/472 [==============================] - 10s 22ms/step - loss: 0.2036 - acc: 0.9216 - val_loss: 0.1687 - val_acc: 0.9244\n",
      "Epoch 46/50\n",
      "472/472 [==============================] - 10s 21ms/step - loss: 0.1385 - acc: 0.9449 - val_loss: 0.1780 - val_acc: 0.9370\n",
      "Epoch 47/50\n",
      "472/472 [==============================] - 11s 23ms/step - loss: 0.1439 - acc: 0.9449 - val_loss: 0.1951 - val_acc: 0.9328\n",
      "Epoch 48/50\n",
      "472/472 [==============================] - 10s 21ms/step - loss: 0.1498 - acc: 0.9417 - val_loss: 0.1448 - val_acc: 0.9412\n",
      "Epoch 49/50\n",
      "472/472 [==============================] - 10s 21ms/step - loss: 0.1768 - acc: 0.9375 - val_loss: 0.1586 - val_acc: 0.9370\n",
      "Epoch 50/50\n",
      "472/472 [==============================] - 10s 22ms/step - loss: 0.1379 - acc: 0.9523 - val_loss: 0.1450 - val_acc: 0.9286\n"
     ]
    }
   ],
   "source": [
    "#model.fit(x_train, y_train, batch_size=7, epochs=10)\n",
    "\n",
    "history = model.fit(X_train, y_train_hot, batch_size=batch_size, epochs=50, verbose=verbose, validation_data=(X_test, y_test_hot))"
   ]
  },
  {
   "cell_type": "code",
   "execution_count": 14,
   "metadata": {},
   "outputs": [
    {
     "name": "stdout",
     "output_type": "stream",
     "text": [
      "model train data score: acc       :  99.15 %\n",
      "model train data score: loss      :  5.2 %\n",
      "model test data score: acc        :  92.86 %\n",
      "model test data score: loss       :  14.5 %\n"
     ]
    }
   ],
   "source": [
    "score = model.evaluate(X_train, y_train_hot, verbose=0) \n",
    "print (\"model train data score: acc       : \",round(score[1]*100,2) , \"%\")\n",
    "print (\"model train data score: loss      : \",round(score[0]*100,2) , \"%\")\n",
    "\n",
    "score = model.evaluate(X_test, y_test_hot, verbose=0) \n",
    "print (\"model test data score: acc        : \",round(score[1]*100,2) , \"%\")\n",
    "print (\"model test data score: loss       : \",round(score[0]*100,2) , \"%\")\n"
   ]
  },
  {
   "cell_type": "code",
   "execution_count": 15,
   "metadata": {},
   "outputs": [
    {
     "data": {
      "image/png": "[encoded data removed]",
      "text/plain": [
       "<Figure size 432x288 with 1 Axes>"
      ]
     },
     "metadata": {
      "needs_background": "light"
     },
     "output_type": "display_data"
    }
   ],
   "source": [
    "# summarize history for accuracy\n",
    "plt.plot(history.history['acc'])\n",
    "plt.plot(history.history['val_acc'])\n",
    "plt.title('model accuracy')\n",
    "plt.ylabel('accuracy')\n",
    "plt.xlabel('epoch')\n",
    "plt.legend(['train', 'test'], loc='upper left')\n",
    "plt.show()"
   ]
  },
  {
   "cell_type": "code",
   "execution_count": 16,
   "metadata": {},
   "outputs": [
    {
     "data": {
      "image/png": "[encoded data removed]",
      "text/plain": [
       "<Figure size 432x288 with 1 Axes>"
      ]
     },
     "metadata": {
      "needs_background": "light"
     },
     "output_type": "display_data"
    }
   ],
   "source": [
    "# summarize history for loss\n",
    "plt.plot(history.history['loss'])\n",
    "plt.plot(history.history['val_loss'])\n",
    "plt.title('model loss')\n",
    "plt.ylabel('loss')\n",
    "plt.xlabel('epoch')\n",
    "plt.legend(['train', 'test'], loc='upper left')\n",
    "plt.show()"
   ]
  },
  {
   "cell_type": "markdown",
   "metadata": {},
   "source": [
    "# RNN+LSTM"
   ]
  },
  {
   "cell_type": "code",
   "execution_count": 17,
   "metadata": {},
   "outputs": [],
   "source": [
    "import numpy as np\n",
    "from keras.models import Sequential\n",
    "from keras.layers import Dense, Dropout, Activation, Flatten, LSTM\n",
    "from keras.layers import Convolution2D, MaxPooling2D\n",
    "from keras.optimizers import Adam\n",
    "from keras.regularizers import l2\n",
    "from keras.callbacks import EarlyStopping,ReduceLROnPlateau,ModelCheckpoint,TensorBoard,ProgbarLogger\n",
    "from keras.utils import np_utils\n",
    "from sklearn import metrics \n",
    "from sklearn.metrics import confusion_matrix, classification_report, accuracy_score\n",
    "from sklearn.preprocessing import LabelEncoder\n",
    "import itertools"
   ]
  },
  {
   "cell_type": "code",
   "execution_count": 18,
   "metadata": {},
   "outputs": [
    {
     "name": "stdout",
     "output_type": "stream",
     "text": [
      "Build LSTM RNN model ...\n"
     ]
    }
   ],
   "source": [
    "print('Build LSTM RNN model ...')\n",
    "model = Sequential()\n",
    "model.add(LSTM(units=32, dropout=0.1, recurrent_dropout=0.15, kernel_regularizer=l2(0.05), recurrent_regularizer=l2(0.08), bias_regularizer=l2(0.06), return_sequences=True))\n",
    "model.add(LSTM(units=32, dropout=0.4, recurrent_dropout=0.30, kernel_regularizer=l2(0.90), recurrent_regularizer=l2(0.90), bias_regularizer=l2(0.50), return_sequences=False))\n",
    "model.add(Dense(2, activation='softmax'))\n",
    "model.compile(loss='categorical_crossentropy', optimizer='Adamax', metrics=['acc','mse', 'mae', 'mape', 'cosine'])\n",
    "#model.summary()"
   ]
  },
  {
   "cell_type": "code",
   "execution_count": 19,
   "metadata": {},
   "outputs": [
    {
     "name": "stdout",
     "output_type": "stream",
     "text": [
      "training started..... please wait.\n",
      "\n",
      "Epoch 00001: loss improved from inf to 49.13640, saving model to ./best_model_trained.hdf5\n",
      "\n",
      "Epoch 00002: loss improved from 49.13640 to 16.60636, saving model to ./best_model_trained.hdf5\n",
      "\n",
      "Epoch 00003: loss improved from 16.60636 to 9.90283, saving model to ./best_model_trained.hdf5\n",
      "\n",
      "Epoch 00004: loss improved from 9.90283 to 6.93599, saving model to ./best_model_trained.hdf5\n",
      "\n",
      "Epoch 00005: loss improved from 6.93599 to 4.99625, saving model to ./best_model_trained.hdf5\n",
      "\n",
      "Epoch 00006: loss improved from 4.99625 to 3.60810, saving model to ./best_model_trained.hdf5\n",
      "\n",
      "Epoch 00007: loss improved from 3.60810 to 2.62063, saving model to ./best_model_trained.hdf5\n",
      "\n",
      "Epoch 00008: loss improved from 2.62063 to 1.93189, saving model to ./best_model_trained.hdf5\n",
      "\n",
      "Epoch 00009: loss improved from 1.93189 to 1.46523, saving model to ./best_model_trained.hdf5\n",
      "\n",
      "Epoch 00010: loss improved from 1.46523 to 1.15941, saving model to ./best_model_trained.hdf5\n",
      "\n",
      "Epoch 00011: loss improved from 1.15941 to 0.96393, saving model to ./best_model_trained.hdf5\n",
      "\n",
      "Epoch 00012: loss improved from 0.96393 to 0.84206, saving model to ./best_model_trained.hdf5\n",
      "\n",
      "Epoch 00013: loss improved from 0.84206 to 0.77395, saving model to ./best_model_trained.hdf5\n",
      "\n",
      "Epoch 00014: loss improved from 0.77395 to 0.73413, saving model to ./best_model_trained.hdf5\n",
      "\n",
      "Epoch 00015: loss improved from 0.73413 to 0.70724, saving model to ./best_model_trained.hdf5\n",
      "\n",
      "Epoch 00016: loss improved from 0.70724 to 0.69964, saving model to ./best_model_trained.hdf5\n",
      "\n",
      "Epoch 00017: loss improved from 0.69964 to 0.68432, saving model to ./best_model_trained.hdf5\n",
      "\n",
      "Epoch 00018: loss did not improve from 0.68432\n",
      "\n",
      "Epoch 00019: loss improved from 0.68432 to 0.68163, saving model to ./best_model_trained.hdf5\n",
      "\n",
      "Epoch 00020: loss improved from 0.68163 to 0.67566, saving model to ./best_model_trained.hdf5\n",
      "\n",
      "Epoch 00021: loss improved from 0.67566 to 0.66570, saving model to ./best_model_trained.hdf5\n",
      "\n",
      "Epoch 00022: loss improved from 0.66570 to 0.66245, saving model to ./best_model_trained.hdf5\n",
      "\n",
      "Epoch 00023: loss did not improve from 0.66245\n",
      "\n",
      "Epoch 00024: loss did not improve from 0.66245\n",
      "\n",
      "Epoch 00025: loss did not improve from 0.66245\n",
      "\n",
      "Epoch 00026: loss improved from 0.66245 to 0.64986, saving model to ./best_model_trained.hdf5\n",
      "\n",
      "Epoch 00027: loss did not improve from 0.64986\n",
      "\n",
      "Epoch 00028: loss improved from 0.64986 to 0.64356, saving model to ./best_model_trained.hdf5\n",
      "\n",
      "Epoch 00029: loss improved from 0.64356 to 0.63433, saving model to ./best_model_trained.hdf5\n",
      "\n",
      "Epoch 00030: loss improved from 0.63433 to 0.63322, saving model to ./best_model_trained.hdf5\n",
      "\n",
      "Epoch 00031: loss improved from 0.63322 to 0.63308, saving model to ./best_model_trained.hdf5\n",
      "\n",
      "Epoch 00032: loss improved from 0.63308 to 0.62065, saving model to ./best_model_trained.hdf5\n",
      "\n",
      "Epoch 00033: loss improved from 0.62065 to 0.60762, saving model to ./best_model_trained.hdf5\n",
      "\n",
      "Epoch 00034: loss did not improve from 0.60762\n",
      "\n",
      "Epoch 00035: loss improved from 0.60762 to 0.60032, saving model to ./best_model_trained.hdf5\n",
      "\n",
      "Epoch 00036: loss did not improve from 0.60032\n",
      "\n",
      "Epoch 00037: loss improved from 0.60032 to 0.59722, saving model to ./best_model_trained.hdf5\n",
      "\n",
      "Epoch 00038: loss did not improve from 0.59722\n",
      "\n",
      "Epoch 00039: loss improved from 0.59722 to 0.59352, saving model to ./best_model_trained.hdf5\n",
      "\n",
      "Epoch 00040: loss did not improve from 0.59352\n",
      "\n",
      "Epoch 00041: loss did not improve from 0.59352\n",
      "\n",
      "Epoch 00042: loss improved from 0.59352 to 0.58711, saving model to ./best_model_trained.hdf5\n",
      "\n",
      "Epoch 00043: loss improved from 0.58711 to 0.57019, saving model to ./best_model_trained.hdf5\n",
      "\n",
      "Epoch 00044: loss improved from 0.57019 to 0.55556, saving model to ./best_model_trained.hdf5\n",
      "\n",
      "Epoch 00045: loss did not improve from 0.55556\n",
      "\n",
      "Epoch 00046: loss did not improve from 0.55556\n",
      "\n",
      "Epoch 00047: loss did not improve from 0.55556\n",
      "\n",
      "Epoch 00048: loss did not improve from 0.55556\n",
      "\n",
      "Epoch 00049: loss did not improve from 0.55556\n",
      "\n",
      "Epoch 00050: loss improved from 0.55556 to 0.55500, saving model to ./best_model_trained.hdf5\n",
      "_________________________________________________________________\n",
      "Layer (type)                 Output Shape              Param #   \n",
      "=================================================================\n",
      "lstm_1 (LSTM)                (None, 28, 32)            5248      \n",
      "_________________________________________________________________\n",
      "lstm_2 (LSTM)                (None, 32)                8320      \n",
      "_________________________________________________________________\n",
      "dense_2 (Dense)              (None, 2)                 66        \n",
      "=================================================================\n",
      "Total params: 13,634\n",
      "Trainable params: 13,634\n",
      "Non-trainable params: 0\n",
      "_________________________________________________________________\n",
      "training finised!\n",
      "Wall time: 2min 57s\n"
     ]
    }
   ],
   "source": [
    "%%time\n",
    "# saved model checkpoint file\n",
    "best_model_file=\"./best_model_trained.hdf5\"\n",
    "#train_model_file=file_path+\"/checkpoints/weights.best_{epoch:02d}-{loss:.2f}.hdf5\"\n",
    "MAX_PATIENT=12\n",
    "MAX_EPOCHS=50\n",
    "MAX_BATCH=7\n",
    "\n",
    "# callbacks\n",
    "# removed EarlyStopping(patience=MAX_PATIENT)\n",
    "callback=[ReduceLROnPlateau(patience=MAX_PATIENT, verbose=1),\n",
    "          ModelCheckpoint(filepath=best_model_file, monitor='loss', verbose=1, save_best_only=True)]\n",
    "\n",
    "print (\"training started..... please wait.\")\n",
    "# training\n",
    "history=model.fit(X_train, y_train_hot, \n",
    "                  batch_size=MAX_BATCH, \n",
    "                  epochs=MAX_EPOCHS,\n",
    "                  verbose=0,\n",
    "                  validation_data=(X_test, y_test_hot),\n",
    "                  callbacks=callback) \n",
    "model.summary()\n",
    "print (\"training finised!\")\n",
    "\n"
   ]
  },
  {
   "cell_type": "code",
   "execution_count": 20,
   "metadata": {},
   "outputs": [
    {
     "name": "stdout",
     "output_type": "stream",
     "text": [
      "model train data score       :  83.05 %\n",
      "model train data loss        :  0.46\n",
      "model test data score        :  81.51 %\n",
      "model train data loss        :  0.48\n"
     ]
    }
   ],
   "source": [
    "score = model.evaluate(X_train, y_train_hot, verbose=0) \n",
    "print (\"model train data score       : \",round(score[1]*100,2) , \"%\")\n",
    "print (\"model train data loss        : \",round(score[0],2))\n",
    "\n",
    "score = model.evaluate(X_test, y_test_hot, verbose=0) \n",
    "print (\"model test data score        : \",round(score[1]*100,2) , \"%\")\n",
    "print (\"model train data loss        : \",round(score[0],2))"
   ]
  },
  {
   "cell_type": "code",
   "execution_count": 21,
   "metadata": {},
   "outputs": [
    {
     "data": {
      "image/png": "[encoded data removed]",
      "text/plain": [
       "<Figure size 432x288 with 1 Axes>"
      ]
     },
     "metadata": {
      "needs_background": "light"
     },
     "output_type": "display_data"
    }
   ],
   "source": [
    "# summarize history for accuracy\n",
    "plt.plot(history.history['acc'])\n",
    "plt.plot(history.history['val_acc'])\n",
    "plt.title('model accuracy')\n",
    "plt.ylabel('accuracy')\n",
    "plt.xlabel('epoch')\n",
    "plt.legend(['train', 'test'], loc='upper left')\n",
    "plt.show()"
   ]
  },
  {
   "cell_type": "code",
   "execution_count": 22,
   "metadata": {},
   "outputs": [
    {
     "data": {
      "image/png": "[encoded data removed]",
      "text/plain": [
       "<Figure size 432x288 with 1 Axes>"
      ]
     },
     "metadata": {
      "needs_background": "light"
     },
     "output_type": "display_data"
    }
   ],
   "source": [
    "# summarize history for loss\n",
    "plt.plot(history.history['loss'])\n",
    "plt.plot(history.history['val_loss'])\n",
    "plt.title('model loss')\n",
    "plt.ylabel('loss')\n",
    "plt.xlabel('epoch')\n",
    "plt.legend(['train', 'test'], loc='upper left')\n",
    "plt.show()"
   ]
  }
 ],
 "metadata": {
  "kernelspec": {
   "display_name": "Python 3",
   "language": "python",
   "name": "python3"
  },
  "language_info": {
   "codemirror_mode": {
    "name": "ipython",
    "version": 3
   },
   "file_extension": ".py",
   "mimetype": "text/x-python",
   "name": "python",
   "nbconvert_exporter": "python",
   "pygments_lexer": "ipython3",
   "version": "3.6.4"
  }
 },
 "nbformat": 4,
 "nbformat_minor": 2
}
