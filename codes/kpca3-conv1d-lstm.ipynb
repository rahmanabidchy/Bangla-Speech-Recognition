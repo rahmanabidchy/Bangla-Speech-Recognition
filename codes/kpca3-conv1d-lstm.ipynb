{
 "cells": [
  {
   "cell_type": "code",
   "execution_count": 1,
   "metadata": {},
   "outputs": [
    {
     "name": "stderr",
     "output_type": "stream",
     "text": [
      "C:\\Users\\lenovo_pc\\Anaconda3\\lib\\site-packages\\h5py\\__init__.py:36: FutureWarning: Conversion of the second argument of issubdtype from `float` to `np.floating` is deprecated. In future, it will be treated as `np.float64 == np.dtype(float).type`.\n",
      "  from ._conv import register_converters as _register_converters\n",
      "Using TensorFlow backend.\n"
     ]
    }
   ],
   "source": [
    "import keras\n",
    "import os\n",
    "import librosa\n",
    "\n",
    "\n",
    "import numpy as np\n",
    "import pandas as pd\n",
    "\n",
    "from sklearn.preprocessing import StandardScaler\n",
    "from sklearn.decomposition import KernelPCA\n",
    "\n",
    "from keras.models import Sequential\n",
    "from keras.utils import np_utils\n",
    "from keras.utils import to_categorical\n",
    "from keras.layers import Dense, Dropout, GaussianNoise, Conv1D\n",
    "from keras.preprocessing.image import ImageDataGenerator\n",
    "\n",
    "import matplotlib.pyplot as plt\n",
    "import seaborn as sns\n",
    "%matplotlib inline"
   ]
  },
  {
   "cell_type": "code",
   "execution_count": 2,
   "metadata": {},
   "outputs": [],
   "source": [
    "DATA_PATH = r'C:\\Users\\lenovo_pc\\Desktop\\CNN_SR\\Dataset-merged'\n",
    "feature_dim_1 = 3"
   ]
  },
  {
   "cell_type": "code",
   "execution_count": 3,
   "metadata": {},
   "outputs": [],
   "source": [
    "def get_labels(path):\n",
    "    labels = os.listdir(path)\n",
    "    label_indices = np.arange(0, len(labels))    \n",
    "    return labels, label_indices, to_categorical(label_indices)\n",
    "\n",
    "\n",
    "\n"
   ]
  },
  {
   "cell_type": "code",
   "execution_count": 4,
   "metadata": {},
   "outputs": [],
   "source": [
    "\n",
    "\n",
    "def save_data_to_array(path, max_pad_len):\n",
    "    labels, _, _ = get_labels(path)\n",
    "\n",
    "    for label in labels:\n",
    "        # Init mfcc vectors\n",
    "        melspectrogram_vectors = []\n",
    "\n",
    "        wavfiles = [path + '/' + label + '/' + wavfile for wavfile in os.listdir(path + '/' + label)]\n",
    "        #wavfiles = librosa.util.find_files(db)\n",
    "        #print(wavfiles)\n",
    "        x=0\n",
    "        for wavfile in wavfiles:\n",
    "            name=label+'_'+str(x)\n",
    "            melspectrogram = wav2melspectrogram(wavfile, name, max_pad_len=max_pad_len)            \n",
    "            melspectrogram_vectors.append(melspectrogram)            \n",
    "            x=x+1\n",
    "        \n",
    "        #computing PCA and saving\n",
    "        \n",
    "        np.save(label + '.npy', melspectrogram_vectors)\n",
    "        #y=np.load(label + '.npy')\n",
    "        #y = sklearn.preprocessing.scale(y)\n",
    "        #y.mean()\n",
    "        #model = sklearn.decomposition.PCA(n_components=2, whiten=True)\n",
    "        #model.fit(y)\n",
    "        #y = model.transform(y)\n",
    "        #pd.DataFrame(y).to_csv(VALUE_PATH+'/'+label+'.csv')\n",
    "        \n",
    "        \n",
    "sample_x=[]\n",
    "\n",
    "def wav2melspectrogram(file_path, name, max_pad_len):\n",
    "    wave, sr = librosa.load(file_path)\n",
    "    x = librosa.feature.melspectrogram(wave, sr=sr)\n",
    "    pad_width = max_pad_len - x.shape[1]\n",
    "    x = np.pad(x, pad_width=((0, 0), (0, pad_width)), mode='constant')\n",
    "    #here the dimensions are getting reduced \n",
    "    #through PCA decompostion\n",
    "    x = reduce_dimension(x)\n",
    "    #pd.DataFrame(x).to_csv(VALUE_PATH+'/'+name+'.csv')\n",
    "    return x.T"
   ]
  },
  {
   "cell_type": "code",
   "execution_count": 5,
   "metadata": {},
   "outputs": [],
   "source": [
    "NCOMPONENTS = feature_dim_1\n",
    "def reduce_dimension(X):\n",
    "    scaler = StandardScaler()\n",
    "    scaler.fit(X.T)\n",
    "    X_data = scaler.transform(X.T)\n",
    "    \n",
    "    kpca = KernelPCA(n_components=NCOMPONENTS)\n",
    "    X_kpca = kpca.fit_transform(X.T)\n",
    "    \n",
    "    return X_kpca.T"
   ]
  },
  {
   "cell_type": "code",
   "execution_count": 6,
   "metadata": {},
   "outputs": [],
   "source": [
    "from sklearn.model_selection import train_test_split\n",
    "\n",
    "\n",
    "def get_train_test(split_ratio=0.8, random_state=42):\n",
    "    # Get available labels\n",
    "    labels, indices, _ = get_labels(DATA_PATH)\n",
    "\n",
    "    # Getting first arrays\n",
    "    X = np.load(labels[0] + '.npy')\n",
    "    # print(X.shape[0]) returns: 129\n",
    "    y = np.zeros(X.shape[0])\n",
    "\n",
    "    # Append all of the dataset into one single array, same goes for y\n",
    "    for i, label in enumerate(labels[1:]):\n",
    "        x = np.load(label + '.npy')\n",
    "        X = np.vstack((X, x))\n",
    "        #print(X.shape[0]) returns: 129+152=281\n",
    "        #print(i) returns: 0: So all y values are 1 for Seven and 0 for Tin\n",
    "        y = np.append(y, np.full(x.shape[0], fill_value= (i + 1)))\n",
    "\n",
    "    assert X.shape[0] == len(y)\n",
    "\n",
    "    return train_test_split(X, y, test_size= (1 - split_ratio), random_state=random_state, shuffle=True)\n",
    "\n"
   ]
  },
  {
   "cell_type": "code",
   "execution_count": 7,
   "metadata": {},
   "outputs": [],
   "source": [
    "\n",
    "\n",
    "#db = r'C:\\Users\\lenovo_pc\\Desktop\\CNN_SR\\SampleData'\n",
    "\n",
    "\n",
    "# Second dimension of the feature is dim2\n",
    "feature_dim_2 = 28\n",
    "\n",
    "# Save data to array file first\n",
    "save_data_to_array(DATA_PATH,feature_dim_2)\n",
    "\n",
    "# # Loading train set and test set\n",
    "X_train, X_test, y_train, y_test = get_train_test()\n",
    "\n",
    "# # Feature dimension\n",
    "channel = 1\n",
    "epochs = 50\n",
    "batch_size = 100\n",
    "verbose = 1\n",
    "num_classes = 2\n",
    "\n",
    "\n",
    "y_train_hot = to_categorical(y_train)\n",
    "y_test_hot = to_categorical(y_test)"
   ]
  },
  {
   "cell_type": "code",
   "execution_count": 8,
   "metadata": {},
   "outputs": [
    {
     "name": "stdout",
     "output_type": "stream",
     "text": [
      "(472, 28, 3)\n",
      "(119, 28, 3)\n"
     ]
    }
   ],
   "source": [
    "\n",
    "#X_train = np.array(x_train)\n",
    "print(X_train.shape)\n",
    "print(X_test.shape)"
   ]
  },
  {
   "cell_type": "markdown",
   "metadata": {},
   "source": [
    "# *********++++++*********++++++*********++++++*********++++++"
   ]
  },
  {
   "cell_type": "code",
   "execution_count": 9,
   "metadata": {},
   "outputs": [],
   "source": [
    "from keras.models import Sequential\n",
    "from keras.layers import Dense, Dropout\n",
    "from keras.layers import Embedding\n",
    "from keras import regularizers\n",
    "from keras.layers import Conv1D, GlobalAveragePooling1D, MaxPooling1D"
   ]
  },
  {
   "cell_type": "code",
   "execution_count": 10,
   "metadata": {},
   "outputs": [],
   "source": [
    "#seq_length = NCOMPONENTS\n",
    "\n",
    "#model = Sequential()\n",
    "#model.add(Conv1D(64, 3, activation='relu', input_shape=(feature_dim_2,seq_length), padding='causal'))\n",
    "#model.add(Conv1D(64, 3, activation='relu'))\n",
    "#model.add(MaxPooling1D(3))\n",
    "#model.add(Conv1D(128, 3, activation='relu'))\n",
    "#model.add(Conv1D(128, 3, activation='relu'))\n",
    "#model.add(GlobalAveragePooling1D())\n",
    "#model.add(Dropout(0.5))\n",
    "#model.add(Dense(2, activation='sigmoid'))"
   ]
  },
  {
   "cell_type": "code",
   "execution_count": 11,
   "metadata": {},
   "outputs": [],
   "source": [
    "\n",
    "\n",
    "model = Sequential()\n",
    "model.add(Conv1D(64, 3, activation='relu', input_shape=(feature_dim_2,feature_dim_1) ,padding='causal'))\n",
    "model.add(Conv1D(64, 3, activation='relu', ))\n",
    "model.add(MaxPooling1D(3))\n",
    "#model.add(Conv1D(128, 3, activation='relu', ))\n",
    "#model.add(Conv1D(128, 3, activation='relu', ))\n",
    "model.add(GlobalAveragePooling1D())\n",
    "model.add(Dropout(0.7))\n",
    "model.add(Dense(2, activation='sigmoid'))\n"
   ]
  },
  {
   "cell_type": "code",
   "execution_count": 12,
   "metadata": {},
   "outputs": [],
   "source": [
    "model.compile(loss='binary_crossentropy',\n",
    "              optimizer='rmsprop',\n",
    "              metrics=['accuracy'])"
   ]
  },
  {
   "cell_type": "code",
   "execution_count": 13,
   "metadata": {},
   "outputs": [
    {
     "name": "stdout",
     "output_type": "stream",
     "text": [
      "Train on 472 samples, validate on 119 samples\n",
      "Epoch 1/50\n",
      "472/472 [==============================] - 10s 22ms/step - loss: 4.9365 - acc: 0.5297 - val_loss: 1.8120 - val_acc: 0.6092\n",
      "Epoch 2/50\n",
      "472/472 [==============================] - 8s 18ms/step - loss: 4.5531 - acc: 0.5297 - val_loss: 2.9588 - val_acc: 0.5840\n",
      "Epoch 3/50\n",
      "472/472 [==============================] - 10s 20ms/step - loss: 4.1963 - acc: 0.5508 - val_loss: 2.4134 - val_acc: 0.7017\n",
      "Epoch 4/50\n",
      "472/472 [==============================] - 10s 20ms/step - loss: 3.6286 - acc: 0.5975 - val_loss: 2.2798 - val_acc: 0.6176\n",
      "Epoch 5/50\n",
      "472/472 [==============================] - 9s 19ms/step - loss: 3.4846 - acc: 0.6017 - val_loss: 1.9849 - val_acc: 0.6765\n",
      "Epoch 6/50\n",
      "472/472 [==============================] - 9s 19ms/step - loss: 3.1660 - acc: 0.6208 - val_loss: 1.9918 - val_acc: 0.6891\n",
      "Epoch 7/50\n",
      "472/472 [==============================] - 9s 20ms/step - loss: 2.9524 - acc: 0.6441 - val_loss: 2.7848 - val_acc: 0.5840\n",
      "Epoch 8/50\n",
      "472/472 [==============================] - 9s 20ms/step - loss: 3.0765 - acc: 0.6239 - val_loss: 2.3967 - val_acc: 0.6681\n",
      "Epoch 9/50\n",
      "472/472 [==============================] - 9s 19ms/step - loss: 2.9123 - acc: 0.6282 - val_loss: 1.9528 - val_acc: 0.6933\n",
      "Epoch 10/50\n",
      "472/472 [==============================] - 9s 19ms/step - loss: 2.4417 - acc: 0.6653 - val_loss: 2.0831 - val_acc: 0.7311\n",
      "Epoch 11/50\n",
      "472/472 [==============================] - 9s 19ms/step - loss: 2.0922 - acc: 0.7023 - val_loss: 2.1274 - val_acc: 0.7311\n",
      "Epoch 12/50\n",
      "472/472 [==============================] - 10s 21ms/step - loss: 1.9218 - acc: 0.7066 - val_loss: 2.4200 - val_acc: 0.7017\n",
      "Epoch 13/50\n",
      "472/472 [==============================] - 10s 21ms/step - loss: 2.0448 - acc: 0.7129 - val_loss: 1.7188 - val_acc: 0.7395\n",
      "Epoch 14/50\n",
      "472/472 [==============================] - 10s 20ms/step - loss: 1.6359 - acc: 0.7119 - val_loss: 2.0534 - val_acc: 0.7143\n",
      "Epoch 15/50\n",
      "472/472 [==============================] - 9s 19ms/step - loss: 1.6212 - acc: 0.7214 - val_loss: 1.7166 - val_acc: 0.7311\n",
      "Epoch 16/50\n",
      "472/472 [==============================] - 9s 19ms/step - loss: 1.3147 - acc: 0.7447 - val_loss: 1.8587 - val_acc: 0.7185\n",
      "Epoch 17/50\n",
      "472/472 [==============================] - 9s 20ms/step - loss: 1.2436 - acc: 0.7468 - val_loss: 1.3379 - val_acc: 0.7563\n",
      "Epoch 18/50\n",
      "472/472 [==============================] - 10s 21ms/step - loss: 1.1204 - acc: 0.7246 - val_loss: 1.3271 - val_acc: 0.7311\n",
      "Epoch 19/50\n",
      "472/472 [==============================] - 10s 20ms/step - loss: 0.9355 - acc: 0.7468 - val_loss: 1.0525 - val_acc: 0.7311\n",
      "Epoch 20/50\n",
      "472/472 [==============================] - 9s 19ms/step - loss: 0.8360 - acc: 0.7553 - val_loss: 1.0886 - val_acc: 0.7731\n",
      "Epoch 21/50\n",
      "472/472 [==============================] - 9s 19ms/step - loss: 0.8333 - acc: 0.7331 - val_loss: 0.9012 - val_acc: 0.7521\n",
      "Epoch 22/50\n",
      "472/472 [==============================] - 9s 19ms/step - loss: 0.6653 - acc: 0.7627 - val_loss: 0.8345 - val_acc: 0.7185\n",
      "Epoch 23/50\n",
      "472/472 [==============================] - 10s 20ms/step - loss: 0.7118 - acc: 0.7405 - val_loss: 0.8613 - val_acc: 0.7563\n",
      "Epoch 24/50\n",
      "472/472 [==============================] - 10s 21ms/step - loss: 0.5525 - acc: 0.7871 - val_loss: 0.8164 - val_acc: 0.7311\n",
      "Epoch 25/50\n",
      "472/472 [==============================] - 9s 20ms/step - loss: 0.6236 - acc: 0.7638 - val_loss: 0.7323 - val_acc: 0.7437\n",
      "Epoch 26/50\n",
      "472/472 [==============================] - 9s 19ms/step - loss: 0.5709 - acc: 0.7426 - val_loss: 0.6652 - val_acc: 0.7143\n",
      "Epoch 27/50\n",
      "472/472 [==============================] - 10s 22ms/step - loss: 0.5681 - acc: 0.7521 - val_loss: 0.6764 - val_acc: 0.7227\n",
      "Epoch 28/50\n",
      "472/472 [==============================] - 9s 19ms/step - loss: 0.5649 - acc: 0.7648 - val_loss: 0.6985 - val_acc: 0.7101\n",
      "Epoch 29/50\n",
      "472/472 [==============================] - 9s 20ms/step - loss: 0.5221 - acc: 0.7934 - val_loss: 0.7590 - val_acc: 0.7437\n",
      "Epoch 30/50\n",
      "472/472 [==============================] - 9s 19ms/step - loss: 0.5215 - acc: 0.7775 - val_loss: 0.7465 - val_acc: 0.7059\n",
      "Epoch 31/50\n",
      "472/472 [==============================] - 10s 20ms/step - loss: 0.6132 - acc: 0.7383 - val_loss: 0.7226 - val_acc: 0.7395\n",
      "Epoch 32/50\n",
      "472/472 [==============================] - 9s 19ms/step - loss: 0.5524 - acc: 0.7892 - val_loss: 0.6441 - val_acc: 0.7269\n",
      "Epoch 33/50\n",
      "472/472 [==============================] - 9s 20ms/step - loss: 0.5091 - acc: 0.7839 - val_loss: 0.6978 - val_acc: 0.7269\n",
      "Epoch 34/50\n",
      "472/472 [==============================] - 10s 22ms/step - loss: 0.5130 - acc: 0.7648 - val_loss: 0.7223 - val_acc: 0.7269\n",
      "Epoch 35/50\n",
      "472/472 [==============================] - 9s 19ms/step - loss: 0.5362 - acc: 0.7606 - val_loss: 0.7075 - val_acc: 0.7311\n",
      "Epoch 36/50\n",
      "472/472 [==============================] - 9s 19ms/step - loss: 0.5433 - acc: 0.7765 - val_loss: 0.6793 - val_acc: 0.7563\n",
      "Epoch 37/50\n",
      "472/472 [==============================] - 9s 19ms/step - loss: 0.5538 - acc: 0.7405 - val_loss: 0.7215 - val_acc: 0.7521\n",
      "Epoch 38/50\n",
      "472/472 [==============================] - 10s 21ms/step - loss: 0.5366 - acc: 0.7617 - val_loss: 0.6929 - val_acc: 0.7647\n",
      "Epoch 39/50\n",
      "472/472 [==============================] - 10s 22ms/step - loss: 0.5267 - acc: 0.7691 - val_loss: 0.6911 - val_acc: 0.7311\n",
      "Epoch 40/50\n",
      "472/472 [==============================] - 9s 20ms/step - loss: 0.4815 - acc: 0.8061 - val_loss: 0.6663 - val_acc: 0.7479\n",
      "Epoch 41/50\n",
      "472/472 [==============================] - 9s 19ms/step - loss: 0.5838 - acc: 0.7881 - val_loss: 0.6341 - val_acc: 0.7689\n",
      "Epoch 42/50\n",
      "472/472 [==============================] - 9s 19ms/step - loss: 0.4697 - acc: 0.8019 - val_loss: 0.6898 - val_acc: 0.7437\n",
      "Epoch 43/50\n",
      "472/472 [==============================] - 10s 21ms/step - loss: 0.4867 - acc: 0.7924 - val_loss: 0.7179 - val_acc: 0.7437\n",
      "Epoch 44/50\n",
      "472/472 [==============================] - 9s 20ms/step - loss: 0.5015 - acc: 0.8019 - val_loss: 0.7420 - val_acc: 0.7395\n",
      "Epoch 45/50\n",
      "472/472 [==============================] - 9s 20ms/step - loss: 0.4567 - acc: 0.7945 - val_loss: 0.7737 - val_acc: 0.7563\n",
      "Epoch 46/50\n",
      "472/472 [==============================] - 10s 21ms/step - loss: 0.5002 - acc: 0.7881 - val_loss: 0.6295 - val_acc: 0.7605\n",
      "Epoch 47/50\n",
      "472/472 [==============================] - 9s 20ms/step - loss: 0.4479 - acc: 0.8051 - val_loss: 0.6501 - val_acc: 0.7479\n",
      "Epoch 48/50\n",
      "472/472 [==============================] - 9s 19ms/step - loss: 0.4835 - acc: 0.8178 - val_loss: 0.6459 - val_acc: 0.7563\n",
      "Epoch 49/50\n",
      "472/472 [==============================] - 9s 20ms/step - loss: 0.4850 - acc: 0.7924 - val_loss: 0.8384 - val_acc: 0.7479\n",
      "Epoch 50/50\n",
      "472/472 [==============================] - 9s 19ms/step - loss: 0.4648 - acc: 0.8273 - val_loss: 0.6527 - val_acc: 0.7479\n"
     ]
    }
   ],
   "source": [
    "#model.fit(x_train, y_train, batch_size=7, epochs=10)\n",
    "\n",
    "history = model.fit(X_train, y_train_hot, batch_size=batch_size, epochs=50, verbose=verbose, validation_data=(X_test, y_test_hot))"
   ]
  },
  {
   "cell_type": "code",
   "execution_count": 14,
   "metadata": {},
   "outputs": [
    {
     "name": "stdout",
     "output_type": "stream",
     "text": [
      "model train data score: acc       :  85.49 %\n",
      "model train data score: loss      :  37.01 %\n",
      "model test data score: acc        :  74.79 %\n",
      "model test data score: loss       :  65.27 %\n"
     ]
    }
   ],
   "source": [
    "score = model.evaluate(X_train, y_train_hot, verbose=0) \n",
    "print (\"model train data score: acc       : \",round(score[1]*100,2) , \"%\")\n",
    "print (\"model train data score: loss      : \",round(score[0]*100,2) , \"%\")\n",
    "\n",
    "score = model.evaluate(X_test, y_test_hot, verbose=0) \n",
    "print (\"model test data score: acc        : \",round(score[1]*100,2) , \"%\")\n",
    "print (\"model test data score: loss       : \",round(score[0]*100,2) , \"%\")\n"
   ]
  },
  {
   "cell_type": "code",
   "execution_count": 15,
   "metadata": {},
   "outputs": [
    {
     "data": {
      "image/png": "[encoded data removed]",
      "text/plain": [
       "<Figure size 432x288 with 1 Axes>"
      ]
     },
     "metadata": {
      "needs_background": "light"
     },
     "output_type": "display_data"
    }
   ],
   "source": [
    "# summarize history for accuracy\n",
    "plt.plot(history.history['acc'])\n",
    "plt.plot(history.history['val_acc'])\n",
    "plt.title('model accuracy')\n",
    "plt.ylabel('accuracy')\n",
    "plt.xlabel('epoch')\n",
    "plt.legend(['train', 'test'], loc='upper left')\n",
    "plt.show()"
   ]
  },
  {
   "cell_type": "code",
   "execution_count": 16,
   "metadata": {},
   "outputs": [
    {
     "data": {
      "image/png": "[encoded data removed]",
      "text/plain": [
       "<Figure size 432x288 with 1 Axes>"
      ]
     },
     "metadata": {
      "needs_background": "light"
     },
     "output_type": "display_data"
    }
   ],
   "source": [
    "# summarize history for loss\n",
    "plt.plot(history.history['loss'])\n",
    "plt.plot(history.history['val_loss'])\n",
    "plt.title('model loss')\n",
    "plt.ylabel('loss')\n",
    "plt.xlabel('epoch')\n",
    "plt.legend(['train', 'test'], loc='upper left')\n",
    "plt.show()"
   ]
  },
  {
   "cell_type": "markdown",
   "metadata": {},
   "source": [
    "# RNN+LSTM\n"
   ]
  },
  {
   "cell_type": "code",
   "execution_count": 17,
   "metadata": {},
   "outputs": [],
   "source": [
    "import numpy as np\n",
    "from keras.models import Sequential\n",
    "from keras.layers import Dense, Dropout, Activation, Flatten, LSTM\n",
    "from keras.layers import Convolution2D, MaxPooling2D\n",
    "from keras.optimizers import Adam\n",
    "from keras.regularizers import l2\n",
    "from keras.callbacks import EarlyStopping,ReduceLROnPlateau,ModelCheckpoint,TensorBoard,ProgbarLogger\n",
    "from keras.utils import np_utils\n",
    "from sklearn import metrics \n",
    "from sklearn.metrics import confusion_matrix, classification_report, accuracy_score\n",
    "from sklearn.preprocessing import LabelEncoder\n",
    "import itertools"
   ]
  },
  {
   "cell_type": "code",
   "execution_count": 18,
   "metadata": {},
   "outputs": [
    {
     "name": "stdout",
     "output_type": "stream",
     "text": [
      "Build LSTM RNN model ...\n"
     ]
    }
   ],
   "source": [
    "print('Build LSTM RNN model ...')\n",
    "model = Sequential()\n",
    "model.add(LSTM(units=64, dropout=0.1, recurrent_dropout=0.15, kernel_regularizer=l2(0.05), recurrent_regularizer=l2(0.08), bias_regularizer=l2(0.06), return_sequences=True))\n",
    "model.add(LSTM(units=32, dropout=0.6, recurrent_dropout=0.60, kernel_regularizer=l2(0.90), recurrent_regularizer=l2(0.90), bias_regularizer=l2(0.10), return_sequences=False))\n",
    "model.add(Dense(2, activation='softmax'))\n",
    "model.compile(loss='categorical_crossentropy', optimizer='Adamax', metrics=['acc','mse', 'mae', 'mape', 'cosine'])\n",
    "#model.summary()"
   ]
  },
  {
   "cell_type": "code",
   "execution_count": 19,
   "metadata": {},
   "outputs": [
    {
     "name": "stdout",
     "output_type": "stream",
     "text": [
      "training started..... please wait.\n",
      "\n",
      "Epoch 00001: loss improved from inf to 52.13565, saving model to ./best_model_trained.hdf5\n",
      "\n",
      "Epoch 00002: loss improved from 52.13565 to 10.72233, saving model to ./best_model_trained.hdf5\n",
      "\n",
      "Epoch 00003: loss improved from 10.72233 to 5.01292, saving model to ./best_model_trained.hdf5\n",
      "\n",
      "Epoch 00004: loss improved from 5.01292 to 3.44207, saving model to ./best_model_trained.hdf5\n",
      "\n",
      "Epoch 00005: loss improved from 3.44207 to 2.59875, saving model to ./best_model_trained.hdf5\n",
      "\n",
      "Epoch 00006: loss improved from 2.59875 to 2.01217, saving model to ./best_model_trained.hdf5\n",
      "\n",
      "Epoch 00007: loss improved from 2.01217 to 1.59556, saving model to ./best_model_trained.hdf5\n",
      "\n",
      "Epoch 00008: loss improved from 1.59556 to 1.29893, saving model to ./best_model_trained.hdf5\n",
      "\n",
      "Epoch 00009: loss improved from 1.29893 to 1.08908, saving model to ./best_model_trained.hdf5\n",
      "\n",
      "Epoch 00010: loss improved from 1.08908 to 0.95031, saving model to ./best_model_trained.hdf5\n",
      "\n",
      "Epoch 00011: loss improved from 0.95031 to 0.84055, saving model to ./best_model_trained.hdf5\n",
      "\n",
      "Epoch 00012: loss improved from 0.84055 to 0.78076, saving model to ./best_model_trained.hdf5\n",
      "\n",
      "Epoch 00013: loss improved from 0.78076 to 0.74259, saving model to ./best_model_trained.hdf5\n",
      "\n",
      "Epoch 00014: loss improved from 0.74259 to 0.72532, saving model to ./best_model_trained.hdf5\n",
      "\n",
      "Epoch 00015: loss improved from 0.72532 to 0.70738, saving model to ./best_model_trained.hdf5\n",
      "\n",
      "Epoch 00016: loss improved from 0.70738 to 0.68672, saving model to ./best_model_trained.hdf5\n",
      "\n",
      "Epoch 00017: loss improved from 0.68672 to 0.67993, saving model to ./best_model_trained.hdf5\n",
      "\n",
      "Epoch 00018: loss improved from 0.67993 to 0.66859, saving model to ./best_model_trained.hdf5\n",
      "\n",
      "Epoch 00019: loss did not improve from 0.66859\n",
      "\n",
      "Epoch 00020: loss did not improve from 0.66859\n",
      "\n",
      "Epoch 00021: loss improved from 0.66859 to 0.65811, saving model to ./best_model_trained.hdf5\n",
      "\n",
      "Epoch 00022: loss did not improve from 0.65811\n",
      "\n",
      "Epoch 00023: loss did not improve from 0.65811\n",
      "\n",
      "Epoch 00024: loss improved from 0.65811 to 0.65527, saving model to ./best_model_trained.hdf5\n",
      "\n",
      "Epoch 00025: loss improved from 0.65527 to 0.65504, saving model to ./best_model_trained.hdf5\n",
      "\n",
      "Epoch 00026: loss improved from 0.65504 to 0.64901, saving model to ./best_model_trained.hdf5\n",
      "\n",
      "Epoch 00027: loss improved from 0.64901 to 0.64339, saving model to ./best_model_trained.hdf5\n",
      "\n",
      "Epoch 00028: loss did not improve from 0.64339\n",
      "\n",
      "Epoch 00029: loss did not improve from 0.64339\n",
      "\n",
      "Epoch 00030: loss improved from 0.64339 to 0.62881, saving model to ./best_model_trained.hdf5\n",
      "\n",
      "Epoch 00031: loss did not improve from 0.62881\n",
      "\n",
      "Epoch 00032: loss improved from 0.62881 to 0.62752, saving model to ./best_model_trained.hdf5\n",
      "\n",
      "Epoch 00033: loss did not improve from 0.62752\n",
      "\n",
      "Epoch 00034: loss did not improve from 0.62752\n",
      "\n",
      "Epoch 00035: loss did not improve from 0.62752\n",
      "\n",
      "Epoch 00036: loss improved from 0.62752 to 0.62572, saving model to ./best_model_trained.hdf5\n",
      "\n",
      "Epoch 00037: loss improved from 0.62572 to 0.62532, saving model to ./best_model_trained.hdf5\n",
      "\n",
      "Epoch 00038: loss improved from 0.62532 to 0.61102, saving model to ./best_model_trained.hdf5\n",
      "\n",
      "Epoch 00039: loss did not improve from 0.61102\n",
      "\n",
      "Epoch 00040: loss did not improve from 0.61102\n",
      "\n",
      "Epoch 00041: loss did not improve from 0.61102\n",
      "\n",
      "Epoch 00042: loss did not improve from 0.61102\n",
      "\n",
      "Epoch 00043: loss did not improve from 0.61102\n",
      "\n",
      "Epoch 00044: loss did not improve from 0.61102\n",
      "\n",
      "Epoch 00045: loss did not improve from 0.61102\n",
      "\n",
      "Epoch 00046: loss did not improve from 0.61102\n",
      "\n",
      "Epoch 00047: loss did not improve from 0.61102\n",
      "\n",
      "Epoch 00048: loss did not improve from 0.61102\n",
      "\n",
      "Epoch 00049: loss improved from 0.61102 to 0.59898, saving model to ./best_model_trained.hdf5\n",
      "\n",
      "Epoch 00050: loss did not improve from 0.59898\n",
      "_________________________________________________________________\n",
      "Layer (type)                 Output Shape              Param #   \n",
      "=================================================================\n",
      "lstm_1 (LSTM)                (None, 28, 64)            17408     \n",
      "_________________________________________________________________\n",
      "lstm_2 (LSTM)                (None, 32)                12416     \n",
      "_________________________________________________________________\n",
      "dense_2 (Dense)              (None, 2)                 66        \n",
      "=================================================================\n",
      "Total params: 29,890\n",
      "Trainable params: 29,890\n",
      "Non-trainable params: 0\n",
      "_________________________________________________________________\n",
      "training finised!\n",
      "Wall time: 2min 44s\n"
     ]
    }
   ],
   "source": [
    "%%time\n",
    "# saved model checkpoint file\n",
    "best_model_file=\"./best_model_trained.hdf5\"\n",
    "#train_model_file=file_path+\"/checkpoints/weights.best_{epoch:02d}-{loss:.2f}.hdf5\"\n",
    "MAX_PATIENT=12\n",
    "MAX_EPOCHS=50\n",
    "MAX_BATCH=7\n",
    "\n",
    "# callbacks\n",
    "# removed EarlyStopping(patience=MAX_PATIENT)\n",
    "callback=[ReduceLROnPlateau(patience=MAX_PATIENT, verbose=1),\n",
    "          ModelCheckpoint(filepath=best_model_file, monitor='loss', verbose=1, save_best_only=True)]\n",
    "\n",
    "print (\"training started..... please wait.\")\n",
    "# training\n",
    "history=model.fit(X_train, y_train_hot, \n",
    "                  batch_size=MAX_BATCH, \n",
    "                  epochs=MAX_EPOCHS,\n",
    "                  verbose=0,\n",
    "                  validation_data=(X_test, y_test_hot),\n",
    "                  callbacks=callback) \n",
    "model.summary()\n",
    "print (\"training finised!\")\n"
   ]
  },
  {
   "cell_type": "code",
   "execution_count": 20,
   "metadata": {},
   "outputs": [
    {
     "name": "stdout",
     "output_type": "stream",
     "text": [
      "model train data score       :  79.24 %\n",
      "model train data loss        :  0.57 %\n",
      "model test data score        :  70.59 %\n",
      "model train data loss        :  0.67 %\n"
     ]
    }
   ],
   "source": [
    "score = model.evaluate(X_train, y_train_hot, verbose=0) \n",
    "print (\"model train data score       : \",round(score[1]*100,2) , \"%\")\n",
    "print (\"model train data loss        : \",round(score[0],2) , \"%\")\n",
    "\n",
    "score = model.evaluate(X_test, y_test_hot, verbose=0) \n",
    "print (\"model test data score        : \",round(score[1]*100,2) , \"%\")\n",
    "print (\"model train data loss        : \",round(score[0],2) , \"%\")"
   ]
  },
  {
   "cell_type": "code",
   "execution_count": 21,
   "metadata": {},
   "outputs": [
    {
     "data": {
      "image/png": "[encoded data removed]",
      "text/plain": [
       "<Figure size 432x288 with 1 Axes>"
      ]
     },
     "metadata": {
      "needs_background": "light"
     },
     "output_type": "display_data"
    }
   ],
   "source": [
    "# summarize history for accuracy\n",
    "plt.plot(history.history['acc'])\n",
    "plt.plot(history.history['val_acc'])\n",
    "plt.title('model accuracy')\n",
    "plt.ylabel('accuracy')\n",
    "plt.xlabel('epoch')\n",
    "plt.legend(['train', 'test'], loc='upper left')\n",
    "plt.show()"
   ]
  },
  {
   "cell_type": "code",
   "execution_count": 22,
   "metadata": {},
   "outputs": [
    {
     "data": {
      "image/png": "[encoded data removed]",
      "text/plain": [
       "<Figure size 432x288 with 1 Axes>"
      ]
     },
     "metadata": {
      "needs_background": "light"
     },
     "output_type": "display_data"
    }
   ],
   "source": [
    "# summarize history for loss\n",
    "plt.plot(history.history['loss'])\n",
    "plt.plot(history.history['val_loss'])\n",
    "plt.title('model loss')\n",
    "plt.ylabel('loss')\n",
    "plt.xlabel('epoch')\n",
    "plt.legend(['train', 'test'], loc='upper left')\n",
    "plt.show()"
   ]
  }
 ],
 "metadata": {
  "kernelspec": {
   "display_name": "Python 3",
   "language": "python",
   "name": "python3"
  },
  "language_info": {
   "codemirror_mode": {
    "name": "ipython",
    "version": 3
   },
   "file_extension": ".py",
   "mimetype": "text/x-python",
   "name": "python",
   "nbconvert_exporter": "python",
   "pygments_lexer": "ipython3",
   "version": "3.6.4"
  }
 },
 "nbformat": 4,
 "nbformat_minor": 2
}
