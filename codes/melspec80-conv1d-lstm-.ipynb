{
 "cells": [
  {
   "cell_type": "code",
   "execution_count": 1,
   "metadata": {},
   "outputs": [
    {
     "name": "stderr",
     "output_type": "stream",
     "text": [
      "C:\\Users\\lenovo_pc\\Anaconda3\\lib\\site-packages\\h5py\\__init__.py:36: FutureWarning: Conversion of the second argument of issubdtype from `float` to `np.floating` is deprecated. In future, it will be treated as `np.float64 == np.dtype(float).type`.\n",
      "  from ._conv import register_converters as _register_converters\n",
      "Using TensorFlow backend.\n"
     ]
    }
   ],
   "source": [
    "import keras\n",
    "import numpy as np\n",
    "import matplotlib.pyplot as plt\n",
    "import os\n",
    "import pandas as pd\n",
    "import librosa\n",
    "from keras.utils import to_categorical"
   ]
  },
  {
   "cell_type": "code",
   "execution_count": 2,
   "metadata": {},
   "outputs": [],
   "source": [
    "feature_dim_1 = 80"
   ]
  },
  {
   "cell_type": "code",
   "execution_count": 3,
   "metadata": {},
   "outputs": [],
   "source": [
    "def get_labels(path):\n",
    "    labels = os.listdir(path)\n",
    "    label_indices = np.arange(0, len(labels))    \n",
    "    return labels, label_indices, to_categorical(label_indices)\n",
    "\n",
    "\n",
    "\n"
   ]
  },
  {
   "cell_type": "code",
   "execution_count": 4,
   "metadata": {},
   "outputs": [],
   "source": [
    "from sklearn.model_selection import train_test_split\n",
    "\n",
    "def get_train_test(split_ratio=0.8, random_state=42):\n",
    "    # Get available labels\n",
    "    labels, indices, _ = get_labels(DATA_PATH)\n",
    "\n",
    "    # Getting first arrays\n",
    "    X = np.load(labels[0] + '.npy')\n",
    "    y = np.zeros(X.shape[0])\n",
    "\n",
    "    # Append all of the dataset into one single array, same goes for y\n",
    "    for i, label in enumerate(labels[1:]):\n",
    "        x = np.load(label + '.npy')\n",
    "        X = np.vstack((X, x))\n",
    "        y = np.append(y, np.full(x.shape[0], fill_value= (i + 1)))\n",
    "\n",
    "    assert X.shape[0] == len(y)\n",
    "\n",
    "    return train_test_split(X, y, test_size= (1 - split_ratio), random_state=random_state, shuffle=True)\n",
    "\n",
    "\n",
    "\n",
    "def save_data_to_array(path, max_pad_len):\n",
    "    labels, _, _ = get_labels(path)\n",
    "\n",
    "    for label in labels:\n",
    "        # Init mfcc vectors\n",
    "        mfcc_vectors = []\n",
    "\n",
    "        wavfiles = [path + '/' + label + '/' + wavfile for wavfile in os.listdir(path + '/' + label)]\n",
    "        #wavfiles = librosa.util.find_files(db)\n",
    "        #print(wavfiles)\n",
    "        x=0\n",
    "        for wavfile in wavfiles:\n",
    "            name=label+'_'+str(x)\n",
    "            mfcc = wav2mfcc(wavfile, name, max_pad_len=max_pad_len)\n",
    "            mfcc_vectors.append(mfcc)\n",
    "            x=x+1\n",
    "        np.save(label + '.npy', mfcc_vectors)\n",
    "        \n",
    "        \n",
    "        \n",
    "\n",
    "def wav2mfcc(file_path, name, max_pad_len=30):\n",
    "    wave, sr = librosa.load(file_path)\n",
    "    mfcc = librosa.feature.melspectrogram(wave, sr=sr, n_mels = feature_dim_1)\n",
    "    pad_width = max_pad_len - mfcc.shape[1]\n",
    "    mfcc = np.pad(mfcc, pad_width=((0, 0), (0, pad_width)), mode='constant')\n",
    "    return mfcc"
   ]
  },
  {
   "cell_type": "code",
   "execution_count": 5,
   "metadata": {},
   "outputs": [],
   "source": [
    "DATA_PATH = r'C:\\Users\\lenovo_pc\\Desktop\\CNN_SR\\Dataset-merged'\n",
    "\n",
    "\n",
    "#db = r'C:\\Users\\lenovo_pc\\Desktop\\CNN_SR\\SampleData'\n",
    "\n",
    "\n",
    "# Second dimension of the feature is dim2\n",
    "feature_dim_2 = 28\n",
    "\n",
    "# Save data to array file first\n",
    "save_data_to_array(DATA_PATH,feature_dim_2)\n",
    "\n",
    "# # Loading train set and test set\n",
    "X_train, X_test, y_train, y_test = get_train_test()\n",
    "\n",
    "# # Feature dimension\n",
    "verbose = 1\n",
    "num_classes = 2\n",
    "\n",
    "\n",
    "y_train_hot = to_categorical(y_train)\n",
    "y_test_hot = to_categorical(y_test)"
   ]
  },
  {
   "cell_type": "code",
   "execution_count": 6,
   "metadata": {},
   "outputs": [
    {
     "name": "stdout",
     "output_type": "stream",
     "text": [
      "(472, 80, 28)\n",
      "(119, 80, 28)\n"
     ]
    }
   ],
   "source": [
    "\n",
    "#X_train = np.array(x_train)\n",
    "print(X_train.shape)\n",
    "print(X_test.shape)\n"
   ]
  },
  {
   "cell_type": "code",
   "execution_count": 7,
   "metadata": {},
   "outputs": [],
   "source": [
    "from keras.models import Sequential\n",
    "from keras.layers import Dense, Dropout\n",
    "from keras.layers import Embedding\n",
    "from keras.regularizers import l2\n",
    "from keras import regularizers\n",
    "from keras.layers import Conv1D, GlobalAveragePooling1D, MaxPooling1D"
   ]
  },
  {
   "cell_type": "code",
   "execution_count": 8,
   "metadata": {},
   "outputs": [],
   "source": [
    "\n",
    "model = Sequential()\n",
    "model.add(Conv1D(64, 3, activation='relu', kernel_regularizer=l2(0.02), input_shape=(feature_dim_1,feature_dim_2) ,data_format='channels_first'))\n",
    "model.add(Conv1D(64, 3, activation='relu', kernel_regularizer=l2(0.05), ))\n",
    "model.add(MaxPooling1D(3))\n",
    "#model.add(Conv1D(128, 3, activation='relu', ))\n",
    "#model.add(Conv1D(128, 3, activation='relu', ))\n",
    "model.add(GlobalAveragePooling1D())\n",
    "model.add(Dropout(0.5))\n",
    "model.add(Dense(2, activation='sigmoid'))\n"
   ]
  },
  {
   "cell_type": "code",
   "execution_count": 9,
   "metadata": {},
   "outputs": [],
   "source": [
    "model.compile(loss='binary_crossentropy',\n",
    "              optimizer='rmsprop',\n",
    "              metrics=['accuracy'])\n",
    "\n"
   ]
  },
  {
   "cell_type": "code",
   "execution_count": 10,
   "metadata": {},
   "outputs": [
    {
     "name": "stdout",
     "output_type": "stream",
     "text": [
      "Train on 472 samples, validate on 119 samples\n",
      "Epoch 1/50\n",
      "472/472 [==============================] - 9s 18ms/step - loss: 6.7011 - acc: 0.5456 - val_loss: 5.7061 - val_acc: 0.6008\n",
      "Epoch 2/50\n",
      "472/472 [==============================] - 8s 17ms/step - loss: 5.8816 - acc: 0.5858 - val_loss: 5.1705 - val_acc: 0.6345\n",
      "Epoch 3/50\n",
      "472/472 [==============================] - 8s 16ms/step - loss: 5.5261 - acc: 0.6250 - val_loss: 4.7865 - val_acc: 0.6639\n",
      "Epoch 4/50\n",
      "472/472 [==============================] - 7s 16ms/step - loss: 5.3222 - acc: 0.6165 - val_loss: 4.0326 - val_acc: 0.7437\n",
      "Epoch 5/50\n",
      "472/472 [==============================] - 7s 16ms/step - loss: 5.0441 - acc: 0.6229 - val_loss: 3.6998 - val_acc: 0.7605\n",
      "Epoch 6/50\n",
      "472/472 [==============================] - 7s 14ms/step - loss: 4.7199 - acc: 0.6282 - val_loss: 3.7409 - val_acc: 0.7227\n",
      "Epoch 7/50\n",
      "472/472 [==============================] - 8s 17ms/step - loss: 4.4835 - acc: 0.6600 - val_loss: 3.3419 - val_acc: 0.7773\n",
      "Epoch 8/50\n",
      "472/472 [==============================] - 7s 16ms/step - loss: 4.3063 - acc: 0.6663 - val_loss: 3.0661 - val_acc: 0.7983\n",
      "Epoch 9/50\n",
      "472/472 [==============================] - 8s 16ms/step - loss: 3.9880 - acc: 0.6631 - val_loss: 2.9317 - val_acc: 0.7899\n",
      "Epoch 10/50\n",
      "472/472 [==============================] - 8s 17ms/step - loss: 3.8104 - acc: 0.6917 - val_loss: 2.8121 - val_acc: 0.7815\n",
      "Epoch 11/50\n",
      "472/472 [==============================] - 8s 17ms/step - loss: 3.5583 - acc: 0.6801 - val_loss: 2.7045 - val_acc: 0.7731\n",
      "Epoch 12/50\n",
      "472/472 [==============================] - 8s 17ms/step - loss: 3.4012 - acc: 0.6970 - val_loss: 2.5210 - val_acc: 0.7815\n",
      "Epoch 13/50\n",
      "472/472 [==============================] - 8s 16ms/step - loss: 2.9613 - acc: 0.7235 - val_loss: 2.3115 - val_acc: 0.7899\n",
      "Epoch 14/50\n",
      "472/472 [==============================] - 9s 18ms/step - loss: 3.0075 - acc: 0.7172 - val_loss: 2.1788 - val_acc: 0.7899\n",
      "Epoch 15/50\n",
      "472/472 [==============================] - 8s 16ms/step - loss: 2.7254 - acc: 0.7500 - val_loss: 2.0485 - val_acc: 0.8235\n",
      "Epoch 16/50\n",
      "472/472 [==============================] - 9s 18ms/step - loss: 2.6001 - acc: 0.7373 - val_loss: 1.9737 - val_acc: 0.8193\n",
      "Epoch 17/50\n",
      "472/472 [==============================] - 8s 16ms/step - loss: 2.2576 - acc: 0.7828 - val_loss: 1.8845 - val_acc: 0.8277\n",
      "Epoch 18/50\n",
      "472/472 [==============================] - 7s 15ms/step - loss: 2.1570 - acc: 0.7669 - val_loss: 1.7861 - val_acc: 0.8277\n",
      "Epoch 19/50\n",
      "472/472 [==============================] - 8s 16ms/step - loss: 2.0197 - acc: 0.7839 - val_loss: 1.7168 - val_acc: 0.8277\n",
      "Epoch 20/50\n",
      "472/472 [==============================] - 7s 16ms/step - loss: 1.9592 - acc: 0.7871 - val_loss: 1.6487 - val_acc: 0.8235\n",
      "Epoch 21/50\n",
      "472/472 [==============================] - 7s 16ms/step - loss: 1.7367 - acc: 0.8114 - val_loss: 1.5504 - val_acc: 0.8445\n",
      "Epoch 22/50\n",
      "472/472 [==============================] - 8s 16ms/step - loss: 1.6914 - acc: 0.8167 - val_loss: 1.5046 - val_acc: 0.8361\n",
      "Epoch 23/50\n",
      "472/472 [==============================] - 8s 16ms/step - loss: 1.5494 - acc: 0.8263 - val_loss: 1.4284 - val_acc: 0.8487\n",
      "Epoch 24/50\n",
      "472/472 [==============================] - 7s 15ms/step - loss: 1.4494 - acc: 0.8432 - val_loss: 1.3648 - val_acc: 0.8445\n",
      "Epoch 25/50\n",
      "472/472 [==============================] - 8s 17ms/step - loss: 1.4106 - acc: 0.8422 - val_loss: 1.2912 - val_acc: 0.8655\n",
      "Epoch 26/50\n",
      "472/472 [==============================] - 7s 15ms/step - loss: 1.2984 - acc: 0.8496 - val_loss: 1.2290 - val_acc: 0.8697\n",
      "Epoch 27/50\n",
      "472/472 [==============================] - 8s 17ms/step - loss: 1.2409 - acc: 0.8602 - val_loss: 1.1709 - val_acc: 0.8782\n",
      "Epoch 28/50\n",
      "472/472 [==============================] - 7s 15ms/step - loss: 1.1748 - acc: 0.8750 - val_loss: 1.1197 - val_acc: 0.8866\n",
      "Epoch 29/50\n",
      "472/472 [==============================] - 9s 19ms/step - loss: 1.0899 - acc: 0.8761 - val_loss: 1.0752 - val_acc: 0.8824\n",
      "Epoch 30/50\n",
      "472/472 [==============================] - 8s 16ms/step - loss: 1.0333 - acc: 0.8782 - val_loss: 1.0229 - val_acc: 0.8866\n",
      "Epoch 31/50\n",
      "472/472 [==============================] - 7s 15ms/step - loss: 1.0036 - acc: 0.8750 - val_loss: 0.9848 - val_acc: 0.8866\n",
      "Epoch 32/50\n",
      "472/472 [==============================] - 7s 15ms/step - loss: 0.9140 - acc: 0.8867 - val_loss: 0.9294 - val_acc: 0.8782\n",
      "Epoch 33/50\n",
      "472/472 [==============================] - 8s 17ms/step - loss: 0.8788 - acc: 0.8835 - val_loss: 0.8911 - val_acc: 0.8739\n",
      "Epoch 34/50\n",
      "472/472 [==============================] - 7s 15ms/step - loss: 0.8432 - acc: 0.8867 - val_loss: 0.8292 - val_acc: 0.8908\n",
      "Epoch 35/50\n",
      "472/472 [==============================] - 8s 16ms/step - loss: 0.8042 - acc: 0.9015 - val_loss: 0.8018 - val_acc: 0.8866\n",
      "Epoch 36/50\n",
      "472/472 [==============================] - 8s 17ms/step - loss: 0.7243 - acc: 0.9121 - val_loss: 0.7533 - val_acc: 0.8950\n",
      "Epoch 37/50\n",
      "472/472 [==============================] - 9s 18ms/step - loss: 0.7425 - acc: 0.8898 - val_loss: 0.7320 - val_acc: 0.8908\n",
      "Epoch 38/50\n",
      "472/472 [==============================] - 9s 19ms/step - loss: 0.6697 - acc: 0.9025 - val_loss: 0.6982 - val_acc: 0.8866\n",
      "Epoch 39/50\n",
      "472/472 [==============================] - 8s 17ms/step - loss: 0.6485 - acc: 0.9004 - val_loss: 0.7050 - val_acc: 0.8697\n",
      "Epoch 40/50\n",
      "472/472 [==============================] - 8s 17ms/step - loss: 0.6064 - acc: 0.9089 - val_loss: 0.6600 - val_acc: 0.8908\n",
      "Epoch 41/50\n",
      "472/472 [==============================] - 8s 16ms/step - loss: 0.5716 - acc: 0.9089 - val_loss: 0.6374 - val_acc: 0.8824\n",
      "Epoch 42/50\n",
      "472/472 [==============================] - 9s 19ms/step - loss: 0.5520 - acc: 0.9057 - val_loss: 0.5844 - val_acc: 0.9034\n",
      "Epoch 43/50\n",
      "472/472 [==============================] - 10s 20ms/step - loss: 0.5297 - acc: 0.9089 - val_loss: 0.5709 - val_acc: 0.8950\n",
      "Epoch 44/50\n",
      "472/472 [==============================] - 9s 18ms/step - loss: 0.5021 - acc: 0.9100 - val_loss: 0.5769 - val_acc: 0.8866\n",
      "Epoch 45/50\n",
      "472/472 [==============================] - 8s 17ms/step - loss: 0.4878 - acc: 0.9100 - val_loss: 0.5485 - val_acc: 0.8866\n",
      "Epoch 46/50\n",
      "472/472 [==============================] - 10s 21ms/step - loss: 0.4567 - acc: 0.9142 - val_loss: 0.5184 - val_acc: 0.8908\n",
      "Epoch 47/50\n",
      "472/472 [==============================] - 9s 18ms/step - loss: 0.4362 - acc: 0.9121 - val_loss: 0.4980 - val_acc: 0.8992\n",
      "Epoch 48/50\n",
      "472/472 [==============================] - 9s 18ms/step - loss: 0.4220 - acc: 0.9237 - val_loss: 0.5148 - val_acc: 0.8908\n",
      "Epoch 49/50\n",
      "472/472 [==============================] - 8s 17ms/step - loss: 0.4168 - acc: 0.9078 - val_loss: 0.4779 - val_acc: 0.8908\n",
      "Epoch 50/50\n",
      "472/472 [==============================] - 9s 18ms/step - loss: 0.4018 - acc: 0.9153 - val_loss: 0.4365 - val_acc: 0.9076\n"
     ]
    }
   ],
   "source": [
    "#model.fit(x_train, y_train, batch_size=7, epochs=10)\n",
    "\n",
    "history = model.fit(X_train, y_train_hot, batch_size=150, epochs=50, verbose=verbose, validation_data=(X_test, y_test_hot))"
   ]
  },
  {
   "cell_type": "code",
   "execution_count": 11,
   "metadata": {},
   "outputs": [
    {
     "name": "stdout",
     "output_type": "stream",
     "text": [
      "model train data score: acc       :  93.01 %\n",
      "model train data score: loss      :  36.18 %\n",
      "model test data score: acc        :  90.76 %\n",
      "model test data score: loss       :  43.65 %\n"
     ]
    }
   ],
   "source": [
    "score = model.evaluate(X_train, y_train_hot, verbose=0) \n",
    "print (\"model train data score: acc       : \",round(score[1]*100,2) , \"%\")\n",
    "print (\"model train data score: loss      : \",round(score[0]*100,2) , \"%\")\n",
    "\n",
    "score = model.evaluate(X_test, y_test_hot, verbose=0) \n",
    "print (\"model test data score: acc        : \",round(score[1]*100,2) , \"%\")\n",
    "print (\"model test data score: loss       : \",round(score[0]*100,2) , \"%\")\n"
   ]
  },
  {
   "cell_type": "code",
   "execution_count": 12,
   "metadata": {
    "scrolled": true
   },
   "outputs": [
    {
     "data": {
      "image/png": "[encoded data removed]",
      "text/plain": [
       "<Figure size 432x288 with 1 Axes>"
      ]
     },
     "metadata": {
      "needs_background": "light"
     },
     "output_type": "display_data"
    }
   ],
   "source": [
    "# summarize history for accuracy\n",
    "plt.plot(history.history['acc'])\n",
    "plt.plot(history.history['val_acc'])\n",
    "plt.title('model accuracy')\n",
    "plt.ylabel('accuracy')\n",
    "plt.xlabel('epoch')\n",
    "plt.legend(['train', 'test'], loc='upper left')\n",
    "plt.show()\n"
   ]
  },
  {
   "cell_type": "code",
   "execution_count": 13,
   "metadata": {},
   "outputs": [
    {
     "data": {
      "image/png": "[encoded data removed]",
      "text/plain": [
       "<Figure size 432x288 with 1 Axes>"
      ]
     },
     "metadata": {
      "needs_background": "light"
     },
     "output_type": "display_data"
    }
   ],
   "source": [
    "# summarize history for loss\n",
    "plt.plot(history.history['loss'])\n",
    "plt.plot(history.history['val_loss'])\n",
    "plt.title('model loss')\n",
    "plt.ylabel('loss')\n",
    "plt.xlabel('epoch')\n",
    "plt.legend(['train', 'test'], loc='upper left')\n",
    "plt.show()"
   ]
  },
  {
   "cell_type": "code",
   "execution_count": 14,
   "metadata": {},
   "outputs": [],
   "source": [
    "import numpy as np\n",
    "from keras.models import Sequential\n",
    "from keras.layers import Dense, Dropout, Activation, Flatten, LSTM\n",
    "from keras.layers import Convolution2D, MaxPooling2D\n",
    "from keras.optimizers import Adam\n",
    "from keras.regularizers import l2\n",
    "from keras.callbacks import EarlyStopping,ReduceLROnPlateau,ModelCheckpoint,TensorBoard,ProgbarLogger\n",
    "from keras.utils import np_utils\n",
    "from sklearn import metrics \n",
    "from sklearn.metrics import confusion_matrix, classification_report, accuracy_score\n",
    "from sklearn.preprocessing import LabelEncoder\n",
    "import itertools"
   ]
  },
  {
   "cell_type": "code",
   "execution_count": 15,
   "metadata": {},
   "outputs": [
    {
     "name": "stdout",
     "output_type": "stream",
     "text": [
      "Build LSTM RNN model ...\n",
      "_________________________________________________________________\n",
      "Layer (type)                 Output Shape              Param #   \n",
      "=================================================================\n",
      "lstm_1 (LSTM)                (None, 80, 64)            23808     \n",
      "_________________________________________________________________\n",
      "lstm_2 (LSTM)                (None, 32)                12416     \n",
      "_________________________________________________________________\n",
      "dense_2 (Dense)              (None, 2)                 66        \n",
      "=================================================================\n",
      "Total params: 36,290\n",
      "Trainable params: 36,290\n",
      "Non-trainable params: 0\n",
      "_________________________________________________________________\n"
     ]
    }
   ],
   "source": [
    "print('Build LSTM RNN model ...')\n",
    "model = Sequential()\n",
    "model.add(LSTM(units=64, dropout=0.05, recurrent_dropout=0.20, return_sequences=True,input_shape = (feature_dim_1,feature_dim_2)))\n",
    "model.add(LSTM(units=32, dropout=0.05, recurrent_dropout=0.20, return_sequences=False))\n",
    "model.add(Dense(2, activation='softmax'))\n",
    "model.compile(loss='categorical_crossentropy', optimizer='Adamax', metrics=['acc','mse', 'mae', 'mape', 'cosine'])\n",
    "model.summary()"
   ]
  },
  {
   "cell_type": "code",
   "execution_count": 16,
   "metadata": {},
   "outputs": [
    {
     "name": "stdout",
     "output_type": "stream",
     "text": [
      "training started..... please wait.\n",
      "\n",
      "Epoch 00001: loss improved from inf to 0.64239, saving model to ./best_model_trained.hdf5\n",
      "\n",
      "Epoch 00002: loss improved from 0.64239 to 0.52219, saving model to ./best_model_trained.hdf5\n",
      "\n",
      "Epoch 00003: loss improved from 0.52219 to 0.46864, saving model to ./best_model_trained.hdf5\n",
      "\n",
      "Epoch 00004: loss improved from 0.46864 to 0.46000, saving model to ./best_model_trained.hdf5\n",
      "\n",
      "Epoch 00005: loss improved from 0.46000 to 0.41081, saving model to ./best_model_trained.hdf5\n",
      "\n",
      "Epoch 00006: loss improved from 0.41081 to 0.39328, saving model to ./best_model_trained.hdf5\n",
      "\n",
      "Epoch 00007: loss improved from 0.39328 to 0.34422, saving model to ./best_model_trained.hdf5\n",
      "\n",
      "Epoch 00008: loss did not improve from 0.34422\n",
      "\n",
      "Epoch 00009: loss improved from 0.34422 to 0.32631, saving model to ./best_model_trained.hdf5\n",
      "\n",
      "Epoch 00010: loss did not improve from 0.32631\n",
      "\n",
      "Epoch 00011: loss did not improve from 0.32631\n",
      "\n",
      "Epoch 00012: loss improved from 0.32631 to 0.29550, saving model to ./best_model_trained.hdf5\n",
      "\n",
      "Epoch 00013: loss did not improve from 0.29550\n",
      "\n",
      "Epoch 00014: loss improved from 0.29550 to 0.27401, saving model to ./best_model_trained.hdf5\n",
      "\n",
      "Epoch 00015: loss did not improve from 0.27401\n",
      "\n",
      "Epoch 00016: loss improved from 0.27401 to 0.27255, saving model to ./best_model_trained.hdf5\n",
      "\n",
      "Epoch 00017: loss improved from 0.27255 to 0.26285, saving model to ./best_model_trained.hdf5\n",
      "\n",
      "Epoch 00018: loss improved from 0.26285 to 0.25178, saving model to ./best_model_trained.hdf5\n",
      "\n",
      "Epoch 00019: loss improved from 0.25178 to 0.24991, saving model to ./best_model_trained.hdf5\n",
      "\n",
      "Epoch 00020: loss improved from 0.24991 to 0.21346, saving model to ./best_model_trained.hdf5\n",
      "\n",
      "Epoch 00021: loss did not improve from 0.21346\n",
      "\n",
      "Epoch 00022: loss did not improve from 0.21346\n",
      "\n",
      "Epoch 00023: loss did not improve from 0.21346\n",
      "\n",
      "Epoch 00024: loss did not improve from 0.21346\n",
      "\n",
      "Epoch 00025: loss did not improve from 0.21346\n",
      "\n",
      "Epoch 00026: loss did not improve from 0.21346\n",
      "\n",
      "Epoch 00027: loss improved from 0.21346 to 0.21117, saving model to ./best_model_trained.hdf5\n",
      "\n",
      "Epoch 00028: loss did not improve from 0.21117\n",
      "\n",
      "Epoch 00029: loss improved from 0.21117 to 0.20252, saving model to ./best_model_trained.hdf5\n",
      "\n",
      "Epoch 00030: loss did not improve from 0.20252\n",
      "\n",
      "Epoch 00031: loss did not improve from 0.20252\n",
      "\n",
      "Epoch 00032: loss did not improve from 0.20252\n",
      "\n",
      "Epoch 00033: loss improved from 0.20252 to 0.19991, saving model to ./best_model_trained.hdf5\n",
      "\n",
      "Epoch 00034: loss improved from 0.19991 to 0.18244, saving model to ./best_model_trained.hdf5\n",
      "\n",
      "Epoch 00035: loss did not improve from 0.18244\n",
      "\n",
      "Epoch 00036: loss did not improve from 0.18244\n",
      "\n",
      "Epoch 00037: loss improved from 0.18244 to 0.14809, saving model to ./best_model_trained.hdf5\n",
      "\n",
      "Epoch 00038: loss did not improve from 0.14809\n",
      "\n",
      "Epoch 00039: loss did not improve from 0.14809\n",
      "\n",
      "Epoch 00040: loss did not improve from 0.14809\n",
      "\n",
      "Epoch 00041: loss did not improve from 0.14809\n",
      "\n",
      "Epoch 00042: loss improved from 0.14809 to 0.14063, saving model to ./best_model_trained.hdf5\n",
      "\n",
      "Epoch 00043: loss did not improve from 0.14063\n",
      "\n",
      "Epoch 00044: loss did not improve from 0.14063\n",
      "\n",
      "Epoch 00045: loss improved from 0.14063 to 0.12657, saving model to ./best_model_trained.hdf5\n",
      "\n",
      "Epoch 00046: loss did not improve from 0.12657\n",
      "\n",
      "Epoch 00047: loss did not improve from 0.12657\n",
      "\n",
      "Epoch 00048: loss did not improve from 0.12657\n",
      "\n",
      "Epoch 00049: loss did not improve from 0.12657\n",
      "\n",
      "Epoch 00050: loss did not improve from 0.12657\n",
      "_________________________________________________________________\n",
      "Layer (type)                 Output Shape              Param #   \n",
      "=================================================================\n",
      "lstm_1 (LSTM)                (None, 80, 64)            23808     \n",
      "_________________________________________________________________\n",
      "lstm_2 (LSTM)                (None, 32)                12416     \n",
      "_________________________________________________________________\n",
      "dense_2 (Dense)              (None, 2)                 66        \n",
      "=================================================================\n",
      "Total params: 36,290\n",
      "Trainable params: 36,290\n",
      "Non-trainable params: 0\n",
      "_________________________________________________________________\n",
      "training finised!\n",
      "Wall time: 7min 6s\n"
     ]
    }
   ],
   "source": [
    "%%time\n",
    "# saved model checkpoint file\n",
    "best_model_file=\"./best_model_trained.hdf5\"\n",
    "#train_model_file=file_path+\"/checkpoints/weights.best_{epoch:02d}-{loss:.2f}.hdf5\"\n",
    "MAX_PATIENT=12\n",
    "MAX_EPOCHS=50\n",
    "MAX_BATCH=7\n",
    "\n",
    "# callbacks\n",
    "# removed EarlyStopping(patience=MAX_PATIENT)\n",
    "callback=[ReduceLROnPlateau(patience=MAX_PATIENT, verbose=1),\n",
    "          ModelCheckpoint(filepath=best_model_file, monitor='loss', verbose=1, save_best_only=True)]\n",
    "\n",
    "print (\"training started..... please wait.\")\n",
    "# training\n",
    "history=model.fit(X_train, y_train_hot, \n",
    "                  batch_size=MAX_BATCH, \n",
    "                  epochs=MAX_EPOCHS,\n",
    "                  verbose=0,\n",
    "                  validation_data=(X_test, y_test_hot),\n",
    "                  callbacks=callback) \n",
    "model.summary()\n",
    "print (\"training finised!\")\n",
    "\n",
    "\n"
   ]
  },
  {
   "cell_type": "code",
   "execution_count": 17,
   "metadata": {},
   "outputs": [
    {
     "name": "stdout",
     "output_type": "stream",
     "text": [
      "472/472 [==============================] - 0s 988us/step\n",
      "model train data score       :  98.31 %\n",
      "model train data score: loss :  7.85 %\n",
      "[0.07847797491792906, 0.983050846447379, 0.01629551739226711, 0.043138251718828236, 21569127.72881356, -0.9831676271002171]\n",
      "119/119 [==============================] - 0s 1ms/step\n",
      "model test data score        :  96.64 %\n",
      "model test data score: loss  :  14.21 %\n",
      "[0.14211908734145284, 0.9663865491121757, 0.03232447583885754, 0.05481427369498405, 27407140.773109242, -0.9670516763414655]\n"
     ]
    }
   ],
   "source": [
    "score = model.evaluate(X_train, y_train_hot, verbose=1) \n",
    "print (\"model train data score       : \",round(score[1]*100,2) , \"%\")\n",
    "print (\"model train data score: loss : \",round(score[0]*100,2) , \"%\")\n",
    "print(score)\n",
    "score = model.evaluate(X_test, y_test_hot, verbose=1) \n",
    "print (\"model test data score        : \",round(score[1]*100,2) , \"%\")\n",
    "print (\"model test data score: loss  : \",round(score[0]*100,2) , \"%\")\n",
    "\n",
    "print(score)"
   ]
  },
  {
   "cell_type": "code",
   "execution_count": 18,
   "metadata": {},
   "outputs": [
    {
     "data": {
      "image/png": "[encoded data removed]",
      "text/plain": [
       "<Figure size 432x288 with 1 Axes>"
      ]
     },
     "metadata": {
      "needs_background": "light"
     },
     "output_type": "display_data"
    }
   ],
   "source": [
    "# summarize history for accuracy\n",
    "plt.plot(history.history['acc'])\n",
    "plt.plot(history.history['val_acc'])\n",
    "plt.title('model accuracy')\n",
    "plt.ylabel('accuracy')\n",
    "plt.xlabel('epoch')\n",
    "plt.legend(['train', 'test'], loc='upper left')\n",
    "plt.show()"
   ]
  },
  {
   "cell_type": "code",
   "execution_count": 19,
   "metadata": {},
   "outputs": [
    {
     "data": {
      "image/png": "[encoded data removed]",
      "text/plain": [
       "<Figure size 432x288 with 1 Axes>"
      ]
     },
     "metadata": {
      "needs_background": "light"
     },
     "output_type": "display_data"
    }
   ],
   "source": [
    "# summarize history for loss\n",
    "plt.plot(history.history['loss'])\n",
    "plt.plot(history.history['val_loss'])\n",
    "plt.title('model loss')\n",
    "plt.ylabel('loss')\n",
    "plt.xlabel('epoch')\n",
    "plt.legend(['train', 'test'], loc='upper left')\n",
    "plt.show()"
   ]
  }
 ],
 "metadata": {
  "kernelspec": {
   "display_name": "Python 3",
   "language": "python",
   "name": "python3"
  },
  "language_info": {
   "codemirror_mode": {
    "name": "ipython",
    "version": 3
   },
   "file_extension": ".py",
   "mimetype": "text/x-python",
   "name": "python",
   "nbconvert_exporter": "python",
   "pygments_lexer": "ipython3",
   "version": "3.6.4"
  }
 },
 "nbformat": 4,
 "nbformat_minor": 2
}
