{
 "cells": [
  {
   "cell_type": "code",
   "execution_count": 1,
   "metadata": {},
   "outputs": [
    {
     "name": "stderr",
     "output_type": "stream",
     "text": [
      "C:\\Users\\lenovo_pc\\Anaconda3\\lib\\site-packages\\h5py\\__init__.py:36: FutureWarning: Conversion of the second argument of issubdtype from `float` to `np.floating` is deprecated. In future, it will be treated as `np.float64 == np.dtype(float).type`.\n",
      "  from ._conv import register_converters as _register_converters\n",
      "Using TensorFlow backend.\n"
     ]
    }
   ],
   "source": [
    "import keras\n",
    "import numpy as np\n",
    "import matplotlib.pyplot as plt\n",
    "import os\n",
    "import pandas as pd\n",
    "import librosa\n",
    "from keras.utils import to_categorical"
   ]
  },
  {
   "cell_type": "code",
   "execution_count": 2,
   "metadata": {},
   "outputs": [],
   "source": [
    "feature_dim_1 = 60"
   ]
  },
  {
   "cell_type": "code",
   "execution_count": 3,
   "metadata": {},
   "outputs": [],
   "source": [
    "def get_labels(path):\n",
    "    labels = os.listdir(path)\n",
    "    label_indices = np.arange(0, len(labels))    \n",
    "    return labels, label_indices, to_categorical(label_indices)\n",
    "\n",
    "\n",
    "\n"
   ]
  },
  {
   "cell_type": "code",
   "execution_count": 4,
   "metadata": {},
   "outputs": [],
   "source": [
    "from sklearn.model_selection import train_test_split\n",
    "\n",
    "def get_train_test(split_ratio=0.8, random_state=42):\n",
    "    # Get available labels\n",
    "    labels, indices, _ = get_labels(DATA_PATH)\n",
    "\n",
    "    # Getting first arrays\n",
    "    X = np.load(labels[0] + '.npy')\n",
    "    y = np.zeros(X.shape[0])\n",
    "\n",
    "    # Append all of the dataset into one single array, same goes for y\n",
    "    for i, label in enumerate(labels[1:]):\n",
    "        x = np.load(label + '.npy')\n",
    "        X = np.vstack((X, x))\n",
    "        y = np.append(y, np.full(x.shape[0], fill_value= (i + 1)))\n",
    "\n",
    "    assert X.shape[0] == len(y)\n",
    "\n",
    "    return train_test_split(X, y, test_size= (1 - split_ratio), random_state=random_state, shuffle=True)\n",
    "\n",
    "\n",
    "\n",
    "def save_data_to_array(path, max_pad_len):\n",
    "    labels, _, _ = get_labels(path)\n",
    "\n",
    "    for label in labels:\n",
    "        # Init mfcc vectors\n",
    "        mfcc_vectors = []\n",
    "\n",
    "        wavfiles = [path + '/' + label + '/' + wavfile for wavfile in os.listdir(path + '/' + label)]\n",
    "        #wavfiles = librosa.util.find_files(db)\n",
    "        #print(wavfiles)\n",
    "        x=0\n",
    "        for wavfile in wavfiles:\n",
    "            name=label+'_'+str(x)\n",
    "            mfcc = wav2mfcc(wavfile, name, max_pad_len=max_pad_len)\n",
    "            mfcc_vectors.append(mfcc)\n",
    "            x=x+1\n",
    "        np.save(label + '.npy', mfcc_vectors)\n",
    "        \n",
    "        \n",
    "        \n",
    "\n",
    "def wav2mfcc(file_path, name, max_pad_len=30):\n",
    "    wave, sr = librosa.load(file_path)\n",
    "    mfcc = librosa.feature.mfcc(wave, sr=sr, n_mfcc = feature_dim_1)\n",
    "    pad_width = max_pad_len - mfcc.shape[1]\n",
    "    mfcc = np.pad(mfcc, pad_width=((0, 0), (0, pad_width)), mode='constant')\n",
    "    return mfcc"
   ]
  },
  {
   "cell_type": "code",
   "execution_count": 5,
   "metadata": {},
   "outputs": [],
   "source": [
    "DATA_PATH = r'C:\\Users\\lenovo_pc\\Desktop\\CNN_SR\\Dataset-merged'\n",
    "\n",
    "\n",
    "#db = r'C:\\Users\\lenovo_pc\\Desktop\\CNN_SR\\SampleData'\n",
    "\n",
    "\n",
    "# Second dimension of the feature is dim2\n",
    "feature_dim_2 = 28\n",
    "\n",
    "# Save data to array file first\n",
    "save_data_to_array(DATA_PATH,feature_dim_2)\n",
    "\n",
    "# # Loading train set and test set\n",
    "X_train, X_test, y_train, y_test = get_train_test()\n",
    "\n",
    "# # Feature dimension\n",
    "verbose = 1\n",
    "num_classes = 2\n",
    "\n",
    "\n",
    "y_train_hot = to_categorical(y_train)\n",
    "y_test_hot = to_categorical(y_test)"
   ]
  },
  {
   "cell_type": "code",
   "execution_count": 6,
   "metadata": {},
   "outputs": [
    {
     "name": "stdout",
     "output_type": "stream",
     "text": [
      "(472, 60, 28)\n",
      "(119, 60, 28)\n"
     ]
    }
   ],
   "source": [
    "\n",
    "#X_train = np.array(x_train)\n",
    "print(X_train.shape)\n",
    "print(X_test.shape)\n"
   ]
  },
  {
   "cell_type": "code",
   "execution_count": 7,
   "metadata": {},
   "outputs": [],
   "source": [
    "from keras.models import Sequential\n",
    "from keras.layers import Dense, Dropout\n",
    "from keras.layers import Embedding\n",
    "from keras.regularizers import l2\n",
    "from keras import regularizers\n",
    "from keras.layers import Conv1D, GlobalAveragePooling1D, MaxPooling1D"
   ]
  },
  {
   "cell_type": "code",
   "execution_count": 8,
   "metadata": {},
   "outputs": [],
   "source": [
    "\n",
    "model = Sequential()\n",
    "model.add(Conv1D(64, 3, activation='relu', kernel_regularizer=l2(0.02), input_shape=(feature_dim_1,feature_dim_2) ,data_format='channels_first'))\n",
    "model.add(Conv1D(64, 3, activation='relu', kernel_regularizer=l2(0.05), ))\n",
    "model.add(MaxPooling1D(3))\n",
    "#model.add(Conv1D(128, 3, activation='relu', ))\n",
    "#model.add(Conv1D(128, 3, activation='relu', ))\n",
    "model.add(GlobalAveragePooling1D())\n",
    "model.add(Dropout(0.5))\n",
    "model.add(Dense(2, activation='sigmoid'))\n"
   ]
  },
  {
   "cell_type": "code",
   "execution_count": 9,
   "metadata": {},
   "outputs": [],
   "source": [
    "model.compile(loss='binary_crossentropy',\n",
    "              optimizer='rmsprop',\n",
    "              metrics=['accuracy'])\n",
    "\n"
   ]
  },
  {
   "cell_type": "code",
   "execution_count": 10,
   "metadata": {},
   "outputs": [
    {
     "name": "stdout",
     "output_type": "stream",
     "text": [
      "Train on 472 samples, validate on 119 samples\n",
      "Epoch 1/50\n",
      "472/472 [==============================] - 9s 18ms/step - loss: 8.2177 - acc: 0.4989 - val_loss: 5.6724 - val_acc: 0.4916\n",
      "Epoch 2/50\n",
      "472/472 [==============================] - 8s 16ms/step - loss: 6.8512 - acc: 0.5201 - val_loss: 3.6400 - val_acc: 0.7269\n",
      "Epoch 3/50\n",
      "472/472 [==============================] - 7s 16ms/step - loss: 5.2741 - acc: 0.5561 - val_loss: 3.4752 - val_acc: 0.6933\n",
      "Epoch 4/50\n",
      "472/472 [==============================] - 7s 15ms/step - loss: 4.5837 - acc: 0.5752 - val_loss: 3.0948 - val_acc: 0.7731\n",
      "Epoch 5/50\n",
      "472/472 [==============================] - 8s 16ms/step - loss: 4.1253 - acc: 0.5572 - val_loss: 2.9567 - val_acc: 0.7479\n",
      "Epoch 6/50\n",
      "472/472 [==============================] - 8s 17ms/step - loss: 3.6671 - acc: 0.5816 - val_loss: 2.8291 - val_acc: 0.7689\n",
      "Epoch 7/50\n",
      "472/472 [==============================] - 8s 17ms/step - loss: 3.3820 - acc: 0.5932 - val_loss: 2.7390 - val_acc: 0.7731\n",
      "Epoch 8/50\n",
      "472/472 [==============================] - 8s 16ms/step - loss: 3.0727 - acc: 0.6483 - val_loss: 2.6296 - val_acc: 0.7857\n",
      "Epoch 9/50\n",
      "472/472 [==============================] - 8s 17ms/step - loss: 2.9389 - acc: 0.6578 - val_loss: 2.5182 - val_acc: 0.8067\n",
      "Epoch 10/50\n",
      "472/472 [==============================] - 8s 17ms/step - loss: 2.8306 - acc: 0.6515 - val_loss: 2.4185 - val_acc: 0.8319\n",
      "Epoch 11/50\n",
      "472/472 [==============================] - 7s 15ms/step - loss: 2.6128 - acc: 0.7023 - val_loss: 2.3116 - val_acc: 0.8655\n",
      "Epoch 12/50\n",
      "472/472 [==============================] - 7s 16ms/step - loss: 2.5046 - acc: 0.7044 - val_loss: 2.2025 - val_acc: 0.8739\n",
      "Epoch 13/50\n",
      "472/472 [==============================] - 7s 15ms/step - loss: 2.3490 - acc: 0.7309 - val_loss: 2.0985 - val_acc: 0.8824\n",
      "Epoch 14/50\n",
      "472/472 [==============================] - 8s 18ms/step - loss: 2.2123 - acc: 0.7468 - val_loss: 1.9918 - val_acc: 0.8824\n",
      "Epoch 15/50\n",
      "472/472 [==============================] - 8s 16ms/step - loss: 2.1213 - acc: 0.7691 - val_loss: 1.8766 - val_acc: 0.8824\n",
      "Epoch 16/50\n",
      "472/472 [==============================] - 8s 16ms/step - loss: 1.9902 - acc: 0.7860 - val_loss: 1.7688 - val_acc: 0.8992\n",
      "Epoch 17/50\n",
      "472/472 [==============================] - 7s 15ms/step - loss: 1.8654 - acc: 0.8167 - val_loss: 1.6691 - val_acc: 0.8908\n",
      "Epoch 18/50\n",
      "472/472 [==============================] - 8s 16ms/step - loss: 1.7509 - acc: 0.8273 - val_loss: 1.5606 - val_acc: 0.9034\n",
      "Epoch 19/50\n",
      "472/472 [==============================] - 8s 17ms/step - loss: 1.6050 - acc: 0.8623 - val_loss: 1.4661 - val_acc: 0.9034\n",
      "Epoch 20/50\n",
      "472/472 [==============================] - 8s 16ms/step - loss: 1.5080 - acc: 0.8718 - val_loss: 1.3690 - val_acc: 0.9076\n",
      "Epoch 21/50\n",
      "472/472 [==============================] - 8s 18ms/step - loss: 1.3934 - acc: 0.8856 - val_loss: 1.2883 - val_acc: 0.9076\n",
      "Epoch 22/50\n",
      "472/472 [==============================] - 9s 19ms/step - loss: 1.3043 - acc: 0.8919 - val_loss: 1.2193 - val_acc: 0.9118\n",
      "Epoch 23/50\n",
      "472/472 [==============================] - 8s 16ms/step - loss: 1.2059 - acc: 0.9004 - val_loss: 1.1214 - val_acc: 0.9160\n",
      "Epoch 24/50\n",
      "472/472 [==============================] - 7s 16ms/step - loss: 1.1293 - acc: 0.9047 - val_loss: 1.0682 - val_acc: 0.9160\n",
      "Epoch 25/50\n",
      "472/472 [==============================] - 7s 16ms/step - loss: 1.0661 - acc: 0.9153 - val_loss: 1.0070 - val_acc: 0.9202\n",
      "Epoch 26/50\n",
      "472/472 [==============================] - 8s 16ms/step - loss: 0.9970 - acc: 0.9216 - val_loss: 0.9181 - val_acc: 0.9412\n",
      "Epoch 27/50\n",
      "472/472 [==============================] - 8s 17ms/step - loss: 0.9156 - acc: 0.9227 - val_loss: 0.8817 - val_acc: 0.9202\n",
      "Epoch 28/50\n",
      "472/472 [==============================] - 8s 18ms/step - loss: 0.8553 - acc: 0.9343 - val_loss: 0.8204 - val_acc: 0.9412\n",
      "Epoch 29/50\n",
      "472/472 [==============================] - 7s 16ms/step - loss: 0.8034 - acc: 0.9301 - val_loss: 0.7605 - val_acc: 0.9454\n",
      "Epoch 30/50\n",
      "472/472 [==============================] - 7s 15ms/step - loss: 0.7542 - acc: 0.9322 - val_loss: 0.7200 - val_acc: 0.9412\n",
      "Epoch 31/50\n",
      "472/472 [==============================] - 7s 15ms/step - loss: 0.6974 - acc: 0.9555 - val_loss: 0.6666 - val_acc: 0.9370\n",
      "Epoch 32/50\n",
      "472/472 [==============================] - 7s 16ms/step - loss: 0.6684 - acc: 0.9407 - val_loss: 0.6195 - val_acc: 0.9454\n",
      "Epoch 33/50\n",
      "472/472 [==============================] - 7s 16ms/step - loss: 0.6301 - acc: 0.9449 - val_loss: 0.6207 - val_acc: 0.9160\n",
      "Epoch 34/50\n",
      "472/472 [==============================] - 7s 15ms/step - loss: 0.5930 - acc: 0.9555 - val_loss: 0.5919 - val_acc: 0.9244\n",
      "Epoch 35/50\n",
      "472/472 [==============================] - 8s 17ms/step - loss: 0.5491 - acc: 0.9619 - val_loss: 0.5649 - val_acc: 0.9370\n",
      "Epoch 36/50\n",
      "472/472 [==============================] - 8s 17ms/step - loss: 0.5473 - acc: 0.9417 - val_loss: 0.5517 - val_acc: 0.9370\n",
      "Epoch 37/50\n",
      "472/472 [==============================] - 8s 16ms/step - loss: 0.5011 - acc: 0.9555 - val_loss: 0.4829 - val_acc: 0.9454\n",
      "Epoch 38/50\n",
      "472/472 [==============================] - 8s 16ms/step - loss: 0.4701 - acc: 0.9703 - val_loss: 0.4696 - val_acc: 0.9454\n",
      "Epoch 39/50\n",
      "472/472 [==============================] - 7s 16ms/step - loss: 0.4328 - acc: 0.9714 - val_loss: 0.4569 - val_acc: 0.9454\n",
      "Epoch 40/50\n",
      "472/472 [==============================] - 8s 16ms/step - loss: 0.4186 - acc: 0.9672 - val_loss: 0.4251 - val_acc: 0.9370\n",
      "Epoch 41/50\n",
      "472/472 [==============================] - 8s 16ms/step - loss: 0.3952 - acc: 0.9693 - val_loss: 0.3876 - val_acc: 0.9496\n",
      "Epoch 42/50\n",
      "472/472 [==============================] - 8s 18ms/step - loss: 0.3789 - acc: 0.9661 - val_loss: 0.3881 - val_acc: 0.9496\n",
      "Epoch 43/50\n",
      "472/472 [==============================] - 7s 15ms/step - loss: 0.3594 - acc: 0.9682 - val_loss: 0.3712 - val_acc: 0.9496\n",
      "Epoch 44/50\n",
      "472/472 [==============================] - 7s 15ms/step - loss: 0.3371 - acc: 0.9746 - val_loss: 0.3502 - val_acc: 0.9496\n",
      "Epoch 45/50\n",
      "472/472 [==============================] - 7s 16ms/step - loss: 0.3128 - acc: 0.9756 - val_loss: 0.3368 - val_acc: 0.9370\n",
      "Epoch 46/50\n",
      "472/472 [==============================] - 8s 17ms/step - loss: 0.2982 - acc: 0.9735 - val_loss: 0.3911 - val_acc: 0.9160\n",
      "Epoch 47/50\n",
      "472/472 [==============================] - 8s 17ms/step - loss: 0.3095 - acc: 0.9640 - val_loss: 0.2912 - val_acc: 0.9538\n",
      "Epoch 48/50\n",
      "472/472 [==============================] - 7s 16ms/step - loss: 0.2703 - acc: 0.9873 - val_loss: 0.3120 - val_acc: 0.9496\n",
      "Epoch 49/50\n",
      "472/472 [==============================] - 7s 15ms/step - loss: 0.2643 - acc: 0.9788 - val_loss: 0.3072 - val_acc: 0.9496\n",
      "Epoch 50/50\n",
      "472/472 [==============================] - 7s 15ms/step - loss: 0.2580 - acc: 0.9735 - val_loss: 0.2771 - val_acc: 0.9412\n"
     ]
    }
   ],
   "source": [
    "#model.fit(x_train, y_train, batch_size=7, epochs=10)\n",
    "\n",
    "history = model.fit(X_train, y_train_hot, batch_size=150, epochs=50, verbose=verbose, validation_data=(X_test, y_test_hot))"
   ]
  },
  {
   "cell_type": "code",
   "execution_count": 11,
   "metadata": {},
   "outputs": [
    {
     "name": "stdout",
     "output_type": "stream",
     "text": [
      "model train data score: acc       :  98.94 %\n",
      "model train data score: loss      :  22.25 %\n",
      "model test data score: acc        :  94.12 %\n",
      "model test data score: loss       :  27.71 %\n"
     ]
    }
   ],
   "source": [
    "score = model.evaluate(X_train, y_train_hot, verbose=0) \n",
    "print (\"model train data score: acc       : \",round(score[1]*100,2) , \"%\")\n",
    "print (\"model train data score: loss      : \",round(score[0]*100,2) , \"%\")\n",
    "\n",
    "score = model.evaluate(X_test, y_test_hot, verbose=0) \n",
    "print (\"model test data score: acc        : \",round(score[1]*100,2) , \"%\")\n",
    "print (\"model test data score: loss       : \",round(score[0]*100,2) , \"%\")\n"
   ]
  },
  {
   "cell_type": "code",
   "execution_count": 12,
   "metadata": {
    "scrolled": true
   },
   "outputs": [
    {
     "data": {
      "image/png": "[encoded data removed]",
      "text/plain": [
       "<Figure size 432x288 with 1 Axes>"
      ]
     },
     "metadata": {
      "needs_background": "light"
     },
     "output_type": "display_data"
    }
   ],
   "source": [
    "# summarize history for accuracy\n",
    "plt.plot(history.history['acc'])\n",
    "plt.plot(history.history['val_acc'])\n",
    "plt.title('model accuracy')\n",
    "plt.ylabel('accuracy')\n",
    "plt.xlabel('epoch')\n",
    "plt.legend(['train', 'test'], loc='upper left')\n",
    "plt.show()\n"
   ]
  },
  {
   "cell_type": "code",
   "execution_count": 13,
   "metadata": {},
   "outputs": [
    {
     "data": {
      "image/png": "[encoded data removed]",
      "text/plain": [
       "<Figure size 432x288 with 1 Axes>"
      ]
     },
     "metadata": {
      "needs_background": "light"
     },
     "output_type": "display_data"
    }
   ],
   "source": [
    "# summarize history for loss\n",
    "plt.plot(history.history['loss'])\n",
    "plt.plot(history.history['val_loss'])\n",
    "plt.title('model loss')\n",
    "plt.ylabel('loss')\n",
    "plt.xlabel('epoch')\n",
    "plt.legend(['train', 'test'], loc='upper left')\n",
    "plt.show()"
   ]
  },
  {
   "cell_type": "code",
   "execution_count": 14,
   "metadata": {},
   "outputs": [],
   "source": [
    "import numpy as np\n",
    "from keras.models import Sequential\n",
    "from keras.layers import Dense, Dropout, Activation, Flatten, LSTM\n",
    "from keras.layers import Convolution2D, MaxPooling2D\n",
    "from keras.optimizers import Adam\n",
    "from keras.regularizers import l2\n",
    "from keras.callbacks import EarlyStopping,ReduceLROnPlateau,ModelCheckpoint,TensorBoard,ProgbarLogger\n",
    "from keras.utils import np_utils\n",
    "from sklearn import metrics \n",
    "from sklearn.metrics import confusion_matrix, classification_report, accuracy_score\n",
    "from sklearn.preprocessing import LabelEncoder\n",
    "import itertools"
   ]
  },
  {
   "cell_type": "code",
   "execution_count": 15,
   "metadata": {},
   "outputs": [
    {
     "name": "stdout",
     "output_type": "stream",
     "text": [
      "Build LSTM RNN model ...\n",
      "_________________________________________________________________\n",
      "Layer (type)                 Output Shape              Param #   \n",
      "=================================================================\n",
      "lstm_1 (LSTM)                (None, 60, 64)            23808     \n",
      "_________________________________________________________________\n",
      "lstm_2 (LSTM)                (None, 32)                12416     \n",
      "_________________________________________________________________\n",
      "dense_2 (Dense)              (None, 2)                 66        \n",
      "=================================================================\n",
      "Total params: 36,290\n",
      "Trainable params: 36,290\n",
      "Non-trainable params: 0\n",
      "_________________________________________________________________\n"
     ]
    }
   ],
   "source": [
    "print('Build LSTM RNN model ...')\n",
    "model = Sequential()\n",
    "model.add(LSTM(units=64, dropout=0.05, recurrent_dropout=0.20, return_sequences=True,input_shape = (feature_dim_1,feature_dim_2)))\n",
    "model.add(LSTM(units=32, dropout=0.05, recurrent_dropout=0.20, return_sequences=False))\n",
    "model.add(Dense(2, activation='softmax'))\n",
    "model.compile(loss='categorical_crossentropy', optimizer='Adamax', metrics=['acc','mse', 'mae', 'mape', 'cosine'])\n",
    "model.summary()"
   ]
  },
  {
   "cell_type": "code",
   "execution_count": 16,
   "metadata": {},
   "outputs": [
    {
     "name": "stdout",
     "output_type": "stream",
     "text": [
      "training started..... please wait.\n",
      "\n",
      "Epoch 00001: loss improved from inf to 0.54791, saving model to ./best_model_trained.hdf5\n",
      "\n",
      "Epoch 00002: loss improved from 0.54791 to 0.39106, saving model to ./best_model_trained.hdf5\n",
      "\n",
      "Epoch 00003: loss improved from 0.39106 to 0.26828, saving model to ./best_model_trained.hdf5\n",
      "\n",
      "Epoch 00004: loss improved from 0.26828 to 0.22572, saving model to ./best_model_trained.hdf5\n",
      "\n",
      "Epoch 00005: loss improved from 0.22572 to 0.15191, saving model to ./best_model_trained.hdf5\n",
      "\n",
      "Epoch 00006: loss did not improve from 0.15191\n",
      "\n",
      "Epoch 00007: loss did not improve from 0.15191\n",
      "\n",
      "Epoch 00008: loss improved from 0.15191 to 0.10791, saving model to ./best_model_trained.hdf5\n",
      "\n",
      "Epoch 00009: loss improved from 0.10791 to 0.09077, saving model to ./best_model_trained.hdf5\n",
      "\n",
      "Epoch 00010: loss improved from 0.09077 to 0.09032, saving model to ./best_model_trained.hdf5\n",
      "\n",
      "Epoch 00011: loss improved from 0.09032 to 0.07018, saving model to ./best_model_trained.hdf5\n",
      "\n",
      "Epoch 00012: loss improved from 0.07018 to 0.06034, saving model to ./best_model_trained.hdf5\n",
      "\n",
      "Epoch 00013: loss did not improve from 0.06034\n",
      "\n",
      "Epoch 00014: loss improved from 0.06034 to 0.05739, saving model to ./best_model_trained.hdf5\n",
      "\n",
      "Epoch 00015: loss did not improve from 0.05739\n",
      "\n",
      "Epoch 00016: loss improved from 0.05739 to 0.05164, saving model to ./best_model_trained.hdf5\n",
      "\n",
      "Epoch 00017: loss improved from 0.05164 to 0.03656, saving model to ./best_model_trained.hdf5\n",
      "\n",
      "Epoch 00018: loss improved from 0.03656 to 0.02690, saving model to ./best_model_trained.hdf5\n",
      "\n",
      "Epoch 00019: loss did not improve from 0.02690\n",
      "\n",
      "Epoch 00020: loss did not improve from 0.02690\n",
      "\n",
      "Epoch 00021: loss did not improve from 0.02690\n",
      "\n",
      "Epoch 00022: loss did not improve from 0.02690\n",
      "\n",
      "Epoch 00023: loss did not improve from 0.02690\n",
      "\n",
      "Epoch 00024: loss did not improve from 0.02690\n",
      "\n",
      "Epoch 00025: loss did not improve from 0.02690\n",
      "\n",
      "Epoch 00026: loss did not improve from 0.02690\n",
      "\n",
      "Epoch 00027: loss improved from 0.02690 to 0.02125, saving model to ./best_model_trained.hdf5\n",
      "\n",
      "Epoch 00028: loss did not improve from 0.02125\n",
      "\n",
      "Epoch 00029: loss did not improve from 0.02125\n",
      "\n",
      "Epoch 00030: loss improved from 0.02125 to 0.02030, saving model to ./best_model_trained.hdf5\n",
      "\n",
      "Epoch 00031: loss did not improve from 0.02030\n",
      "\n",
      "Epoch 00032: loss did not improve from 0.02030\n",
      "\n",
      "Epoch 00033: ReduceLROnPlateau reducing learning rate to 0.00020000000949949026.\n",
      "\n",
      "Epoch 00033: loss improved from 0.02030 to 0.01581, saving model to ./best_model_trained.hdf5\n",
      "\n",
      "Epoch 00034: loss did not improve from 0.01581\n",
      "\n",
      "Epoch 00035: loss did not improve from 0.01581\n",
      "\n",
      "Epoch 00036: loss did not improve from 0.01581\n",
      "\n",
      "Epoch 00037: loss improved from 0.01581 to 0.01221, saving model to ./best_model_trained.hdf5\n",
      "\n",
      "Epoch 00038: loss did not improve from 0.01221\n",
      "\n",
      "Epoch 00039: loss did not improve from 0.01221\n",
      "\n",
      "Epoch 00040: loss did not improve from 0.01221\n",
      "\n",
      "Epoch 00041: loss did not improve from 0.01221\n",
      "\n",
      "Epoch 00042: loss improved from 0.01221 to 0.01105, saving model to ./best_model_trained.hdf5\n",
      "\n",
      "Epoch 00043: loss did not improve from 0.01105\n",
      "\n",
      "Epoch 00044: loss did not improve from 0.01105\n",
      "\n",
      "Epoch 00045: ReduceLROnPlateau reducing learning rate to 2.0000000949949027e-05.\n",
      "\n",
      "Epoch 00045: loss did not improve from 0.01105\n",
      "\n",
      "Epoch 00046: loss improved from 0.01105 to 0.01034, saving model to ./best_model_trained.hdf5\n",
      "\n",
      "Epoch 00047: loss did not improve from 0.01034\n",
      "\n",
      "Epoch 00048: loss did not improve from 0.01034\n",
      "\n",
      "Epoch 00049: loss did not improve from 0.01034\n",
      "\n",
      "Epoch 00050: loss did not improve from 0.01034\n",
      "_________________________________________________________________\n",
      "Layer (type)                 Output Shape              Param #   \n",
      "=================================================================\n",
      "lstm_1 (LSTM)                (None, 60, 64)            23808     \n",
      "_________________________________________________________________\n",
      "lstm_2 (LSTM)                (None, 32)                12416     \n",
      "_________________________________________________________________\n",
      "dense_2 (Dense)              (None, 2)                 66        \n",
      "=================================================================\n",
      "Total params: 36,290\n",
      "Trainable params: 36,290\n",
      "Non-trainable params: 0\n",
      "_________________________________________________________________\n",
      "training finised!\n",
      "Wall time: 5min 19s\n"
     ]
    }
   ],
   "source": [
    "%%time\n",
    "# saved model checkpoint file\n",
    "best_model_file=\"./best_model_trained.hdf5\"\n",
    "#train_model_file=file_path+\"/checkpoints/weights.best_{epoch:02d}-{loss:.2f}.hdf5\"\n",
    "MAX_PATIENT=12\n",
    "MAX_EPOCHS=50\n",
    "MAX_BATCH=7\n",
    "\n",
    "# callbacks\n",
    "# removed EarlyStopping(patience=MAX_PATIENT)\n",
    "callback=[ReduceLROnPlateau(patience=MAX_PATIENT, verbose=1),\n",
    "          ModelCheckpoint(filepath=best_model_file, monitor='loss', verbose=1, save_best_only=True)]\n",
    "\n",
    "print (\"training started..... please wait.\")\n",
    "# training\n",
    "history=model.fit(X_train, y_train_hot, \n",
    "                  batch_size=MAX_BATCH, \n",
    "                  epochs=MAX_EPOCHS,\n",
    "                  verbose=0,\n",
    "                  validation_data=(X_test, y_test_hot),\n",
    "                  callbacks=callback) \n",
    "model.summary()\n",
    "print (\"training finised!\")\n",
    "\n",
    "\n"
   ]
  },
  {
   "cell_type": "code",
   "execution_count": 17,
   "metadata": {},
   "outputs": [
    {
     "name": "stdout",
     "output_type": "stream",
     "text": [
      "472/472 [==============================] - 0s 693us/step\n",
      "model train data score       :  100.0 %\n",
      "model train data score: loss :  0.19 %\n",
      "[0.0019237807916351042, 1.0, 2.8594107819934202e-05, 0.0019091345148824028, 954566.9947033898, -0.9999845472432799]\n",
      "119/119 [==============================] - 0s 715us/step\n",
      "model test data score        :  96.64 %\n",
      "model test data score: loss  :  18.36 %\n",
      "[0.18363408844511048, 0.9663865566253662, 0.03163908558169834, 0.04721293038054675, 23606467.55462185, -0.9683319896209139]\n"
     ]
    }
   ],
   "source": [
    "score = model.evaluate(X_train, y_train_hot, verbose=1) \n",
    "print (\"model train data score       : \",round(score[1]*100,2) , \"%\")\n",
    "print (\"model train data score: loss : \",round(score[0]*100,2) , \"%\")\n",
    "print(score)\n",
    "score = model.evaluate(X_test, y_test_hot, verbose=1) \n",
    "print (\"model test data score        : \",round(score[1]*100,2) , \"%\")\n",
    "print (\"model test data score: loss  : \",round(score[0]*100,2) , \"%\")\n",
    "\n",
    "print(score)"
   ]
  },
  {
   "cell_type": "code",
   "execution_count": 18,
   "metadata": {},
   "outputs": [
    {
     "data": {
      "image/png": "[encoded data removed]",
      "text/plain": [
       "<Figure size 432x288 with 1 Axes>"
      ]
     },
     "metadata": {
      "needs_background": "light"
     },
     "output_type": "display_data"
    }
   ],
   "source": [
    "# summarize history for accuracy\n",
    "plt.plot(history.history['acc'])\n",
    "plt.plot(history.history['val_acc'])\n",
    "plt.title('model accuracy')\n",
    "plt.ylabel('accuracy')\n",
    "plt.xlabel('epoch')\n",
    "plt.legend(['train', 'test'], loc='upper left')\n",
    "plt.show()"
   ]
  },
  {
   "cell_type": "code",
   "execution_count": 19,
   "metadata": {},
   "outputs": [
    {
     "data": {
      "image/png": "[encoded data removed]",
      "text/plain": [
       "<Figure size 432x288 with 1 Axes>"
      ]
     },
     "metadata": {
      "needs_background": "light"
     },
     "output_type": "display_data"
    }
   ],
   "source": [
    "# summarize history for loss\n",
    "plt.plot(history.history['loss'])\n",
    "plt.plot(history.history['val_loss'])\n",
    "plt.title('model loss')\n",
    "plt.ylabel('loss')\n",
    "plt.xlabel('epoch')\n",
    "plt.legend(['train', 'test'], loc='upper left')\n",
    "plt.show()"
   ]
  }
 ],
 "metadata": {
  "kernelspec": {
   "display_name": "Python 3",
   "language": "python",
   "name": "python3"
  },
  "language_info": {
   "codemirror_mode": {
    "name": "ipython",
    "version": 3
   },
   "file_extension": ".py",
   "mimetype": "text/x-python",
   "name": "python",
   "nbconvert_exporter": "python",
   "pygments_lexer": "ipython3",
   "version": "3.6.4"
  }
 },
 "nbformat": 4,
 "nbformat_minor": 2
}
