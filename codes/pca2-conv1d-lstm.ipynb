{
 "cells": [
  {
   "cell_type": "code",
   "execution_count": 1,
   "metadata": {},
   "outputs": [
    {
     "name": "stderr",
     "output_type": "stream",
     "text": [
      "C:\\Users\\lenovo_pc\\Anaconda3\\lib\\site-packages\\h5py\\__init__.py:36: FutureWarning: Conversion of the second argument of issubdtype from `float` to `np.floating` is deprecated. In future, it will be treated as `np.float64 == np.dtype(float).type`.\n",
      "  from ._conv import register_converters as _register_converters\n",
      "Using TensorFlow backend.\n"
     ]
    }
   ],
   "source": [
    "import keras\n",
    "import os\n",
    "import librosa\n",
    "\n",
    "\n",
    "import numpy as np\n",
    "import pandas as pd\n",
    "\n",
    "from sklearn.preprocessing import StandardScaler\n",
    "from sklearn.decomposition import PCA\n",
    "\n",
    "from keras.models import Sequential\n",
    "from keras.utils import np_utils\n",
    "from keras.utils import to_categorical\n",
    "from keras.layers import Dense, Dropout, GaussianNoise, Conv1D\n",
    "from keras.preprocessing.image import ImageDataGenerator\n",
    "\n",
    "import matplotlib.pyplot as plt\n",
    "import seaborn as sns\n",
    "%matplotlib inline"
   ]
  },
  {
   "cell_type": "code",
   "execution_count": 2,
   "metadata": {},
   "outputs": [],
   "source": [
    "DATA_PATH = r'C:\\Users\\lenovo_pc\\Desktop\\CNN_SR\\Dataset-merged'\n",
    "feature_dim_1 = 2"
   ]
  },
  {
   "cell_type": "code",
   "execution_count": 3,
   "metadata": {},
   "outputs": [],
   "source": [
    "def get_labels(path):\n",
    "    labels = os.listdir(path)\n",
    "    label_indices = np.arange(0, len(labels))    \n",
    "    return labels, label_indices, to_categorical(label_indices)\n",
    "\n",
    "\n",
    "\n"
   ]
  },
  {
   "cell_type": "code",
   "execution_count": 4,
   "metadata": {},
   "outputs": [],
   "source": [
    "\n",
    "\n",
    "def save_data_to_array(path, max_pad_len):\n",
    "    labels, _, _ = get_labels(path)\n",
    "\n",
    "    for label in labels:\n",
    "        # Init mfcc vectors\n",
    "        mfcc_vectors = []\n",
    "\n",
    "        wavfiles = [path + '/' + label + '/' + wavfile for wavfile in os.listdir(path + '/' + label)]\n",
    "        #wavfiles = librosa.util.find_files(db)\n",
    "        #print(wavfiles)\n",
    "        x=0\n",
    "        for wavfile in wavfiles:\n",
    "            name=label+'_'+str(x)\n",
    "            mfcc = wav2mfcc(wavfile, name, max_pad_len=max_pad_len)            \n",
    "            mfcc_vectors.append(mfcc)            \n",
    "            x=x+1\n",
    "        \n",
    "        #computing PCA and saving\n",
    "        \n",
    "        np.save(label + '.npy', mfcc_vectors)\n",
    "        #y=np.load(label + '.npy')\n",
    "        #y = sklearn.preprocessing.scale(y)\n",
    "        #y.mean()\n",
    "        #model = sklearn.decomposition.PCA(n_components=2, whiten=True)\n",
    "        #model.fit(y)\n",
    "        #y = model.transform(y)\n",
    "        #pd.DataFrame(y).to_csv(VALUE_PATH+'/'+label+'.csv')\n",
    "        \n",
    "        \n",
    "sample_x=[]\n",
    "\n",
    "def wav2mfcc(file_path, name, max_pad_len):\n",
    "    wave, sr = librosa.load(file_path)\n",
    "    x = librosa.feature.mfcc(wave, sr=sr, n_mfcc=128)\n",
    "    pad_width = max_pad_len - x.shape[1]\n",
    "    x = np.pad(x, pad_width=((0, 0), (0, pad_width)), mode='constant')\n",
    "    #here the dimensions are getting reduced \n",
    "    #through PCA decompostion\n",
    "    x = reduce_dimension(x)\n",
    "    return x.T"
   ]
  },
  {
   "cell_type": "markdown",
   "metadata": {},
   "source": [
    "# PCA decomposition\n",
    "Before I use data with reduced dimensionality, I would like to show what is this about.\n",
    "\n",
    "I arbitrary set number of components to 500. It depends on data, to do such visualization we should aim to set number of components close to the number of original feature number. Transformation take more time depending on number of components."
   ]
  },
  {
   "cell_type": "code",
   "execution_count": 5,
   "metadata": {},
   "outputs": [],
   "source": [
    "NCOMPONENTS = feature_dim_1\n",
    "def reduce_dimension(X):\n",
    "    scaler = StandardScaler()\n",
    "    scaler.fit(X.T)\n",
    "    X_data = scaler.transform(X.T)\n",
    "    \n",
    "    pca = PCA(n_components=NCOMPONENTS)\n",
    "    X_pca = pca.fit_transform(X.T)\n",
    "    \n",
    "    return X_pca.T"
   ]
  },
  {
   "cell_type": "code",
   "execution_count": 6,
   "metadata": {},
   "outputs": [],
   "source": [
    "from sklearn.model_selection import train_test_split\n",
    "\n",
    "\n",
    "def get_train_test(split_ratio=0.8, random_state=42):\n",
    "    # Get available labels\n",
    "    labels, indices, _ = get_labels(DATA_PATH)\n",
    "\n",
    "    # Getting first arrays\n",
    "    X = np.load(labels[0] + '.npy')\n",
    "    # print(X.shape[0]) returns: 129\n",
    "    y = np.zeros(X.shape[0])\n",
    "\n",
    "    # Append all of the dataset into one single array, same goes for y\n",
    "    for i, label in enumerate(labels[1:]):\n",
    "        x = np.load(label + '.npy')\n",
    "        X = np.vstack((X, x))\n",
    "        #print(X.shape[0]) returns: 129+152=281\n",
    "        #print(i) returns: 0: So all y values are 1 for Seven and 0 for Tin\n",
    "        y = np.append(y, np.full(x.shape[0], fill_value= (i + 1)))\n",
    "\n",
    "    assert X.shape[0] == len(y)\n",
    "\n",
    "    return train_test_split(X, y, test_size= (1 - split_ratio), random_state=random_state, shuffle=True)\n",
    "\n"
   ]
  },
  {
   "cell_type": "code",
   "execution_count": 7,
   "metadata": {},
   "outputs": [],
   "source": [
    "\n",
    "\n",
    "#db = r'C:\\Users\\lenovo_pc\\Desktop\\CNN_SR\\SampleData'\n",
    "\n",
    "\n",
    "# Second dimension of the feature is dim2\n",
    "feature_dim_2 = 28\n",
    "\n",
    "# Save data to array file first\n",
    "save_data_to_array(DATA_PATH,feature_dim_2)\n",
    "\n",
    "# # Loading train set and test set\n",
    "X_train, X_test, y_train, y_test = get_train_test()\n",
    "\n",
    "# # Feature dimension\n",
    "channel = 1\n",
    "epochs = 50\n",
    "batch_size = 100\n",
    "verbose = 1\n",
    "num_classes = 2\n",
    "\n",
    "\n",
    "y_train_hot = to_categorical(y_train)\n",
    "y_test_hot = to_categorical(y_test)"
   ]
  },
  {
   "cell_type": "code",
   "execution_count": 8,
   "metadata": {},
   "outputs": [
    {
     "name": "stdout",
     "output_type": "stream",
     "text": [
      "(472, 28, 2)\n",
      "(119, 28, 2)\n"
     ]
    }
   ],
   "source": [
    "\n",
    "#X_train = np.array(x_train)\n",
    "print(X_train.shape)\n",
    "print(X_test.shape)"
   ]
  },
  {
   "cell_type": "markdown",
   "metadata": {},
   "source": [
    "# *********++++++*********++++++*********++++++*********++++++"
   ]
  },
  {
   "cell_type": "code",
   "execution_count": 9,
   "metadata": {},
   "outputs": [],
   "source": [
    "from keras.models import Sequential\n",
    "from keras.layers import Dense, Dropout\n",
    "from keras.layers import Embedding\n",
    "from keras import regularizers\n",
    "from keras.layers import Conv1D, GlobalAveragePooling1D, MaxPooling1D"
   ]
  },
  {
   "cell_type": "code",
   "execution_count": 10,
   "metadata": {},
   "outputs": [],
   "source": [
    "#seq_length = NCOMPONENTS\n",
    "\n",
    "#model = Sequential()\n",
    "#model.add(Conv1D(64, 3, activation='relu', input_shape=(feature_dim_2,seq_length), padding='causal'))\n",
    "#model.add(Conv1D(64, 3, activation='relu'))\n",
    "#model.add(MaxPooling1D(3))\n",
    "#model.add(Conv1D(128, 3, activation='relu'))\n",
    "#model.add(Conv1D(128, 3, activation='relu'))\n",
    "#model.add(GlobalAveragePooling1D())\n",
    "#model.add(Dropout(0.5))\n",
    "#model.add(Dense(2, activation='sigmoid'))"
   ]
  },
  {
   "cell_type": "code",
   "execution_count": 11,
   "metadata": {},
   "outputs": [],
   "source": [
    "\n",
    "\n",
    "model = Sequential()\n",
    "model.add(Conv1D(64, 3, activation='relu', input_shape=(feature_dim_2,feature_dim_1) ,padding='causal'))\n",
    "model.add(Conv1D(64, 3, activation='relu', ))\n",
    "model.add(MaxPooling1D(3))\n",
    "#model.add(Conv1D(128, 3, activation='relu', ))\n",
    "#model.add(Conv1D(128, 3, activation='relu', ))\n",
    "model.add(GlobalAveragePooling1D())\n",
    "model.add(Dropout(0.7))\n",
    "model.add(Dense(2, activation='sigmoid'))\n"
   ]
  },
  {
   "cell_type": "code",
   "execution_count": 12,
   "metadata": {},
   "outputs": [],
   "source": [
    "model.compile(loss='binary_crossentropy',\n",
    "              optimizer='rmsprop',\n",
    "              metrics=['accuracy'])"
   ]
  },
  {
   "cell_type": "code",
   "execution_count": 13,
   "metadata": {},
   "outputs": [
    {
     "name": "stdout",
     "output_type": "stream",
     "text": [
      "Train on 472 samples, validate on 119 samples\n",
      "Epoch 1/50\n",
      "472/472 [==============================] - 11s 23ms/step - loss: 5.9178 - acc: 0.5233 - val_loss: 2.3105 - val_acc: 0.5462\n",
      "Epoch 2/50\n",
      "472/472 [==============================] - 10s 20ms/step - loss: 4.4033 - acc: 0.5710 - val_loss: 1.7107 - val_acc: 0.6681\n",
      "Epoch 3/50\n",
      "472/472 [==============================] - 10s 21ms/step - loss: 3.3737 - acc: 0.6218 - val_loss: 0.5478 - val_acc: 0.8403\n",
      "Epoch 4/50\n",
      "472/472 [==============================] - 9s 18ms/step - loss: 2.1311 - acc: 0.6621 - val_loss: 0.4022 - val_acc: 0.8571\n",
      "Epoch 5/50\n",
      "472/472 [==============================] - 9s 20ms/step - loss: 1.2989 - acc: 0.7108 - val_loss: 0.3356 - val_acc: 0.8824\n",
      "Epoch 6/50\n",
      "472/472 [==============================] - 9s 20ms/step - loss: 0.9423 - acc: 0.7373 - val_loss: 0.2551 - val_acc: 0.8950\n",
      "Epoch 7/50\n",
      "472/472 [==============================] - 9s 20ms/step - loss: 0.7161 - acc: 0.7595 - val_loss: 0.2524 - val_acc: 0.8950\n",
      "Epoch 8/50\n",
      "472/472 [==============================] - 9s 19ms/step - loss: 0.6277 - acc: 0.7511 - val_loss: 0.2690 - val_acc: 0.9034\n",
      "Epoch 9/50\n",
      "472/472 [==============================] - 9s 20ms/step - loss: 0.5289 - acc: 0.7606 - val_loss: 0.2618 - val_acc: 0.8950\n",
      "Epoch 10/50\n",
      "472/472 [==============================] - 9s 19ms/step - loss: 0.4543 - acc: 0.7881 - val_loss: 0.2906 - val_acc: 0.8782\n",
      "Epoch 11/50\n",
      "472/472 [==============================] - 9s 19ms/step - loss: 0.4711 - acc: 0.7850 - val_loss: 0.2973 - val_acc: 0.9034\n",
      "Epoch 12/50\n",
      "472/472 [==============================] - 9s 19ms/step - loss: 0.4423 - acc: 0.7818 - val_loss: 0.2402 - val_acc: 0.9118\n",
      "Epoch 13/50\n",
      "472/472 [==============================] - 9s 19ms/step - loss: 0.4415 - acc: 0.8019 - val_loss: 0.2807 - val_acc: 0.8824\n",
      "Epoch 14/50\n",
      "472/472 [==============================] - 10s 21ms/step - loss: 0.4776 - acc: 0.7712 - val_loss: 0.2630 - val_acc: 0.9202\n",
      "Epoch 15/50\n",
      "472/472 [==============================] - 9s 18ms/step - loss: 0.4162 - acc: 0.8072 - val_loss: 0.3105 - val_acc: 0.9076\n",
      "Epoch 16/50\n",
      "472/472 [==============================] - 9s 18ms/step - loss: 0.4310 - acc: 0.7839 - val_loss: 0.2775 - val_acc: 0.9412\n",
      "Epoch 17/50\n",
      "472/472 [==============================] - 9s 19ms/step - loss: 0.3472 - acc: 0.8464 - val_loss: 0.2260 - val_acc: 0.9496\n",
      "Epoch 18/50\n",
      "472/472 [==============================] - 9s 19ms/step - loss: 0.3499 - acc: 0.8453 - val_loss: 0.2100 - val_acc: 0.9328\n",
      "Epoch 19/50\n",
      "472/472 [==============================] - 10s 20ms/step - loss: 0.3475 - acc: 0.8379 - val_loss: 0.2392 - val_acc: 0.9286\n",
      "Epoch 20/50\n",
      "472/472 [==============================] - 9s 19ms/step - loss: 0.3515 - acc: 0.8358 - val_loss: 0.2124 - val_acc: 0.9244\n",
      "Epoch 21/50\n",
      "472/472 [==============================] - 9s 19ms/step - loss: 0.3305 - acc: 0.8517 - val_loss: 0.2136 - val_acc: 0.9328\n",
      "Epoch 22/50\n",
      "472/472 [==============================] - 9s 20ms/step - loss: 0.4127 - acc: 0.8273 - val_loss: 0.2026 - val_acc: 0.9412\n",
      "Epoch 23/50\n",
      "472/472 [==============================] - 11s 22ms/step - loss: 0.3539 - acc: 0.8411 - val_loss: 0.1966 - val_acc: 0.9454\n",
      "Epoch 24/50\n",
      "472/472 [==============================] - 10s 21ms/step - loss: 0.3229 - acc: 0.8623 - val_loss: 0.2320 - val_acc: 0.9286\n",
      "Epoch 25/50\n",
      "472/472 [==============================] - 9s 20ms/step - loss: 0.2944 - acc: 0.8739 - val_loss: 0.1837 - val_acc: 0.9454\n",
      "Epoch 26/50\n",
      "472/472 [==============================] - 10s 21ms/step - loss: 0.3032 - acc: 0.8686 - val_loss: 0.2008 - val_acc: 0.9412\n",
      "Epoch 27/50\n",
      "472/472 [==============================] - 9s 19ms/step - loss: 0.2942 - acc: 0.8665 - val_loss: 0.2729 - val_acc: 0.9202\n",
      "Epoch 28/50\n",
      "472/472 [==============================] - 9s 19ms/step - loss: 0.3199 - acc: 0.8528 - val_loss: 0.2549 - val_acc: 0.8739\n",
      "Epoch 29/50\n",
      "472/472 [==============================] - 9s 19ms/step - loss: 0.3105 - acc: 0.8761 - val_loss: 0.2131 - val_acc: 0.9286\n",
      "Epoch 30/50\n",
      "472/472 [==============================] - 9s 20ms/step - loss: 0.2588 - acc: 0.8877 - val_loss: 0.1837 - val_acc: 0.9244\n",
      "Epoch 31/50\n",
      "472/472 [==============================] - 9s 19ms/step - loss: 0.3019 - acc: 0.8697 - val_loss: 0.2286 - val_acc: 0.9244\n",
      "Epoch 32/50\n",
      "472/472 [==============================] - 9s 19ms/step - loss: 0.2814 - acc: 0.8824 - val_loss: 0.1781 - val_acc: 0.9454\n",
      "Epoch 33/50\n",
      "472/472 [==============================] - 9s 19ms/step - loss: 0.2766 - acc: 0.8919 - val_loss: 0.1911 - val_acc: 0.9328\n",
      "Epoch 34/50\n",
      "472/472 [==============================] - 9s 19ms/step - loss: 0.2408 - acc: 0.9015 - val_loss: 0.2044 - val_acc: 0.9328\n",
      "Epoch 35/50\n",
      "472/472 [==============================] - 10s 22ms/step - loss: 0.2547 - acc: 0.8898 - val_loss: 0.1658 - val_acc: 0.9454\n",
      "Epoch 36/50\n",
      "472/472 [==============================] - 9s 20ms/step - loss: 0.2801 - acc: 0.8983 - val_loss: 0.1745 - val_acc: 0.9370\n",
      "Epoch 37/50\n",
      "472/472 [==============================] - 9s 19ms/step - loss: 0.2644 - acc: 0.8856 - val_loss: 0.2088 - val_acc: 0.9286\n",
      "Epoch 38/50\n",
      "472/472 [==============================] - 9s 18ms/step - loss: 0.2290 - acc: 0.9110 - val_loss: 0.1573 - val_acc: 0.9370\n",
      "Epoch 39/50\n",
      "472/472 [==============================] - 10s 21ms/step - loss: 0.2525 - acc: 0.8972 - val_loss: 0.1894 - val_acc: 0.9370\n",
      "Epoch 40/50\n",
      "472/472 [==============================] - 10s 21ms/step - loss: 0.2293 - acc: 0.9068 - val_loss: 0.1749 - val_acc: 0.9496\n",
      "Epoch 41/50\n",
      "472/472 [==============================] - 9s 19ms/step - loss: 0.2337 - acc: 0.9131 - val_loss: 0.1806 - val_acc: 0.9538\n",
      "Epoch 42/50\n",
      "472/472 [==============================] - 9s 20ms/step - loss: 0.2376 - acc: 0.8898 - val_loss: 0.1612 - val_acc: 0.9454\n",
      "Epoch 43/50\n",
      "472/472 [==============================] - 9s 20ms/step - loss: 0.2326 - acc: 0.9100 - val_loss: 0.1701 - val_acc: 0.9496\n",
      "Epoch 44/50\n",
      "472/472 [==============================] - 10s 21ms/step - loss: 0.2181 - acc: 0.9163 - val_loss: 0.1774 - val_acc: 0.9412\n",
      "Epoch 45/50\n",
      "472/472 [==============================] - 10s 21ms/step - loss: 0.2296 - acc: 0.9110 - val_loss: 0.1536 - val_acc: 0.9664\n",
      "Epoch 46/50\n",
      "472/472 [==============================] - 9s 20ms/step - loss: 0.2382 - acc: 0.9110 - val_loss: 0.2004 - val_acc: 0.9412\n",
      "Epoch 47/50\n",
      "472/472 [==============================] - 9s 19ms/step - loss: 0.2136 - acc: 0.9237 - val_loss: 0.1820 - val_acc: 0.9118\n",
      "Epoch 48/50\n",
      "472/472 [==============================] - 9s 19ms/step - loss: 0.2127 - acc: 0.9131 - val_loss: 0.1740 - val_acc: 0.9496\n",
      "Epoch 49/50\n",
      "472/472 [==============================] - 10s 21ms/step - loss: 0.1826 - acc: 0.9301 - val_loss: 0.1722 - val_acc: 0.9454\n",
      "Epoch 50/50\n",
      "472/472 [==============================] - 10s 22ms/step - loss: 0.1894 - acc: 0.9290 - val_loss: 0.1804 - val_acc: 0.9496\n"
     ]
    }
   ],
   "source": [
    "#model.fit(x_train, y_train, batch_size=7, epochs=10)\n",
    "\n",
    "history = model.fit(X_train, y_train_hot, batch_size=batch_size, epochs=50, verbose=verbose, validation_data=(X_test, y_test_hot))"
   ]
  },
  {
   "cell_type": "code",
   "execution_count": 14,
   "metadata": {},
   "outputs": [
    {
     "name": "stdout",
     "output_type": "stream",
     "text": [
      "model train data score: acc       :  98.09 %\n",
      "model train data score: loss      :  8.95 %\n",
      "model test data score: acc        :  94.96 %\n",
      "model test data score: loss       :  18.04 %\n"
     ]
    }
   ],
   "source": [
    "score = model.evaluate(X_train, y_train_hot, verbose=0) \n",
    "print (\"model train data score: acc       : \",round(score[1]*100,2) , \"%\")\n",
    "print (\"model train data score: loss      : \",round(score[0]*100,2) , \"%\")\n",
    "\n",
    "score = model.evaluate(X_test, y_test_hot, verbose=0) \n",
    "print (\"model test data score: acc        : \",round(score[1]*100,2) , \"%\")\n",
    "print (\"model test data score: loss       : \",round(score[0]*100,2) , \"%\")\n"
   ]
  },
  {
   "cell_type": "code",
   "execution_count": 15,
   "metadata": {},
   "outputs": [
    {
     "data": {
      "image/png": "[encoded data removed]",
      "text/plain": [
       "<Figure size 432x288 with 1 Axes>"
      ]
     },
     "metadata": {
      "needs_background": "light"
     },
     "output_type": "display_data"
    }
   ],
   "source": [
    "# summarize history for accuracy\n",
    "plt.plot(history.history['acc'])\n",
    "plt.plot(history.history['val_acc'])\n",
    "plt.title('model accuracy')\n",
    "plt.ylabel('accuracy')\n",
    "plt.xlabel('epoch')\n",
    "plt.legend(['train', 'test'], loc='upper left')\n",
    "plt.show()"
   ]
  },
  {
   "cell_type": "code",
   "execution_count": 16,
   "metadata": {},
   "outputs": [
    {
     "data": {
      "image/png": "[encoded data removed]",
      "text/plain": [
       "<Figure size 432x288 with 1 Axes>"
      ]
     },
     "metadata": {
      "needs_background": "light"
     },
     "output_type": "display_data"
    }
   ],
   "source": [
    "# summarize history for loss\n",
    "plt.plot(history.history['loss'])\n",
    "plt.plot(history.history['val_loss'])\n",
    "plt.title('model loss')\n",
    "plt.ylabel('loss')\n",
    "plt.xlabel('epoch')\n",
    "plt.legend(['train', 'test'], loc='upper left')\n",
    "plt.show()"
   ]
  },
  {
   "cell_type": "markdown",
   "metadata": {},
   "source": [
    "# RNN+LSTM"
   ]
  },
  {
   "cell_type": "code",
   "execution_count": 17,
   "metadata": {},
   "outputs": [],
   "source": [
    "import numpy as np\n",
    "from keras.models import Sequential\n",
    "from keras.layers import Dense, Dropout, Activation, Flatten, LSTM\n",
    "from keras.layers import Convolution2D, MaxPooling2D\n",
    "from keras.optimizers import Adam\n",
    "from keras.regularizers import l2\n",
    "from keras.callbacks import EarlyStopping,ReduceLROnPlateau,ModelCheckpoint,TensorBoard,ProgbarLogger\n",
    "from keras.utils import np_utils\n",
    "from sklearn import metrics \n",
    "from sklearn.metrics import confusion_matrix, classification_report, accuracy_score\n",
    "from sklearn.preprocessing import LabelEncoder\n",
    "import itertools"
   ]
  },
  {
   "cell_type": "code",
   "execution_count": 18,
   "metadata": {},
   "outputs": [
    {
     "name": "stdout",
     "output_type": "stream",
     "text": [
      "Build LSTM RNN model ...\n"
     ]
    }
   ],
   "source": [
    "print('Build LSTM RNN model ...')\n",
    "model = Sequential()\n",
    "model.add(LSTM(units=32, dropout=0.1, recurrent_dropout=0.15, kernel_regularizer=l2(0.05), recurrent_regularizer=l2(0.08), bias_regularizer=l2(0.06), return_sequences=True))\n",
    "model.add(LSTM(units=32, dropout=0.4, recurrent_dropout=0.30, kernel_regularizer=l2(0.90), recurrent_regularizer=l2(0.90), bias_regularizer=l2(0.50), return_sequences=False))\n",
    "model.add(Dense(2, activation='softmax'))\n",
    "model.compile(loss='categorical_crossentropy', optimizer='Adamax', metrics=['acc','mse', 'mae', 'mape', 'cosine'])\n",
    "#model.summary()"
   ]
  },
  {
   "cell_type": "code",
   "execution_count": 19,
   "metadata": {},
   "outputs": [
    {
     "name": "stdout",
     "output_type": "stream",
     "text": [
      "training started..... please wait.\n",
      "\n",
      "Epoch 00001: loss improved from inf to 48.70674, saving model to ./best_model_trained.hdf5\n",
      "\n",
      "Epoch 00002: loss improved from 48.70674 to 16.68201, saving model to ./best_model_trained.hdf5\n",
      "\n",
      "Epoch 00003: loss improved from 16.68201 to 9.96298, saving model to ./best_model_trained.hdf5\n",
      "\n",
      "Epoch 00004: loss improved from 9.96298 to 6.97003, saving model to ./best_model_trained.hdf5\n",
      "\n",
      "Epoch 00005: loss improved from 6.97003 to 5.02655, saving model to ./best_model_trained.hdf5\n",
      "\n",
      "Epoch 00006: loss improved from 5.02655 to 3.63540, saving model to ./best_model_trained.hdf5\n",
      "\n",
      "Epoch 00007: loss improved from 3.63540 to 2.64159, saving model to ./best_model_trained.hdf5\n",
      "\n",
      "Epoch 00008: loss improved from 2.64159 to 1.95009, saving model to ./best_model_trained.hdf5\n",
      "\n",
      "Epoch 00009: loss improved from 1.95009 to 1.47484, saving model to ./best_model_trained.hdf5\n",
      "\n",
      "Epoch 00010: loss improved from 1.47484 to 1.16848, saving model to ./best_model_trained.hdf5\n",
      "\n",
      "Epoch 00011: loss improved from 1.16848 to 0.97078, saving model to ./best_model_trained.hdf5\n",
      "\n",
      "Epoch 00012: loss improved from 0.97078 to 0.84914, saving model to ./best_model_trained.hdf5\n",
      "\n",
      "Epoch 00013: loss improved from 0.84914 to 0.78169, saving model to ./best_model_trained.hdf5\n",
      "\n",
      "Epoch 00014: loss improved from 0.78169 to 0.73999, saving model to ./best_model_trained.hdf5\n",
      "\n",
      "Epoch 00015: loss improved from 0.73999 to 0.71613, saving model to ./best_model_trained.hdf5\n",
      "\n",
      "Epoch 00016: loss improved from 0.71613 to 0.70416, saving model to ./best_model_trained.hdf5\n",
      "\n",
      "Epoch 00017: loss improved from 0.70416 to 0.69801, saving model to ./best_model_trained.hdf5\n",
      "\n",
      "Epoch 00018: loss improved from 0.69801 to 0.69580, saving model to ./best_model_trained.hdf5\n",
      "\n",
      "Epoch 00019: loss improved from 0.69580 to 0.69480, saving model to ./best_model_trained.hdf5\n",
      "\n",
      "Epoch 00020: loss improved from 0.69480 to 0.68938, saving model to ./best_model_trained.hdf5\n",
      "\n",
      "Epoch 00021: loss did not improve from 0.68938\n",
      "\n",
      "Epoch 00022: loss improved from 0.68938 to 0.68747, saving model to ./best_model_trained.hdf5\n",
      "\n",
      "Epoch 00023: loss did not improve from 0.68747\n",
      "\n",
      "Epoch 00024: loss improved from 0.68747 to 0.68620, saving model to ./best_model_trained.hdf5\n",
      "\n",
      "Epoch 00025: loss improved from 0.68620 to 0.68577, saving model to ./best_model_trained.hdf5\n",
      "\n",
      "Epoch 00026: loss improved from 0.68577 to 0.68461, saving model to ./best_model_trained.hdf5\n",
      "\n",
      "Epoch 00027: loss did not improve from 0.68461\n",
      "\n",
      "Epoch 00028: loss improved from 0.68461 to 0.67962, saving model to ./best_model_trained.hdf5\n",
      "\n",
      "Epoch 00029: loss improved from 0.67962 to 0.67540, saving model to ./best_model_trained.hdf5\n",
      "\n",
      "Epoch 00030: loss improved from 0.67540 to 0.67313, saving model to ./best_model_trained.hdf5\n",
      "\n",
      "Epoch 00031: loss did not improve from 0.67313\n",
      "\n",
      "Epoch 00032: loss improved from 0.67313 to 0.67108, saving model to ./best_model_trained.hdf5\n",
      "\n",
      "Epoch 00033: loss improved from 0.67108 to 0.66756, saving model to ./best_model_trained.hdf5\n",
      "\n",
      "Epoch 00034: loss improved from 0.66756 to 0.66560, saving model to ./best_model_trained.hdf5\n",
      "\n",
      "Epoch 00035: loss did not improve from 0.66560\n",
      "\n",
      "Epoch 00036: loss did not improve from 0.66560\n",
      "\n",
      "Epoch 00037: loss improved from 0.66560 to 0.65383, saving model to ./best_model_trained.hdf5\n",
      "\n",
      "Epoch 00038: loss improved from 0.65383 to 0.65077, saving model to ./best_model_trained.hdf5\n",
      "\n",
      "Epoch 00039: loss did not improve from 0.65077\n",
      "\n",
      "Epoch 00040: loss improved from 0.65077 to 0.63813, saving model to ./best_model_trained.hdf5\n",
      "\n",
      "Epoch 00041: loss did not improve from 0.63813\n",
      "\n",
      "Epoch 00042: loss did not improve from 0.63813\n",
      "\n",
      "Epoch 00043: loss did not improve from 0.63813\n",
      "\n",
      "Epoch 00044: loss did not improve from 0.63813\n",
      "\n",
      "Epoch 00045: loss did not improve from 0.63813\n",
      "\n",
      "Epoch 00046: loss did not improve from 0.63813\n",
      "\n",
      "Epoch 00047: loss did not improve from 0.63813\n",
      "\n",
      "Epoch 00048: loss did not improve from 0.63813\n",
      "\n",
      "Epoch 00049: loss did not improve from 0.63813\n",
      "\n",
      "Epoch 00050: loss improved from 0.63813 to 0.62831, saving model to ./best_model_trained.hdf5\n",
      "_________________________________________________________________\n",
      "Layer (type)                 Output Shape              Param #   \n",
      "=================================================================\n",
      "lstm_1 (LSTM)                (None, 28, 32)            4480      \n",
      "_________________________________________________________________\n",
      "lstm_2 (LSTM)                (None, 32)                8320      \n",
      "_________________________________________________________________\n",
      "dense_2 (Dense)              (None, 2)                 66        \n",
      "=================================================================\n",
      "Total params: 12,866\n",
      "Trainable params: 12,866\n",
      "Non-trainable params: 0\n",
      "_________________________________________________________________\n",
      "training finised!\n",
      "Wall time: 2min 40s\n"
     ]
    }
   ],
   "source": [
    "%%time\n",
    "# saved model checkpoint file\n",
    "best_model_file=\"./best_model_trained.hdf5\"\n",
    "#train_model_file=file_path+\"/checkpoints/weights.best_{epoch:02d}-{loss:.2f}.hdf5\"\n",
    "MAX_PATIENT=12\n",
    "MAX_EPOCHS=50\n",
    "MAX_BATCH=7\n",
    "\n",
    "# callbacks\n",
    "# removed EarlyStopping(patience=MAX_PATIENT)\n",
    "callback=[ReduceLROnPlateau(patience=MAX_PATIENT, verbose=1),\n",
    "          ModelCheckpoint(filepath=best_model_file, monitor='loss', verbose=1, save_best_only=True)]\n",
    "\n",
    "print (\"training started..... please wait.\")\n",
    "# training\n",
    "history=model.fit(X_train, y_train_hot, \n",
    "                  batch_size=MAX_BATCH, \n",
    "                  epochs=MAX_EPOCHS,\n",
    "                  verbose=0,\n",
    "                  validation_data=(X_test, y_test_hot),\n",
    "                  callbacks=callback) \n",
    "model.summary()\n",
    "print (\"training finised!\")\n",
    "\n"
   ]
  },
  {
   "cell_type": "code",
   "execution_count": 20,
   "metadata": {},
   "outputs": [
    {
     "name": "stdout",
     "output_type": "stream",
     "text": [
      "model train data score       :  73.31 %\n",
      "model train data loss        :  0.6\n",
      "model test data score        :  75.63 %\n",
      "model train data loss        :  0.59\n"
     ]
    }
   ],
   "source": [
    "score = model.evaluate(X_train, y_train_hot, verbose=0) \n",
    "print (\"model train data score       : \",round(score[1]*100,2) , \"%\")\n",
    "print (\"model train data loss        : \",round(score[0],2))\n",
    "\n",
    "score = model.evaluate(X_test, y_test_hot, verbose=0) \n",
    "print (\"model test data score        : \",round(score[1]*100,2) , \"%\")\n",
    "print (\"model train data loss        : \",round(score[0],2))"
   ]
  },
  {
   "cell_type": "code",
   "execution_count": 21,
   "metadata": {},
   "outputs": [
    {
     "data": {
      "image/png": "[encoded data removed]",
      "text/plain": [
       "<Figure size 432x288 with 1 Axes>"
      ]
     },
     "metadata": {
      "needs_background": "light"
     },
     "output_type": "display_data"
    }
   ],
   "source": [
    "# summarize history for accuracy\n",
    "plt.plot(history.history['acc'])\n",
    "plt.plot(history.history['val_acc'])\n",
    "plt.title('model accuracy')\n",
    "plt.ylabel('accuracy')\n",
    "plt.xlabel('epoch')\n",
    "plt.legend(['train', 'test'], loc='upper left')\n",
    "plt.show()"
   ]
  },
  {
   "cell_type": "code",
   "execution_count": 22,
   "metadata": {},
   "outputs": [
    {
     "data": {
      "image/png": "[encoded data removed]",
      "text/plain": [
       "<Figure size 432x288 with 1 Axes>"
      ]
     },
     "metadata": {
      "needs_background": "light"
     },
     "output_type": "display_data"
    }
   ],
   "source": [
    "# summarize history for loss\n",
    "plt.plot(history.history['loss'])\n",
    "plt.plot(history.history['val_loss'])\n",
    "plt.title('model loss')\n",
    "plt.ylabel('loss')\n",
    "plt.xlabel('epoch')\n",
    "plt.legend(['train', 'test'], loc='upper left')\n",
    "plt.show()"
   ]
  }
 ],
 "metadata": {
  "kernelspec": {
   "display_name": "Python 3",
   "language": "python",
   "name": "python3"
  },
  "language_info": {
   "codemirror_mode": {
    "name": "ipython",
    "version": 3
   },
   "file_extension": ".py",
   "mimetype": "text/x-python",
   "name": "python",
   "nbconvert_exporter": "python",
   "pygments_lexer": "ipython3",
   "version": "3.6.4"
  }
 },
 "nbformat": 4,
 "nbformat_minor": 2
}
