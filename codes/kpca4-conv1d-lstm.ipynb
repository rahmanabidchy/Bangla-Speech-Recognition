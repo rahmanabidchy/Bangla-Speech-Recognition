{
 "cells": [
  {
   "cell_type": "code",
   "execution_count": 1,
   "metadata": {},
   "outputs": [
    {
     "name": "stderr",
     "output_type": "stream",
     "text": [
      "C:\\Users\\lenovo_pc\\Anaconda3\\lib\\site-packages\\h5py\\__init__.py:36: FutureWarning: Conversion of the second argument of issubdtype from `float` to `np.floating` is deprecated. In future, it will be treated as `np.float64 == np.dtype(float).type`.\n",
      "  from ._conv import register_converters as _register_converters\n",
      "Using TensorFlow backend.\n"
     ]
    }
   ],
   "source": [
    "import keras\n",
    "import os\n",
    "import librosa\n",
    "\n",
    "\n",
    "import numpy as np\n",
    "import pandas as pd\n",
    "\n",
    "from sklearn.preprocessing import StandardScaler\n",
    "from sklearn.decomposition import KernelPCA\n",
    "\n",
    "from keras.models import Sequential\n",
    "from keras.utils import np_utils\n",
    "from keras.utils import to_categorical\n",
    "from keras.layers import Dense, Dropout, GaussianNoise, Conv1D\n",
    "from keras.preprocessing.image import ImageDataGenerator\n",
    "\n",
    "import matplotlib.pyplot as plt\n",
    "import seaborn as sns\n",
    "%matplotlib inline"
   ]
  },
  {
   "cell_type": "code",
   "execution_count": 2,
   "metadata": {},
   "outputs": [],
   "source": [
    "DATA_PATH = r'C:\\Users\\lenovo_pc\\Desktop\\CNN_SR\\Dataset-merged'\n",
    "feature_dim_1 = 4"
   ]
  },
  {
   "cell_type": "code",
   "execution_count": 3,
   "metadata": {},
   "outputs": [],
   "source": [
    "def get_labels(path):\n",
    "    labels = os.listdir(path)\n",
    "    label_indices = np.arange(0, len(labels))    \n",
    "    return labels, label_indices, to_categorical(label_indices)\n",
    "\n",
    "\n",
    "\n"
   ]
  },
  {
   "cell_type": "code",
   "execution_count": 4,
   "metadata": {},
   "outputs": [],
   "source": [
    "\n",
    "\n",
    "def save_data_to_array(path, max_pad_len):\n",
    "    labels, _, _ = get_labels(path)\n",
    "\n",
    "    for label in labels:\n",
    "        # Init mfcc vectors\n",
    "        melspectrogram_vectors = []\n",
    "\n",
    "        wavfiles = [path + '/' + label + '/' + wavfile for wavfile in os.listdir(path + '/' + label)]\n",
    "        #wavfiles = librosa.util.find_files(db)\n",
    "        #print(wavfiles)\n",
    "        x=0\n",
    "        for wavfile in wavfiles:\n",
    "            name=label+'_'+str(x)\n",
    "            melspectrogram = wav2melspectrogram(wavfile, name, max_pad_len=max_pad_len)            \n",
    "            melspectrogram_vectors.append(melspectrogram)            \n",
    "            x=x+1\n",
    "        \n",
    "        #computing PCA and saving\n",
    "        \n",
    "        np.save(label + '.npy', melspectrogram_vectors)\n",
    "        #y=np.load(label + '.npy')\n",
    "        #y = sklearn.preprocessing.scale(y)\n",
    "        #y.mean()\n",
    "        #model = sklearn.decomposition.PCA(n_components=2, whiten=True)\n",
    "        #model.fit(y)\n",
    "        #y = model.transform(y)\n",
    "        #pd.DataFrame(y).to_csv(VALUE_PATH+'/'+label+'.csv')\n",
    "        \n",
    "        \n",
    "sample_x=[]\n",
    "\n",
    "def wav2melspectrogram(file_path, name, max_pad_len):\n",
    "    wave, sr = librosa.load(file_path)\n",
    "    x = librosa.feature.melspectrogram(wave, sr=sr)\n",
    "    pad_width = max_pad_len - x.shape[1]\n",
    "    x = np.pad(x, pad_width=((0, 0), (0, pad_width)), mode='constant')\n",
    "    #here the dimensions are getting reduced \n",
    "    #through PCA decompostion\n",
    "    x = reduce_dimension(x)\n",
    "    #pd.DataFrame(x).to_csv(VALUE_PATH+'/'+name+'.csv')\n",
    "    return x.T"
   ]
  },
  {
   "cell_type": "code",
   "execution_count": 5,
   "metadata": {},
   "outputs": [],
   "source": [
    "NCOMPONENTS = feature_dim_1\n",
    "def reduce_dimension(X):\n",
    "    scaler = StandardScaler()\n",
    "    scaler.fit(X.T)\n",
    "    X_data = scaler.transform(X.T)\n",
    "    \n",
    "    kpca = KernelPCA(n_components=NCOMPONENTS)\n",
    "    X_kpca = kpca.fit_transform(X.T)\n",
    "    \n",
    "    return X_kpca.T"
   ]
  },
  {
   "cell_type": "code",
   "execution_count": 6,
   "metadata": {},
   "outputs": [],
   "source": [
    "from sklearn.model_selection import train_test_split\n",
    "\n",
    "\n",
    "def get_train_test(split_ratio=0.8, random_state=42):\n",
    "    # Get available labels\n",
    "    labels, indices, _ = get_labels(DATA_PATH)\n",
    "\n",
    "    # Getting first arrays\n",
    "    X = np.load(labels[0] + '.npy')\n",
    "    # print(X.shape[0]) returns: 129\n",
    "    y = np.zeros(X.shape[0])\n",
    "\n",
    "    # Append all of the dataset into one single array, same goes for y\n",
    "    for i, label in enumerate(labels[1:]):\n",
    "        x = np.load(label + '.npy')\n",
    "        X = np.vstack((X, x))\n",
    "        #print(X.shape[0]) returns: 129+152=281\n",
    "        #print(i) returns: 0: So all y values are 1 for Seven and 0 for Tin\n",
    "        y = np.append(y, np.full(x.shape[0], fill_value= (i + 1)))\n",
    "\n",
    "    assert X.shape[0] == len(y)\n",
    "\n",
    "    return train_test_split(X, y, test_size= (1 - split_ratio), random_state=random_state, shuffle=True)\n",
    "\n"
   ]
  },
  {
   "cell_type": "code",
   "execution_count": 7,
   "metadata": {},
   "outputs": [],
   "source": [
    "\n",
    "\n",
    "#db = r'C:\\Users\\lenovo_pc\\Desktop\\CNN_SR\\SampleData'\n",
    "\n",
    "\n",
    "# Second dimension of the feature is dim2\n",
    "feature_dim_2 = 28\n",
    "\n",
    "# Save data to array file first\n",
    "save_data_to_array(DATA_PATH,feature_dim_2)\n",
    "\n",
    "# # Loading train set and test set\n",
    "X_train, X_test, y_train, y_test = get_train_test()\n",
    "\n",
    "# # Feature dimension\n",
    "channel = 1\n",
    "epochs = 50\n",
    "batch_size = 100\n",
    "verbose = 1\n",
    "num_classes = 2\n",
    "\n",
    "\n",
    "y_train_hot = to_categorical(y_train)\n",
    "y_test_hot = to_categorical(y_test)"
   ]
  },
  {
   "cell_type": "code",
   "execution_count": 8,
   "metadata": {},
   "outputs": [
    {
     "name": "stdout",
     "output_type": "stream",
     "text": [
      "(472, 28, 4)\n",
      "(119, 28, 4)\n"
     ]
    }
   ],
   "source": [
    "\n",
    "#X_train = np.array(x_train)\n",
    "print(X_train.shape)\n",
    "print(X_test.shape)"
   ]
  },
  {
   "cell_type": "markdown",
   "metadata": {},
   "source": [
    "# *********++++++*********++++++*********++++++*********++++++"
   ]
  },
  {
   "cell_type": "code",
   "execution_count": 9,
   "metadata": {},
   "outputs": [],
   "source": [
    "from keras.models import Sequential\n",
    "from keras.layers import Dense, Dropout\n",
    "from keras.layers import Embedding\n",
    "from keras import regularizers\n",
    "from keras.layers import Conv1D, GlobalAveragePooling1D, MaxPooling1D"
   ]
  },
  {
   "cell_type": "code",
   "execution_count": 10,
   "metadata": {},
   "outputs": [],
   "source": [
    "#seq_length = NCOMPONENTS\n",
    "\n",
    "#model = Sequential()\n",
    "#model.add(Conv1D(64, 3, activation='relu', input_shape=(feature_dim_2,seq_length), padding='causal'))\n",
    "#model.add(Conv1D(64, 3, activation='relu'))\n",
    "#model.add(MaxPooling1D(3))\n",
    "#model.add(Conv1D(128, 3, activation='relu'))\n",
    "#model.add(Conv1D(128, 3, activation='relu'))\n",
    "#model.add(GlobalAveragePooling1D())\n",
    "#model.add(Dropout(0.5))\n",
    "#model.add(Dense(2, activation='sigmoid'))"
   ]
  },
  {
   "cell_type": "code",
   "execution_count": 11,
   "metadata": {},
   "outputs": [],
   "source": [
    "\n",
    "\n",
    "model = Sequential()\n",
    "model.add(Conv1D(64, 3, activation='relu', input_shape=(feature_dim_2,feature_dim_1) ,padding='causal'))\n",
    "model.add(Conv1D(64, 3, activation='relu', ))\n",
    "model.add(MaxPooling1D(3))\n",
    "#model.add(Conv1D(128, 3, activation='relu', ))\n",
    "#model.add(Conv1D(128, 3, activation='relu', ))\n",
    "model.add(GlobalAveragePooling1D())\n",
    "model.add(Dropout(0.7))\n",
    "model.add(Dense(2, activation='sigmoid'))\n"
   ]
  },
  {
   "cell_type": "code",
   "execution_count": 12,
   "metadata": {},
   "outputs": [],
   "source": [
    "model.compile(loss='binary_crossentropy',\n",
    "              optimizer='rmsprop',\n",
    "              metrics=['accuracy'])"
   ]
  },
  {
   "cell_type": "code",
   "execution_count": 13,
   "metadata": {},
   "outputs": [
    {
     "name": "stdout",
     "output_type": "stream",
     "text": [
      "Train on 472 samples, validate on 119 samples\n",
      "Epoch 1/50\n",
      "472/472 [==============================] - 11s 23ms/step - loss: 4.5866 - acc: 0.5222 - val_loss: 3.9561 - val_acc: 0.5672\n",
      "Epoch 2/50\n",
      "472/472 [==============================] - 10s 21ms/step - loss: 4.2628 - acc: 0.5614 - val_loss: 2.4485 - val_acc: 0.6176\n",
      "Epoch 3/50\n",
      "472/472 [==============================] - 11s 22ms/step - loss: 4.2492 - acc: 0.5434 - val_loss: 2.5580 - val_acc: 0.5504\n",
      "Epoch 4/50\n",
      "472/472 [==============================] - 10s 21ms/step - loss: 3.8652 - acc: 0.5593 - val_loss: 2.6386 - val_acc: 0.6933\n",
      "Epoch 5/50\n",
      "472/472 [==============================] - 10s 21ms/step - loss: 3.6114 - acc: 0.5530 - val_loss: 1.7977 - val_acc: 0.6891\n",
      "Epoch 6/50\n",
      "472/472 [==============================] - 10s 21ms/step - loss: 3.2430 - acc: 0.6049 - val_loss: 2.1730 - val_acc: 0.6387\n",
      "Epoch 7/50\n",
      "472/472 [==============================] - 10s 20ms/step - loss: 2.8107 - acc: 0.6229 - val_loss: 1.7197 - val_acc: 0.6639\n",
      "Epoch 8/50\n",
      "472/472 [==============================] - 9s 18ms/step - loss: 2.8160 - acc: 0.6303 - val_loss: 1.9596 - val_acc: 0.7227\n",
      "Epoch 9/50\n",
      "472/472 [==============================] - 9s 19ms/step - loss: 2.4232 - acc: 0.6653 - val_loss: 1.9480 - val_acc: 0.6807\n",
      "Epoch 10/50\n",
      "472/472 [==============================] - 9s 19ms/step - loss: 2.0847 - acc: 0.6917 - val_loss: 1.6325 - val_acc: 0.7311\n",
      "Epoch 11/50\n",
      "472/472 [==============================] - 9s 19ms/step - loss: 2.0470 - acc: 0.6822 - val_loss: 1.8563 - val_acc: 0.7101\n",
      "Epoch 12/50\n",
      "472/472 [==============================] - 9s 20ms/step - loss: 2.0597 - acc: 0.6907 - val_loss: 1.5805 - val_acc: 0.7437\n",
      "Epoch 13/50\n",
      "472/472 [==============================] - 9s 19ms/step - loss: 1.6185 - acc: 0.7150 - val_loss: 1.6401 - val_acc: 0.7017\n",
      "Epoch 14/50\n",
      "472/472 [==============================] - 9s 20ms/step - loss: 1.4707 - acc: 0.7066 - val_loss: 1.4482 - val_acc: 0.7353\n",
      "Epoch 15/50\n",
      "472/472 [==============================] - 9s 19ms/step - loss: 1.3386 - acc: 0.7309 - val_loss: 1.4067 - val_acc: 0.7353\n",
      "Epoch 16/50\n",
      "472/472 [==============================] - 10s 21ms/step - loss: 1.1600 - acc: 0.7352 - val_loss: 1.2063 - val_acc: 0.7563\n",
      "Epoch 17/50\n",
      "472/472 [==============================] - 9s 19ms/step - loss: 0.9668 - acc: 0.7362 - val_loss: 0.9754 - val_acc: 0.7353\n",
      "Epoch 18/50\n",
      "472/472 [==============================] - 9s 20ms/step - loss: 0.8973 - acc: 0.7320 - val_loss: 1.0130 - val_acc: 0.7311\n",
      "Epoch 19/50\n",
      "472/472 [==============================] - 10s 21ms/step - loss: 0.7483 - acc: 0.7214 - val_loss: 0.8664 - val_acc: 0.7479\n",
      "Epoch 20/50\n",
      "472/472 [==============================] - 10s 21ms/step - loss: 0.6681 - acc: 0.7373 - val_loss: 0.8842 - val_acc: 0.7437\n",
      "Epoch 21/50\n",
      "472/472 [==============================] - 9s 18ms/step - loss: 0.6697 - acc: 0.7331 - val_loss: 0.9914 - val_acc: 0.6975\n",
      "Epoch 22/50\n",
      "472/472 [==============================] - 10s 20ms/step - loss: 0.6196 - acc: 0.7415 - val_loss: 0.8512 - val_acc: 0.7227\n",
      "Epoch 23/50\n",
      "472/472 [==============================] - 10s 20ms/step - loss: 0.6140 - acc: 0.7638 - val_loss: 0.7842 - val_acc: 0.7269\n",
      "Epoch 24/50\n",
      "472/472 [==============================] - 10s 22ms/step - loss: 0.5960 - acc: 0.7532 - val_loss: 0.7942 - val_acc: 0.7269\n",
      "Epoch 25/50\n",
      "472/472 [==============================] - 9s 19ms/step - loss: 0.5763 - acc: 0.7638 - val_loss: 0.7368 - val_acc: 0.7395\n",
      "Epoch 26/50\n",
      "472/472 [==============================] - 9s 19ms/step - loss: 0.5546 - acc: 0.7627 - val_loss: 0.7281 - val_acc: 0.7227\n",
      "Epoch 27/50\n",
      "472/472 [==============================] - 10s 22ms/step - loss: 0.5489 - acc: 0.7754 - val_loss: 0.7502 - val_acc: 0.7353\n",
      "Epoch 28/50\n",
      "472/472 [==============================] - 9s 19ms/step - loss: 0.5353 - acc: 0.7595 - val_loss: 0.7154 - val_acc: 0.7059\n",
      "Epoch 29/50\n",
      "472/472 [==============================] - 9s 19ms/step - loss: 0.5571 - acc: 0.7691 - val_loss: 0.7209 - val_acc: 0.7185\n",
      "Epoch 30/50\n",
      "472/472 [==============================] - 9s 19ms/step - loss: 0.5655 - acc: 0.7479 - val_loss: 0.6647 - val_acc: 0.7185\n",
      "Epoch 31/50\n",
      "472/472 [==============================] - 9s 20ms/step - loss: 0.5359 - acc: 0.7648 - val_loss: 0.6670 - val_acc: 0.7395\n",
      "Epoch 32/50\n",
      "472/472 [==============================] - 9s 18ms/step - loss: 0.4938 - acc: 0.7881 - val_loss: 0.6613 - val_acc: 0.7269\n",
      "Epoch 33/50\n",
      "472/472 [==============================] - 9s 18ms/step - loss: 0.5175 - acc: 0.7839 - val_loss: 0.6785 - val_acc: 0.7521\n",
      "Epoch 34/50\n",
      "472/472 [==============================] - 9s 19ms/step - loss: 0.5049 - acc: 0.7839 - val_loss: 0.6320 - val_acc: 0.7059\n",
      "Epoch 35/50\n",
      "472/472 [==============================] - 10s 22ms/step - loss: 0.5248 - acc: 0.7722 - val_loss: 0.6753 - val_acc: 0.7269\n",
      "Epoch 36/50\n",
      "472/472 [==============================] - 10s 22ms/step - loss: 0.4847 - acc: 0.7775 - val_loss: 0.7350 - val_acc: 0.7311\n",
      "Epoch 37/50\n",
      "472/472 [==============================] - 9s 20ms/step - loss: 0.5238 - acc: 0.7903 - val_loss: 0.6488 - val_acc: 0.7563\n",
      "Epoch 38/50\n",
      "472/472 [==============================] - 9s 20ms/step - loss: 0.5042 - acc: 0.7807 - val_loss: 0.6574 - val_acc: 0.7437\n",
      "Epoch 39/50\n",
      "472/472 [==============================] - 10s 22ms/step - loss: 0.4898 - acc: 0.7839 - val_loss: 0.6092 - val_acc: 0.7143\n",
      "Epoch 40/50\n",
      "472/472 [==============================] - 9s 20ms/step - loss: 0.4771 - acc: 0.7977 - val_loss: 0.6482 - val_acc: 0.7437\n",
      "Epoch 41/50\n",
      "472/472 [==============================] - 9s 19ms/step - loss: 0.4971 - acc: 0.7860 - val_loss: 0.6963 - val_acc: 0.7395\n",
      "Epoch 42/50\n",
      "472/472 [==============================] - 10s 21ms/step - loss: 0.4712 - acc: 0.7998 - val_loss: 0.6285 - val_acc: 0.7269\n",
      "Epoch 43/50\n",
      "472/472 [==============================] - 9s 20ms/step - loss: 0.4676 - acc: 0.7924 - val_loss: 0.6585 - val_acc: 0.7353\n",
      "Epoch 44/50\n",
      "472/472 [==============================] - 9s 20ms/step - loss: 0.4791 - acc: 0.7934 - val_loss: 0.6709 - val_acc: 0.7311\n",
      "Epoch 45/50\n",
      "472/472 [==============================] - 11s 22ms/step - loss: 0.4337 - acc: 0.8051 - val_loss: 0.6531 - val_acc: 0.7563\n",
      "Epoch 46/50\n",
      "472/472 [==============================] - 9s 19ms/step - loss: 0.4316 - acc: 0.8136 - val_loss: 0.6093 - val_acc: 0.7227\n",
      "Epoch 47/50\n",
      "472/472 [==============================] - 9s 20ms/step - loss: 0.4903 - acc: 0.8093 - val_loss: 0.5995 - val_acc: 0.7311\n",
      "Epoch 48/50\n",
      "472/472 [==============================] - 10s 20ms/step - loss: 0.4302 - acc: 0.8040 - val_loss: 0.6612 - val_acc: 0.7479\n",
      "Epoch 49/50\n",
      "472/472 [==============================] - 10s 21ms/step - loss: 0.4551 - acc: 0.8167 - val_loss: 0.6840 - val_acc: 0.7479\n",
      "Epoch 50/50\n",
      "472/472 [==============================] - 9s 18ms/step - loss: 0.4716 - acc: 0.8093 - val_loss: 0.6382 - val_acc: 0.7353\n"
     ]
    }
   ],
   "source": [
    "#model.fit(x_train, y_train, batch_size=7, epochs=10)\n",
    "\n",
    "history = model.fit(X_train, y_train_hot, batch_size=batch_size, epochs=50, verbose=verbose, validation_data=(X_test, y_test_hot))"
   ]
  },
  {
   "cell_type": "code",
   "execution_count": 14,
   "metadata": {},
   "outputs": [
    {
     "name": "stdout",
     "output_type": "stream",
     "text": [
      "model train data score: acc       :  85.91 %\n",
      "model train data score: loss      :  35.08 %\n",
      "model test data score: acc        :  73.53 %\n",
      "model test data score: loss       :  63.82 %\n"
     ]
    }
   ],
   "source": [
    "score = model.evaluate(X_train, y_train_hot, verbose=0) \n",
    "print (\"model train data score: acc       : \",round(score[1]*100,2) , \"%\")\n",
    "print (\"model train data score: loss      : \",round(score[0]*100,2) , \"%\")\n",
    "\n",
    "score = model.evaluate(X_test, y_test_hot, verbose=0) \n",
    "print (\"model test data score: acc        : \",round(score[1]*100,2) , \"%\")\n",
    "print (\"model test data score: loss       : \",round(score[0]*100,2) , \"%\")\n"
   ]
  },
  {
   "cell_type": "code",
   "execution_count": 15,
   "metadata": {},
   "outputs": [
    {
     "data": {
      "image/png": "[encoded data removed]",
      "text/plain": [
       "<Figure size 432x288 with 1 Axes>"
      ]
     },
     "metadata": {
      "needs_background": "light"
     },
     "output_type": "display_data"
    }
   ],
   "source": [
    "# summarize history for accuracy\n",
    "plt.plot(history.history['acc'])\n",
    "plt.plot(history.history['val_acc'])\n",
    "plt.title('model accuracy')\n",
    "plt.ylabel('accuracy')\n",
    "plt.xlabel('epoch')\n",
    "plt.legend(['train', 'test'], loc='upper left')\n",
    "plt.show()"
   ]
  },
  {
   "cell_type": "code",
   "execution_count": 16,
   "metadata": {},
   "outputs": [
    {
     "data": {
      "image/png": "[encoded data removed]",
      "text/plain": [
       "<Figure size 432x288 with 1 Axes>"
      ]
     },
     "metadata": {
      "needs_background": "light"
     },
     "output_type": "display_data"
    }
   ],
   "source": [
    "# summarize history for loss\n",
    "plt.plot(history.history['loss'])\n",
    "plt.plot(history.history['val_loss'])\n",
    "plt.title('model loss')\n",
    "plt.ylabel('loss')\n",
    "plt.xlabel('epoch')\n",
    "plt.legend(['train', 'test'], loc='upper left')\n",
    "plt.show()"
   ]
  },
  {
   "cell_type": "markdown",
   "metadata": {},
   "source": [
    "# RNN+LSTM\n"
   ]
  },
  {
   "cell_type": "code",
   "execution_count": 17,
   "metadata": {},
   "outputs": [],
   "source": [
    "import numpy as np\n",
    "from keras.models import Sequential\n",
    "from keras.layers import Dense, Dropout, Activation, Flatten, LSTM\n",
    "from keras.layers import Convolution2D, MaxPooling2D\n",
    "from keras.optimizers import Adam\n",
    "from keras.regularizers import l2\n",
    "from keras.callbacks import EarlyStopping,ReduceLROnPlateau,ModelCheckpoint,TensorBoard,ProgbarLogger\n",
    "from keras.utils import np_utils\n",
    "from sklearn import metrics \n",
    "from sklearn.metrics import confusion_matrix, classification_report, accuracy_score\n",
    "from sklearn.preprocessing import LabelEncoder\n",
    "import itertools"
   ]
  },
  {
   "cell_type": "code",
   "execution_count": 18,
   "metadata": {},
   "outputs": [
    {
     "name": "stdout",
     "output_type": "stream",
     "text": [
      "Build LSTM RNN model ...\n"
     ]
    }
   ],
   "source": [
    "print('Build LSTM RNN model ...')\n",
    "model = Sequential()\n",
    "model.add(LSTM(units=64, dropout=0.1, recurrent_dropout=0.15, kernel_regularizer=l2(0.05), recurrent_regularizer=l2(0.08), bias_regularizer=l2(0.06), return_sequences=True))\n",
    "model.add(LSTM(units=32, dropout=0.6, recurrent_dropout=0.60, kernel_regularizer=l2(0.90), recurrent_regularizer=l2(0.90), bias_regularizer=l2(0.10), return_sequences=False))\n",
    "model.add(Dense(2, activation='softmax'))\n",
    "model.compile(loss='categorical_crossentropy', optimizer='Adamax', metrics=['acc','mse', 'mae', 'mape', 'cosine'])\n",
    "#model.summary()"
   ]
  },
  {
   "cell_type": "code",
   "execution_count": 19,
   "metadata": {},
   "outputs": [
    {
     "name": "stdout",
     "output_type": "stream",
     "text": [
      "training started..... please wait.\n",
      "\n",
      "Epoch 00001: loss improved from inf to 51.82407, saving model to ./best_model_trained.hdf5\n",
      "\n",
      "Epoch 00002: loss improved from 51.82407 to 10.61993, saving model to ./best_model_trained.hdf5\n",
      "\n",
      "Epoch 00003: loss improved from 10.61993 to 4.98555, saving model to ./best_model_trained.hdf5\n",
      "\n",
      "Epoch 00004: loss improved from 4.98555 to 3.44256, saving model to ./best_model_trained.hdf5\n",
      "\n",
      "Epoch 00005: loss improved from 3.44256 to 2.60085, saving model to ./best_model_trained.hdf5\n",
      "\n",
      "Epoch 00006: loss improved from 2.60085 to 2.02724, saving model to ./best_model_trained.hdf5\n",
      "\n",
      "Epoch 00007: loss improved from 2.02724 to 1.60973, saving model to ./best_model_trained.hdf5\n",
      "\n",
      "Epoch 00008: loss improved from 1.60973 to 1.30457, saving model to ./best_model_trained.hdf5\n",
      "\n",
      "Epoch 00009: loss improved from 1.30457 to 1.10164, saving model to ./best_model_trained.hdf5\n",
      "\n",
      "Epoch 00010: loss improved from 1.10164 to 0.95405, saving model to ./best_model_trained.hdf5\n",
      "\n",
      "Epoch 00011: loss improved from 0.95405 to 0.85837, saving model to ./best_model_trained.hdf5\n",
      "\n",
      "Epoch 00012: loss improved from 0.85837 to 0.79571, saving model to ./best_model_trained.hdf5\n",
      "\n",
      "Epoch 00013: loss improved from 0.79571 to 0.75532, saving model to ./best_model_trained.hdf5\n",
      "\n",
      "Epoch 00014: loss improved from 0.75532 to 0.72308, saving model to ./best_model_trained.hdf5\n",
      "\n",
      "Epoch 00015: loss improved from 0.72308 to 0.70624, saving model to ./best_model_trained.hdf5\n",
      "\n",
      "Epoch 00016: loss improved from 0.70624 to 0.70289, saving model to ./best_model_trained.hdf5\n",
      "\n",
      "Epoch 00017: loss improved from 0.70289 to 0.69156, saving model to ./best_model_trained.hdf5\n",
      "\n",
      "Epoch 00018: loss improved from 0.69156 to 0.68459, saving model to ./best_model_trained.hdf5\n",
      "\n",
      "Epoch 00019: loss improved from 0.68459 to 0.68064, saving model to ./best_model_trained.hdf5\n",
      "\n",
      "Epoch 00020: loss improved from 0.68064 to 0.66400, saving model to ./best_model_trained.hdf5\n",
      "\n",
      "Epoch 00021: loss did not improve from 0.66400\n",
      "\n",
      "Epoch 00022: loss did not improve from 0.66400\n",
      "\n",
      "Epoch 00023: loss did not improve from 0.66400\n",
      "\n",
      "Epoch 00024: loss improved from 0.66400 to 0.66023, saving model to ./best_model_trained.hdf5\n",
      "\n",
      "Epoch 00025: loss improved from 0.66023 to 0.64909, saving model to ./best_model_trained.hdf5\n",
      "\n",
      "Epoch 00026: loss improved from 0.64909 to 0.63520, saving model to ./best_model_trained.hdf5\n",
      "\n",
      "Epoch 00027: loss did not improve from 0.63520\n",
      "\n",
      "Epoch 00028: loss did not improve from 0.63520\n",
      "\n",
      "Epoch 00029: loss did not improve from 0.63520\n",
      "\n",
      "Epoch 00030: loss improved from 0.63520 to 0.62303, saving model to ./best_model_trained.hdf5\n",
      "\n",
      "Epoch 00031: loss did not improve from 0.62303\n",
      "\n",
      "Epoch 00032: loss did not improve from 0.62303\n",
      "\n",
      "Epoch 00033: loss did not improve from 0.62303\n",
      "\n",
      "Epoch 00034: loss did not improve from 0.62303\n",
      "\n",
      "Epoch 00035: loss did not improve from 0.62303\n",
      "\n",
      "Epoch 00036: loss improved from 0.62303 to 0.61631, saving model to ./best_model_trained.hdf5\n",
      "\n",
      "Epoch 00037: loss did not improve from 0.61631\n",
      "\n",
      "Epoch 00038: loss did not improve from 0.61631\n",
      "\n",
      "Epoch 00039: loss improved from 0.61631 to 0.61613, saving model to ./best_model_trained.hdf5\n",
      "\n",
      "Epoch 00040: loss improved from 0.61613 to 0.60528, saving model to ./best_model_trained.hdf5\n",
      "\n",
      "Epoch 00041: loss did not improve from 0.60528\n",
      "\n",
      "Epoch 00042: loss did not improve from 0.60528\n",
      "\n",
      "Epoch 00043: loss did not improve from 0.60528\n",
      "\n",
      "Epoch 00044: loss did not improve from 0.60528\n",
      "\n",
      "Epoch 00045: loss did not improve from 0.60528\n",
      "\n",
      "Epoch 00046: loss did not improve from 0.60528\n",
      "\n",
      "Epoch 00047: loss did not improve from 0.60528\n",
      "\n",
      "Epoch 00048: loss improved from 0.60528 to 0.60308, saving model to ./best_model_trained.hdf5\n",
      "\n",
      "Epoch 00049: loss did not improve from 0.60308\n",
      "\n",
      "Epoch 00050: loss improved from 0.60308 to 0.60140, saving model to ./best_model_trained.hdf5\n",
      "_________________________________________________________________\n",
      "Layer (type)                 Output Shape              Param #   \n",
      "=================================================================\n",
      "lstm_1 (LSTM)                (None, 28, 64)            17664     \n",
      "_________________________________________________________________\n",
      "lstm_2 (LSTM)                (None, 32)                12416     \n",
      "_________________________________________________________________\n",
      "dense_2 (Dense)              (None, 2)                 66        \n",
      "=================================================================\n",
      "Total params: 30,146\n",
      "Trainable params: 30,146\n",
      "Non-trainable params: 0\n",
      "_________________________________________________________________\n",
      "training finised!\n",
      "Wall time: 2min 42s\n"
     ]
    }
   ],
   "source": [
    "%%time\n",
    "# saved model checkpoint file\n",
    "best_model_file=\"./best_model_trained.hdf5\"\n",
    "#train_model_file=file_path+\"/checkpoints/weights.best_{epoch:02d}-{loss:.2f}.hdf5\"\n",
    "MAX_PATIENT=12\n",
    "MAX_EPOCHS=50\n",
    "MAX_BATCH=7\n",
    "\n",
    "# callbacks\n",
    "# removed EarlyStopping(patience=MAX_PATIENT)\n",
    "callback=[ReduceLROnPlateau(patience=MAX_PATIENT, verbose=1),\n",
    "          ModelCheckpoint(filepath=best_model_file, monitor='loss', verbose=1, save_best_only=True)]\n",
    "\n",
    "print (\"training started..... please wait.\")\n",
    "# training\n",
    "history=model.fit(X_train, y_train_hot, \n",
    "                  batch_size=MAX_BATCH, \n",
    "                  epochs=MAX_EPOCHS,\n",
    "                  verbose=0,\n",
    "                  validation_data=(X_test, y_test_hot),\n",
    "                  callbacks=callback) \n",
    "model.summary()\n",
    "print (\"training finised!\")\n"
   ]
  },
  {
   "cell_type": "code",
   "execution_count": 20,
   "metadata": {},
   "outputs": [
    {
     "name": "stdout",
     "output_type": "stream",
     "text": [
      "model train data score       :  79.87 %\n",
      "model train data loss        :  0.57 %\n",
      "model test data score        :  77.31 %\n",
      "model train data loss        :  0.65 %\n"
     ]
    }
   ],
   "source": [
    "score = model.evaluate(X_train, y_train_hot, verbose=0) \n",
    "print (\"model train data score       : \",round(score[1]*100,2) , \"%\")\n",
    "print (\"model train data loss        : \",round(score[0],2) , \"%\")\n",
    "\n",
    "score = model.evaluate(X_test, y_test_hot, verbose=0) \n",
    "print (\"model test data score        : \",round(score[1]*100,2) , \"%\")\n",
    "print (\"model train data loss        : \",round(score[0],2) , \"%\")"
   ]
  },
  {
   "cell_type": "code",
   "execution_count": 21,
   "metadata": {},
   "outputs": [
    {
     "data": {
      "image/png": "[encoded data removed]",
      "text/plain": [
       "<Figure size 432x288 with 1 Axes>"
      ]
     },
     "metadata": {
      "needs_background": "light"
     },
     "output_type": "display_data"
    }
   ],
   "source": [
    "# summarize history for accuracy\n",
    "plt.plot(history.history['acc'])\n",
    "plt.plot(history.history['val_acc'])\n",
    "plt.title('model accuracy')\n",
    "plt.ylabel('accuracy')\n",
    "plt.xlabel('epoch')\n",
    "plt.legend(['train', 'test'], loc='upper left')\n",
    "plt.show()"
   ]
  },
  {
   "cell_type": "code",
   "execution_count": 22,
   "metadata": {},
   "outputs": [
    {
     "data": {
      "image/png": "[encoded data removed]",
      "text/plain": [
       "<Figure size 432x288 with 1 Axes>"
      ]
     },
     "metadata": {
      "needs_background": "light"
     },
     "output_type": "display_data"
    }
   ],
   "source": [
    "# summarize history for loss\n",
    "plt.plot(history.history['loss'])\n",
    "plt.plot(history.history['val_loss'])\n",
    "plt.title('model loss')\n",
    "plt.ylabel('loss')\n",
    "plt.xlabel('epoch')\n",
    "plt.legend(['train', 'test'], loc='upper left')\n",
    "plt.show()"
   ]
  }
 ],
 "metadata": {
  "kernelspec": {
   "display_name": "Python 3",
   "language": "python",
   "name": "python3"
  },
  "language_info": {
   "codemirror_mode": {
    "name": "ipython",
    "version": 3
   },
   "file_extension": ".py",
   "mimetype": "text/x-python",
   "name": "python",
   "nbconvert_exporter": "python",
   "pygments_lexer": "ipython3",
   "version": "3.6.4"
  }
 },
 "nbformat": 4,
 "nbformat_minor": 2
}
