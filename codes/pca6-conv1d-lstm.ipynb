{
 "cells": [
  {
   "cell_type": "code",
   "execution_count": 1,
   "metadata": {},
   "outputs": [
    {
     "name": "stderr",
     "output_type": "stream",
     "text": [
      "C:\\Users\\lenovo_pc\\Anaconda3\\lib\\site-packages\\h5py\\__init__.py:36: FutureWarning: Conversion of the second argument of issubdtype from `float` to `np.floating` is deprecated. In future, it will be treated as `np.float64 == np.dtype(float).type`.\n",
      "  from ._conv import register_converters as _register_converters\n",
      "Using TensorFlow backend.\n"
     ]
    }
   ],
   "source": [
    "import keras\n",
    "import os\n",
    "import librosa\n",
    "\n",
    "\n",
    "import numpy as np\n",
    "import pandas as pd\n",
    "\n",
    "from sklearn.preprocessing import StandardScaler\n",
    "from sklearn.decomposition import PCA\n",
    "\n",
    "from keras.models import Sequential\n",
    "from keras.utils import np_utils\n",
    "from keras.utils import to_categorical\n",
    "from keras.layers import Dense, Dropout, GaussianNoise, Conv1D\n",
    "from keras.preprocessing.image import ImageDataGenerator\n",
    "\n",
    "import matplotlib.pyplot as plt\n",
    "import seaborn as sns\n",
    "%matplotlib inline"
   ]
  },
  {
   "cell_type": "code",
   "execution_count": 4,
   "metadata": {},
   "outputs": [],
   "source": [
    "DATA_PATH = r'C:\\Users\\lenovo_pc\\Desktop\\CNN_SR\\Dataset-merged'\n",
    "feature_dim_1 = 6"
   ]
  },
  {
   "cell_type": "code",
   "execution_count": 3,
   "metadata": {},
   "outputs": [],
   "source": [
    "def get_labels(path):\n",
    "    labels = os.listdir(path)\n",
    "    label_indices = np.arange(0, len(labels))    \n",
    "    return labels, label_indices, to_categorical(label_indices)\n",
    "\n",
    "\n",
    "\n"
   ]
  },
  {
   "cell_type": "code",
   "execution_count": 4,
   "metadata": {},
   "outputs": [],
   "source": [
    "\n",
    "\n",
    "def save_data_to_array(path, max_pad_len):\n",
    "    labels, _, _ = get_labels(path)\n",
    "\n",
    "    for label in labels:\n",
    "        # Init mfcc vectors\n",
    "        mfcc_vectors = []\n",
    "\n",
    "        wavfiles = [path + '/' + label + '/' + wavfile for wavfile in os.listdir(path + '/' + label)]\n",
    "        #wavfiles = librosa.util.find_files(db)\n",
    "        #print(wavfiles)\n",
    "        x=0\n",
    "        for wavfile in wavfiles:\n",
    "            name=label+'_'+str(x)\n",
    "            mfcc = wav2mfcc(wavfile, name, max_pad_len=max_pad_len)            \n",
    "            mfcc_vectors.append(mfcc)            \n",
    "            x=x+1\n",
    "        \n",
    "        #computing PCA and saving\n",
    "        \n",
    "        np.save(label + '.npy', mfcc_vectors)\n",
    "        #y=np.load(label + '.npy')\n",
    "        #y = sklearn.preprocessing.scale(y)\n",
    "        #y.mean()\n",
    "        #model = sklearn.decomposition.PCA(n_components=2, whiten=True)\n",
    "        #model.fit(y)\n",
    "        #y = model.transform(y)\n",
    "        #pd.DataFrame(y).to_csv(VALUE_PATH+'/'+label+'.csv')\n",
    "        \n",
    "        \n",
    "sample_x=[]\n",
    "\n",
    "def wav2mfcc(file_path, name, max_pad_len):\n",
    "    wave, sr = librosa.load(file_path)\n",
    "    x = librosa.feature.mfcc(wave, sr=sr, n_mfcc=128)\n",
    "    pad_width = max_pad_len - x.shape[1]\n",
    "    x = np.pad(x, pad_width=((0, 0), (0, pad_width)), mode='constant')\n",
    "    #here the dimensions are getting reduced \n",
    "    #through PCA decompostion\n",
    "    x = reduce_dimension(x)\n",
    "    return x.T"
   ]
  },
  {
   "cell_type": "markdown",
   "metadata": {},
   "source": [
    "# PCA decomposition\n",
    "Before I use data with reduced dimensionality, I would like to show what is this about.\n",
    "\n",
    "I arbitrary set number of components to 500. It depends on data, to do such visualization we should aim to set number of components close to the number of original feature number. Transformation take more time depending on number of components."
   ]
  },
  {
   "cell_type": "code",
   "execution_count": 5,
   "metadata": {},
   "outputs": [],
   "source": [
    "NCOMPONENTS = feature_dim_1\n",
    "def reduce_dimension(X):\n",
    "    scaler = StandardScaler()\n",
    "    scaler.fit(X.T)\n",
    "    X_data = scaler.transform(X.T)\n",
    "    \n",
    "    pca = PCA(n_components=NCOMPONENTS)\n",
    "    X_pca = pca.fit_transform(X.T)\n",
    "    \n",
    "    return X_pca.T"
   ]
  },
  {
   "cell_type": "code",
   "execution_count": 6,
   "metadata": {},
   "outputs": [],
   "source": [
    "from sklearn.model_selection import train_test_split\n",
    "\n",
    "\n",
    "def get_train_test(split_ratio=0.8, random_state=42):\n",
    "    # Get available labels\n",
    "    labels, indices, _ = get_labels(DATA_PATH)\n",
    "\n",
    "    # Getting first arrays\n",
    "    X = np.load(labels[0] + '.npy')\n",
    "    # print(X.shape[0]) returns: 129\n",
    "    y = np.zeros(X.shape[0])\n",
    "\n",
    "    # Append all of the dataset into one single array, same goes for y\n",
    "    for i, label in enumerate(labels[1:]):\n",
    "        x = np.load(label + '.npy')\n",
    "        X = np.vstack((X, x))\n",
    "        #print(X.shape[0]) returns: 129+152=281\n",
    "        #print(i) returns: 0: So all y values are 1 for Seven and 0 for Tin\n",
    "        y = np.append(y, np.full(x.shape[0], fill_value= (i + 1)))\n",
    "\n",
    "    assert X.shape[0] == len(y)\n",
    "\n",
    "    return train_test_split(X, y, test_size= (1 - split_ratio), random_state=random_state, shuffle=True)\n",
    "\n"
   ]
  },
  {
   "cell_type": "code",
   "execution_count": 7,
   "metadata": {},
   "outputs": [],
   "source": [
    "\n",
    "\n",
    "#db = r'C:\\Users\\lenovo_pc\\Desktop\\CNN_SR\\SampleData'\n",
    "\n",
    "\n",
    "# Second dimension of the feature is dim2\n",
    "feature_dim_2 = 28\n",
    "\n",
    "# Save data to array file first\n",
    "save_data_to_array(DATA_PATH,feature_dim_2)\n",
    "\n",
    "# # Loading train set and test set\n",
    "X_train, X_test, y_train, y_test = get_train_test()\n",
    "\n",
    "# # Feature dimension\n",
    "channel = 1\n",
    "epochs = 50\n",
    "batch_size = 100\n",
    "verbose = 1\n",
    "num_classes = 2\n",
    "\n",
    "\n",
    "y_train_hot = to_categorical(y_train)\n",
    "y_test_hot = to_categorical(y_test)"
   ]
  },
  {
   "cell_type": "code",
   "execution_count": 8,
   "metadata": {},
   "outputs": [
    {
     "name": "stdout",
     "output_type": "stream",
     "text": [
      "(472, 28, 6)\n",
      "(119, 28, 6)\n"
     ]
    }
   ],
   "source": [
    "\n",
    "#X_train = np.array(x_train)\n",
    "print(X_train.shape)\n",
    "print(X_test.shape)"
   ]
  },
  {
   "cell_type": "markdown",
   "metadata": {},
   "source": [
    "# *********++++++*********++++++*********++++++*********++++++"
   ]
  },
  {
   "cell_type": "code",
   "execution_count": 2,
   "metadata": {},
   "outputs": [
    {
     "name": "stderr",
     "output_type": "stream",
     "text": [
      "C:\\Users\\lenovo_pc\\Anaconda3\\lib\\site-packages\\h5py\\__init__.py:36: FutureWarning: Conversion of the second argument of issubdtype from `float` to `np.floating` is deprecated. In future, it will be treated as `np.float64 == np.dtype(float).type`.\n",
      "  from ._conv import register_converters as _register_converters\n",
      "Using TensorFlow backend.\n"
     ]
    }
   ],
   "source": [
    "from keras.models import Sequential\n",
    "from keras.layers import Dense, Dropout\n",
    "from keras.layers import Embedding\n",
    "from keras import regularizers\n",
    "from keras.layers import Conv1D, GlobalAveragePooling1D, MaxPooling1D"
   ]
  },
  {
   "cell_type": "code",
   "execution_count": 10,
   "metadata": {},
   "outputs": [],
   "source": [
    "#seq_length = NCOMPONENTS\n",
    "\n",
    "#model = Sequential()\n",
    "#model.add(Conv1D(64, 3, activation='relu', input_shape=(feature_dim_2,seq_length), padding='causal'))\n",
    "#model.add(Conv1D(64, 3, activation='relu'))\n",
    "#model.add(MaxPooling1D(3))\n",
    "#model.add(Conv1D(128, 3, activation='relu'))\n",
    "#model.add(Conv1D(128, 3, activation='relu'))\n",
    "#model.add(GlobalAveragePooling1D())\n",
    "#model.add(Dropout(0.5))\n",
    "#model.add(Dense(2, activation='sigmoid'))"
   ]
  },
  {
   "cell_type": "code",
   "execution_count": 6,
   "metadata": {},
   "outputs": [
    {
     "name": "stdout",
     "output_type": "stream",
     "text": [
      "_________________________________________________________________\n",
      "Layer (type)                 Output Shape              Param #   \n",
      "=================================================================\n",
      "conv1d_1 (Conv1D)            (None, 28, 64)            1216      \n",
      "_________________________________________________________________\n",
      "conv1d_2 (Conv1D)            (None, 26, 64)            12352     \n",
      "_________________________________________________________________\n",
      "max_pooling1d_1 (MaxPooling1 (None, 8, 64)             0         \n",
      "_________________________________________________________________\n",
      "global_average_pooling1d_1 ( (None, 64)                0         \n",
      "_________________________________________________________________\n",
      "dropout_1 (Dropout)          (None, 64)                0         \n",
      "_________________________________________________________________\n",
      "dense_1 (Dense)              (None, 2)                 130       \n",
      "=================================================================\n",
      "Total params: 13,698\n",
      "Trainable params: 13,698\n",
      "Non-trainable params: 0\n",
      "_________________________________________________________________\n"
     ]
    }
   ],
   "source": [
    "\n",
    "\n",
    "model = Sequential()\n",
    "model.add(Conv1D(64, 3, activation='relu', input_shape=(feature_dim_2,feature_dim_1) ,padding='causal'))\n",
    "model.add(Conv1D(64, 3, activation='relu', ))\n",
    "model.add(MaxPooling1D(3))\n",
    "#model.add(Conv1D(128, 3, activation='relu', ))\n",
    "#model.add(Conv1D(128, 3, activation='relu', ))\n",
    "model.add(GlobalAveragePooling1D())\n",
    "model.add(Dropout(0.7))\n",
    "model.add(Dense(2, activation='sigmoid'))\n",
    "model.summary()\n"
   ]
  },
  {
   "cell_type": "code",
   "execution_count": 12,
   "metadata": {},
   "outputs": [],
   "source": [
    "model.compile(loss='binary_crossentropy',\n",
    "              optimizer='rmsprop',\n",
    "              metrics=['accuracy'])"
   ]
  },
  {
   "cell_type": "code",
   "execution_count": 13,
   "metadata": {},
   "outputs": [
    {
     "name": "stdout",
     "output_type": "stream",
     "text": [
      "Train on 472 samples, validate on 119 samples\n",
      "Epoch 1/50\n",
      "472/472 [==============================] - 10s 21ms/step - loss: 6.0439 - acc: 0.5148 - val_loss: 0.5864 - val_acc: 0.8193\n",
      "Epoch 2/50\n",
      "472/472 [==============================] - 9s 20ms/step - loss: 4.3848 - acc: 0.5826 - val_loss: 0.5201 - val_acc: 0.8445\n",
      "Epoch 3/50\n",
      "472/472 [==============================] - 9s 19ms/step - loss: 3.0797 - acc: 0.6345 - val_loss: 0.4584 - val_acc: 0.8613\n",
      "Epoch 4/50\n",
      "472/472 [==============================] - 9s 20ms/step - loss: 1.9680 - acc: 0.6589 - val_loss: 0.4262 - val_acc: 0.8277\n",
      "Epoch 5/50\n",
      "472/472 [==============================] - 9s 19ms/step - loss: 1.3080 - acc: 0.7002 - val_loss: 0.4253 - val_acc: 0.8235\n",
      "Epoch 6/50\n",
      "472/472 [==============================] - 9s 20ms/step - loss: 0.9459 - acc: 0.6981 - val_loss: 0.2772 - val_acc: 0.8739\n",
      "Epoch 7/50\n",
      "472/472 [==============================] - 11s 22ms/step - loss: 0.6688 - acc: 0.7331 - val_loss: 0.2706 - val_acc: 0.8824\n",
      "Epoch 8/50\n",
      "472/472 [==============================] - 9s 19ms/step - loss: 0.5627 - acc: 0.7701 - val_loss: 0.2854 - val_acc: 0.8697\n",
      "Epoch 9/50\n",
      "472/472 [==============================] - 10s 20ms/step - loss: 0.5783 - acc: 0.7680 - val_loss: 0.3084 - val_acc: 0.8529\n",
      "Epoch 10/50\n",
      "472/472 [==============================] - 9s 19ms/step - loss: 0.4440 - acc: 0.7987 - val_loss: 0.2677 - val_acc: 0.9034\n",
      "Epoch 11/50\n",
      "472/472 [==============================] - 9s 19ms/step - loss: 0.4129 - acc: 0.8157 - val_loss: 0.2919 - val_acc: 0.8866\n",
      "Epoch 12/50\n",
      "472/472 [==============================] - 9s 18ms/step - loss: 0.4289 - acc: 0.8051 - val_loss: 0.2696 - val_acc: 0.8992\n",
      "Epoch 13/50\n",
      "472/472 [==============================] - 9s 20ms/step - loss: 0.4011 - acc: 0.8008 - val_loss: 0.2769 - val_acc: 0.8866\n",
      "Epoch 14/50\n",
      "472/472 [==============================] - 9s 19ms/step - loss: 0.3554 - acc: 0.8411 - val_loss: 0.2367 - val_acc: 0.9034\n",
      "Epoch 15/50\n",
      "472/472 [==============================] - 9s 18ms/step - loss: 0.3620 - acc: 0.8369 - val_loss: 0.2211 - val_acc: 0.9202\n",
      "Epoch 16/50\n",
      "472/472 [==============================] - 9s 18ms/step - loss: 0.3570 - acc: 0.8305 - val_loss: 0.2446 - val_acc: 0.8992\n",
      "Epoch 17/50\n",
      "472/472 [==============================] - 9s 20ms/step - loss: 0.3748 - acc: 0.8326 - val_loss: 0.2710 - val_acc: 0.8950\n",
      "Epoch 18/50\n",
      "472/472 [==============================] - 9s 19ms/step - loss: 0.3387 - acc: 0.8538 - val_loss: 0.2237 - val_acc: 0.9118\n",
      "Epoch 19/50\n",
      "472/472 [==============================] - 9s 19ms/step - loss: 0.3077 - acc: 0.8686 - val_loss: 0.2434 - val_acc: 0.9202\n",
      "Epoch 20/50\n",
      "472/472 [==============================] - 10s 20ms/step - loss: 0.3126 - acc: 0.8623 - val_loss: 0.2439 - val_acc: 0.9118\n",
      "Epoch 21/50\n",
      "472/472 [==============================] - 9s 19ms/step - loss: 0.2871 - acc: 0.8729 - val_loss: 0.2081 - val_acc: 0.9118\n",
      "Epoch 22/50\n",
      "472/472 [==============================] - 9s 19ms/step - loss: 0.3076 - acc: 0.8644 - val_loss: 0.1958 - val_acc: 0.9244\n",
      "Epoch 23/50\n",
      "472/472 [==============================] - 9s 18ms/step - loss: 0.2861 - acc: 0.8867 - val_loss: 0.2298 - val_acc: 0.9034\n",
      "Epoch 24/50\n",
      "472/472 [==============================] - 9s 19ms/step - loss: 0.3260 - acc: 0.8665 - val_loss: 0.2035 - val_acc: 0.9286\n",
      "Epoch 25/50\n",
      "472/472 [==============================] - 8s 18ms/step - loss: 0.2372 - acc: 0.9121 - val_loss: 0.2068 - val_acc: 0.9118\n",
      "Epoch 26/50\n",
      "472/472 [==============================] - 10s 21ms/step - loss: 0.2647 - acc: 0.8919 - val_loss: 0.2322 - val_acc: 0.9202\n",
      "Epoch 27/50\n",
      "472/472 [==============================] - 9s 19ms/step - loss: 0.2736 - acc: 0.8824 - val_loss: 0.2217 - val_acc: 0.9160\n",
      "Epoch 28/50\n",
      "472/472 [==============================] - 9s 20ms/step - loss: 0.2665 - acc: 0.8835 - val_loss: 0.1849 - val_acc: 0.9202\n",
      "Epoch 29/50\n",
      "472/472 [==============================] - 10s 21ms/step - loss: 0.2351 - acc: 0.8898 - val_loss: 0.1767 - val_acc: 0.9454\n",
      "Epoch 30/50\n",
      "472/472 [==============================] - 9s 19ms/step - loss: 0.2407 - acc: 0.9036 - val_loss: 0.1742 - val_acc: 0.9244\n",
      "Epoch 31/50\n",
      "472/472 [==============================] - 9s 20ms/step - loss: 0.2603 - acc: 0.8909 - val_loss: 0.2214 - val_acc: 0.8950\n",
      "Epoch 32/50\n",
      "472/472 [==============================] - 9s 20ms/step - loss: 0.2185 - acc: 0.9216 - val_loss: 0.2115 - val_acc: 0.9328\n",
      "Epoch 33/50\n",
      "472/472 [==============================] - 9s 19ms/step - loss: 0.2509 - acc: 0.9047 - val_loss: 0.1730 - val_acc: 0.9286\n",
      "Epoch 34/50\n",
      "472/472 [==============================] - 9s 18ms/step - loss: 0.2063 - acc: 0.9131 - val_loss: 0.1697 - val_acc: 0.9328\n",
      "Epoch 35/50\n",
      "472/472 [==============================] - 9s 19ms/step - loss: 0.2262 - acc: 0.9110 - val_loss: 0.1930 - val_acc: 0.9286\n",
      "Epoch 36/50\n",
      "472/472 [==============================] - 9s 18ms/step - loss: 0.2283 - acc: 0.9068 - val_loss: 0.1712 - val_acc: 0.9202\n",
      "Epoch 37/50\n",
      "472/472 [==============================] - 10s 20ms/step - loss: 0.1937 - acc: 0.9258 - val_loss: 0.1682 - val_acc: 0.9286\n",
      "Epoch 38/50\n",
      "472/472 [==============================] - 9s 18ms/step - loss: 0.2074 - acc: 0.9142 - val_loss: 0.1928 - val_acc: 0.9328\n",
      "Epoch 39/50\n",
      "472/472 [==============================] - 9s 19ms/step - loss: 0.2441 - acc: 0.9004 - val_loss: 0.2200 - val_acc: 0.9118\n",
      "Epoch 40/50\n",
      "472/472 [==============================] - 9s 20ms/step - loss: 0.1918 - acc: 0.9269 - val_loss: 0.1686 - val_acc: 0.9286\n",
      "Epoch 41/50\n",
      "472/472 [==============================] - 10s 21ms/step - loss: 0.1950 - acc: 0.9184 - val_loss: 0.1616 - val_acc: 0.9328\n",
      "Epoch 42/50\n",
      "472/472 [==============================] - 10s 22ms/step - loss: 0.1824 - acc: 0.9216 - val_loss: 0.2130 - val_acc: 0.9328\n",
      "Epoch 43/50\n",
      "472/472 [==============================] - 8s 18ms/step - loss: 0.1869 - acc: 0.9258 - val_loss: 0.1558 - val_acc: 0.9160\n",
      "Epoch 44/50\n",
      "472/472 [==============================] - 9s 19ms/step - loss: 0.1845 - acc: 0.9195 - val_loss: 0.1596 - val_acc: 0.9328\n",
      "Epoch 45/50\n",
      "472/472 [==============================] - 9s 19ms/step - loss: 0.1874 - acc: 0.9269 - val_loss: 0.2021 - val_acc: 0.9244\n",
      "Epoch 46/50\n",
      "472/472 [==============================] - 10s 21ms/step - loss: 0.1659 - acc: 0.9364 - val_loss: 0.1633 - val_acc: 0.9286\n",
      "Epoch 47/50\n",
      "472/472 [==============================] - 9s 19ms/step - loss: 0.1771 - acc: 0.9216 - val_loss: 0.1549 - val_acc: 0.9244\n",
      "Epoch 48/50\n",
      "472/472 [==============================] - 9s 19ms/step - loss: 0.1958 - acc: 0.9227 - val_loss: 0.1529 - val_acc: 0.9328\n",
      "Epoch 49/50\n",
      "472/472 [==============================] - 9s 18ms/step - loss: 0.1521 - acc: 0.9343 - val_loss: 0.1834 - val_acc: 0.9328\n",
      "Epoch 50/50\n",
      "472/472 [==============================] - 9s 19ms/step - loss: 0.1611 - acc: 0.9407 - val_loss: 0.1644 - val_acc: 0.9412\n"
     ]
    }
   ],
   "source": [
    "#model.fit(x_train, y_train, batch_size=7, epochs=10)\n",
    "\n",
    "history = model.fit(X_train, y_train_hot, batch_size=batch_size, epochs=50, verbose=verbose, validation_data=(X_test, y_test_hot))"
   ]
  },
  {
   "cell_type": "code",
   "execution_count": 14,
   "metadata": {},
   "outputs": [
    {
     "name": "stdout",
     "output_type": "stream",
     "text": [
      "model train data score: acc       :  99.36 %\n",
      "model train data score: loss      :  5.41 %\n",
      "model test data score: acc        :  94.12 %\n",
      "model test data score: loss       :  16.44 %\n"
     ]
    }
   ],
   "source": [
    "score = model.evaluate(X_train, y_train_hot, verbose=0) \n",
    "print (\"model train data score: acc       : \",round(score[1]*100,2) , \"%\")\n",
    "print (\"model train data score: loss      : \",round(score[0]*100,2) , \"%\")\n",
    "\n",
    "score = model.evaluate(X_test, y_test_hot, verbose=0) \n",
    "print (\"model test data score: acc        : \",round(score[1]*100,2) , \"%\")\n",
    "print (\"model test data score: loss       : \",round(score[0]*100,2) , \"%\")\n"
   ]
  },
  {
   "cell_type": "code",
   "execution_count": 15,
   "metadata": {},
   "outputs": [
    {
     "data": {
      "image/png": "[encoded data removed]",
      "text/plain": [
       "<Figure size 432x288 with 1 Axes>"
      ]
     },
     "metadata": {
      "needs_background": "light"
     },
     "output_type": "display_data"
    }
   ],
   "source": [
    "# summarize history for accuracy\n",
    "plt.plot(history.history['acc'])\n",
    "plt.plot(history.history['val_acc'])\n",
    "plt.title('model accuracy')\n",
    "plt.ylabel('accuracy')\n",
    "plt.xlabel('epoch')\n",
    "plt.legend(['train', 'test'], loc='upper left')\n",
    "plt.show()"
   ]
  },
  {
   "cell_type": "code",
   "execution_count": 16,
   "metadata": {},
   "outputs": [
    {
     "data": {
      "image/png": "[encoded data removed]",
      "text/plain": [
       "<Figure size 432x288 with 1 Axes>"
      ]
     },
     "metadata": {
      "needs_background": "light"
     },
     "output_type": "display_data"
    }
   ],
   "source": [
    "# summarize history for loss\n",
    "plt.plot(history.history['loss'])\n",
    "plt.plot(history.history['val_loss'])\n",
    "plt.title('model loss')\n",
    "plt.ylabel('loss')\n",
    "plt.xlabel('epoch')\n",
    "plt.legend(['train', 'test'], loc='upper left')\n",
    "plt.show()"
   ]
  },
  {
   "cell_type": "markdown",
   "metadata": {},
   "source": [
    "# RNN+LSTM"
   ]
  },
  {
   "cell_type": "code",
   "execution_count": 17,
   "metadata": {},
   "outputs": [],
   "source": [
    "import numpy as np\n",
    "from keras.models import Sequential\n",
    "from keras.layers import Dense, Dropout, Activation, Flatten, LSTM\n",
    "from keras.layers import Convolution2D, MaxPooling2D\n",
    "from keras.optimizers import Adam\n",
    "from keras.regularizers import l2\n",
    "from keras.callbacks import EarlyStopping,ReduceLROnPlateau,ModelCheckpoint,TensorBoard,ProgbarLogger\n",
    "from keras.utils import np_utils\n",
    "from sklearn import metrics \n",
    "from sklearn.metrics import confusion_matrix, classification_report, accuracy_score\n",
    "from sklearn.preprocessing import LabelEncoder\n",
    "import itertools"
   ]
  },
  {
   "cell_type": "code",
   "execution_count": 18,
   "metadata": {},
   "outputs": [
    {
     "name": "stdout",
     "output_type": "stream",
     "text": [
      "Build LSTM RNN model ...\n"
     ]
    }
   ],
   "source": [
    "print('Build LSTM RNN model ...')\n",
    "model = Sequential()\n",
    "model.add(LSTM(units=32, dropout=0.1, recurrent_dropout=0.15, kernel_regularizer=l2(0.05), recurrent_regularizer=l2(0.08), bias_regularizer=l2(0.06), return_sequences=True))\n",
    "model.add(LSTM(units=32, dropout=0.4, recurrent_dropout=0.30, kernel_regularizer=l2(0.90), recurrent_regularizer=l2(0.90), bias_regularizer=l2(0.50), return_sequences=False))\n",
    "model.add(Dense(2, activation='softmax'))\n",
    "model.compile(loss='categorical_crossentropy', optimizer='Adamax', metrics=['acc','mse', 'mae', 'mape', 'cosine'])\n",
    "#model.summary()"
   ]
  },
  {
   "cell_type": "code",
   "execution_count": 19,
   "metadata": {},
   "outputs": [
    {
     "name": "stdout",
     "output_type": "stream",
     "text": [
      "training started..... please wait.\n",
      "\n",
      "Epoch 00001: loss improved from inf to 49.30898, saving model to ./best_model_trained.hdf5\n",
      "\n",
      "Epoch 00002: loss improved from 49.30898 to 16.69484, saving model to ./best_model_trained.hdf5\n",
      "\n",
      "Epoch 00003: loss improved from 16.69484 to 9.96170, saving model to ./best_model_trained.hdf5\n",
      "\n",
      "Epoch 00004: loss improved from 9.96170 to 6.98234, saving model to ./best_model_trained.hdf5\n",
      "\n",
      "Epoch 00005: loss improved from 6.98234 to 5.03171, saving model to ./best_model_trained.hdf5\n",
      "\n",
      "Epoch 00006: loss improved from 5.03171 to 3.63776, saving model to ./best_model_trained.hdf5\n",
      "\n",
      "Epoch 00007: loss improved from 3.63776 to 2.64374, saving model to ./best_model_trained.hdf5\n",
      "\n",
      "Epoch 00008: loss improved from 2.64374 to 1.95163, saving model to ./best_model_trained.hdf5\n",
      "\n",
      "Epoch 00009: loss improved from 1.95163 to 1.47882, saving model to ./best_model_trained.hdf5\n",
      "\n",
      "Epoch 00010: loss improved from 1.47882 to 1.17312, saving model to ./best_model_trained.hdf5\n",
      "\n",
      "Epoch 00011: loss improved from 1.17312 to 0.97564, saving model to ./best_model_trained.hdf5\n",
      "\n",
      "Epoch 00012: loss improved from 0.97564 to 0.85711, saving model to ./best_model_trained.hdf5\n",
      "\n",
      "Epoch 00013: loss improved from 0.85711 to 0.78472, saving model to ./best_model_trained.hdf5\n",
      "\n",
      "Epoch 00014: loss improved from 0.78472 to 0.74447, saving model to ./best_model_trained.hdf5\n",
      "\n",
      "Epoch 00015: loss improved from 0.74447 to 0.72163, saving model to ./best_model_trained.hdf5\n",
      "\n",
      "Epoch 00016: loss improved from 0.72163 to 0.70978, saving model to ./best_model_trained.hdf5\n",
      "\n",
      "Epoch 00017: loss improved from 0.70978 to 0.70168, saving model to ./best_model_trained.hdf5\n",
      "\n",
      "Epoch 00018: loss improved from 0.70168 to 0.69598, saving model to ./best_model_trained.hdf5\n",
      "\n",
      "Epoch 00019: loss improved from 0.69598 to 0.69524, saving model to ./best_model_trained.hdf5\n",
      "\n",
      "Epoch 00020: loss improved from 0.69524 to 0.69289, saving model to ./best_model_trained.hdf5\n",
      "\n",
      "Epoch 00021: loss improved from 0.69289 to 0.68650, saving model to ./best_model_trained.hdf5\n",
      "\n",
      "Epoch 00022: loss improved from 0.68650 to 0.68633, saving model to ./best_model_trained.hdf5\n",
      "\n",
      "Epoch 00023: loss improved from 0.68633 to 0.68303, saving model to ./best_model_trained.hdf5\n",
      "\n",
      "Epoch 00024: loss did not improve from 0.68303\n",
      "\n",
      "Epoch 00025: loss improved from 0.68303 to 0.67751, saving model to ./best_model_trained.hdf5\n",
      "\n",
      "Epoch 00026: loss improved from 0.67751 to 0.67295, saving model to ./best_model_trained.hdf5\n",
      "\n",
      "Epoch 00027: loss improved from 0.67295 to 0.66833, saving model to ./best_model_trained.hdf5\n",
      "\n",
      "Epoch 00028: loss did not improve from 0.66833\n",
      "\n",
      "Epoch 00029: loss improved from 0.66833 to 0.65585, saving model to ./best_model_trained.hdf5\n",
      "\n",
      "Epoch 00030: loss did not improve from 0.65585\n",
      "\n",
      "Epoch 00031: loss improved from 0.65585 to 0.65079, saving model to ./best_model_trained.hdf5\n",
      "\n",
      "Epoch 00032: loss improved from 0.65079 to 0.64945, saving model to ./best_model_trained.hdf5\n",
      "\n",
      "Epoch 00033: loss improved from 0.64945 to 0.62745, saving model to ./best_model_trained.hdf5\n",
      "\n",
      "Epoch 00034: loss did not improve from 0.62745\n",
      "\n",
      "Epoch 00035: loss improved from 0.62745 to 0.61746, saving model to ./best_model_trained.hdf5\n",
      "\n",
      "Epoch 00036: loss did not improve from 0.61746\n",
      "\n",
      "Epoch 00037: loss improved from 0.61746 to 0.61039, saving model to ./best_model_trained.hdf5\n",
      "\n",
      "Epoch 00038: loss did not improve from 0.61039\n",
      "\n",
      "Epoch 00039: loss improved from 0.61039 to 0.59880, saving model to ./best_model_trained.hdf5\n",
      "\n",
      "Epoch 00040: loss did not improve from 0.59880\n",
      "\n",
      "Epoch 00041: loss did not improve from 0.59880\n",
      "\n",
      "Epoch 00042: loss improved from 0.59880 to 0.58484, saving model to ./best_model_trained.hdf5\n",
      "\n",
      "Epoch 00043: loss did not improve from 0.58484\n",
      "\n",
      "Epoch 00044: loss did not improve from 0.58484\n",
      "\n",
      "Epoch 00045: loss did not improve from 0.58484\n",
      "\n",
      "Epoch 00046: loss improved from 0.58484 to 0.56879, saving model to ./best_model_trained.hdf5\n",
      "\n",
      "Epoch 00047: loss did not improve from 0.56879\n",
      "\n",
      "Epoch 00048: loss improved from 0.56879 to 0.56281, saving model to ./best_model_trained.hdf5\n",
      "\n",
      "Epoch 00049: loss did not improve from 0.56281\n",
      "\n",
      "Epoch 00050: loss improved from 0.56281 to 0.55505, saving model to ./best_model_trained.hdf5\n",
      "_________________________________________________________________\n",
      "Layer (type)                 Output Shape              Param #   \n",
      "=================================================================\n",
      "lstm_1 (LSTM)                (None, 28, 32)            4992      \n",
      "_________________________________________________________________\n",
      "lstm_2 (LSTM)                (None, 32)                8320      \n",
      "_________________________________________________________________\n",
      "dense_2 (Dense)              (None, 2)                 66        \n",
      "=================================================================\n",
      "Total params: 13,378\n",
      "Trainable params: 13,378\n",
      "Non-trainable params: 0\n",
      "_________________________________________________________________\n",
      "training finised!\n",
      "Wall time: 2min 35s\n"
     ]
    }
   ],
   "source": [
    "%%time\n",
    "# saved model checkpoint file\n",
    "best_model_file=\"./best_model_trained.hdf5\"\n",
    "#train_model_file=file_path+\"/checkpoints/weights.best_{epoch:02d}-{loss:.2f}.hdf5\"\n",
    "MAX_PATIENT=12\n",
    "MAX_EPOCHS=50\n",
    "MAX_BATCH=7\n",
    "\n",
    "# callbacks\n",
    "# removed EarlyStopping(patience=MAX_PATIENT)\n",
    "callback=[ReduceLROnPlateau(patience=MAX_PATIENT, verbose=1),\n",
    "          ModelCheckpoint(filepath=best_model_file, monitor='loss', verbose=1, save_best_only=True)]\n",
    "\n",
    "print (\"training started..... please wait.\")\n",
    "# training\n",
    "history=model.fit(X_train, y_train_hot, \n",
    "                  batch_size=MAX_BATCH, \n",
    "                  epochs=MAX_EPOCHS,\n",
    "                  verbose=0,\n",
    "                  validation_data=(X_test, y_test_hot),\n",
    "                  callbacks=callback) \n",
    "model.summary()\n",
    "print (\"training finised!\")\n",
    "\n"
   ]
  },
  {
   "cell_type": "code",
   "execution_count": 20,
   "metadata": {},
   "outputs": [
    {
     "name": "stdout",
     "output_type": "stream",
     "text": [
      "model train data score       :  86.23 %\n",
      "model train data loss        :  0.49\n",
      "model test data score        :  82.35 %\n",
      "model train data loss        :  0.52\n"
     ]
    }
   ],
   "source": [
    "score = model.evaluate(X_train, y_train_hot, verbose=0) \n",
    "print (\"model train data score       : \",round(score[1]*100,2) , \"%\")\n",
    "print (\"model train data loss        : \",round(score[0],2))\n",
    "\n",
    "score = model.evaluate(X_test, y_test_hot, verbose=0) \n",
    "print (\"model test data score        : \",round(score[1]*100,2) , \"%\")\n",
    "print (\"model train data loss        : \",round(score[0],2))"
   ]
  },
  {
   "cell_type": "code",
   "execution_count": 21,
   "metadata": {},
   "outputs": [
    {
     "data": {
      "image/png": "[encoded data removed]",
      "text/plain": [
       "<Figure size 432x288 with 1 Axes>"
      ]
     },
     "metadata": {
      "needs_background": "light"
     },
     "output_type": "display_data"
    }
   ],
   "source": [
    "# summarize history for accuracy\n",
    "plt.plot(history.history['acc'])\n",
    "plt.plot(history.history['val_acc'])\n",
    "plt.title('model accuracy')\n",
    "plt.ylabel('accuracy')\n",
    "plt.xlabel('epoch')\n",
    "plt.legend(['train', 'test'], loc='upper left')\n",
    "plt.show()"
   ]
  },
  {
   "cell_type": "code",
   "execution_count": 22,
   "metadata": {},
   "outputs": [
    {
     "data": {
      "image/png": "[encoded data removed]",
      "text/plain": [
       "<Figure size 432x288 with 1 Axes>"
      ]
     },
     "metadata": {
      "needs_background": "light"
     },
     "output_type": "display_data"
    }
   ],
   "source": [
    "# summarize history for loss\n",
    "plt.plot(history.history['loss'])\n",
    "plt.plot(history.history['val_loss'])\n",
    "plt.title('model loss')\n",
    "plt.ylabel('loss')\n",
    "plt.xlabel('epoch')\n",
    "plt.legend(['train', 'test'], loc='upper left')\n",
    "plt.show()"
   ]
  }
 ],
 "metadata": {
  "kernelspec": {
   "display_name": "Python 3",
   "language": "python",
   "name": "python3"
  },
  "language_info": {
   "codemirror_mode": {
    "name": "ipython",
    "version": 3
   },
   "file_extension": ".py",
   "mimetype": "text/x-python",
   "name": "python",
   "nbconvert_exporter": "python",
   "pygments_lexer": "ipython3",
   "version": "3.6.4"
  }
 },
 "nbformat": 4,
 "nbformat_minor": 2
}
