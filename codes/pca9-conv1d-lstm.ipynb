{
 "cells": [
  {
   "cell_type": "code",
   "execution_count": 1,
   "metadata": {},
   "outputs": [
    {
     "name": "stderr",
     "output_type": "stream",
     "text": [
      "C:\\Users\\lenovo_pc\\Anaconda3\\lib\\site-packages\\h5py\\__init__.py:36: FutureWarning: Conversion of the second argument of issubdtype from `float` to `np.floating` is deprecated. In future, it will be treated as `np.float64 == np.dtype(float).type`.\n",
      "  from ._conv import register_converters as _register_converters\n",
      "Using TensorFlow backend.\n"
     ]
    }
   ],
   "source": [
    "import keras\n",
    "import os\n",
    "import librosa\n",
    "\n",
    "\n",
    "import numpy as np\n",
    "import pandas as pd\n",
    "\n",
    "from sklearn.preprocessing import StandardScaler\n",
    "from sklearn.decomposition import PCA\n",
    "\n",
    "from keras.models import Sequential\n",
    "from keras.utils import np_utils\n",
    "from keras.utils import to_categorical\n",
    "from keras.layers import Dense, Dropout, GaussianNoise, Conv1D\n",
    "from keras.preprocessing.image import ImageDataGenerator\n",
    "\n",
    "import matplotlib.pyplot as plt\n",
    "import seaborn as sns\n",
    "%matplotlib inline"
   ]
  },
  {
   "cell_type": "code",
   "execution_count": 2,
   "metadata": {},
   "outputs": [],
   "source": [
    "DATA_PATH = r'C:\\Users\\lenovo_pc\\Desktop\\CNN_SR\\Dataset-merged'\n",
    "feature_dim_1 = 9"
   ]
  },
  {
   "cell_type": "code",
   "execution_count": 3,
   "metadata": {},
   "outputs": [],
   "source": [
    "def get_labels(path):\n",
    "    labels = os.listdir(path)\n",
    "    label_indices = np.arange(0, len(labels))    \n",
    "    return labels, label_indices, to_categorical(label_indices)\n",
    "\n",
    "\n",
    "\n"
   ]
  },
  {
   "cell_type": "code",
   "execution_count": 4,
   "metadata": {},
   "outputs": [],
   "source": [
    "\n",
    "\n",
    "def save_data_to_array(path, max_pad_len):\n",
    "    labels, _, _ = get_labels(path)\n",
    "\n",
    "    for label in labels:\n",
    "        # Init mfcc vectors\n",
    "        mfcc_vectors = []\n",
    "\n",
    "        wavfiles = [path + '/' + label + '/' + wavfile for wavfile in os.listdir(path + '/' + label)]\n",
    "        #wavfiles = librosa.util.find_files(db)\n",
    "        #print(wavfiles)\n",
    "        x=0\n",
    "        for wavfile in wavfiles:\n",
    "            name=label+'_'+str(x)\n",
    "            mfcc = wav2mfcc(wavfile, name, max_pad_len=max_pad_len)            \n",
    "            mfcc_vectors.append(mfcc)            \n",
    "            x=x+1\n",
    "        \n",
    "        #computing PCA and saving\n",
    "        \n",
    "        np.save(label + '.npy', mfcc_vectors)\n",
    "        #y=np.load(label + '.npy')\n",
    "        #y = sklearn.preprocessing.scale(y)\n",
    "        #y.mean()\n",
    "        #model = sklearn.decomposition.PCA(n_components=2, whiten=True)\n",
    "        #model.fit(y)\n",
    "        #y = model.transform(y)\n",
    "        #pd.DataFrame(y).to_csv(VALUE_PATH+'/'+label+'.csv')\n",
    "        \n",
    "        \n",
    "sample_x=[]\n",
    "\n",
    "def wav2mfcc(file_path, name, max_pad_len):\n",
    "    wave, sr = librosa.load(file_path)\n",
    "    x = librosa.feature.mfcc(wave, sr=sr, n_mfcc=128)\n",
    "    pad_width = max_pad_len - x.shape[1]\n",
    "    x = np.pad(x, pad_width=((0, 0), (0, pad_width)), mode='constant')\n",
    "    #here the dimensions are getting reduced \n",
    "    #through PCA decompostion\n",
    "    x = reduce_dimension(x)\n",
    "    return x.T"
   ]
  },
  {
   "cell_type": "markdown",
   "metadata": {},
   "source": [
    "# PCA decomposition\n",
    "Before I use data with reduced dimensionality, I would like to show what is this about.\n",
    "\n",
    "I arbitrary set number of components to 500. It depends on data, to do such visualization we should aim to set number of components close to the number of original feature number. Transformation take more time depending on number of components."
   ]
  },
  {
   "cell_type": "code",
   "execution_count": 5,
   "metadata": {},
   "outputs": [],
   "source": [
    "NCOMPONENTS = feature_dim_1\n",
    "def reduce_dimension(X):\n",
    "    scaler = StandardScaler()\n",
    "    scaler.fit(X.T)\n",
    "    X_data = scaler.transform(X.T)\n",
    "    \n",
    "    pca = PCA(n_components=NCOMPONENTS)\n",
    "    X_pca = pca.fit_transform(X.T)\n",
    "    \n",
    "    return X_pca.T"
   ]
  },
  {
   "cell_type": "code",
   "execution_count": 6,
   "metadata": {},
   "outputs": [],
   "source": [
    "from sklearn.model_selection import train_test_split\n",
    "\n",
    "\n",
    "def get_train_test(split_ratio=0.8, random_state=42):\n",
    "    # Get available labels\n",
    "    labels, indices, _ = get_labels(DATA_PATH)\n",
    "\n",
    "    # Getting first arrays\n",
    "    X = np.load(labels[0] + '.npy')\n",
    "    # print(X.shape[0]) returns: 129\n",
    "    y = np.zeros(X.shape[0])\n",
    "\n",
    "    # Append all of the dataset into one single array, same goes for y\n",
    "    for i, label in enumerate(labels[1:]):\n",
    "        x = np.load(label + '.npy')\n",
    "        X = np.vstack((X, x))\n",
    "        #print(X.shape[0]) returns: 129+152=281\n",
    "        #print(i) returns: 0: So all y values are 1 for Seven and 0 for Tin\n",
    "        y = np.append(y, np.full(x.shape[0], fill_value= (i + 1)))\n",
    "\n",
    "    assert X.shape[0] == len(y)\n",
    "\n",
    "    return train_test_split(X, y, test_size= (1 - split_ratio), random_state=random_state, shuffle=True)\n",
    "\n"
   ]
  },
  {
   "cell_type": "code",
   "execution_count": 7,
   "metadata": {},
   "outputs": [],
   "source": [
    "\n",
    "\n",
    "#db = r'C:\\Users\\lenovo_pc\\Desktop\\CNN_SR\\SampleData'\n",
    "\n",
    "\n",
    "# Second dimension of the feature is dim2\n",
    "feature_dim_2 = 28\n",
    "\n",
    "# Save data to array file first\n",
    "save_data_to_array(DATA_PATH,feature_dim_2)\n",
    "\n",
    "# # Loading train set and test set\n",
    "X_train, X_test, y_train, y_test = get_train_test()\n",
    "\n",
    "# # Feature dimension\n",
    "channel = 1\n",
    "epochs = 50\n",
    "batch_size = 100\n",
    "verbose = 1\n",
    "num_classes = 2\n",
    "\n",
    "\n",
    "y_train_hot = to_categorical(y_train)\n",
    "y_test_hot = to_categorical(y_test)"
   ]
  },
  {
   "cell_type": "code",
   "execution_count": 8,
   "metadata": {},
   "outputs": [
    {
     "name": "stdout",
     "output_type": "stream",
     "text": [
      "(472, 28, 9)\n",
      "(119, 28, 9)\n"
     ]
    }
   ],
   "source": [
    "\n",
    "#X_train = np.array(x_train)\n",
    "print(X_train.shape)\n",
    "print(X_test.shape)"
   ]
  },
  {
   "cell_type": "markdown",
   "metadata": {},
   "source": [
    "# *********++++++*********++++++*********++++++*********++++++"
   ]
  },
  {
   "cell_type": "code",
   "execution_count": 9,
   "metadata": {},
   "outputs": [],
   "source": [
    "from keras.models import Sequential\n",
    "from keras.layers import Dense, Dropout\n",
    "from keras.layers import Embedding\n",
    "from keras import regularizers\n",
    "from keras.layers import Conv1D, GlobalAveragePooling1D, MaxPooling1D"
   ]
  },
  {
   "cell_type": "code",
   "execution_count": 10,
   "metadata": {},
   "outputs": [],
   "source": [
    "#seq_length = NCOMPONENTS\n",
    "\n",
    "#model = Sequential()\n",
    "#model.add(Conv1D(64, 3, activation='relu', input_shape=(feature_dim_2,seq_length), padding='causal'))\n",
    "#model.add(Conv1D(64, 3, activation='relu'))\n",
    "#model.add(MaxPooling1D(3))\n",
    "#model.add(Conv1D(128, 3, activation='relu'))\n",
    "#model.add(Conv1D(128, 3, activation='relu'))\n",
    "#model.add(GlobalAveragePooling1D())\n",
    "#model.add(Dropout(0.5))\n",
    "#model.add(Dense(2, activation='sigmoid'))"
   ]
  },
  {
   "cell_type": "code",
   "execution_count": 11,
   "metadata": {},
   "outputs": [],
   "source": [
    "\n",
    "\n",
    "model = Sequential()\n",
    "model.add(Conv1D(64, 3, activation='relu', input_shape=(feature_dim_2,feature_dim_1) ,padding='causal'))\n",
    "model.add(Conv1D(64, 3, activation='relu', ))\n",
    "model.add(MaxPooling1D(3))\n",
    "#model.add(Conv1D(128, 3, activation='relu', ))\n",
    "#model.add(Conv1D(128, 3, activation='relu', ))\n",
    "model.add(GlobalAveragePooling1D())\n",
    "model.add(Dropout(0.7))\n",
    "model.add(Dense(2, activation='sigmoid'))\n"
   ]
  },
  {
   "cell_type": "code",
   "execution_count": 12,
   "metadata": {},
   "outputs": [],
   "source": [
    "model.compile(loss='binary_crossentropy',\n",
    "              optimizer='rmsprop',\n",
    "              metrics=['accuracy'])"
   ]
  },
  {
   "cell_type": "code",
   "execution_count": 13,
   "metadata": {},
   "outputs": [
    {
     "name": "stdout",
     "output_type": "stream",
     "text": [
      "Train on 472 samples, validate on 119 samples\n",
      "Epoch 1/50\n",
      "472/472 [==============================] - 10s 22ms/step - loss: 6.2169 - acc: 0.4979 - val_loss: 1.8849 - val_acc: 0.6387\n",
      "Epoch 2/50\n",
      "472/472 [==============================] - 8s 17ms/step - loss: 4.7110 - acc: 0.5614 - val_loss: 1.3124 - val_acc: 0.6429\n",
      "Epoch 3/50\n",
      "472/472 [==============================] - 8s 17ms/step - loss: 3.0217 - acc: 0.6282 - val_loss: 0.3750 - val_acc: 0.8571\n",
      "Epoch 4/50\n",
      "472/472 [==============================] - 9s 19ms/step - loss: 1.8948 - acc: 0.6589 - val_loss: 0.3062 - val_acc: 0.8739\n",
      "Epoch 5/50\n",
      "472/472 [==============================] - 13s 28ms/step - loss: 0.9854 - acc: 0.7066 - val_loss: 0.2787 - val_acc: 0.8908\n",
      "Epoch 6/50\n",
      "472/472 [==============================] - 15s 31ms/step - loss: 0.6951 - acc: 0.7521 - val_loss: 0.4228 - val_acc: 0.7941\n",
      "Epoch 7/50\n",
      "472/472 [==============================] - 11s 24ms/step - loss: 0.6194 - acc: 0.7479 - val_loss: 0.3404 - val_acc: 0.8319\n",
      "Epoch 8/50\n",
      "472/472 [==============================] - 15s 31ms/step - loss: 0.5339 - acc: 0.7712 - val_loss: 0.3069 - val_acc: 0.8908\n",
      "Epoch 9/50\n",
      "472/472 [==============================] - 8s 16ms/step - loss: 0.5422 - acc: 0.7828 - val_loss: 0.2753 - val_acc: 0.9034\n",
      "Epoch 10/50\n",
      "472/472 [==============================] - 15s 32ms/step - loss: 0.5013 - acc: 0.7956 - val_loss: 0.2777 - val_acc: 0.9202\n",
      "Epoch 11/50\n",
      "472/472 [==============================] - 9s 19ms/step - loss: 0.4241 - acc: 0.8199 - val_loss: 0.2702 - val_acc: 0.9076\n",
      "Epoch 12/50\n",
      "472/472 [==============================] - 8s 16ms/step - loss: 0.4301 - acc: 0.8040 - val_loss: 0.3556 - val_acc: 0.8151\n",
      "Epoch 13/50\n",
      "472/472 [==============================] - 11s 23ms/step - loss: 0.4550 - acc: 0.7913 - val_loss: 0.2744 - val_acc: 0.9118\n",
      "Epoch 14/50\n",
      "472/472 [==============================] - 9s 19ms/step - loss: 0.3841 - acc: 0.8263 - val_loss: 0.2616 - val_acc: 0.9244\n",
      "Epoch 15/50\n",
      "472/472 [==============================] - 9s 19ms/step - loss: 0.3568 - acc: 0.8475 - val_loss: 0.2549 - val_acc: 0.8950\n",
      "Epoch 16/50\n",
      "472/472 [==============================] - 9s 20ms/step - loss: 0.3715 - acc: 0.8432 - val_loss: 0.2431 - val_acc: 0.9244\n",
      "Epoch 17/50\n",
      "472/472 [==============================] - 9s 20ms/step - loss: 0.3613 - acc: 0.8411 - val_loss: 0.2677 - val_acc: 0.8866\n",
      "Epoch 18/50\n",
      "472/472 [==============================] - 9s 19ms/step - loss: 0.3561 - acc: 0.8390 - val_loss: 0.2494 - val_acc: 0.9244\n",
      "Epoch 19/50\n",
      "472/472 [==============================] - 9s 19ms/step - loss: 0.3535 - acc: 0.8453 - val_loss: 0.2902 - val_acc: 0.9034\n",
      "Epoch 20/50\n",
      "472/472 [==============================] - 9s 20ms/step - loss: 0.3444 - acc: 0.8390 - val_loss: 0.2322 - val_acc: 0.9076\n",
      "Epoch 21/50\n",
      "472/472 [==============================] - 9s 20ms/step - loss: 0.3178 - acc: 0.8676 - val_loss: 0.2069 - val_acc: 0.9076\n",
      "Epoch 22/50\n",
      "472/472 [==============================] - 9s 19ms/step - loss: 0.3260 - acc: 0.8549 - val_loss: 0.2903 - val_acc: 0.9034\n",
      "Epoch 23/50\n",
      "472/472 [==============================] - 9s 19ms/step - loss: 0.2897 - acc: 0.8665 - val_loss: 0.2051 - val_acc: 0.9370\n",
      "Epoch 24/50\n",
      "472/472 [==============================] - 9s 19ms/step - loss: 0.2860 - acc: 0.8824 - val_loss: 0.2048 - val_acc: 0.9370\n",
      "Epoch 25/50\n",
      "472/472 [==============================] - 9s 19ms/step - loss: 0.2578 - acc: 0.8994 - val_loss: 0.3324 - val_acc: 0.8235\n",
      "Epoch 26/50\n",
      "472/472 [==============================] - 9s 20ms/step - loss: 0.3296 - acc: 0.8633 - val_loss: 0.2694 - val_acc: 0.9034\n",
      "Epoch 27/50\n",
      "472/472 [==============================] - 8s 18ms/step - loss: 0.2923 - acc: 0.8697 - val_loss: 0.1922 - val_acc: 0.9286\n",
      "Epoch 28/50\n",
      "472/472 [==============================] - 8s 17ms/step - loss: 0.3068 - acc: 0.8697 - val_loss: 0.2126 - val_acc: 0.9244\n",
      "Epoch 29/50\n",
      "472/472 [==============================] - 9s 19ms/step - loss: 0.2307 - acc: 0.9131 - val_loss: 0.1996 - val_acc: 0.9328\n",
      "Epoch 30/50\n",
      "472/472 [==============================] - 9s 19ms/step - loss: 0.2446 - acc: 0.8972 - val_loss: 0.1948 - val_acc: 0.9286\n",
      "Epoch 31/50\n",
      "472/472 [==============================] - 9s 19ms/step - loss: 0.2354 - acc: 0.9015 - val_loss: 0.1896 - val_acc: 0.9328\n",
      "Epoch 32/50\n",
      "472/472 [==============================] - 9s 18ms/step - loss: 0.2687 - acc: 0.8718 - val_loss: 0.1853 - val_acc: 0.9202\n",
      "Epoch 33/50\n",
      "472/472 [==============================] - 9s 19ms/step - loss: 0.2377 - acc: 0.9047 - val_loss: 0.1934 - val_acc: 0.9160\n",
      "Epoch 34/50\n",
      "472/472 [==============================] - 9s 19ms/step - loss: 0.2112 - acc: 0.9237 - val_loss: 0.1802 - val_acc: 0.9244\n",
      "Epoch 35/50\n",
      "472/472 [==============================] - 9s 18ms/step - loss: 0.2349 - acc: 0.8951 - val_loss: 0.1801 - val_acc: 0.9496\n",
      "Epoch 36/50\n",
      "472/472 [==============================] - 8s 18ms/step - loss: 0.2430 - acc: 0.9047 - val_loss: 0.1781 - val_acc: 0.9244\n",
      "Epoch 37/50\n",
      "472/472 [==============================] - 8s 18ms/step - loss: 0.2035 - acc: 0.9174 - val_loss: 0.2164 - val_acc: 0.9328\n",
      "Epoch 38/50\n",
      "472/472 [==============================] - 8s 17ms/step - loss: 0.1974 - acc: 0.9311 - val_loss: 0.2175 - val_acc: 0.9286\n",
      "Epoch 39/50\n",
      "472/472 [==============================] - 8s 17ms/step - loss: 0.2434 - acc: 0.8972 - val_loss: 0.2361 - val_acc: 0.9286\n",
      "Epoch 40/50\n",
      "472/472 [==============================] - 8s 17ms/step - loss: 0.2104 - acc: 0.9121 - val_loss: 0.1926 - val_acc: 0.9328\n",
      "Epoch 41/50\n",
      "472/472 [==============================] - 8s 17ms/step - loss: 0.2198 - acc: 0.9142 - val_loss: 0.1707 - val_acc: 0.9244\n",
      "Epoch 42/50\n",
      "472/472 [==============================] - 9s 20ms/step - loss: 0.2248 - acc: 0.9110 - val_loss: 0.1720 - val_acc: 0.9202\n",
      "Epoch 43/50\n",
      "472/472 [==============================] - 9s 19ms/step - loss: 0.2153 - acc: 0.9100 - val_loss: 0.1676 - val_acc: 0.9328\n",
      "Epoch 44/50\n",
      "472/472 [==============================] - 9s 19ms/step - loss: 0.1547 - acc: 0.9417 - val_loss: 0.1743 - val_acc: 0.9370\n",
      "Epoch 45/50\n",
      "472/472 [==============================] - 9s 19ms/step - loss: 0.1571 - acc: 0.9322 - val_loss: 0.1648 - val_acc: 0.9244\n",
      "Epoch 46/50\n",
      "472/472 [==============================] - 9s 20ms/step - loss: 0.1755 - acc: 0.9301 - val_loss: 0.1601 - val_acc: 0.9370\n",
      "Epoch 47/50\n",
      "472/472 [==============================] - 10s 21ms/step - loss: 0.1808 - acc: 0.9248 - val_loss: 0.1777 - val_acc: 0.9328\n",
      "Epoch 48/50\n",
      "472/472 [==============================] - 10s 21ms/step - loss: 0.1626 - acc: 0.9333 - val_loss: 0.1731 - val_acc: 0.9286\n",
      "Epoch 49/50\n",
      "472/472 [==============================] - 9s 18ms/step - loss: 0.1609 - acc: 0.9396 - val_loss: 0.1536 - val_acc: 0.9454\n",
      "Epoch 50/50\n",
      "472/472 [==============================] - 8s 17ms/step - loss: 0.2024 - acc: 0.9258 - val_loss: 0.1737 - val_acc: 0.9454\n"
     ]
    }
   ],
   "source": [
    "#model.fit(x_train, y_train, batch_size=7, epochs=10)\n",
    "\n",
    "history = model.fit(X_train, y_train_hot, batch_size=batch_size, epochs=50, verbose=verbose, validation_data=(X_test, y_test_hot))"
   ]
  },
  {
   "cell_type": "code",
   "execution_count": 14,
   "metadata": {},
   "outputs": [
    {
     "name": "stdout",
     "output_type": "stream",
     "text": [
      "model train data score: acc       :  98.94 %\n",
      "model train data score: loss      :  6.44 %\n",
      "model test data score: acc        :  94.54 %\n",
      "model test data score: loss       :  17.37 %\n"
     ]
    }
   ],
   "source": [
    "score = model.evaluate(X_train, y_train_hot, verbose=0) \n",
    "print (\"model train data score: acc       : \",round(score[1]*100,2) , \"%\")\n",
    "print (\"model train data score: loss      : \",round(score[0]*100,2) , \"%\")\n",
    "\n",
    "score = model.evaluate(X_test, y_test_hot, verbose=0) \n",
    "print (\"model test data score: acc        : \",round(score[1]*100,2) , \"%\")\n",
    "print (\"model test data score: loss       : \",round(score[0]*100,2) , \"%\")\n"
   ]
  },
  {
   "cell_type": "code",
   "execution_count": 15,
   "metadata": {},
   "outputs": [
    {
     "data": {
      "image/png": "[encoded data removed]",
      "text/plain": [
       "<Figure size 432x288 with 1 Axes>"
      ]
     },
     "metadata": {
      "needs_background": "light"
     },
     "output_type": "display_data"
    }
   ],
   "source": [
    "# summarize history for accuracy\n",
    "plt.plot(history.history['acc'])\n",
    "plt.plot(history.history['val_acc'])\n",
    "plt.title('model accuracy')\n",
    "plt.ylabel('accuracy')\n",
    "plt.xlabel('epoch')\n",
    "plt.legend(['train', 'test'], loc='upper left')\n",
    "plt.show()"
   ]
  },
  {
   "cell_type": "code",
   "execution_count": 16,
   "metadata": {},
   "outputs": [
    {
     "data": {
      "image/png": "[encoded data removed]",
      "text/plain": [
       "<Figure size 432x288 with 1 Axes>"
      ]
     },
     "metadata": {
      "needs_background": "light"
     },
     "output_type": "display_data"
    }
   ],
   "source": [
    "# summarize history for loss\n",
    "plt.plot(history.history['loss'])\n",
    "plt.plot(history.history['val_loss'])\n",
    "plt.title('model loss')\n",
    "plt.ylabel('loss')\n",
    "plt.xlabel('epoch')\n",
    "plt.legend(['train', 'test'], loc='upper left')\n",
    "plt.show()"
   ]
  },
  {
   "cell_type": "markdown",
   "metadata": {},
   "source": [
    "# RNN+LSTM"
   ]
  },
  {
   "cell_type": "code",
   "execution_count": 17,
   "metadata": {},
   "outputs": [],
   "source": [
    "import numpy as np\n",
    "from keras.models import Sequential\n",
    "from keras.layers import Dense, Dropout, Activation, Flatten, LSTM\n",
    "from keras.layers import Convolution2D, MaxPooling2D\n",
    "from keras.optimizers import Adam\n",
    "from keras.regularizers import l2\n",
    "from keras.callbacks import EarlyStopping,ReduceLROnPlateau,ModelCheckpoint,TensorBoard,ProgbarLogger\n",
    "from keras.utils import np_utils\n",
    "from sklearn import metrics \n",
    "from sklearn.metrics import confusion_matrix, classification_report, accuracy_score\n",
    "from sklearn.preprocessing import LabelEncoder\n",
    "import itertools"
   ]
  },
  {
   "cell_type": "code",
   "execution_count": 18,
   "metadata": {},
   "outputs": [
    {
     "name": "stdout",
     "output_type": "stream",
     "text": [
      "Build LSTM RNN model ...\n"
     ]
    }
   ],
   "source": [
    "print('Build LSTM RNN model ...')\n",
    "model = Sequential()\n",
    "model.add(LSTM(units=32, dropout=0.1, recurrent_dropout=0.15, kernel_regularizer=l2(0.05), recurrent_regularizer=l2(0.08), bias_regularizer=l2(0.06), return_sequences=True))\n",
    "model.add(LSTM(units=32, dropout=0.4, recurrent_dropout=0.30, kernel_regularizer=l2(0.90), recurrent_regularizer=l2(0.90), bias_regularizer=l2(0.50), return_sequences=False))\n",
    "model.add(Dense(2, activation='softmax'))\n",
    "model.compile(loss='categorical_crossentropy', optimizer='Adamax', metrics=['acc','mse', 'mae', 'mape', 'cosine'])\n",
    "#model.summary()"
   ]
  },
  {
   "cell_type": "code",
   "execution_count": 19,
   "metadata": {},
   "outputs": [
    {
     "name": "stdout",
     "output_type": "stream",
     "text": [
      "training started..... please wait.\n",
      "\n",
      "Epoch 00001: loss improved from inf to 49.73569, saving model to ./best_model_trained.hdf5\n",
      "\n",
      "Epoch 00002: loss improved from 49.73569 to 16.71177, saving model to ./best_model_trained.hdf5\n",
      "\n",
      "Epoch 00003: loss improved from 16.71177 to 9.95126, saving model to ./best_model_trained.hdf5\n",
      "\n",
      "Epoch 00004: loss improved from 9.95126 to 6.96764, saving model to ./best_model_trained.hdf5\n",
      "\n",
      "Epoch 00005: loss improved from 6.96764 to 5.02061, saving model to ./best_model_trained.hdf5\n",
      "\n",
      "Epoch 00006: loss improved from 5.02061 to 3.62922, saving model to ./best_model_trained.hdf5\n",
      "\n",
      "Epoch 00007: loss improved from 3.62922 to 2.63401, saving model to ./best_model_trained.hdf5\n",
      "\n",
      "Epoch 00008: loss improved from 2.63401 to 1.94069, saving model to ./best_model_trained.hdf5\n",
      "\n",
      "Epoch 00009: loss improved from 1.94069 to 1.47268, saving model to ./best_model_trained.hdf5\n",
      "\n",
      "Epoch 00010: loss improved from 1.47268 to 1.16476, saving model to ./best_model_trained.hdf5\n",
      "\n",
      "Epoch 00011: loss improved from 1.16476 to 0.97013, saving model to ./best_model_trained.hdf5\n",
      "\n",
      "Epoch 00012: loss improved from 0.97013 to 0.84968, saving model to ./best_model_trained.hdf5\n",
      "\n",
      "Epoch 00013: loss improved from 0.84968 to 0.77749, saving model to ./best_model_trained.hdf5\n",
      "\n",
      "Epoch 00014: loss improved from 0.77749 to 0.73032, saving model to ./best_model_trained.hdf5\n",
      "\n",
      "Epoch 00015: loss improved from 0.73032 to 0.71612, saving model to ./best_model_trained.hdf5\n",
      "\n",
      "Epoch 00016: loss improved from 0.71612 to 0.70025, saving model to ./best_model_trained.hdf5\n",
      "\n",
      "Epoch 00017: loss improved from 0.70025 to 0.69014, saving model to ./best_model_trained.hdf5\n",
      "\n",
      "Epoch 00018: loss improved from 0.69014 to 0.68660, saving model to ./best_model_trained.hdf5\n",
      "\n",
      "Epoch 00019: loss improved from 0.68660 to 0.68155, saving model to ./best_model_trained.hdf5\n",
      "\n",
      "Epoch 00020: loss improved from 0.68155 to 0.67064, saving model to ./best_model_trained.hdf5\n",
      "\n",
      "Epoch 00021: loss did not improve from 0.67064\n",
      "\n",
      "Epoch 00022: loss improved from 0.67064 to 0.66072, saving model to ./best_model_trained.hdf5\n",
      "\n",
      "Epoch 00023: loss did not improve from 0.66072\n",
      "\n",
      "Epoch 00024: loss improved from 0.66072 to 0.65806, saving model to ./best_model_trained.hdf5\n",
      "\n",
      "Epoch 00025: loss improved from 0.65806 to 0.65230, saving model to ./best_model_trained.hdf5\n",
      "\n",
      "Epoch 00026: loss did not improve from 0.65230\n",
      "\n",
      "Epoch 00027: loss improved from 0.65230 to 0.64765, saving model to ./best_model_trained.hdf5\n",
      "\n",
      "Epoch 00028: loss improved from 0.64765 to 0.63516, saving model to ./best_model_trained.hdf5\n",
      "\n",
      "Epoch 00029: loss improved from 0.63516 to 0.62987, saving model to ./best_model_trained.hdf5\n",
      "\n",
      "Epoch 00030: loss improved from 0.62987 to 0.62637, saving model to ./best_model_trained.hdf5\n",
      "\n",
      "Epoch 00031: loss did not improve from 0.62637\n",
      "\n",
      "Epoch 00032: loss improved from 0.62637 to 0.60750, saving model to ./best_model_trained.hdf5\n",
      "\n",
      "Epoch 00033: loss did not improve from 0.60750\n",
      "\n",
      "Epoch 00034: loss did not improve from 0.60750\n",
      "\n",
      "Epoch 00035: loss improved from 0.60750 to 0.59820, saving model to ./best_model_trained.hdf5\n",
      "\n",
      "Epoch 00036: loss did not improve from 0.59820\n",
      "\n",
      "Epoch 00037: loss improved from 0.59820 to 0.59256, saving model to ./best_model_trained.hdf5\n",
      "\n",
      "Epoch 00038: loss did not improve from 0.59256\n",
      "\n",
      "Epoch 00039: loss improved from 0.59256 to 0.58269, saving model to ./best_model_trained.hdf5\n",
      "\n",
      "Epoch 00040: loss improved from 0.58269 to 0.57121, saving model to ./best_model_trained.hdf5\n",
      "\n",
      "Epoch 00041: loss did not improve from 0.57121\n",
      "\n",
      "Epoch 00042: loss did not improve from 0.57121\n",
      "\n",
      "Epoch 00043: loss did not improve from 0.57121\n",
      "\n",
      "Epoch 00044: loss did not improve from 0.57121\n",
      "\n",
      "Epoch 00045: loss improved from 0.57121 to 0.55244, saving model to ./best_model_trained.hdf5\n",
      "\n",
      "Epoch 00046: loss did not improve from 0.55244\n",
      "\n",
      "Epoch 00047: loss did not improve from 0.55244\n",
      "\n",
      "Epoch 00048: loss did not improve from 0.55244\n",
      "\n",
      "Epoch 00049: loss did not improve from 0.55244\n",
      "\n",
      "Epoch 00050: loss improved from 0.55244 to 0.54057, saving model to ./best_model_trained.hdf5\n",
      "_________________________________________________________________\n",
      "Layer (type)                 Output Shape              Param #   \n",
      "=================================================================\n",
      "lstm_1 (LSTM)                (None, 28, 32)            5376      \n",
      "_________________________________________________________________\n",
      "lstm_2 (LSTM)                (None, 32)                8320      \n",
      "_________________________________________________________________\n",
      "dense_2 (Dense)              (None, 2)                 66        \n",
      "=================================================================\n",
      "Total params: 13,762\n",
      "Trainable params: 13,762\n",
      "Non-trainable params: 0\n",
      "_________________________________________________________________\n",
      "training finised!\n",
      "Wall time: 2min 48s\n"
     ]
    }
   ],
   "source": [
    "%%time\n",
    "# saved model checkpoint file\n",
    "best_model_file=\"./best_model_trained.hdf5\"\n",
    "#train_model_file=file_path+\"/checkpoints/weights.best_{epoch:02d}-{loss:.2f}.hdf5\"\n",
    "MAX_PATIENT=12\n",
    "MAX_EPOCHS=50\n",
    "MAX_BATCH=7\n",
    "\n",
    "# callbacks\n",
    "# removed EarlyStopping(patience=MAX_PATIENT)\n",
    "callback=[ReduceLROnPlateau(patience=MAX_PATIENT, verbose=1),\n",
    "          ModelCheckpoint(filepath=best_model_file, monitor='loss', verbose=1, save_best_only=True)]\n",
    "\n",
    "print (\"training started..... please wait.\")\n",
    "# training\n",
    "history=model.fit(X_train, y_train_hot, \n",
    "                  batch_size=MAX_BATCH, \n",
    "                  epochs=MAX_EPOCHS,\n",
    "                  verbose=0,\n",
    "                  validation_data=(X_test, y_test_hot),\n",
    "                  callbacks=callback) \n",
    "model.summary()\n",
    "print (\"training finised!\")\n",
    "\n"
   ]
  },
  {
   "cell_type": "code",
   "execution_count": 20,
   "metadata": {},
   "outputs": [
    {
     "name": "stdout",
     "output_type": "stream",
     "text": [
      "model train data score       :  86.02 %\n",
      "model train data loss        :  0.48\n",
      "model test data score        :  78.99 %\n",
      "model train data loss        :  0.52\n"
     ]
    }
   ],
   "source": [
    "score = model.evaluate(X_train, y_train_hot, verbose=0) \n",
    "print (\"model train data score       : \",round(score[1]*100,2) , \"%\")\n",
    "print (\"model train data loss        : \",round(score[0],2))\n",
    "\n",
    "score = model.evaluate(X_test, y_test_hot, verbose=0) \n",
    "print (\"model test data score        : \",round(score[1]*100,2) , \"%\")\n",
    "print (\"model train data loss        : \",round(score[0],2))"
   ]
  },
  {
   "cell_type": "code",
   "execution_count": 21,
   "metadata": {},
   "outputs": [
    {
     "data": {
      "image/png": "[encoded data removed]",
      "text/plain": [
       "<Figure size 432x288 with 1 Axes>"
      ]
     },
     "metadata": {
      "needs_background": "light"
     },
     "output_type": "display_data"
    }
   ],
   "source": [
    "# summarize history for accuracy\n",
    "plt.plot(history.history['acc'])\n",
    "plt.plot(history.history['val_acc'])\n",
    "plt.title('model accuracy')\n",
    "plt.ylabel('accuracy')\n",
    "plt.xlabel('epoch')\n",
    "plt.legend(['train', 'test'], loc='upper left')\n",
    "plt.show()"
   ]
  },
  {
   "cell_type": "code",
   "execution_count": 22,
   "metadata": {},
   "outputs": [
    {
     "data": {
      "image/png": "[encoded data removed]",
      "text/plain": [
       "<Figure size 432x288 with 1 Axes>"
      ]
     },
     "metadata": {
      "needs_background": "light"
     },
     "output_type": "display_data"
    }
   ],
   "source": [
    "# summarize history for loss\n",
    "plt.plot(history.history['loss'])\n",
    "plt.plot(history.history['val_loss'])\n",
    "plt.title('model loss')\n",
    "plt.ylabel('loss')\n",
    "plt.xlabel('epoch')\n",
    "plt.legend(['train', 'test'], loc='upper left')\n",
    "plt.show()"
   ]
  }
 ],
 "metadata": {
  "kernelspec": {
   "display_name": "Python 3",
   "language": "python",
   "name": "python3"
  },
  "language_info": {
   "codemirror_mode": {
    "name": "ipython",
    "version": 3
   },
   "file_extension": ".py",
   "mimetype": "text/x-python",
   "name": "python",
   "nbconvert_exporter": "python",
   "pygments_lexer": "ipython3",
   "version": "3.6.4"
  }
 },
 "nbformat": 4,
 "nbformat_minor": 2
}
