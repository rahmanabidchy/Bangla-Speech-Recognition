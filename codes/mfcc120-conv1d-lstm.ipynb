{
 "cells": [
  {
   "cell_type": "code",
   "execution_count": 1,
   "metadata": {},
   "outputs": [
    {
     "name": "stderr",
     "output_type": "stream",
     "text": [
      "C:\\Users\\lenovo_pc\\Anaconda3\\lib\\site-packages\\h5py\\__init__.py:36: FutureWarning: Conversion of the second argument of issubdtype from `float` to `np.floating` is deprecated. In future, it will be treated as `np.float64 == np.dtype(float).type`.\n",
      "  from ._conv import register_converters as _register_converters\n",
      "Using TensorFlow backend.\n"
     ]
    }
   ],
   "source": [
    "import keras\n",
    "import numpy as np\n",
    "import matplotlib.pyplot as plt\n",
    "import os\n",
    "import pandas as pd\n",
    "import librosa\n",
    "from keras.utils import to_categorical"
   ]
  },
  {
   "cell_type": "code",
   "execution_count": 2,
   "metadata": {},
   "outputs": [],
   "source": [
    "feature_dim_1 = 128"
   ]
  },
  {
   "cell_type": "code",
   "execution_count": 3,
   "metadata": {},
   "outputs": [],
   "source": [
    "def get_labels(path):\n",
    "    labels = os.listdir(path)\n",
    "    label_indices = np.arange(0, len(labels))    \n",
    "    return labels, label_indices, to_categorical(label_indices)\n",
    "\n",
    "\n",
    "\n"
   ]
  },
  {
   "cell_type": "code",
   "execution_count": 4,
   "metadata": {},
   "outputs": [],
   "source": [
    "from sklearn.model_selection import train_test_split\n",
    "\n",
    "def get_train_test(split_ratio=0.8, random_state=42):\n",
    "    # Get available labels\n",
    "    labels, indices, _ = get_labels(DATA_PATH)\n",
    "\n",
    "    # Getting first arrays\n",
    "    X = np.load(labels[0] + '.npy')\n",
    "    y = np.zeros(X.shape[0])\n",
    "\n",
    "    # Append all of the dataset into one single array, same goes for y\n",
    "    for i, label in enumerate(labels[1:]):\n",
    "        x = np.load(label + '.npy')\n",
    "        X = np.vstack((X, x))\n",
    "        y = np.append(y, np.full(x.shape[0], fill_value= (i + 1)))\n",
    "\n",
    "    assert X.shape[0] == len(y)\n",
    "\n",
    "    return train_test_split(X, y, test_size= (1 - split_ratio), random_state=random_state, shuffle=True)\n",
    "\n",
    "\n",
    "\n",
    "def save_data_to_array(path, max_pad_len):\n",
    "    labels, _, _ = get_labels(path)\n",
    "\n",
    "    for label in labels:\n",
    "        # Init mfcc vectors\n",
    "        mfcc_vectors = []\n",
    "\n",
    "        wavfiles = [path + '/' + label + '/' + wavfile for wavfile in os.listdir(path + '/' + label)]\n",
    "        #wavfiles = librosa.util.find_files(db)\n",
    "        #print(wavfiles)\n",
    "        x=0\n",
    "        for wavfile in wavfiles:\n",
    "            name=label+'_'+str(x)\n",
    "            mfcc = wav2mfcc(wavfile, name, max_pad_len=max_pad_len)\n",
    "            mfcc_vectors.append(mfcc)\n",
    "            x=x+1\n",
    "        np.save(label + '.npy', mfcc_vectors)\n",
    "        \n",
    "        \n",
    "        \n",
    "\n",
    "def wav2mfcc(file_path, name, max_pad_len=30):\n",
    "    wave, sr = librosa.load(file_path)\n",
    "    mfcc = librosa.feature.mfcc(wave, sr=sr, n_mfcc = feature_dim_1)\n",
    "    pad_width = max_pad_len - mfcc.shape[1]\n",
    "    mfcc = np.pad(mfcc, pad_width=((0, 0), (0, pad_width)), mode='constant')\n",
    "    return mfcc"
   ]
  },
  {
   "cell_type": "code",
   "execution_count": 5,
   "metadata": {},
   "outputs": [],
   "source": [
    "DATA_PATH = r'C:\\Users\\lenovo_pc\\Desktop\\CNN_SR\\Dataset-merged'\n",
    "\n",
    "\n",
    "#db = r'C:\\Users\\lenovo_pc\\Desktop\\CNN_SR\\SampleData'\n",
    "\n",
    "\n",
    "# Second dimension of the feature is dim2\n",
    "feature_dim_2 = 28\n",
    "\n",
    "# Save data to array file first\n",
    "save_data_to_array(DATA_PATH,feature_dim_2)\n",
    "\n",
    "# # Loading train set and test set\n",
    "X_train, X_test, y_train, y_test = get_train_test()\n",
    "\n",
    "# # Feature dimension\n",
    "verbose = 1\n",
    "num_classes = 2\n",
    "\n",
    "\n",
    "y_train_hot = to_categorical(y_train)\n",
    "y_test_hot = to_categorical(y_test)"
   ]
  },
  {
   "cell_type": "code",
   "execution_count": 6,
   "metadata": {},
   "outputs": [
    {
     "name": "stdout",
     "output_type": "stream",
     "text": [
      "(472, 128, 28)\n",
      "(119, 128, 28)\n"
     ]
    }
   ],
   "source": [
    "\n",
    "#X_train = np.array(x_train)\n",
    "print(X_train.shape)\n",
    "print(X_test.shape)\n"
   ]
  },
  {
   "cell_type": "code",
   "execution_count": 7,
   "metadata": {},
   "outputs": [],
   "source": [
    "from keras.models import Sequential\n",
    "from keras.layers import Dense, Dropout\n",
    "from keras.layers import Embedding\n",
    "from keras.regularizers import l2\n",
    "from keras import regularizers\n",
    "from keras.layers import Conv1D, GlobalAveragePooling1D, MaxPooling1D"
   ]
  },
  {
   "cell_type": "code",
   "execution_count": 20,
   "metadata": {},
   "outputs": [
    {
     "name": "stdout",
     "output_type": "stream",
     "text": [
      "_________________________________________________________________\n",
      "Layer (type)                 Output Shape              Param #   \n",
      "=================================================================\n",
      "conv1d_3 (Conv1D)            (None, 64, 26)            24640     \n",
      "_________________________________________________________________\n",
      "conv1d_4 (Conv1D)            (None, 62, 64)            5056      \n",
      "_________________________________________________________________\n",
      "max_pooling1d_2 (MaxPooling1 (None, 20, 64)            0         \n",
      "_________________________________________________________________\n",
      "global_average_pooling1d_2 ( (None, 64)                0         \n",
      "_________________________________________________________________\n",
      "dropout_2 (Dropout)          (None, 64)                0         \n",
      "_________________________________________________________________\n",
      "dense_3 (Dense)              (None, 2)                 130       \n",
      "=================================================================\n",
      "Total params: 29,826\n",
      "Trainable params: 29,826\n",
      "Non-trainable params: 0\n",
      "_________________________________________________________________\n"
     ]
    }
   ],
   "source": [
    "\n",
    "model = Sequential()\n",
    "model.add(Conv1D(64, 3, activation='relu', kernel_regularizer=l2(0.02), input_shape=(feature_dim_1,feature_dim_2) ,data_format='channels_first'))\n",
    "model.add(Conv1D(64, 3, activation='relu', kernel_regularizer=l2(0.05), ))\n",
    "model.add(MaxPooling1D(3))\n",
    "#model.add(Conv1D(128, 3, activation='relu', ))\n",
    "#model.add(Conv1D(128, 3, activation='relu', ))\n",
    "model.add(GlobalAveragePooling1D())\n",
    "model.add(Dropout(0.5))\n",
    "model.add(Dense(2, activation='sigmoid'))\n",
    "\n",
    "model.summary()"
   ]
  },
  {
   "cell_type": "code",
   "execution_count": 9,
   "metadata": {},
   "outputs": [],
   "source": [
    "model.compile(loss='binary_crossentropy',\n",
    "              optimizer='rmsprop',\n",
    "              metrics=['accuracy'])\n",
    "\n"
   ]
  },
  {
   "cell_type": "code",
   "execution_count": 10,
   "metadata": {},
   "outputs": [
    {
     "name": "stdout",
     "output_type": "stream",
     "text": [
      "Train on 472 samples, validate on 119 samples\n",
      "Epoch 1/50\n",
      "472/472 [==============================] - 10s 21ms/step - loss: 8.5483 - acc: 0.5318 - val_loss: 4.2447 - val_acc: 0.6218\n",
      "Epoch 2/50\n",
      "472/472 [==============================] - 9s 19ms/step - loss: 6.2185 - acc: 0.5752 - val_loss: 3.4428 - val_acc: 0.8109\n",
      "Epoch 3/50\n",
      "472/472 [==============================] - 9s 19ms/step - loss: 4.8656 - acc: 0.6070 - val_loss: 3.1904 - val_acc: 0.8739\n",
      "Epoch 4/50\n",
      "472/472 [==============================] - 9s 18ms/step - loss: 4.1397 - acc: 0.6875 - val_loss: 3.0076 - val_acc: 0.8950\n",
      "Epoch 5/50\n",
      "472/472 [==============================] - 8s 18ms/step - loss: 3.7939 - acc: 0.7172 - val_loss: 2.8497 - val_acc: 0.9034\n",
      "Epoch 6/50\n",
      "472/472 [==============================] - 9s 20ms/step - loss: 3.3784 - acc: 0.7532 - val_loss: 2.6612 - val_acc: 0.9496\n",
      "Epoch 7/50\n",
      "472/472 [==============================] - 9s 18ms/step - loss: 3.1147 - acc: 0.7913 - val_loss: 2.5517 - val_acc: 0.9370\n",
      "Epoch 8/50\n",
      "472/472 [==============================] - 9s 19ms/step - loss: 2.7738 - acc: 0.8612 - val_loss: 2.4086 - val_acc: 0.9580\n",
      "Epoch 9/50\n",
      "472/472 [==============================] - 9s 19ms/step - loss: 2.6533 - acc: 0.8612 - val_loss: 2.2880 - val_acc: 0.9580\n",
      "Epoch 10/50\n",
      "472/472 [==============================] - 9s 19ms/step - loss: 2.4560 - acc: 0.8941 - val_loss: 2.1614 - val_acc: 0.9664\n",
      "Epoch 11/50\n",
      "472/472 [==============================] - 9s 19ms/step - loss: 2.2826 - acc: 0.9015 - val_loss: 2.0382 - val_acc: 0.9874\n",
      "Epoch 12/50\n",
      "472/472 [==============================] - 9s 19ms/step - loss: 2.1117 - acc: 0.9375 - val_loss: 1.9349 - val_acc: 0.9790\n",
      "Epoch 13/50\n",
      "472/472 [==============================] - 9s 19ms/step - loss: 2.0142 - acc: 0.9333 - val_loss: 1.8249 - val_acc: 0.9832\n",
      "Epoch 14/50\n",
      "472/472 [==============================] - 9s 19ms/step - loss: 1.8428 - acc: 0.9672 - val_loss: 1.6987 - val_acc: 1.0000\n",
      "Epoch 15/50\n",
      "472/472 [==============================] - 9s 19ms/step - loss: 1.7265 - acc: 0.9682 - val_loss: 1.6137 - val_acc: 0.9790\n",
      "Epoch 16/50\n",
      "472/472 [==============================] - 9s 20ms/step - loss: 1.6278 - acc: 0.9746 - val_loss: 1.5057 - val_acc: 0.9874\n",
      "Epoch 17/50\n",
      "472/472 [==============================] - 9s 19ms/step - loss: 1.5104 - acc: 0.9767 - val_loss: 1.3874 - val_acc: 0.9958\n",
      "Epoch 18/50\n",
      "472/472 [==============================] - 9s 18ms/step - loss: 1.3915 - acc: 0.9778 - val_loss: 1.2844 - val_acc: 1.0000\n",
      "Epoch 19/50\n",
      "472/472 [==============================] - 9s 19ms/step - loss: 1.2776 - acc: 0.9862 - val_loss: 1.2003 - val_acc: 0.9916\n",
      "Epoch 20/50\n",
      "472/472 [==============================] - 8s 18ms/step - loss: 1.1909 - acc: 0.9809 - val_loss: 1.0939 - val_acc: 1.0000\n",
      "Epoch 21/50\n",
      "472/472 [==============================] - 9s 20ms/step - loss: 1.0926 - acc: 0.9905 - val_loss: 1.0007 - val_acc: 1.0000\n",
      "Epoch 22/50\n",
      "472/472 [==============================] - 10s 21ms/step - loss: 1.0043 - acc: 0.9852 - val_loss: 0.9166 - val_acc: 1.0000\n",
      "Epoch 23/50\n",
      "472/472 [==============================] - 8s 18ms/step - loss: 0.9172 - acc: 0.9862 - val_loss: 0.8426 - val_acc: 1.0000\n",
      "Epoch 24/50\n",
      "472/472 [==============================] - 9s 18ms/step - loss: 0.8274 - acc: 0.9926 - val_loss: 0.7825 - val_acc: 0.9916\n",
      "Epoch 25/50\n",
      "472/472 [==============================] - 9s 19ms/step - loss: 0.7702 - acc: 0.9894 - val_loss: 0.6994 - val_acc: 1.0000\n",
      "Epoch 26/50\n",
      "472/472 [==============================] - 9s 19ms/step - loss: 0.6890 - acc: 0.9968 - val_loss: 0.6367 - val_acc: 1.0000\n",
      "Epoch 27/50\n",
      "472/472 [==============================] - 9s 19ms/step - loss: 0.6362 - acc: 0.9947 - val_loss: 0.5845 - val_acc: 1.0000\n",
      "Epoch 28/50\n",
      "472/472 [==============================] - 10s 21ms/step - loss: 0.5792 - acc: 0.9947 - val_loss: 0.5268 - val_acc: 1.0000\n",
      "Epoch 29/50\n",
      "472/472 [==============================] - 10s 22ms/step - loss: 0.5290 - acc: 0.9926 - val_loss: 0.4818 - val_acc: 1.0000\n",
      "Epoch 30/50\n",
      "472/472 [==============================] - 9s 20ms/step - loss: 0.4719 - acc: 1.0000 - val_loss: 0.4336 - val_acc: 1.0000\n",
      "Epoch 31/50\n",
      "472/472 [==============================] - 9s 19ms/step - loss: 0.4359 - acc: 0.9968 - val_loss: 0.3971 - val_acc: 1.0000\n",
      "Epoch 32/50\n",
      "472/472 [==============================] - 10s 21ms/step - loss: 0.3904 - acc: 0.9979 - val_loss: 0.3565 - val_acc: 1.0000\n",
      "Epoch 33/50\n",
      "472/472 [==============================] - 9s 20ms/step - loss: 0.3604 - acc: 0.9936 - val_loss: 0.3339 - val_acc: 1.0000\n",
      "Epoch 34/50\n",
      "472/472 [==============================] - 8s 18ms/step - loss: 0.3229 - acc: 0.9968 - val_loss: 0.2986 - val_acc: 1.0000\n",
      "Epoch 35/50\n",
      "472/472 [==============================] - 10s 21ms/step - loss: 0.2928 - acc: 0.9979 - val_loss: 0.2651 - val_acc: 1.0000\n",
      "Epoch 36/50\n",
      "472/472 [==============================] - 9s 20ms/step - loss: 0.2653 - acc: 0.9979 - val_loss: 0.2480 - val_acc: 1.0000\n",
      "Epoch 37/50\n",
      "472/472 [==============================] - 9s 19ms/step - loss: 0.2770 - acc: 0.9894 - val_loss: 0.2316 - val_acc: 1.0000\n",
      "Epoch 38/50\n",
      "472/472 [==============================] - 9s 18ms/step - loss: 0.2326 - acc: 0.9989 - val_loss: 0.2183 - val_acc: 1.0000\n",
      "Epoch 39/50\n",
      "472/472 [==============================] - 9s 18ms/step - loss: 0.2180 - acc: 0.9989 - val_loss: 0.2009 - val_acc: 1.0000\n",
      "Epoch 40/50\n",
      "472/472 [==============================] - 9s 19ms/step - loss: 0.2045 - acc: 0.9979 - val_loss: 0.1861 - val_acc: 1.0000\n",
      "Epoch 41/50\n",
      "472/472 [==============================] - 9s 19ms/step - loss: 0.1858 - acc: 1.0000 - val_loss: 0.1700 - val_acc: 1.0000\n",
      "Epoch 42/50\n",
      "472/472 [==============================] - 8s 18ms/step - loss: 0.1782 - acc: 0.9968 - val_loss: 0.1682 - val_acc: 1.0000\n",
      "Epoch 43/50\n",
      "472/472 [==============================] - 10s 20ms/step - loss: 0.1725 - acc: 0.9958 - val_loss: 0.1525 - val_acc: 1.0000\n",
      "Epoch 44/50\n",
      "472/472 [==============================] - 9s 19ms/step - loss: 0.1556 - acc: 0.9968 - val_loss: 0.1413 - val_acc: 1.0000\n",
      "Epoch 45/50\n",
      "472/472 [==============================] - 9s 19ms/step - loss: 0.1405 - acc: 0.9989 - val_loss: 0.1299 - val_acc: 1.0000\n",
      "Epoch 46/50\n",
      "472/472 [==============================] - 9s 19ms/step - loss: 0.1348 - acc: 0.9979 - val_loss: 0.1207 - val_acc: 1.0000\n",
      "Epoch 47/50\n",
      "472/472 [==============================] - 9s 18ms/step - loss: 0.1207 - acc: 1.0000 - val_loss: 0.1115 - val_acc: 1.0000\n",
      "Epoch 48/50\n",
      "472/472 [==============================] - 9s 18ms/step - loss: 0.1233 - acc: 0.9936 - val_loss: 0.2037 - val_acc: 0.9580\n",
      "Epoch 49/50\n",
      "472/472 [==============================] - 9s 18ms/step - loss: 0.1538 - acc: 0.9831 - val_loss: 0.1102 - val_acc: 1.0000\n",
      "Epoch 50/50\n",
      "472/472 [==============================] - 9s 20ms/step - loss: 0.1126 - acc: 1.0000 - val_loss: 0.1045 - val_acc: 1.0000\n"
     ]
    }
   ],
   "source": [
    "#model.fit(x_train, y_train, batch_size=7, epochs=10)\n",
    "\n",
    "history = model.fit(X_train, y_train_hot, batch_size=150, epochs=50, verbose=verbose, validation_data=(X_test, y_test_hot))"
   ]
  },
  {
   "cell_type": "code",
   "execution_count": 11,
   "metadata": {},
   "outputs": [
    {
     "name": "stdout",
     "output_type": "stream",
     "text": [
      "model train data score: acc       :  100.0 %\n",
      "model train data score: loss      :  10.33 %\n",
      "model test data score: acc        :  100.0 %\n",
      "model test data score: loss       :  10.45 %\n"
     ]
    }
   ],
   "source": [
    "score = model.evaluate(X_train, y_train_hot, verbose=0) \n",
    "print (\"model train data score: acc       : \",round(score[1]*100,2) , \"%\")\n",
    "print (\"model train data score: loss      : \",round(score[0]*100,2) , \"%\")\n",
    "\n",
    "score = model.evaluate(X_test, y_test_hot, verbose=0) \n",
    "print (\"model test data score: acc        : \",round(score[1]*100,2) , \"%\")\n",
    "print (\"model test data score: loss       : \",round(score[0]*100,2) , \"%\")\n"
   ]
  },
  {
   "cell_type": "code",
   "execution_count": 12,
   "metadata": {
    "scrolled": true
   },
   "outputs": [
    {
     "data": {
      "image/png": "[encoded data removed]",
      "text/plain": [
       "<Figure size 432x288 with 1 Axes>"
      ]
     },
     "metadata": {
      "needs_background": "light"
     },
     "output_type": "display_data"
    }
   ],
   "source": [
    "# summarize history for accuracy\n",
    "plt.plot(history.history['acc'])\n",
    "plt.plot(history.history['val_acc'])\n",
    "plt.title('model accuracy')\n",
    "plt.ylabel('accuracy')\n",
    "plt.xlabel('epoch')\n",
    "plt.legend(['train', 'test'], loc='upper left')\n",
    "plt.show()\n"
   ]
  },
  {
   "cell_type": "code",
   "execution_count": 13,
   "metadata": {},
   "outputs": [
    {
     "data": {
      "image/png": "[encoded data removed]",
      "text/plain": [
       "<Figure size 432x288 with 1 Axes>"
      ]
     },
     "metadata": {
      "needs_background": "light"
     },
     "output_type": "display_data"
    }
   ],
   "source": [
    "# summarize history for loss\n",
    "plt.plot(history.history['loss'])\n",
    "plt.plot(history.history['val_loss'])\n",
    "plt.title('model loss')\n",
    "plt.ylabel('loss')\n",
    "plt.xlabel('epoch')\n",
    "plt.legend(['train', 'test'], loc='upper left')\n",
    "plt.show()"
   ]
  },
  {
   "cell_type": "code",
   "execution_count": 14,
   "metadata": {},
   "outputs": [],
   "source": [
    "import numpy as np\n",
    "from keras.models import Sequential\n",
    "from keras.layers import Dense, Dropout, Activation, Flatten, LSTM\n",
    "from keras.layers import Convolution2D, MaxPooling2D\n",
    "from keras.optimizers import Adam\n",
    "from keras.regularizers import l2\n",
    "from keras.callbacks import EarlyStopping,ReduceLROnPlateau,ModelCheckpoint,TensorBoard,ProgbarLogger\n",
    "from keras.utils import np_utils\n",
    "from sklearn import metrics \n",
    "from sklearn.metrics import confusion_matrix, classification_report, accuracy_score\n",
    "from sklearn.preprocessing import LabelEncoder\n",
    "import itertools"
   ]
  },
  {
   "cell_type": "code",
   "execution_count": 15,
   "metadata": {},
   "outputs": [
    {
     "name": "stdout",
     "output_type": "stream",
     "text": [
      "Build LSTM RNN model ...\n",
      "_________________________________________________________________\n",
      "Layer (type)                 Output Shape              Param #   \n",
      "=================================================================\n",
      "lstm_1 (LSTM)                (None, 128, 64)           23808     \n",
      "_________________________________________________________________\n",
      "lstm_2 (LSTM)                (None, 32)                12416     \n",
      "_________________________________________________________________\n",
      "dense_2 (Dense)              (None, 2)                 66        \n",
      "=================================================================\n",
      "Total params: 36,290\n",
      "Trainable params: 36,290\n",
      "Non-trainable params: 0\n",
      "_________________________________________________________________\n"
     ]
    }
   ],
   "source": [
    "print('Build LSTM RNN model ...')\n",
    "model = Sequential()\n",
    "model.add(LSTM(units=64, dropout=0.05, recurrent_dropout=0.20, return_sequences=True,input_shape = (feature_dim_1,feature_dim_2)))\n",
    "model.add(LSTM(units=32, dropout=0.05, recurrent_dropout=0.20, return_sequences=False))\n",
    "model.add(Dense(2, activation='softmax'))\n",
    "model.compile(loss='categorical_crossentropy', optimizer='Adamax', metrics=['acc','mse', 'mae', 'mape', 'cosine'])\n",
    "model.summary()"
   ]
  },
  {
   "cell_type": "code",
   "execution_count": 16,
   "metadata": {},
   "outputs": [
    {
     "name": "stdout",
     "output_type": "stream",
     "text": [
      "training started..... please wait.\n",
      "\n",
      "Epoch 00001: loss improved from inf to 0.65162, saving model to ./best_model_trained.hdf5\n",
      "\n",
      "Epoch 00002: loss improved from 0.65162 to 0.50192, saving model to ./best_model_trained.hdf5\n",
      "\n",
      "Epoch 00003: loss improved from 0.50192 to 0.42392, saving model to ./best_model_trained.hdf5\n",
      "\n",
      "Epoch 00004: loss improved from 0.42392 to 0.38981, saving model to ./best_model_trained.hdf5\n",
      "\n",
      "Epoch 00005: loss improved from 0.38981 to 0.37787, saving model to ./best_model_trained.hdf5\n",
      "\n",
      "Epoch 00006: loss improved from 0.37787 to 0.32529, saving model to ./best_model_trained.hdf5\n",
      "\n",
      "Epoch 00007: loss improved from 0.32529 to 0.31887, saving model to ./best_model_trained.hdf5\n",
      "\n",
      "Epoch 00008: loss improved from 0.31887 to 0.27148, saving model to ./best_model_trained.hdf5\n",
      "\n",
      "Epoch 00009: loss improved from 0.27148 to 0.24741, saving model to ./best_model_trained.hdf5\n",
      "\n",
      "Epoch 00010: loss improved from 0.24741 to 0.23032, saving model to ./best_model_trained.hdf5\n",
      "\n",
      "Epoch 00011: loss improved from 0.23032 to 0.22897, saving model to ./best_model_trained.hdf5\n",
      "\n",
      "Epoch 00012: loss improved from 0.22897 to 0.21475, saving model to ./best_model_trained.hdf5\n",
      "\n",
      "Epoch 00013: loss improved from 0.21475 to 0.19093, saving model to ./best_model_trained.hdf5\n",
      "\n",
      "Epoch 00014: loss improved from 0.19093 to 0.17211, saving model to ./best_model_trained.hdf5\n",
      "\n",
      "Epoch 00015: loss improved from 0.17211 to 0.16907, saving model to ./best_model_trained.hdf5\n",
      "\n",
      "Epoch 00016: loss did not improve from 0.16907\n",
      "\n",
      "Epoch 00017: loss improved from 0.16907 to 0.16339, saving model to ./best_model_trained.hdf5\n",
      "\n",
      "Epoch 00018: loss improved from 0.16339 to 0.13423, saving model to ./best_model_trained.hdf5\n",
      "\n",
      "Epoch 00019: loss improved from 0.13423 to 0.13238, saving model to ./best_model_trained.hdf5\n",
      "\n",
      "Epoch 00020: loss improved from 0.13238 to 0.12112, saving model to ./best_model_trained.hdf5\n",
      "\n",
      "Epoch 00021: loss did not improve from 0.12112\n",
      "\n",
      "Epoch 00022: loss improved from 0.12112 to 0.09464, saving model to ./best_model_trained.hdf5\n",
      "\n",
      "Epoch 00023: loss did not improve from 0.09464\n",
      "\n",
      "Epoch 00024: ReduceLROnPlateau reducing learning rate to 0.00020000000949949026.\n",
      "\n",
      "Epoch 00024: loss did not improve from 0.09464\n",
      "\n",
      "Epoch 00025: loss did not improve from 0.09464\n",
      "\n",
      "Epoch 00026: loss improved from 0.09464 to 0.08295, saving model to ./best_model_trained.hdf5\n",
      "\n",
      "Epoch 00027: loss did not improve from 0.08295\n",
      "\n",
      "Epoch 00028: loss did not improve from 0.08295\n",
      "\n",
      "Epoch 00029: loss improved from 0.08295 to 0.07710, saving model to ./best_model_trained.hdf5\n",
      "\n",
      "Epoch 00030: loss improved from 0.07710 to 0.07387, saving model to ./best_model_trained.hdf5\n",
      "\n",
      "Epoch 00031: loss improved from 0.07387 to 0.07021, saving model to ./best_model_trained.hdf5\n",
      "\n",
      "Epoch 00032: loss did not improve from 0.07021\n",
      "\n",
      "Epoch 00033: loss did not improve from 0.07021\n",
      "\n",
      "Epoch 00034: loss improved from 0.07021 to 0.06465, saving model to ./best_model_trained.hdf5\n",
      "\n",
      "Epoch 00035: loss improved from 0.06465 to 0.06113, saving model to ./best_model_trained.hdf5\n",
      "\n",
      "Epoch 00036: ReduceLROnPlateau reducing learning rate to 2.0000000949949027e-05.\n",
      "\n",
      "Epoch 00036: loss did not improve from 0.06113\n",
      "\n",
      "Epoch 00037: loss did not improve from 0.06113\n",
      "\n",
      "Epoch 00038: loss did not improve from 0.06113\n",
      "\n",
      "Epoch 00039: loss did not improve from 0.06113\n",
      "\n",
      "Epoch 00040: loss did not improve from 0.06113\n",
      "\n",
      "Epoch 00041: loss improved from 0.06113 to 0.05074, saving model to ./best_model_trained.hdf5\n",
      "\n",
      "Epoch 00042: loss did not improve from 0.05074\n",
      "\n",
      "Epoch 00043: loss did not improve from 0.05074\n",
      "\n",
      "Epoch 00044: loss did not improve from 0.05074\n",
      "\n",
      "Epoch 00045: loss did not improve from 0.05074\n",
      "\n",
      "Epoch 00046: loss improved from 0.05074 to 0.04785, saving model to ./best_model_trained.hdf5\n",
      "\n",
      "Epoch 00047: loss did not improve from 0.04785\n",
      "\n",
      "Epoch 00048: ReduceLROnPlateau reducing learning rate to 2.0000001313746906e-06.\n",
      "\n",
      "Epoch 00048: loss did not improve from 0.04785\n",
      "\n",
      "Epoch 00049: loss did not improve from 0.04785\n",
      "\n",
      "Epoch 00050: loss did not improve from 0.04785\n",
      "_________________________________________________________________\n",
      "Layer (type)                 Output Shape              Param #   \n",
      "=================================================================\n",
      "lstm_1 (LSTM)                (None, 128, 64)           23808     \n",
      "_________________________________________________________________\n",
      "lstm_2 (LSTM)                (None, 32)                12416     \n",
      "_________________________________________________________________\n",
      "dense_2 (Dense)              (None, 2)                 66        \n",
      "=================================================================\n",
      "Total params: 36,290\n",
      "Trainable params: 36,290\n",
      "Non-trainable params: 0\n",
      "_________________________________________________________________\n",
      "training finised!\n",
      "Wall time: 12min 3s\n"
     ]
    }
   ],
   "source": [
    "%%time\n",
    "# saved model checkpoint file\n",
    "best_model_file=\"./best_model_trained.hdf5\"\n",
    "#train_model_file=file_path+\"/checkpoints/weights.best_{epoch:02d}-{loss:.2f}.hdf5\"\n",
    "MAX_PATIENT=12\n",
    "MAX_EPOCHS=50\n",
    "MAX_BATCH=7\n",
    "\n",
    "# callbacks\n",
    "# removed EarlyStopping(patience=MAX_PATIENT)\n",
    "callback=[ReduceLROnPlateau(patience=MAX_PATIENT, verbose=1),\n",
    "          ModelCheckpoint(filepath=best_model_file, monitor='loss', verbose=1, save_best_only=True)]\n",
    "\n",
    "print (\"training started..... please wait.\")\n",
    "# training\n",
    "history=model.fit(X_train, y_train_hot, \n",
    "                  batch_size=MAX_BATCH, \n",
    "                  epochs=MAX_EPOCHS,\n",
    "                  verbose=0,\n",
    "                  validation_data=(X_test, y_test_hot),\n",
    "                  callbacks=callback) \n",
    "model.summary()\n",
    "print (\"training finised!\")\n",
    "\n",
    "\n"
   ]
  },
  {
   "cell_type": "code",
   "execution_count": 17,
   "metadata": {},
   "outputs": [
    {
     "name": "stdout",
     "output_type": "stream",
     "text": [
      "472/472 [==============================] - 1s 1ms/step\n",
      "model train data score       :  100.0 %\n",
      "model train data score: loss :  1.55 %\n",
      "[0.015498101916479863, 1.0, 0.0012758617364343697, 0.014724949295869318, 7362475.110169492, -0.9989700509329974]\n",
      "119/119 [==============================] - 0s 2ms/step\n",
      "model test data score        :  83.19 %\n",
      "model test data score: loss  :  49.17 %\n",
      "[0.49171708712056905, 0.8319327736101231, 0.13054843973211883, 0.18142910664822876, 90714560.13445379, -0.859390531768318]\n"
     ]
    }
   ],
   "source": [
    "score = model.evaluate(X_train, y_train_hot, verbose=1) \n",
    "print (\"model train data score       : \",round(score[1]*100,2) , \"%\")\n",
    "print (\"model train data score: loss : \",round(score[0]*100,2) , \"%\")\n",
    "print(score)\n",
    "score = model.evaluate(X_test, y_test_hot, verbose=1) \n",
    "print (\"model test data score        : \",round(score[1]*100,2) , \"%\")\n",
    "print (\"model test data score: loss  : \",round(score[0]*100,2) , \"%\")\n",
    "\n",
    "print(score)"
   ]
  },
  {
   "cell_type": "code",
   "execution_count": 18,
   "metadata": {},
   "outputs": [
    {
     "data": {
      "image/png": "[encoded data removed]",
      "text/plain": [
       "<Figure size 432x288 with 1 Axes>"
      ]
     },
     "metadata": {
      "needs_background": "light"
     },
     "output_type": "display_data"
    }
   ],
   "source": [
    "# summarize history for accuracy\n",
    "plt.plot(history.history['acc'])\n",
    "plt.plot(history.history['val_acc'])\n",
    "plt.title('model accuracy')\n",
    "plt.ylabel('accuracy')\n",
    "plt.xlabel('epoch')\n",
    "plt.legend(['train', 'test'], loc='upper left')\n",
    "plt.show()"
   ]
  },
  {
   "cell_type": "code",
   "execution_count": 19,
   "metadata": {},
   "outputs": [
    {
     "data": {
      "image/png": "[encoded data removed]",
      "text/plain": [
       "<Figure size 432x288 with 1 Axes>"
      ]
     },
     "metadata": {
      "needs_background": "light"
     },
     "output_type": "display_data"
    }
   ],
   "source": [
    "# summarize history for loss\n",
    "plt.plot(history.history['loss'])\n",
    "plt.plot(history.history['val_loss'])\n",
    "plt.title('model loss')\n",
    "plt.ylabel('loss')\n",
    "plt.xlabel('epoch')\n",
    "plt.legend(['train', 'test'], loc='upper left')\n",
    "plt.show()"
   ]
  }
 ],
 "metadata": {
  "kernelspec": {
   "display_name": "Python 3",
   "language": "python",
   "name": "python3"
  },
  "language_info": {
   "codemirror_mode": {
    "name": "ipython",
    "version": 3
   },
   "file_extension": ".py",
   "mimetype": "text/x-python",
   "name": "python",
   "nbconvert_exporter": "python",
   "pygments_lexer": "ipython3",
   "version": "3.6.4"
  }
 },
 "nbformat": 4,
 "nbformat_minor": 2
}
