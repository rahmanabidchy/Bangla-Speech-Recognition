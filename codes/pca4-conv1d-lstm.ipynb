{
 "cells": [
  {
   "cell_type": "code",
   "execution_count": 1,
   "metadata": {},
   "outputs": [
    {
     "name": "stderr",
     "output_type": "stream",
     "text": [
      "C:\\Users\\lenovo_pc\\Anaconda3\\lib\\site-packages\\h5py\\__init__.py:36: FutureWarning: Conversion of the second argument of issubdtype from `float` to `np.floating` is deprecated. In future, it will be treated as `np.float64 == np.dtype(float).type`.\n",
      "  from ._conv import register_converters as _register_converters\n",
      "Using TensorFlow backend.\n"
     ]
    }
   ],
   "source": [
    "import keras\n",
    "import os\n",
    "import librosa\n",
    "\n",
    "\n",
    "import numpy as np\n",
    "import pandas as pd\n",
    "\n",
    "from sklearn.preprocessing import StandardScaler\n",
    "from sklearn.decomposition import PCA\n",
    "\n",
    "from keras.models import Sequential\n",
    "from keras.utils import np_utils\n",
    "from keras.utils import to_categorical\n",
    "from keras.layers import Dense, Dropout, GaussianNoise, Conv1D\n",
    "from keras.preprocessing.image import ImageDataGenerator\n",
    "\n",
    "import matplotlib.pyplot as plt\n",
    "import seaborn as sns\n",
    "%matplotlib inline"
   ]
  },
  {
   "cell_type": "code",
   "execution_count": 2,
   "metadata": {},
   "outputs": [],
   "source": [
    "DATA_PATH = r'C:\\Users\\lenovo_pc\\Desktop\\CNN_SR\\Dataset-merged'\n",
    "feature_dim_1 = 4"
   ]
  },
  {
   "cell_type": "code",
   "execution_count": 3,
   "metadata": {},
   "outputs": [],
   "source": [
    "def get_labels(path):\n",
    "    labels = os.listdir(path)\n",
    "    label_indices = np.arange(0, len(labels))    \n",
    "    return labels, label_indices, to_categorical(label_indices)\n",
    "\n",
    "\n",
    "\n"
   ]
  },
  {
   "cell_type": "code",
   "execution_count": 4,
   "metadata": {},
   "outputs": [],
   "source": [
    "\n",
    "\n",
    "def save_data_to_array(path, max_pad_len):\n",
    "    labels, _, _ = get_labels(path)\n",
    "\n",
    "    for label in labels:\n",
    "        # Init mfcc vectors\n",
    "        mfcc_vectors = []\n",
    "\n",
    "        wavfiles = [path + '/' + label + '/' + wavfile for wavfile in os.listdir(path + '/' + label)]\n",
    "        #wavfiles = librosa.util.find_files(db)\n",
    "        #print(wavfiles)\n",
    "        x=0\n",
    "        for wavfile in wavfiles:\n",
    "            name=label+'_'+str(x)\n",
    "            mfcc = wav2mfcc(wavfile, name, max_pad_len=max_pad_len)            \n",
    "            mfcc_vectors.append(mfcc)            \n",
    "            x=x+1\n",
    "        \n",
    "        #computing PCA and saving\n",
    "        \n",
    "        np.save(label + '.npy', mfcc_vectors)\n",
    "        #y=np.load(label + '.npy')\n",
    "        #y = sklearn.preprocessing.scale(y)\n",
    "        #y.mean()\n",
    "        #model = sklearn.decomposition.PCA(n_components=2, whiten=True)\n",
    "        #model.fit(y)\n",
    "        #y = model.transform(y)\n",
    "        #pd.DataFrame(y).to_csv(VALUE_PATH+'/'+label+'.csv')\n",
    "        \n",
    "        \n",
    "sample_x=[]\n",
    "\n",
    "def wav2mfcc(file_path, name, max_pad_len):\n",
    "    wave, sr = librosa.load(file_path)\n",
    "    x = librosa.feature.mfcc(wave, sr=sr, n_mfcc=128)\n",
    "    pad_width = max_pad_len - x.shape[1]\n",
    "    x = np.pad(x, pad_width=((0, 0), (0, pad_width)), mode='constant')\n",
    "    #here the dimensions are getting reduced \n",
    "    #through PCA decompostion\n",
    "    x = reduce_dimension(x)\n",
    "    return x.T"
   ]
  },
  {
   "cell_type": "markdown",
   "metadata": {},
   "source": [
    "# PCA decomposition\n",
    "Before I use data with reduced dimensionality, I would like to show what is this about.\n",
    "\n",
    "I arbitrary set number of components to 500. It depends on data, to do such visualization we should aim to set number of components close to the number of original feature number. Transformation take more time depending on number of components."
   ]
  },
  {
   "cell_type": "code",
   "execution_count": 5,
   "metadata": {},
   "outputs": [],
   "source": [
    "NCOMPONENTS = feature_dim_1\n",
    "def reduce_dimension(X):\n",
    "    scaler = StandardScaler()\n",
    "    scaler.fit(X.T)\n",
    "    X_data = scaler.transform(X.T)\n",
    "    \n",
    "    pca = PCA(n_components=NCOMPONENTS)\n",
    "    X_pca = pca.fit_transform(X.T)\n",
    "    \n",
    "    return X_pca.T"
   ]
  },
  {
   "cell_type": "code",
   "execution_count": 6,
   "metadata": {},
   "outputs": [],
   "source": [
    "from sklearn.model_selection import train_test_split\n",
    "\n",
    "\n",
    "def get_train_test(split_ratio=0.8, random_state=42):\n",
    "    # Get available labels\n",
    "    labels, indices, _ = get_labels(DATA_PATH)\n",
    "\n",
    "    # Getting first arrays\n",
    "    X = np.load(labels[0] + '.npy')\n",
    "    # print(X.shape[0]) returns: 129\n",
    "    y = np.zeros(X.shape[0])\n",
    "\n",
    "    # Append all of the dataset into one single array, same goes for y\n",
    "    for i, label in enumerate(labels[1:]):\n",
    "        x = np.load(label + '.npy')\n",
    "        X = np.vstack((X, x))\n",
    "        #print(X.shape[0]) returns: 129+152=281\n",
    "        #print(i) returns: 0: So all y values are 1 for Seven and 0 for Tin\n",
    "        y = np.append(y, np.full(x.shape[0], fill_value= (i + 1)))\n",
    "\n",
    "    assert X.shape[0] == len(y)\n",
    "\n",
    "    return train_test_split(X, y, test_size= (1 - split_ratio), random_state=random_state, shuffle=True)\n",
    "\n"
   ]
  },
  {
   "cell_type": "code",
   "execution_count": 7,
   "metadata": {},
   "outputs": [],
   "source": [
    "\n",
    "\n",
    "#db = r'C:\\Users\\lenovo_pc\\Desktop\\CNN_SR\\SampleData'\n",
    "\n",
    "\n",
    "# Second dimension of the feature is dim2\n",
    "feature_dim_2 = 28\n",
    "\n",
    "# Save data to array file first\n",
    "save_data_to_array(DATA_PATH,feature_dim_2)\n",
    "\n",
    "# # Loading train set and test set\n",
    "X_train, X_test, y_train, y_test = get_train_test()\n",
    "\n",
    "# # Feature dimension\n",
    "channel = 1\n",
    "epochs = 50\n",
    "batch_size = 100\n",
    "verbose = 1\n",
    "num_classes = 2\n",
    "\n",
    "\n",
    "y_train_hot = to_categorical(y_train)\n",
    "y_test_hot = to_categorical(y_test)"
   ]
  },
  {
   "cell_type": "code",
   "execution_count": 8,
   "metadata": {},
   "outputs": [
    {
     "name": "stdout",
     "output_type": "stream",
     "text": [
      "(472, 28, 4)\n",
      "(119, 28, 4)\n"
     ]
    }
   ],
   "source": [
    "\n",
    "#X_train = np.array(x_train)\n",
    "print(X_train.shape)\n",
    "print(X_test.shape)"
   ]
  },
  {
   "cell_type": "markdown",
   "metadata": {},
   "source": [
    "# *********++++++*********++++++*********++++++*********++++++"
   ]
  },
  {
   "cell_type": "code",
   "execution_count": 9,
   "metadata": {},
   "outputs": [],
   "source": [
    "from keras.models import Sequential\n",
    "from keras.layers import Dense, Dropout\n",
    "from keras.layers import Embedding\n",
    "from keras import regularizers\n",
    "from keras.layers import Conv1D, GlobalAveragePooling1D, MaxPooling1D"
   ]
  },
  {
   "cell_type": "code",
   "execution_count": 10,
   "metadata": {},
   "outputs": [],
   "source": [
    "#seq_length = NCOMPONENTS\n",
    "\n",
    "#model = Sequential()\n",
    "#model.add(Conv1D(64, 3, activation='relu', input_shape=(feature_dim_2,seq_length), padding='causal'))\n",
    "#model.add(Conv1D(64, 3, activation='relu'))\n",
    "#model.add(MaxPooling1D(3))\n",
    "#model.add(Conv1D(128, 3, activation='relu'))\n",
    "#model.add(Conv1D(128, 3, activation='relu'))\n",
    "#model.add(GlobalAveragePooling1D())\n",
    "#model.add(Dropout(0.5))\n",
    "#model.add(Dense(2, activation='sigmoid'))"
   ]
  },
  {
   "cell_type": "code",
   "execution_count": 11,
   "metadata": {},
   "outputs": [],
   "source": [
    "\n",
    "\n",
    "model = Sequential()\n",
    "model.add(Conv1D(64, 3, activation='relu', input_shape=(feature_dim_2,feature_dim_1) ,padding='causal'))\n",
    "model.add(Conv1D(64, 3, activation='relu', ))\n",
    "model.add(MaxPooling1D(3))\n",
    "#model.add(Conv1D(128, 3, activation='relu', ))\n",
    "#model.add(Conv1D(128, 3, activation='relu', ))\n",
    "model.add(GlobalAveragePooling1D())\n",
    "model.add(Dropout(0.7))\n",
    "model.add(Dense(2, activation='sigmoid'))\n"
   ]
  },
  {
   "cell_type": "code",
   "execution_count": 12,
   "metadata": {},
   "outputs": [],
   "source": [
    "model.compile(loss='binary_crossentropy',\n",
    "              optimizer='rmsprop',\n",
    "              metrics=['accuracy'])"
   ]
  },
  {
   "cell_type": "code",
   "execution_count": 13,
   "metadata": {},
   "outputs": [
    {
     "name": "stdout",
     "output_type": "stream",
     "text": [
      "Train on 472 samples, validate on 119 samples\n",
      "Epoch 1/50\n",
      "472/472 [==============================] - 11s 23ms/step - loss: 5.2318 - acc: 0.5583 - val_loss: 3.8800 - val_acc: 0.5294\n",
      "Epoch 2/50\n",
      "472/472 [==============================] - 11s 24ms/step - loss: 4.1923 - acc: 0.5953 - val_loss: 0.7655 - val_acc: 0.8193\n",
      "Epoch 3/50\n",
      "472/472 [==============================] - 9s 20ms/step - loss: 3.1073 - acc: 0.6430 - val_loss: 0.5584 - val_acc: 0.8319\n",
      "Epoch 4/50\n",
      "472/472 [==============================] - 10s 21ms/step - loss: 2.2613 - acc: 0.6737 - val_loss: 0.4297 - val_acc: 0.8697\n",
      "Epoch 5/50\n",
      "472/472 [==============================] - 10s 20ms/step - loss: 1.4609 - acc: 0.7193 - val_loss: 0.3172 - val_acc: 0.8697\n",
      "Epoch 6/50\n",
      "472/472 [==============================] - 10s 20ms/step - loss: 1.0217 - acc: 0.7320 - val_loss: 0.3000 - val_acc: 0.8739\n",
      "Epoch 7/50\n",
      "472/472 [==============================] - 9s 19ms/step - loss: 0.7920 - acc: 0.7299 - val_loss: 0.2511 - val_acc: 0.8950\n",
      "Epoch 8/50\n",
      "472/472 [==============================] - 9s 19ms/step - loss: 0.5978 - acc: 0.7839 - val_loss: 0.2838 - val_acc: 0.8866\n",
      "Epoch 9/50\n",
      "472/472 [==============================] - 9s 19ms/step - loss: 0.4532 - acc: 0.7903 - val_loss: 0.2669 - val_acc: 0.9034\n",
      "Epoch 10/50\n",
      "472/472 [==============================] - 9s 19ms/step - loss: 0.4450 - acc: 0.8125 - val_loss: 0.2591 - val_acc: 0.8992\n",
      "Epoch 11/50\n",
      "472/472 [==============================] - 9s 20ms/step - loss: 0.3725 - acc: 0.8294 - val_loss: 0.2813 - val_acc: 0.8908\n",
      "Epoch 12/50\n",
      "472/472 [==============================] - 9s 19ms/step - loss: 0.3661 - acc: 0.8443 - val_loss: 0.2126 - val_acc: 0.9244\n",
      "Epoch 13/50\n",
      "472/472 [==============================] - 9s 19ms/step - loss: 0.4501 - acc: 0.7924 - val_loss: 0.2628 - val_acc: 0.9118\n",
      "Epoch 14/50\n",
      "472/472 [==============================] - 9s 18ms/step - loss: 0.3853 - acc: 0.8210 - val_loss: 0.2263 - val_acc: 0.9286\n",
      "Epoch 15/50\n",
      "472/472 [==============================] - 9s 19ms/step - loss: 0.3793 - acc: 0.8146 - val_loss: 0.2205 - val_acc: 0.9202\n",
      "Epoch 16/50\n",
      "472/472 [==============================] - 9s 19ms/step - loss: 0.3127 - acc: 0.8729 - val_loss: 0.2157 - val_acc: 0.9286\n",
      "Epoch 17/50\n",
      "472/472 [==============================] - 9s 19ms/step - loss: 0.3148 - acc: 0.8602 - val_loss: 0.2037 - val_acc: 0.9160\n",
      "Epoch 18/50\n",
      "472/472 [==============================] - 10s 21ms/step - loss: 0.3273 - acc: 0.8591 - val_loss: 0.1916 - val_acc: 0.9412\n",
      "Epoch 19/50\n",
      "472/472 [==============================] - 9s 20ms/step - loss: 0.2902 - acc: 0.8686 - val_loss: 0.2007 - val_acc: 0.9286\n",
      "Epoch 20/50\n",
      "472/472 [==============================] - 10s 20ms/step - loss: 0.3511 - acc: 0.8432 - val_loss: 0.2363 - val_acc: 0.9076\n",
      "Epoch 21/50\n",
      "472/472 [==============================] - 9s 19ms/step - loss: 0.2788 - acc: 0.8739 - val_loss: 0.1813 - val_acc: 0.9370\n",
      "Epoch 22/50\n",
      "472/472 [==============================] - 9s 20ms/step - loss: 0.2720 - acc: 0.8782 - val_loss: 0.1880 - val_acc: 0.9328\n",
      "Epoch 23/50\n",
      "472/472 [==============================] - 9s 19ms/step - loss: 0.2933 - acc: 0.8718 - val_loss: 0.1922 - val_acc: 0.9412\n",
      "Epoch 24/50\n",
      "472/472 [==============================] - 9s 20ms/step - loss: 0.2733 - acc: 0.8888 - val_loss: 0.1711 - val_acc: 0.9244\n",
      "Epoch 25/50\n",
      "472/472 [==============================] - 10s 21ms/step - loss: 0.2257 - acc: 0.9057 - val_loss: 0.1938 - val_acc: 0.9118\n",
      "Epoch 26/50\n",
      "472/472 [==============================] - 9s 18ms/step - loss: 0.2657 - acc: 0.8814 - val_loss: 0.1732 - val_acc: 0.9328\n",
      "Epoch 27/50\n",
      "472/472 [==============================] - 9s 19ms/step - loss: 0.2997 - acc: 0.8506 - val_loss: 0.1802 - val_acc: 0.9412\n",
      "Epoch 28/50\n",
      "472/472 [==============================] - 9s 19ms/step - loss: 0.2319 - acc: 0.9057 - val_loss: 0.1776 - val_acc: 0.9412\n",
      "Epoch 29/50\n",
      "472/472 [==============================] - 9s 19ms/step - loss: 0.2410 - acc: 0.8919 - val_loss: 0.1789 - val_acc: 0.9286\n",
      "Epoch 30/50\n",
      "472/472 [==============================] - 9s 19ms/step - loss: 0.2296 - acc: 0.9100 - val_loss: 0.1893 - val_acc: 0.9286\n",
      "Epoch 31/50\n",
      "472/472 [==============================] - 10s 21ms/step - loss: 0.2883 - acc: 0.8803 - val_loss: 0.2286 - val_acc: 0.8866\n",
      "Epoch 32/50\n",
      "472/472 [==============================] - 9s 20ms/step - loss: 0.2464 - acc: 0.8898 - val_loss: 0.1804 - val_acc: 0.9328\n",
      "Epoch 33/50\n",
      "472/472 [==============================] - 9s 20ms/step - loss: 0.1987 - acc: 0.9216 - val_loss: 0.1817 - val_acc: 0.9286\n",
      "Epoch 34/50\n",
      "472/472 [==============================] - 9s 19ms/step - loss: 0.2337 - acc: 0.9078 - val_loss: 0.1928 - val_acc: 0.9286\n",
      "Epoch 35/50\n",
      "472/472 [==============================] - 9s 20ms/step - loss: 0.1807 - acc: 0.9322 - val_loss: 0.1789 - val_acc: 0.9244\n",
      "Epoch 36/50\n",
      "472/472 [==============================] - 9s 19ms/step - loss: 0.2024 - acc: 0.9258 - val_loss: 0.1877 - val_acc: 0.9328\n",
      "Epoch 37/50\n",
      "472/472 [==============================] - 9s 18ms/step - loss: 0.2520 - acc: 0.8930 - val_loss: 0.2031 - val_acc: 0.9160\n",
      "Epoch 38/50\n",
      "472/472 [==============================] - 10s 21ms/step - loss: 0.1975 - acc: 0.9258 - val_loss: 0.1532 - val_acc: 0.9370\n",
      "Epoch 39/50\n",
      "472/472 [==============================] - 9s 20ms/step - loss: 0.2014 - acc: 0.9195 - val_loss: 0.1784 - val_acc: 0.9286\n",
      "Epoch 40/50\n",
      "472/472 [==============================] - 10s 21ms/step - loss: 0.1731 - acc: 0.9343 - val_loss: 0.2307 - val_acc: 0.9286\n",
      "Epoch 41/50\n",
      "472/472 [==============================] - 9s 20ms/step - loss: 0.1892 - acc: 0.9290 - val_loss: 0.1671 - val_acc: 0.9286\n",
      "Epoch 42/50\n",
      "472/472 [==============================] - 9s 20ms/step - loss: 0.2263 - acc: 0.9025 - val_loss: 0.1531 - val_acc: 0.9412\n",
      "Epoch 43/50\n",
      "472/472 [==============================] - 9s 19ms/step - loss: 0.1768 - acc: 0.9290 - val_loss: 0.1766 - val_acc: 0.9412\n",
      "Epoch 44/50\n",
      "472/472 [==============================] - 10s 21ms/step - loss: 0.1592 - acc: 0.9439 - val_loss: 0.1623 - val_acc: 0.9412\n",
      "Epoch 45/50\n",
      "472/472 [==============================] - 9s 19ms/step - loss: 0.1387 - acc: 0.9407 - val_loss: 0.1366 - val_acc: 0.9412\n",
      "Epoch 46/50\n",
      "472/472 [==============================] - 9s 19ms/step - loss: 0.1815 - acc: 0.9227 - val_loss: 0.1696 - val_acc: 0.9496\n",
      "Epoch 47/50\n",
      "472/472 [==============================] - 9s 19ms/step - loss: 0.1841 - acc: 0.9290 - val_loss: 0.1455 - val_acc: 0.9538\n",
      "Epoch 48/50\n",
      "472/472 [==============================] - 9s 20ms/step - loss: 0.1469 - acc: 0.9439 - val_loss: 0.1630 - val_acc: 0.9328\n",
      "Epoch 49/50\n",
      "472/472 [==============================] - 10s 21ms/step - loss: 0.2078 - acc: 0.9131 - val_loss: 0.1409 - val_acc: 0.9664\n",
      "Epoch 50/50\n",
      "472/472 [==============================] - 9s 20ms/step - loss: 0.1336 - acc: 0.9544 - val_loss: 0.1477 - val_acc: 0.9412\n"
     ]
    }
   ],
   "source": [
    "#model.fit(x_train, y_train, batch_size=7, epochs=10)\n",
    "\n",
    "history = model.fit(X_train, y_train_hot, batch_size=batch_size, epochs=50, verbose=verbose, validation_data=(X_test, y_test_hot))"
   ]
  },
  {
   "cell_type": "code",
   "execution_count": 14,
   "metadata": {},
   "outputs": [
    {
     "name": "stdout",
     "output_type": "stream",
     "text": [
      "model train data score: acc       :  98.73 %\n",
      "model train data score: loss      :  5.33 %\n",
      "model test data score: acc        :  94.12 %\n",
      "model test data score: loss       :  14.77 %\n"
     ]
    }
   ],
   "source": [
    "score = model.evaluate(X_train, y_train_hot, verbose=0) \n",
    "print (\"model train data score: acc       : \",round(score[1]*100,2) , \"%\")\n",
    "print (\"model train data score: loss      : \",round(score[0]*100,2) , \"%\")\n",
    "\n",
    "score = model.evaluate(X_test, y_test_hot, verbose=0) \n",
    "print (\"model test data score: acc        : \",round(score[1]*100,2) , \"%\")\n",
    "print (\"model test data score: loss       : \",round(score[0]*100,2) , \"%\")\n"
   ]
  },
  {
   "cell_type": "code",
   "execution_count": 15,
   "metadata": {},
   "outputs": [
    {
     "data": {
      "image/png": "[encoded data removed]",
      "text/plain": [
       "<Figure size 432x288 with 1 Axes>"
      ]
     },
     "metadata": {
      "needs_background": "light"
     },
     "output_type": "display_data"
    }
   ],
   "source": [
    "# summarize history for accuracy\n",
    "plt.plot(history.history['acc'])\n",
    "plt.plot(history.history['val_acc'])\n",
    "plt.title('model accuracy')\n",
    "plt.ylabel('accuracy')\n",
    "plt.xlabel('epoch')\n",
    "plt.legend(['train', 'test'], loc='upper left')\n",
    "plt.show()"
   ]
  },
  {
   "cell_type": "code",
   "execution_count": 16,
   "metadata": {},
   "outputs": [
    {
     "data": {
      "image/png": "[encoded data removed]",
      "text/plain": [
       "<Figure size 432x288 with 1 Axes>"
      ]
     },
     "metadata": {
      "needs_background": "light"
     },
     "output_type": "display_data"
    }
   ],
   "source": [
    "# summarize history for loss\n",
    "plt.plot(history.history['loss'])\n",
    "plt.plot(history.history['val_loss'])\n",
    "plt.title('model loss')\n",
    "plt.ylabel('loss')\n",
    "plt.xlabel('epoch')\n",
    "plt.legend(['train', 'test'], loc='upper left')\n",
    "plt.show()"
   ]
  },
  {
   "cell_type": "markdown",
   "metadata": {},
   "source": [
    "# RNN+LSTM"
   ]
  },
  {
   "cell_type": "code",
   "execution_count": 17,
   "metadata": {},
   "outputs": [],
   "source": [
    "import numpy as np\n",
    "from keras.models import Sequential\n",
    "from keras.layers import Dense, Dropout, Activation, Flatten, LSTM\n",
    "from keras.layers import Convolution2D, MaxPooling2D\n",
    "from keras.optimizers import Adam\n",
    "from keras.regularizers import l2\n",
    "from keras.callbacks import EarlyStopping,ReduceLROnPlateau,ModelCheckpoint,TensorBoard,ProgbarLogger\n",
    "from keras.utils import np_utils\n",
    "from sklearn import metrics \n",
    "from sklearn.metrics import confusion_matrix, classification_report, accuracy_score\n",
    "from sklearn.preprocessing import LabelEncoder\n",
    "import itertools"
   ]
  },
  {
   "cell_type": "code",
   "execution_count": 18,
   "metadata": {},
   "outputs": [
    {
     "name": "stdout",
     "output_type": "stream",
     "text": [
      "Build LSTM RNN model ...\n"
     ]
    }
   ],
   "source": [
    "print('Build LSTM RNN model ...')\n",
    "model = Sequential()\n",
    "model.add(LSTM(units=32, dropout=0.1, recurrent_dropout=0.15, kernel_regularizer=l2(0.05), recurrent_regularizer=l2(0.08), bias_regularizer=l2(0.06), return_sequences=True))\n",
    "model.add(LSTM(units=32, dropout=0.4, recurrent_dropout=0.30, kernel_regularizer=l2(0.90), recurrent_regularizer=l2(0.90), bias_regularizer=l2(0.50), return_sequences=False))\n",
    "model.add(Dense(2, activation='softmax'))\n",
    "model.compile(loss='categorical_crossentropy', optimizer='Adamax', metrics=['acc','mse', 'mae', 'mape', 'cosine'])\n",
    "#model.summary()"
   ]
  },
  {
   "cell_type": "code",
   "execution_count": 19,
   "metadata": {},
   "outputs": [
    {
     "name": "stdout",
     "output_type": "stream",
     "text": [
      "training started..... please wait.\n",
      "\n",
      "Epoch 00001: loss improved from inf to 49.52926, saving model to ./best_model_trained.hdf5\n",
      "\n",
      "Epoch 00002: loss improved from 49.52926 to 16.76179, saving model to ./best_model_trained.hdf5\n",
      "\n",
      "Epoch 00003: loss improved from 16.76179 to 9.97610, saving model to ./best_model_trained.hdf5\n",
      "\n",
      "Epoch 00004: loss improved from 9.97610 to 6.98669, saving model to ./best_model_trained.hdf5\n",
      "\n",
      "Epoch 00005: loss improved from 6.98669 to 5.04264, saving model to ./best_model_trained.hdf5\n",
      "\n",
      "Epoch 00006: loss improved from 5.04264 to 3.64889, saving model to ./best_model_trained.hdf5\n",
      "\n",
      "Epoch 00007: loss improved from 3.64889 to 2.64994, saving model to ./best_model_trained.hdf5\n",
      "\n",
      "Epoch 00008: loss improved from 2.64994 to 1.96050, saving model to ./best_model_trained.hdf5\n",
      "\n",
      "Epoch 00009: loss improved from 1.96050 to 1.48953, saving model to ./best_model_trained.hdf5\n",
      "\n",
      "Epoch 00010: loss improved from 1.48953 to 1.17630, saving model to ./best_model_trained.hdf5\n",
      "\n",
      "Epoch 00011: loss improved from 1.17630 to 0.97925, saving model to ./best_model_trained.hdf5\n",
      "\n",
      "Epoch 00012: loss improved from 0.97925 to 0.85704, saving model to ./best_model_trained.hdf5\n",
      "\n",
      "Epoch 00013: loss improved from 0.85704 to 0.78770, saving model to ./best_model_trained.hdf5\n",
      "\n",
      "Epoch 00014: loss improved from 0.78770 to 0.74853, saving model to ./best_model_trained.hdf5\n",
      "\n",
      "Epoch 00015: loss improved from 0.74853 to 0.72321, saving model to ./best_model_trained.hdf5\n",
      "\n",
      "Epoch 00016: loss improved from 0.72321 to 0.70971, saving model to ./best_model_trained.hdf5\n",
      "\n",
      "Epoch 00017: loss improved from 0.70971 to 0.69818, saving model to ./best_model_trained.hdf5\n",
      "\n",
      "Epoch 00018: loss improved from 0.69818 to 0.69588, saving model to ./best_model_trained.hdf5\n",
      "\n",
      "Epoch 00019: loss improved from 0.69588 to 0.68770, saving model to ./best_model_trained.hdf5\n",
      "\n",
      "Epoch 00020: loss did not improve from 0.68770\n",
      "\n",
      "Epoch 00021: loss improved from 0.68770 to 0.67925, saving model to ./best_model_trained.hdf5\n",
      "\n",
      "Epoch 00022: loss improved from 0.67925 to 0.67489, saving model to ./best_model_trained.hdf5\n",
      "\n",
      "Epoch 00023: loss improved from 0.67489 to 0.67123, saving model to ./best_model_trained.hdf5\n",
      "\n",
      "Epoch 00024: loss improved from 0.67123 to 0.66313, saving model to ./best_model_trained.hdf5\n",
      "\n",
      "Epoch 00025: loss improved from 0.66313 to 0.65915, saving model to ./best_model_trained.hdf5\n",
      "\n",
      "Epoch 00026: loss improved from 0.65915 to 0.65882, saving model to ./best_model_trained.hdf5\n",
      "\n",
      "Epoch 00027: loss improved from 0.65882 to 0.65074, saving model to ./best_model_trained.hdf5\n",
      "\n",
      "Epoch 00028: loss improved from 0.65074 to 0.64535, saving model to ./best_model_trained.hdf5\n",
      "\n",
      "Epoch 00029: loss did not improve from 0.64535\n",
      "\n",
      "Epoch 00030: loss improved from 0.64535 to 0.63154, saving model to ./best_model_trained.hdf5\n",
      "\n",
      "Epoch 00031: loss improved from 0.63154 to 0.62498, saving model to ./best_model_trained.hdf5\n",
      "\n",
      "Epoch 00032: loss did not improve from 0.62498\n",
      "\n",
      "Epoch 00033: loss improved from 0.62498 to 0.62437, saving model to ./best_model_trained.hdf5\n",
      "\n",
      "Epoch 00034: loss improved from 0.62437 to 0.62387, saving model to ./best_model_trained.hdf5\n",
      "\n",
      "Epoch 00035: loss improved from 0.62387 to 0.61818, saving model to ./best_model_trained.hdf5\n",
      "\n",
      "Epoch 00036: loss did not improve from 0.61818\n",
      "\n",
      "Epoch 00037: loss improved from 0.61818 to 0.60238, saving model to ./best_model_trained.hdf5\n",
      "\n",
      "Epoch 00038: loss improved from 0.60238 to 0.59972, saving model to ./best_model_trained.hdf5\n",
      "\n",
      "Epoch 00039: loss improved from 0.59972 to 0.59679, saving model to ./best_model_trained.hdf5\n",
      "\n",
      "Epoch 00040: loss did not improve from 0.59679\n",
      "\n",
      "Epoch 00041: loss improved from 0.59679 to 0.57785, saving model to ./best_model_trained.hdf5\n",
      "\n",
      "Epoch 00042: loss improved from 0.57785 to 0.57217, saving model to ./best_model_trained.hdf5\n",
      "\n",
      "Epoch 00043: loss did not improve from 0.57217\n",
      "\n",
      "Epoch 00044: loss did not improve from 0.57217\n",
      "\n",
      "Epoch 00045: loss did not improve from 0.57217\n",
      "\n",
      "Epoch 00046: loss did not improve from 0.57217\n",
      "\n",
      "Epoch 00047: loss did not improve from 0.57217\n",
      "\n",
      "Epoch 00048: loss improved from 0.57217 to 0.56858, saving model to ./best_model_trained.hdf5\n",
      "\n",
      "Epoch 00049: loss did not improve from 0.56858\n",
      "\n",
      "Epoch 00050: loss improved from 0.56858 to 0.56618, saving model to ./best_model_trained.hdf5\n",
      "_________________________________________________________________\n",
      "Layer (type)                 Output Shape              Param #   \n",
      "=================================================================\n",
      "lstm_1 (LSTM)                (None, 28, 32)            4736      \n",
      "_________________________________________________________________\n",
      "lstm_2 (LSTM)                (None, 32)                8320      \n",
      "_________________________________________________________________\n",
      "dense_2 (Dense)              (None, 2)                 66        \n",
      "=================================================================\n",
      "Total params: 13,122\n",
      "Trainable params: 13,122\n",
      "Non-trainable params: 0\n",
      "_________________________________________________________________\n",
      "training finised!\n",
      "Wall time: 2min 34s\n"
     ]
    }
   ],
   "source": [
    "%%time\n",
    "# saved model checkpoint file\n",
    "best_model_file=\"./best_model_trained.hdf5\"\n",
    "#train_model_file=file_path+\"/checkpoints/weights.best_{epoch:02d}-{loss:.2f}.hdf5\"\n",
    "MAX_PATIENT=12\n",
    "MAX_EPOCHS=50\n",
    "MAX_BATCH=7\n",
    "\n",
    "# callbacks\n",
    "# removed EarlyStopping(patience=MAX_PATIENT)\n",
    "callback=[ReduceLROnPlateau(patience=MAX_PATIENT, verbose=1),\n",
    "          ModelCheckpoint(filepath=best_model_file, monitor='loss', verbose=1, save_best_only=True)]\n",
    "\n",
    "print (\"training started..... please wait.\")\n",
    "# training\n",
    "history=model.fit(X_train, y_train_hot, \n",
    "                  batch_size=MAX_BATCH, \n",
    "                  epochs=MAX_EPOCHS,\n",
    "                  verbose=0,\n",
    "                  validation_data=(X_test, y_test_hot),\n",
    "                  callbacks=callback) \n",
    "model.summary()\n",
    "print (\"training finised!\")\n",
    "\n"
   ]
  },
  {
   "cell_type": "code",
   "execution_count": 20,
   "metadata": {},
   "outputs": [
    {
     "name": "stdout",
     "output_type": "stream",
     "text": [
      "model train data score       :  85.38 %\n",
      "model train data loss        :  0.47\n",
      "model test data score        :  83.19 %\n",
      "model train data loss        :  0.5\n"
     ]
    }
   ],
   "source": [
    "score = model.evaluate(X_train, y_train_hot, verbose=0) \n",
    "print (\"model train data score       : \",round(score[1]*100,2) , \"%\")\n",
    "print (\"model train data loss        : \",round(score[0],2))\n",
    "\n",
    "score = model.evaluate(X_test, y_test_hot, verbose=0) \n",
    "print (\"model test data score        : \",round(score[1]*100,2) , \"%\")\n",
    "print (\"model train data loss        : \",round(score[0],2))"
   ]
  },
  {
   "cell_type": "code",
   "execution_count": 21,
   "metadata": {},
   "outputs": [
    {
     "data": {
      "image/png": "[encoded data removed]",
      "text/plain": [
       "<Figure size 432x288 with 1 Axes>"
      ]
     },
     "metadata": {
      "needs_background": "light"
     },
     "output_type": "display_data"
    }
   ],
   "source": [
    "# summarize history for accuracy\n",
    "plt.plot(history.history['acc'])\n",
    "plt.plot(history.history['val_acc'])\n",
    "plt.title('model accuracy')\n",
    "plt.ylabel('accuracy')\n",
    "plt.xlabel('epoch')\n",
    "plt.legend(['train', 'test'], loc='upper left')\n",
    "plt.show()"
   ]
  },
  {
   "cell_type": "code",
   "execution_count": 22,
   "metadata": {},
   "outputs": [
    {
     "data": {
      "image/png": "[encoded data removed]",
      "text/plain": [
       "<Figure size 432x288 with 1 Axes>"
      ]
     },
     "metadata": {
      "needs_background": "light"
     },
     "output_type": "display_data"
    }
   ],
   "source": [
    "# summarize history for loss\n",
    "plt.plot(history.history['loss'])\n",
    "plt.plot(history.history['val_loss'])\n",
    "plt.title('model loss')\n",
    "plt.ylabel('loss')\n",
    "plt.xlabel('epoch')\n",
    "plt.legend(['train', 'test'], loc='upper left')\n",
    "plt.show()"
   ]
  }
 ],
 "metadata": {
  "kernelspec": {
   "display_name": "Python 3",
   "language": "python",
   "name": "python3"
  },
  "language_info": {
   "codemirror_mode": {
    "name": "ipython",
    "version": 3
   },
   "file_extension": ".py",
   "mimetype": "text/x-python",
   "name": "python",
   "nbconvert_exporter": "python",
   "pygments_lexer": "ipython3",
   "version": "3.6.4"
  }
 },
 "nbformat": 4,
 "nbformat_minor": 2
}
