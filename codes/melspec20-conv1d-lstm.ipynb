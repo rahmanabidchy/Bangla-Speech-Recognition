{
 "cells": [
  {
   "cell_type": "code",
   "execution_count": 1,
   "metadata": {},
   "outputs": [
    {
     "name": "stderr",
     "output_type": "stream",
     "text": [
      "C:\\Users\\lenovo_pc\\Anaconda3\\lib\\site-packages\\h5py\\__init__.py:36: FutureWarning: Conversion of the second argument of issubdtype from `float` to `np.floating` is deprecated. In future, it will be treated as `np.float64 == np.dtype(float).type`.\n",
      "  from ._conv import register_converters as _register_converters\n",
      "Using TensorFlow backend.\n"
     ]
    }
   ],
   "source": [
    "import keras\n",
    "import numpy as np\n",
    "import matplotlib.pyplot as plt\n",
    "import os\n",
    "import pandas as pd\n",
    "import librosa\n",
    "from keras.utils import to_categorical"
   ]
  },
  {
   "cell_type": "code",
   "execution_count": 2,
   "metadata": {},
   "outputs": [],
   "source": [
    "feature_dim_1 = 20"
   ]
  },
  {
   "cell_type": "code",
   "execution_count": 3,
   "metadata": {},
   "outputs": [],
   "source": [
    "def get_labels(path):\n",
    "    labels = os.listdir(path)\n",
    "    label_indices = np.arange(0, len(labels))    \n",
    "    return labels, label_indices, to_categorical(label_indices)\n",
    "\n",
    "\n",
    "\n"
   ]
  },
  {
   "cell_type": "code",
   "execution_count": 4,
   "metadata": {},
   "outputs": [],
   "source": [
    "from sklearn.model_selection import train_test_split\n",
    "\n",
    "def get_train_test(split_ratio=0.8, random_state=42):\n",
    "    # Get available labels\n",
    "    labels, indices, _ = get_labels(DATA_PATH)\n",
    "\n",
    "    # Getting first arrays\n",
    "    X = np.load(labels[0] + '.npy')\n",
    "    y = np.zeros(X.shape[0])\n",
    "\n",
    "    # Append all of the dataset into one single array, same goes for y\n",
    "    for i, label in enumerate(labels[1:]):\n",
    "        x = np.load(label + '.npy')\n",
    "        X = np.vstack((X, x))\n",
    "        y = np.append(y, np.full(x.shape[0], fill_value= (i + 1)))\n",
    "\n",
    "    assert X.shape[0] == len(y)\n",
    "\n",
    "    return train_test_split(X, y, test_size= (1 - split_ratio), random_state=random_state, shuffle=True)\n",
    "\n",
    "\n",
    "\n",
    "def save_data_to_array(path, max_pad_len):\n",
    "    labels, _, _ = get_labels(path)\n",
    "\n",
    "    for label in labels:\n",
    "        # Init mfcc vectors\n",
    "        mfcc_vectors = []\n",
    "\n",
    "        wavfiles = [path + '/' + label + '/' + wavfile for wavfile in os.listdir(path + '/' + label)]\n",
    "        #wavfiles = librosa.util.find_files(db)\n",
    "        #print(wavfiles)\n",
    "        x=0\n",
    "        for wavfile in wavfiles:\n",
    "            name=label+'_'+str(x)\n",
    "            mfcc = wav2mfcc(wavfile, name, max_pad_len=max_pad_len)\n",
    "            mfcc_vectors.append(mfcc)\n",
    "            x=x+1\n",
    "        np.save(label + '.npy', mfcc_vectors)\n",
    "        \n",
    "        \n",
    "        \n",
    "\n",
    "def wav2mfcc(file_path, name, max_pad_len=30):\n",
    "    wave, sr = librosa.load(file_path)\n",
    "    mfcc = librosa.feature.melspectrogram(wave, sr=sr, n_mels = feature_dim_1)\n",
    "    pad_width = max_pad_len - mfcc.shape[1]\n",
    "    mfcc = np.pad(mfcc, pad_width=((0, 0), (0, pad_width)), mode='constant')\n",
    "    return mfcc"
   ]
  },
  {
   "cell_type": "code",
   "execution_count": 5,
   "metadata": {},
   "outputs": [],
   "source": [
    "DATA_PATH = r'C:\\Users\\lenovo_pc\\Desktop\\CNN_SR\\Dataset-merged'\n",
    "\n",
    "\n",
    "#db = r'C:\\Users\\lenovo_pc\\Desktop\\CNN_SR\\SampleData'\n",
    "\n",
    "\n",
    "# Second dimension of the feature is dim2\n",
    "feature_dim_2 = 28\n",
    "\n",
    "# Save data to array file first\n",
    "save_data_to_array(DATA_PATH,feature_dim_2)\n",
    "\n",
    "# # Loading train set and test set\n",
    "X_train, X_test, y_train, y_test = get_train_test()\n",
    "\n",
    "# # Feature dimension\n",
    "verbose = 1\n",
    "num_classes = 2\n",
    "\n",
    "\n",
    "y_train_hot = to_categorical(y_train)\n",
    "y_test_hot = to_categorical(y_test)"
   ]
  },
  {
   "cell_type": "code",
   "execution_count": 6,
   "metadata": {},
   "outputs": [
    {
     "name": "stdout",
     "output_type": "stream",
     "text": [
      "(472, 20, 28)\n",
      "(119, 20, 28)\n"
     ]
    }
   ],
   "source": [
    "\n",
    "#X_train = np.array(x_train)\n",
    "print(X_train.shape)\n",
    "print(X_test.shape)\n"
   ]
  },
  {
   "cell_type": "code",
   "execution_count": 7,
   "metadata": {},
   "outputs": [],
   "source": [
    "from keras.models import Sequential\n",
    "from keras.layers import Dense, Dropout\n",
    "from keras.layers import Embedding\n",
    "from keras.regularizers import l2\n",
    "from keras import regularizers\n",
    "from keras.layers import Conv1D, GlobalAveragePooling1D, MaxPooling1D"
   ]
  },
  {
   "cell_type": "code",
   "execution_count": 8,
   "metadata": {},
   "outputs": [],
   "source": [
    "\n",
    "model = Sequential()\n",
    "model.add(Conv1D(64, 3, activation='relu', kernel_regularizer=l2(0.02), input_shape=(feature_dim_1,feature_dim_2) ,data_format='channels_first'))\n",
    "model.add(Conv1D(64, 3, activation='relu', kernel_regularizer=l2(0.05), ))\n",
    "model.add(MaxPooling1D(3))\n",
    "#model.add(Conv1D(128, 3, activation='relu', ))\n",
    "#model.add(Conv1D(128, 3, activation='relu', ))\n",
    "model.add(GlobalAveragePooling1D())\n",
    "model.add(Dropout(0.5))\n",
    "model.add(Dense(2, activation='sigmoid'))\n"
   ]
  },
  {
   "cell_type": "code",
   "execution_count": 9,
   "metadata": {},
   "outputs": [],
   "source": [
    "model.compile(loss='binary_crossentropy',\n",
    "              optimizer='rmsprop',\n",
    "              metrics=['accuracy'])\n",
    "\n"
   ]
  },
  {
   "cell_type": "code",
   "execution_count": 10,
   "metadata": {},
   "outputs": [
    {
     "name": "stdout",
     "output_type": "stream",
     "text": [
      "Train on 472 samples, validate on 119 samples\n",
      "Epoch 1/50\n",
      "472/472 [==============================] - 10s 22ms/step - loss: 4.1396 - acc: 0.5932 - val_loss: 2.7957 - val_acc: 0.7731\n",
      "Epoch 2/50\n",
      "472/472 [==============================] - 10s 21ms/step - loss: 3.6514 - acc: 0.6186 - val_loss: 2.8165 - val_acc: 0.7227\n",
      "Epoch 3/50\n",
      "472/472 [==============================] - 9s 18ms/step - loss: 3.3556 - acc: 0.6208 - val_loss: 2.6333 - val_acc: 0.7563\n",
      "Epoch 4/50\n",
      "472/472 [==============================] - 9s 20ms/step - loss: 3.0196 - acc: 0.6758 - val_loss: 2.3856 - val_acc: 0.7857\n",
      "Epoch 5/50\n",
      "472/472 [==============================] - 9s 19ms/step - loss: 2.8808 - acc: 0.6864 - val_loss: 2.2912 - val_acc: 0.7731\n",
      "Epoch 6/50\n",
      "472/472 [==============================] - 9s 19ms/step - loss: 2.6391 - acc: 0.6939 - val_loss: 2.1441 - val_acc: 0.8151\n",
      "Epoch 7/50\n",
      "472/472 [==============================] - 9s 18ms/step - loss: 2.4790 - acc: 0.7288 - val_loss: 2.0673 - val_acc: 0.8109\n",
      "Epoch 8/50\n",
      "472/472 [==============================] - 9s 20ms/step - loss: 2.2604 - acc: 0.7511 - val_loss: 1.9675 - val_acc: 0.8235\n",
      "Epoch 9/50\n",
      "472/472 [==============================] - 9s 19ms/step - loss: 2.2356 - acc: 0.7288 - val_loss: 1.8949 - val_acc: 0.8151\n",
      "Epoch 10/50\n",
      "472/472 [==============================] - 9s 18ms/step - loss: 2.0644 - acc: 0.7680 - val_loss: 1.7890 - val_acc: 0.8445\n",
      "Epoch 11/50\n",
      "472/472 [==============================] - 9s 20ms/step - loss: 1.9290 - acc: 0.7754 - val_loss: 1.7635 - val_acc: 0.8025\n",
      "Epoch 12/50\n",
      "472/472 [==============================] - 8s 18ms/step - loss: 1.8566 - acc: 0.7860 - val_loss: 1.6704 - val_acc: 0.8361\n",
      "Epoch 13/50\n",
      "472/472 [==============================] - 9s 19ms/step - loss: 1.7521 - acc: 0.7913 - val_loss: 1.5941 - val_acc: 0.8445\n",
      "Epoch 14/50\n",
      "472/472 [==============================] - 9s 19ms/step - loss: 1.6461 - acc: 0.7977 - val_loss: 1.5151 - val_acc: 0.8571\n",
      "Epoch 15/50\n",
      "472/472 [==============================] - 9s 20ms/step - loss: 1.5624 - acc: 0.8167 - val_loss: 1.4274 - val_acc: 0.8655\n",
      "Epoch 16/50\n",
      "472/472 [==============================] - 8s 17ms/step - loss: 1.4718 - acc: 0.8189 - val_loss: 1.3676 - val_acc: 0.8782\n",
      "Epoch 17/50\n",
      "472/472 [==============================] - 9s 19ms/step - loss: 1.4151 - acc: 0.8199 - val_loss: 1.3040 - val_acc: 0.8866\n",
      "Epoch 18/50\n",
      "472/472 [==============================] - 9s 19ms/step - loss: 1.3059 - acc: 0.8358 - val_loss: 1.2414 - val_acc: 0.8824\n",
      "Epoch 19/50\n",
      "472/472 [==============================] - 9s 19ms/step - loss: 1.2681 - acc: 0.8136 - val_loss: 1.1692 - val_acc: 0.8908\n",
      "Epoch 20/50\n",
      "472/472 [==============================] - 9s 19ms/step - loss: 1.1719 - acc: 0.8517 - val_loss: 1.1052 - val_acc: 0.8992\n",
      "Epoch 21/50\n",
      "472/472 [==============================] - 9s 19ms/step - loss: 1.1183 - acc: 0.8612 - val_loss: 1.0509 - val_acc: 0.8992\n",
      "Epoch 22/50\n",
      "472/472 [==============================] - 10s 21ms/step - loss: 1.0488 - acc: 0.8697 - val_loss: 0.9931 - val_acc: 0.8950\n",
      "Epoch 23/50\n",
      "472/472 [==============================] - 10s 21ms/step - loss: 0.9947 - acc: 0.8602 - val_loss: 0.9366 - val_acc: 0.9076\n",
      "Epoch 24/50\n",
      "472/472 [==============================] - 10s 21ms/step - loss: 0.9483 - acc: 0.8591 - val_loss: 0.8817 - val_acc: 0.9034\n",
      "Epoch 25/50\n",
      "472/472 [==============================] - 10s 21ms/step - loss: 0.8768 - acc: 0.8845 - val_loss: 0.8323 - val_acc: 0.9034\n",
      "Epoch 26/50\n",
      "472/472 [==============================] - 9s 20ms/step - loss: 0.8565 - acc: 0.8835 - val_loss: 0.7959 - val_acc: 0.9076\n",
      "Epoch 27/50\n",
      "472/472 [==============================] - 9s 19ms/step - loss: 0.7876 - acc: 0.8909 - val_loss: 0.7506 - val_acc: 0.9034\n",
      "Epoch 28/50\n",
      "472/472 [==============================] - 9s 19ms/step - loss: 0.7412 - acc: 0.8888 - val_loss: 0.7153 - val_acc: 0.9076\n",
      "Epoch 29/50\n",
      "472/472 [==============================] - 9s 19ms/step - loss: 0.6998 - acc: 0.8930 - val_loss: 0.6823 - val_acc: 0.9076\n",
      "Epoch 30/50\n",
      "472/472 [==============================] - 9s 19ms/step - loss: 0.6600 - acc: 0.9025 - val_loss: 0.6510 - val_acc: 0.9076\n",
      "Epoch 31/50\n",
      "472/472 [==============================] - 9s 19ms/step - loss: 0.6158 - acc: 0.9004 - val_loss: 0.6150 - val_acc: 0.9076\n",
      "Epoch 32/50\n",
      "472/472 [==============================] - 9s 20ms/step - loss: 0.5924 - acc: 0.9068 - val_loss: 0.5817 - val_acc: 0.9034\n",
      "Epoch 33/50\n",
      "472/472 [==============================] - 9s 19ms/step - loss: 0.5724 - acc: 0.8983 - val_loss: 0.5602 - val_acc: 0.9034\n",
      "Epoch 34/50\n",
      "472/472 [==============================] - 9s 19ms/step - loss: 0.5367 - acc: 0.9089 - val_loss: 0.5365 - val_acc: 0.9076\n",
      "Epoch 35/50\n",
      "472/472 [==============================] - 9s 19ms/step - loss: 0.5169 - acc: 0.9089 - val_loss: 0.5169 - val_acc: 0.9076\n",
      "Epoch 36/50\n",
      "472/472 [==============================] - 9s 20ms/step - loss: 0.5115 - acc: 0.9004 - val_loss: 0.5020 - val_acc: 0.9076\n",
      "Epoch 37/50\n",
      "472/472 [==============================] - 9s 20ms/step - loss: 0.4765 - acc: 0.9078 - val_loss: 0.4793 - val_acc: 0.9034\n",
      "Epoch 38/50\n",
      "472/472 [==============================] - 9s 19ms/step - loss: 0.4683 - acc: 0.9025 - val_loss: 0.4638 - val_acc: 0.8992\n",
      "Epoch 39/50\n",
      "472/472 [==============================] - 9s 18ms/step - loss: 0.4597 - acc: 0.8951 - val_loss: 0.4482 - val_acc: 0.9034\n",
      "Epoch 40/50\n",
      "472/472 [==============================] - 9s 19ms/step - loss: 0.4330 - acc: 0.9110 - val_loss: 0.4320 - val_acc: 0.9076\n",
      "Epoch 41/50\n",
      "472/472 [==============================] - 9s 20ms/step - loss: 0.4034 - acc: 0.9131 - val_loss: 0.4222 - val_acc: 0.8992\n",
      "Epoch 42/50\n",
      "472/472 [==============================] - 9s 19ms/step - loss: 0.4118 - acc: 0.9047 - val_loss: 0.4123 - val_acc: 0.9034\n",
      "Epoch 43/50\n",
      "472/472 [==============================] - 9s 19ms/step - loss: 0.4042 - acc: 0.8962 - val_loss: 0.4098 - val_acc: 0.9034\n",
      "Epoch 44/50\n",
      "472/472 [==============================] - 10s 21ms/step - loss: 0.3719 - acc: 0.9131 - val_loss: 0.3958 - val_acc: 0.9034\n",
      "Epoch 45/50\n",
      "472/472 [==============================] - 8s 18ms/step - loss: 0.3760 - acc: 0.9036 - val_loss: 0.3811 - val_acc: 0.9076\n",
      "Epoch 46/50\n",
      "472/472 [==============================] - 9s 19ms/step - loss: 0.3491 - acc: 0.9163 - val_loss: 0.3623 - val_acc: 0.9076\n",
      "Epoch 47/50\n",
      "472/472 [==============================] - 9s 20ms/step - loss: 0.3698 - acc: 0.9100 - val_loss: 0.3639 - val_acc: 0.9076\n",
      "Epoch 48/50\n",
      "472/472 [==============================] - 9s 18ms/step - loss: 0.3408 - acc: 0.9153 - val_loss: 0.3538 - val_acc: 0.9076\n",
      "Epoch 49/50\n",
      "472/472 [==============================] - 9s 19ms/step - loss: 0.3441 - acc: 0.9153 - val_loss: 0.3454 - val_acc: 0.9034\n",
      "Epoch 50/50\n",
      "472/472 [==============================] - 8s 18ms/step - loss: 0.3305 - acc: 0.9131 - val_loss: 0.3440 - val_acc: 0.8992\n"
     ]
    }
   ],
   "source": [
    "#model.fit(x_train, y_train, batch_size=7, epochs=10)\n",
    "\n",
    "history = model.fit(X_train, y_train_hot, batch_size=150, epochs=50, verbose=verbose, validation_data=(X_test, y_test_hot))"
   ]
  },
  {
   "cell_type": "code",
   "execution_count": 11,
   "metadata": {},
   "outputs": [
    {
     "name": "stdout",
     "output_type": "stream",
     "text": [
      "model train data score: acc       :  91.95 %\n",
      "model train data score: loss      :  30.6 %\n",
      "model test data score: acc        :  89.92 %\n",
      "model test data score: loss       :  34.4 %\n"
     ]
    }
   ],
   "source": [
    "score = model.evaluate(X_train, y_train_hot, verbose=0) \n",
    "print (\"model train data score: acc       : \",round(score[1]*100,2) , \"%\")\n",
    "print (\"model train data score: loss      : \",round(score[0]*100,2) , \"%\")\n",
    "\n",
    "score = model.evaluate(X_test, y_test_hot, verbose=0) \n",
    "print (\"model test data score: acc        : \",round(score[1]*100,2) , \"%\")\n",
    "print (\"model test data score: loss       : \",round(score[0]*100,2) , \"%\")\n"
   ]
  },
  {
   "cell_type": "code",
   "execution_count": 12,
   "metadata": {
    "scrolled": true
   },
   "outputs": [
    {
     "data": {
      "image/png": "[encoded data removed]",
      "text/plain": [
       "<Figure size 432x288 with 1 Axes>"
      ]
     },
     "metadata": {
      "needs_background": "light"
     },
     "output_type": "display_data"
    }
   ],
   "source": [
    "# summarize history for accuracy\n",
    "plt.plot(history.history['acc'])\n",
    "plt.plot(history.history['val_acc'])\n",
    "plt.title('model accuracy')\n",
    "plt.ylabel('accuracy')\n",
    "plt.xlabel('epoch')\n",
    "plt.legend(['train', 'test'], loc='upper left')\n",
    "plt.show()\n"
   ]
  },
  {
   "cell_type": "code",
   "execution_count": 13,
   "metadata": {},
   "outputs": [
    {
     "data": {
      "image/png": "[encoded data removed]",
      "text/plain": [
       "<Figure size 432x288 with 1 Axes>"
      ]
     },
     "metadata": {
      "needs_background": "light"
     },
     "output_type": "display_data"
    }
   ],
   "source": [
    "# summarize history for loss\n",
    "plt.plot(history.history['loss'])\n",
    "plt.plot(history.history['val_loss'])\n",
    "plt.title('model loss')\n",
    "plt.ylabel('loss')\n",
    "plt.xlabel('epoch')\n",
    "plt.legend(['train', 'test'], loc='upper left')\n",
    "plt.show()"
   ]
  },
  {
   "cell_type": "code",
   "execution_count": 14,
   "metadata": {},
   "outputs": [],
   "source": [
    "import numpy as np\n",
    "from keras.models import Sequential\n",
    "from keras.layers import Dense, Dropout, Activation, Flatten, LSTM\n",
    "from keras.layers import Convolution2D, MaxPooling2D\n",
    "from keras.optimizers import Adam\n",
    "from keras.regularizers import l2\n",
    "from keras.callbacks import EarlyStopping,ReduceLROnPlateau,ModelCheckpoint,TensorBoard,ProgbarLogger\n",
    "from keras.utils import np_utils\n",
    "from sklearn import metrics \n",
    "from sklearn.metrics import confusion_matrix, classification_report, accuracy_score\n",
    "from sklearn.preprocessing import LabelEncoder\n",
    "import itertools"
   ]
  },
  {
   "cell_type": "code",
   "execution_count": 15,
   "metadata": {},
   "outputs": [
    {
     "name": "stdout",
     "output_type": "stream",
     "text": [
      "Build LSTM RNN model ...\n",
      "_________________________________________________________________\n",
      "Layer (type)                 Output Shape              Param #   \n",
      "=================================================================\n",
      "lstm_1 (LSTM)                (None, 20, 64)            23808     \n",
      "_________________________________________________________________\n",
      "lstm_2 (LSTM)                (None, 32)                12416     \n",
      "_________________________________________________________________\n",
      "dense_2 (Dense)              (None, 2)                 66        \n",
      "=================================================================\n",
      "Total params: 36,290\n",
      "Trainable params: 36,290\n",
      "Non-trainable params: 0\n",
      "_________________________________________________________________\n"
     ]
    }
   ],
   "source": [
    "print('Build LSTM RNN model ...')\n",
    "model = Sequential()\n",
    "model.add(LSTM(units=64, dropout=0.05, recurrent_dropout=0.20, return_sequences=True,input_shape = (feature_dim_1,feature_dim_2)))\n",
    "model.add(LSTM(units=32, dropout=0.05, recurrent_dropout=0.20, return_sequences=False))\n",
    "model.add(Dense(2, activation='softmax'))\n",
    "model.compile(loss='categorical_crossentropy', optimizer='Adamax', metrics=['acc','mse', 'mae', 'mape', 'cosine'])\n",
    "model.summary()"
   ]
  },
  {
   "cell_type": "code",
   "execution_count": 16,
   "metadata": {},
   "outputs": [
    {
     "name": "stdout",
     "output_type": "stream",
     "text": [
      "training started..... please wait.\n",
      "\n",
      "Epoch 00001: loss improved from inf to 0.51715, saving model to ./best_model_trained.hdf5\n",
      "\n",
      "Epoch 00002: loss improved from 0.51715 to 0.32542, saving model to ./best_model_trained.hdf5\n",
      "\n",
      "Epoch 00003: loss improved from 0.32542 to 0.19628, saving model to ./best_model_trained.hdf5\n",
      "\n",
      "Epoch 00004: loss improved from 0.19628 to 0.19096, saving model to ./best_model_trained.hdf5\n",
      "\n",
      "Epoch 00005: loss improved from 0.19096 to 0.14681, saving model to ./best_model_trained.hdf5\n",
      "\n",
      "Epoch 00006: loss improved from 0.14681 to 0.13332, saving model to ./best_model_trained.hdf5\n",
      "\n",
      "Epoch 00007: loss improved from 0.13332 to 0.09852, saving model to ./best_model_trained.hdf5\n",
      "\n",
      "Epoch 00008: loss did not improve from 0.09852\n",
      "\n",
      "Epoch 00009: loss improved from 0.09852 to 0.08852, saving model to ./best_model_trained.hdf5\n",
      "\n",
      "Epoch 00010: loss did not improve from 0.08852\n",
      "\n",
      "Epoch 00011: loss improved from 0.08852 to 0.08821, saving model to ./best_model_trained.hdf5\n",
      "\n",
      "Epoch 00012: loss improved from 0.08821 to 0.07783, saving model to ./best_model_trained.hdf5\n",
      "\n",
      "Epoch 00013: loss did not improve from 0.07783\n",
      "\n",
      "Epoch 00014: loss did not improve from 0.07783\n",
      "\n",
      "Epoch 00015: loss improved from 0.07783 to 0.06709, saving model to ./best_model_trained.hdf5\n",
      "\n",
      "Epoch 00016: loss improved from 0.06709 to 0.06344, saving model to ./best_model_trained.hdf5\n",
      "\n",
      "Epoch 00017: loss improved from 0.06344 to 0.05354, saving model to ./best_model_trained.hdf5\n",
      "\n",
      "Epoch 00018: loss did not improve from 0.05354\n",
      "\n",
      "Epoch 00019: loss improved from 0.05354 to 0.05321, saving model to ./best_model_trained.hdf5\n",
      "\n",
      "Epoch 00020: loss did not improve from 0.05321\n",
      "\n",
      "Epoch 00021: loss improved from 0.05321 to 0.04964, saving model to ./best_model_trained.hdf5\n",
      "\n",
      "Epoch 00022: ReduceLROnPlateau reducing learning rate to 0.00020000000949949026.\n",
      "\n",
      "Epoch 00022: loss improved from 0.04964 to 0.03489, saving model to ./best_model_trained.hdf5\n",
      "\n",
      "Epoch 00023: loss did not improve from 0.03489\n",
      "\n",
      "Epoch 00024: loss did not improve from 0.03489\n",
      "\n",
      "Epoch 00025: loss did not improve from 0.03489\n",
      "\n",
      "Epoch 00026: loss did not improve from 0.03489\n",
      "\n",
      "Epoch 00027: loss did not improve from 0.03489\n",
      "\n",
      "Epoch 00028: loss did not improve from 0.03489\n",
      "\n",
      "Epoch 00029: loss did not improve from 0.03489\n",
      "\n",
      "Epoch 00030: loss did not improve from 0.03489\n",
      "\n",
      "Epoch 00031: loss did not improve from 0.03489\n",
      "\n",
      "Epoch 00032: loss improved from 0.03489 to 0.02855, saving model to ./best_model_trained.hdf5\n",
      "\n",
      "Epoch 00033: loss did not improve from 0.02855\n",
      "\n",
      "Epoch 00034: ReduceLROnPlateau reducing learning rate to 2.0000000949949027e-05.\n",
      "\n",
      "Epoch 00034: loss did not improve from 0.02855\n",
      "\n",
      "Epoch 00035: loss did not improve from 0.02855\n",
      "\n",
      "Epoch 00036: loss improved from 0.02855 to 0.02551, saving model to ./best_model_trained.hdf5\n",
      "\n",
      "Epoch 00037: loss did not improve from 0.02551\n",
      "\n",
      "Epoch 00038: loss did not improve from 0.02551\n",
      "\n",
      "Epoch 00039: loss improved from 0.02551 to 0.02269, saving model to ./best_model_trained.hdf5\n",
      "\n",
      "Epoch 00040: loss did not improve from 0.02269\n",
      "\n",
      "Epoch 00041: loss did not improve from 0.02269\n",
      "\n",
      "Epoch 00042: loss did not improve from 0.02269\n",
      "\n",
      "Epoch 00043: loss did not improve from 0.02269\n",
      "\n",
      "Epoch 00044: loss did not improve from 0.02269\n",
      "\n",
      "Epoch 00045: loss did not improve from 0.02269\n",
      "\n",
      "Epoch 00046: ReduceLROnPlateau reducing learning rate to 2.0000001313746906e-06.\n",
      "\n",
      "Epoch 00046: loss did not improve from 0.02269\n",
      "\n",
      "Epoch 00047: loss did not improve from 0.02269\n",
      "\n",
      "Epoch 00048: loss did not improve from 0.02269\n",
      "\n",
      "Epoch 00049: loss did not improve from 0.02269\n",
      "\n",
      "Epoch 00050: loss did not improve from 0.02269\n",
      "_________________________________________________________________\n",
      "Layer (type)                 Output Shape              Param #   \n",
      "=================================================================\n",
      "lstm_1 (LSTM)                (None, 20, 64)            23808     \n",
      "_________________________________________________________________\n",
      "lstm_2 (LSTM)                (None, 32)                12416     \n",
      "_________________________________________________________________\n",
      "dense_2 (Dense)              (None, 2)                 66        \n",
      "=================================================================\n",
      "Total params: 36,290\n",
      "Trainable params: 36,290\n",
      "Non-trainable params: 0\n",
      "_________________________________________________________________\n",
      "training finised!\n",
      "Wall time: 1min 59s\n"
     ]
    }
   ],
   "source": [
    "%%time\n",
    "# saved model checkpoint file\n",
    "best_model_file=\"./best_model_trained.hdf5\"\n",
    "#train_model_file=file_path+\"/checkpoints/weights.best_{epoch:02d}-{loss:.2f}.hdf5\"\n",
    "MAX_PATIENT=12\n",
    "MAX_EPOCHS=50\n",
    "MAX_BATCH=7\n",
    "\n",
    "# callbacks\n",
    "# removed EarlyStopping(patience=MAX_PATIENT)\n",
    "callback=[ReduceLROnPlateau(patience=MAX_PATIENT, verbose=1),\n",
    "          ModelCheckpoint(filepath=best_model_file, monitor='loss', verbose=1, save_best_only=True)]\n",
    "\n",
    "print (\"training started..... please wait.\")\n",
    "# training\n",
    "history=model.fit(X_train, y_train_hot, \n",
    "                  batch_size=MAX_BATCH, \n",
    "                  epochs=MAX_EPOCHS,\n",
    "                  verbose=0,\n",
    "                  validation_data=(X_test, y_test_hot),\n",
    "                  callbacks=callback) \n",
    "model.summary()\n",
    "print (\"training finised!\")\n",
    "\n",
    "\n"
   ]
  },
  {
   "cell_type": "code",
   "execution_count": 17,
   "metadata": {},
   "outputs": [
    {
     "name": "stdout",
     "output_type": "stream",
     "text": [
      "472/472 [==============================] - 0s 280us/step\n",
      "model train data score       :  99.36 %\n",
      "model train data score: loss :  2.57 %\n",
      "[0.02570484268431694, 0.9936440677966102, 0.006018944314607741, 0.014077551970731909, 7038776.326271187, -0.993771250975334]\n",
      "119/119 [==============================] - 0s 303us/step\n",
      "model test data score        :  96.64 %\n",
      "model test data score: loss  :  15.03 %\n",
      "[0.15029552804321802, 0.9663865491121757, 0.03252386232884992, 0.043109126201196876, 21554566.25210084, -0.96690487310666]\n"
     ]
    }
   ],
   "source": [
    "score = model.evaluate(X_train, y_train_hot, verbose=1) \n",
    "print (\"model train data score       : \",round(score[1]*100,2) , \"%\")\n",
    "print (\"model train data score: loss : \",round(score[0]*100,2) , \"%\")\n",
    "print(score)\n",
    "score = model.evaluate(X_test, y_test_hot, verbose=1) \n",
    "print (\"model test data score        : \",round(score[1]*100,2) , \"%\")\n",
    "print (\"model test data score: loss  : \",round(score[0]*100,2) , \"%\")\n",
    "\n",
    "print(score)"
   ]
  },
  {
   "cell_type": "code",
   "execution_count": 18,
   "metadata": {},
   "outputs": [
    {
     "data": {
      "image/png": "[encoded data removed]",
      "text/plain": [
       "<Figure size 432x288 with 1 Axes>"
      ]
     },
     "metadata": {
      "needs_background": "light"
     },
     "output_type": "display_data"
    }
   ],
   "source": [
    "# summarize history for accuracy\n",
    "plt.plot(history.history['acc'])\n",
    "plt.plot(history.history['val_acc'])\n",
    "plt.title('model accuracy')\n",
    "plt.ylabel('accuracy')\n",
    "plt.xlabel('epoch')\n",
    "plt.legend(['train', 'test'], loc='upper left')\n",
    "plt.show()"
   ]
  },
  {
   "cell_type": "code",
   "execution_count": 19,
   "metadata": {},
   "outputs": [
    {
     "data": {
      "image/png": "[encoded data removed]",
      "text/plain": [
       "<Figure size 432x288 with 1 Axes>"
      ]
     },
     "metadata": {
      "needs_background": "light"
     },
     "output_type": "display_data"
    }
   ],
   "source": [
    "# summarize history for loss\n",
    "plt.plot(history.history['loss'])\n",
    "plt.plot(history.history['val_loss'])\n",
    "plt.title('model loss')\n",
    "plt.ylabel('loss')\n",
    "plt.xlabel('epoch')\n",
    "plt.legend(['train', 'test'], loc='upper left')\n",
    "plt.show()"
   ]
  }
 ],
 "metadata": {
  "kernelspec": {
   "display_name": "Python 3",
   "language": "python",
   "name": "python3"
  },
  "language_info": {
   "codemirror_mode": {
    "name": "ipython",
    "version": 3
   },
   "file_extension": ".py",
   "mimetype": "text/x-python",
   "name": "python",
   "nbconvert_exporter": "python",
   "pygments_lexer": "ipython3",
   "version": "3.6.4"
  }
 },
 "nbformat": 4,
 "nbformat_minor": 2
}
