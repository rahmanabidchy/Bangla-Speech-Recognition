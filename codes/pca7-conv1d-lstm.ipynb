{
 "cells": [
  {
   "cell_type": "code",
   "execution_count": 1,
   "metadata": {},
   "outputs": [
    {
     "name": "stderr",
     "output_type": "stream",
     "text": [
      "C:\\Users\\lenovo_pc\\Anaconda3\\lib\\site-packages\\h5py\\__init__.py:36: FutureWarning: Conversion of the second argument of issubdtype from `float` to `np.floating` is deprecated. In future, it will be treated as `np.float64 == np.dtype(float).type`.\n",
      "  from ._conv import register_converters as _register_converters\n",
      "Using TensorFlow backend.\n"
     ]
    }
   ],
   "source": [
    "import keras\n",
    "import os\n",
    "import librosa\n",
    "\n",
    "\n",
    "import numpy as np\n",
    "import pandas as pd\n",
    "\n",
    "from sklearn.preprocessing import StandardScaler\n",
    "from sklearn.decomposition import PCA\n",
    "\n",
    "from keras.models import Sequential\n",
    "from keras.utils import np_utils\n",
    "from keras.utils import to_categorical\n",
    "from keras.layers import Dense, Dropout, GaussianNoise, Conv1D\n",
    "from keras.preprocessing.image import ImageDataGenerator\n",
    "\n",
    "import matplotlib.pyplot as plt\n",
    "import seaborn as sns\n",
    "%matplotlib inline"
   ]
  },
  {
   "cell_type": "code",
   "execution_count": 2,
   "metadata": {},
   "outputs": [],
   "source": [
    "DATA_PATH = r'C:\\Users\\lenovo_pc\\Desktop\\CNN_SR\\Dataset-merged'\n",
    "feature_dim_1 = 7"
   ]
  },
  {
   "cell_type": "code",
   "execution_count": 3,
   "metadata": {},
   "outputs": [],
   "source": [
    "def get_labels(path):\n",
    "    labels = os.listdir(path)\n",
    "    label_indices = np.arange(0, len(labels))    \n",
    "    return labels, label_indices, to_categorical(label_indices)\n",
    "\n",
    "\n",
    "\n"
   ]
  },
  {
   "cell_type": "code",
   "execution_count": 4,
   "metadata": {},
   "outputs": [],
   "source": [
    "\n",
    "\n",
    "def save_data_to_array(path, max_pad_len):\n",
    "    labels, _, _ = get_labels(path)\n",
    "\n",
    "    for label in labels:\n",
    "        # Init mfcc vectors\n",
    "        mfcc_vectors = []\n",
    "\n",
    "        wavfiles = [path + '/' + label + '/' + wavfile for wavfile in os.listdir(path + '/' + label)]\n",
    "        #wavfiles = librosa.util.find_files(db)\n",
    "        #print(wavfiles)\n",
    "        x=0\n",
    "        for wavfile in wavfiles:\n",
    "            name=label+'_'+str(x)\n",
    "            mfcc = wav2mfcc(wavfile, name, max_pad_len=max_pad_len)            \n",
    "            mfcc_vectors.append(mfcc)            \n",
    "            x=x+1\n",
    "        \n",
    "        #computing PCA and saving\n",
    "        \n",
    "        np.save(label + '.npy', mfcc_vectors)\n",
    "        #y=np.load(label + '.npy')\n",
    "        #y = sklearn.preprocessing.scale(y)\n",
    "        #y.mean()\n",
    "        #model = sklearn.decomposition.PCA(n_components=2, whiten=True)\n",
    "        #model.fit(y)\n",
    "        #y = model.transform(y)\n",
    "        #pd.DataFrame(y).to_csv(VALUE_PATH+'/'+label+'.csv')\n",
    "        \n",
    "        \n",
    "sample_x=[]\n",
    "\n",
    "def wav2mfcc(file_path, name, max_pad_len):\n",
    "    wave, sr = librosa.load(file_path)\n",
    "    x = librosa.feature.mfcc(wave, sr=sr, n_mfcc=128)\n",
    "    pad_width = max_pad_len - x.shape[1]\n",
    "    x = np.pad(x, pad_width=((0, 0), (0, pad_width)), mode='constant')\n",
    "    #here the dimensions are getting reduced \n",
    "    #through PCA decompostion\n",
    "    x = reduce_dimension(x)\n",
    "    return x.T"
   ]
  },
  {
   "cell_type": "markdown",
   "metadata": {},
   "source": [
    "# PCA decomposition\n",
    "Before I use data with reduced dimensionality, I would like to show what is this about.\n",
    "\n",
    "I arbitrary set number of components to 500. It depends on data, to do such visualization we should aim to set number of components close to the number of original feature number. Transformation take more time depending on number of components."
   ]
  },
  {
   "cell_type": "code",
   "execution_count": 5,
   "metadata": {},
   "outputs": [],
   "source": [
    "NCOMPONENTS = feature_dim_1\n",
    "def reduce_dimension(X):\n",
    "    scaler = StandardScaler()\n",
    "    scaler.fit(X.T)\n",
    "    X_data = scaler.transform(X.T)\n",
    "    \n",
    "    pca = PCA(n_components=NCOMPONENTS)\n",
    "    X_pca = pca.fit_transform(X.T)\n",
    "    \n",
    "    return X_pca.T"
   ]
  },
  {
   "cell_type": "code",
   "execution_count": 6,
   "metadata": {},
   "outputs": [],
   "source": [
    "from sklearn.model_selection import train_test_split\n",
    "\n",
    "\n",
    "def get_train_test(split_ratio=0.8, random_state=42):\n",
    "    # Get available labels\n",
    "    labels, indices, _ = get_labels(DATA_PATH)\n",
    "\n",
    "    # Getting first arrays\n",
    "    X = np.load(labels[0] + '.npy')\n",
    "    # print(X.shape[0]) returns: 129\n",
    "    y = np.zeros(X.shape[0])\n",
    "\n",
    "    # Append all of the dataset into one single array, same goes for y\n",
    "    for i, label in enumerate(labels[1:]):\n",
    "        x = np.load(label + '.npy')\n",
    "        X = np.vstack((X, x))\n",
    "        #print(X.shape[0]) returns: 129+152=281\n",
    "        #print(i) returns: 0: So all y values are 1 for Seven and 0 for Tin\n",
    "        y = np.append(y, np.full(x.shape[0], fill_value= (i + 1)))\n",
    "\n",
    "    assert X.shape[0] == len(y)\n",
    "\n",
    "    return train_test_split(X, y, test_size= (1 - split_ratio), random_state=random_state, shuffle=True)\n",
    "\n"
   ]
  },
  {
   "cell_type": "code",
   "execution_count": 7,
   "metadata": {},
   "outputs": [],
   "source": [
    "\n",
    "\n",
    "#db = r'C:\\Users\\lenovo_pc\\Desktop\\CNN_SR\\SampleData'\n",
    "\n",
    "\n",
    "# Second dimension of the feature is dim2\n",
    "feature_dim_2 = 28\n",
    "\n",
    "# Save data to array file first\n",
    "save_data_to_array(DATA_PATH,feature_dim_2)\n",
    "\n",
    "# # Loading train set and test set\n",
    "X_train, X_test, y_train, y_test = get_train_test()\n",
    "\n",
    "# # Feature dimension\n",
    "channel = 1\n",
    "epochs = 50\n",
    "batch_size = 100\n",
    "verbose = 1\n",
    "num_classes = 2\n",
    "\n",
    "\n",
    "y_train_hot = to_categorical(y_train)\n",
    "y_test_hot = to_categorical(y_test)"
   ]
  },
  {
   "cell_type": "code",
   "execution_count": 8,
   "metadata": {},
   "outputs": [
    {
     "name": "stdout",
     "output_type": "stream",
     "text": [
      "(472, 28, 7)\n",
      "(119, 28, 7)\n"
     ]
    }
   ],
   "source": [
    "\n",
    "#X_train = np.array(x_train)\n",
    "print(X_train.shape)\n",
    "print(X_test.shape)"
   ]
  },
  {
   "cell_type": "markdown",
   "metadata": {},
   "source": [
    "# *********++++++*********++++++*********++++++*********++++++"
   ]
  },
  {
   "cell_type": "code",
   "execution_count": 9,
   "metadata": {},
   "outputs": [],
   "source": [
    "from keras.models import Sequential\n",
    "from keras.layers import Dense, Dropout\n",
    "from keras.layers import Embedding\n",
    "from keras import regularizers\n",
    "from keras.layers import Conv1D, GlobalAveragePooling1D, MaxPooling1D"
   ]
  },
  {
   "cell_type": "code",
   "execution_count": 10,
   "metadata": {},
   "outputs": [],
   "source": [
    "#seq_length = NCOMPONENTS\n",
    "\n",
    "#model = Sequential()\n",
    "#model.add(Conv1D(64, 3, activation='relu', input_shape=(feature_dim_2,seq_length), padding='causal'))\n",
    "#model.add(Conv1D(64, 3, activation='relu'))\n",
    "#model.add(MaxPooling1D(3))\n",
    "#model.add(Conv1D(128, 3, activation='relu'))\n",
    "#model.add(Conv1D(128, 3, activation='relu'))\n",
    "#model.add(GlobalAveragePooling1D())\n",
    "#model.add(Dropout(0.5))\n",
    "#model.add(Dense(2, activation='sigmoid'))"
   ]
  },
  {
   "cell_type": "code",
   "execution_count": 11,
   "metadata": {},
   "outputs": [],
   "source": [
    "\n",
    "\n",
    "model = Sequential()\n",
    "model.add(Conv1D(64, 3, activation='relu', input_shape=(feature_dim_2,feature_dim_1) ,padding='causal'))\n",
    "model.add(Conv1D(64, 3, activation='relu', ))\n",
    "model.add(MaxPooling1D(3))\n",
    "#model.add(Conv1D(128, 3, activation='relu', ))\n",
    "#model.add(Conv1D(128, 3, activation='relu', ))\n",
    "model.add(GlobalAveragePooling1D())\n",
    "model.add(Dropout(0.7))\n",
    "model.add(Dense(2, activation='sigmoid'))\n"
   ]
  },
  {
   "cell_type": "code",
   "execution_count": 12,
   "metadata": {},
   "outputs": [],
   "source": [
    "model.compile(loss='binary_crossentropy',\n",
    "              optimizer='rmsprop',\n",
    "              metrics=['accuracy'])"
   ]
  },
  {
   "cell_type": "code",
   "execution_count": 13,
   "metadata": {},
   "outputs": [
    {
     "name": "stdout",
     "output_type": "stream",
     "text": [
      "Train on 472 samples, validate on 119 samples\n",
      "Epoch 1/50\n",
      "472/472 [==============================] - 12s 25ms/step - loss: 6.1077 - acc: 0.5201 - val_loss: 3.8568 - val_acc: 0.6303\n",
      "Epoch 2/50\n",
      "472/472 [==============================] - 9s 19ms/step - loss: 4.9034 - acc: 0.5498 - val_loss: 1.2338 - val_acc: 0.6891\n",
      "Epoch 3/50\n",
      "472/472 [==============================] - 10s 21ms/step - loss: 3.4088 - acc: 0.5847 - val_loss: 0.5474 - val_acc: 0.8235\n",
      "Epoch 4/50\n",
      "472/472 [==============================] - 9s 18ms/step - loss: 2.0475 - acc: 0.6600 - val_loss: 0.4188 - val_acc: 0.8235\n",
      "Epoch 5/50\n",
      "472/472 [==============================] - 9s 18ms/step - loss: 1.4186 - acc: 0.6600 - val_loss: 0.3101 - val_acc: 0.8613\n",
      "Epoch 6/50\n",
      "472/472 [==============================] - 9s 20ms/step - loss: 0.9064 - acc: 0.6706 - val_loss: 0.2860 - val_acc: 0.8655\n",
      "Epoch 7/50\n",
      "472/472 [==============================] - 9s 20ms/step - loss: 0.6239 - acc: 0.7331 - val_loss: 0.3335 - val_acc: 0.8613\n",
      "Epoch 8/50\n",
      "472/472 [==============================] - 10s 21ms/step - loss: 0.6006 - acc: 0.7278 - val_loss: 0.3374 - val_acc: 0.8782\n",
      "Epoch 9/50\n",
      "472/472 [==============================] - 9s 19ms/step - loss: 0.5631 - acc: 0.7394 - val_loss: 0.3445 - val_acc: 0.8613\n",
      "Epoch 10/50\n",
      "472/472 [==============================] - 9s 19ms/step - loss: 0.5451 - acc: 0.7542 - val_loss: 0.3216 - val_acc: 0.9076\n",
      "Epoch 11/50\n",
      "472/472 [==============================] - 9s 20ms/step - loss: 0.4578 - acc: 0.7966 - val_loss: 0.3092 - val_acc: 0.8992\n",
      "Epoch 12/50\n",
      "472/472 [==============================] - 9s 20ms/step - loss: 0.4498 - acc: 0.7807 - val_loss: 0.2852 - val_acc: 0.9118\n",
      "Epoch 13/50\n",
      "472/472 [==============================] - 9s 19ms/step - loss: 0.4367 - acc: 0.7956 - val_loss: 0.2714 - val_acc: 0.9412\n",
      "Epoch 14/50\n",
      "472/472 [==============================] - 9s 19ms/step - loss: 0.4057 - acc: 0.8146 - val_loss: 0.2945 - val_acc: 0.8908\n",
      "Epoch 15/50\n",
      "472/472 [==============================] - 10s 22ms/step - loss: 0.4288 - acc: 0.7966 - val_loss: 0.2634 - val_acc: 0.9244\n",
      "Epoch 16/50\n",
      "472/472 [==============================] - 9s 19ms/step - loss: 0.4144 - acc: 0.8040 - val_loss: 0.2522 - val_acc: 0.9328\n",
      "Epoch 17/50\n",
      "472/472 [==============================] - 9s 19ms/step - loss: 0.3664 - acc: 0.8337 - val_loss: 0.2289 - val_acc: 0.9202\n",
      "Epoch 18/50\n",
      "472/472 [==============================] - 10s 21ms/step - loss: 0.3941 - acc: 0.8125 - val_loss: 0.2364 - val_acc: 0.9160\n",
      "Epoch 19/50\n",
      "472/472 [==============================] - 9s 19ms/step - loss: 0.3722 - acc: 0.8242 - val_loss: 0.2503 - val_acc: 0.9202\n",
      "Epoch 20/50\n",
      "472/472 [==============================] - 9s 19ms/step - loss: 0.3575 - acc: 0.8422 - val_loss: 0.2033 - val_acc: 0.9328\n",
      "Epoch 21/50\n",
      "472/472 [==============================] - 9s 18ms/step - loss: 0.3593 - acc: 0.8485 - val_loss: 0.2098 - val_acc: 0.9412\n",
      "Epoch 22/50\n",
      "472/472 [==============================] - 10s 20ms/step - loss: 0.3138 - acc: 0.8665 - val_loss: 0.2065 - val_acc: 0.9328\n",
      "Epoch 23/50\n",
      "472/472 [==============================] - 9s 18ms/step - loss: 0.3071 - acc: 0.8559 - val_loss: 0.2322 - val_acc: 0.9244\n",
      "Epoch 24/50\n",
      "472/472 [==============================] - 9s 19ms/step - loss: 0.3449 - acc: 0.8570 - val_loss: 0.1995 - val_acc: 0.9370\n",
      "Epoch 25/50\n",
      "472/472 [==============================] - 9s 20ms/step - loss: 0.2966 - acc: 0.8771 - val_loss: 0.1979 - val_acc: 0.9160\n",
      "Epoch 26/50\n",
      "472/472 [==============================] - 9s 19ms/step - loss: 0.2922 - acc: 0.8581 - val_loss: 0.1723 - val_acc: 0.9328\n",
      "Epoch 27/50\n",
      "472/472 [==============================] - 9s 18ms/step - loss: 0.3167 - acc: 0.8496 - val_loss: 0.1881 - val_acc: 0.9286\n",
      "Epoch 28/50\n",
      "472/472 [==============================] - 10s 20ms/step - loss: 0.2853 - acc: 0.8729 - val_loss: 0.1885 - val_acc: 0.9244\n",
      "Epoch 29/50\n",
      "472/472 [==============================] - 9s 20ms/step - loss: 0.2853 - acc: 0.8867 - val_loss: 0.1701 - val_acc: 0.9412\n",
      "Epoch 30/50\n",
      "472/472 [==============================] - 9s 19ms/step - loss: 0.2935 - acc: 0.8761 - val_loss: 0.1643 - val_acc: 0.9496\n",
      "Epoch 31/50\n",
      "472/472 [==============================] - 9s 19ms/step - loss: 0.2642 - acc: 0.8994 - val_loss: 0.1589 - val_acc: 0.9496\n",
      "Epoch 32/50\n",
      "472/472 [==============================] - 9s 19ms/step - loss: 0.2332 - acc: 0.8930 - val_loss: 0.1545 - val_acc: 0.9412\n",
      "Epoch 33/50\n",
      "472/472 [==============================] - 9s 19ms/step - loss: 0.2550 - acc: 0.8951 - val_loss: 0.1666 - val_acc: 0.9286\n",
      "Epoch 34/50\n",
      "472/472 [==============================] - 9s 18ms/step - loss: 0.2358 - acc: 0.8941 - val_loss: 0.1684 - val_acc: 0.9286\n",
      "Epoch 35/50\n",
      "472/472 [==============================] - 9s 18ms/step - loss: 0.2665 - acc: 0.8951 - val_loss: 0.1581 - val_acc: 0.9496\n",
      "Epoch 36/50\n",
      "472/472 [==============================] - 9s 18ms/step - loss: 0.2373 - acc: 0.9004 - val_loss: 0.1500 - val_acc: 0.9370\n",
      "Epoch 37/50\n",
      "472/472 [==============================] - 9s 19ms/step - loss: 0.2120 - acc: 0.9206 - val_loss: 0.1473 - val_acc: 0.9454\n",
      "Epoch 38/50\n",
      "472/472 [==============================] - 10s 22ms/step - loss: 0.2411 - acc: 0.9110 - val_loss: 0.1442 - val_acc: 0.9370\n",
      "Epoch 39/50\n",
      "472/472 [==============================] - 9s 19ms/step - loss: 0.2246 - acc: 0.9195 - val_loss: 0.1449 - val_acc: 0.9370\n",
      "Epoch 40/50\n",
      "472/472 [==============================] - 10s 21ms/step - loss: 0.2360 - acc: 0.8962 - val_loss: 0.1805 - val_acc: 0.9244\n",
      "Epoch 41/50\n",
      "472/472 [==============================] - 9s 20ms/step - loss: 0.2071 - acc: 0.9153 - val_loss: 0.1458 - val_acc: 0.9412\n",
      "Epoch 42/50\n",
      "472/472 [==============================] - 9s 19ms/step - loss: 0.2178 - acc: 0.9110 - val_loss: 0.1551 - val_acc: 0.9202\n",
      "Epoch 43/50\n",
      "472/472 [==============================] - 9s 18ms/step - loss: 0.1899 - acc: 0.9343 - val_loss: 0.1388 - val_acc: 0.9454\n",
      "Epoch 44/50\n",
      "472/472 [==============================] - 10s 21ms/step - loss: 0.2085 - acc: 0.9195 - val_loss: 0.1445 - val_acc: 0.9538\n",
      "Epoch 45/50\n",
      "472/472 [==============================] - 9s 19ms/step - loss: 0.1734 - acc: 0.9354 - val_loss: 0.1399 - val_acc: 0.9412\n",
      "Epoch 46/50\n",
      "472/472 [==============================] - 9s 19ms/step - loss: 0.1890 - acc: 0.9301 - val_loss: 0.1612 - val_acc: 0.9286\n",
      "Epoch 47/50\n",
      "472/472 [==============================] - 9s 20ms/step - loss: 0.2041 - acc: 0.9163 - val_loss: 0.1568 - val_acc: 0.9286\n",
      "Epoch 48/50\n",
      "472/472 [==============================] - 9s 18ms/step - loss: 0.1849 - acc: 0.9163 - val_loss: 0.1861 - val_acc: 0.9244\n",
      "Epoch 49/50\n",
      "472/472 [==============================] - 9s 19ms/step - loss: 0.1813 - acc: 0.9248 - val_loss: 0.1807 - val_acc: 0.9244\n",
      "Epoch 50/50\n",
      "472/472 [==============================] - 9s 19ms/step - loss: 0.1725 - acc: 0.9311 - val_loss: 0.1365 - val_acc: 0.9454\n"
     ]
    }
   ],
   "source": [
    "#model.fit(x_train, y_train, batch_size=7, epochs=10)\n",
    "\n",
    "history = model.fit(X_train, y_train_hot, batch_size=batch_size, epochs=50, verbose=verbose, validation_data=(X_test, y_test_hot))"
   ]
  },
  {
   "cell_type": "code",
   "execution_count": 14,
   "metadata": {},
   "outputs": [
    {
     "name": "stdout",
     "output_type": "stream",
     "text": [
      "model train data score: acc       :  99.15 %\n",
      "model train data score: loss      :  5.72 %\n",
      "model test data score: acc        :  94.54 %\n",
      "model test data score: loss       :  13.65 %\n"
     ]
    }
   ],
   "source": [
    "score = model.evaluate(X_train, y_train_hot, verbose=0) \n",
    "print (\"model train data score: acc       : \",round(score[1]*100,2) , \"%\")\n",
    "print (\"model train data score: loss      : \",round(score[0]*100,2) , \"%\")\n",
    "\n",
    "score = model.evaluate(X_test, y_test_hot, verbose=0) \n",
    "print (\"model test data score: acc        : \",round(score[1]*100,2) , \"%\")\n",
    "print (\"model test data score: loss       : \",round(score[0]*100,2) , \"%\")\n"
   ]
  },
  {
   "cell_type": "code",
   "execution_count": 15,
   "metadata": {},
   "outputs": [
    {
     "data": {
      "image/png": "[encoded data removed]",
      "text/plain": [
       "<Figure size 432x288 with 1 Axes>"
      ]
     },
     "metadata": {
      "needs_background": "light"
     },
     "output_type": "display_data"
    }
   ],
   "source": [
    "# summarize history for accuracy\n",
    "plt.plot(history.history['acc'])\n",
    "plt.plot(history.history['val_acc'])\n",
    "plt.title('model accuracy')\n",
    "plt.ylabel('accuracy')\n",
    "plt.xlabel('epoch')\n",
    "plt.legend(['train', 'test'], loc='upper left')\n",
    "plt.show()"
   ]
  },
  {
   "cell_type": "code",
   "execution_count": 16,
   "metadata": {},
   "outputs": [
    {
     "data": {
      "image/png": "[encoded data removed]",
      "text/plain": [
       "<Figure size 432x288 with 1 Axes>"
      ]
     },
     "metadata": {
      "needs_background": "light"
     },
     "output_type": "display_data"
    }
   ],
   "source": [
    "# summarize history for loss\n",
    "plt.plot(history.history['loss'])\n",
    "plt.plot(history.history['val_loss'])\n",
    "plt.title('model loss')\n",
    "plt.ylabel('loss')\n",
    "plt.xlabel('epoch')\n",
    "plt.legend(['train', 'test'], loc='upper left')\n",
    "plt.show()"
   ]
  },
  {
   "cell_type": "markdown",
   "metadata": {},
   "source": [
    "# RNN+LSTM"
   ]
  },
  {
   "cell_type": "code",
   "execution_count": 17,
   "metadata": {},
   "outputs": [],
   "source": [
    "import numpy as np\n",
    "from keras.models import Sequential\n",
    "from keras.layers import Dense, Dropout, Activation, Flatten, LSTM\n",
    "from keras.layers import Convolution2D, MaxPooling2D\n",
    "from keras.optimizers import Adam\n",
    "from keras.regularizers import l2\n",
    "from keras.callbacks import EarlyStopping,ReduceLROnPlateau,ModelCheckpoint,TensorBoard,ProgbarLogger\n",
    "from keras.utils import np_utils\n",
    "from sklearn import metrics \n",
    "from sklearn.metrics import confusion_matrix, classification_report, accuracy_score\n",
    "from sklearn.preprocessing import LabelEncoder\n",
    "import itertools"
   ]
  },
  {
   "cell_type": "code",
   "execution_count": 18,
   "metadata": {},
   "outputs": [
    {
     "name": "stdout",
     "output_type": "stream",
     "text": [
      "Build LSTM RNN model ...\n"
     ]
    }
   ],
   "source": [
    "print('Build LSTM RNN model ...')\n",
    "model = Sequential()\n",
    "model.add(LSTM(units=32, dropout=0.1, recurrent_dropout=0.15, kernel_regularizer=l2(0.05), recurrent_regularizer=l2(0.08), bias_regularizer=l2(0.06), return_sequences=True))\n",
    "model.add(LSTM(units=32, dropout=0.4, recurrent_dropout=0.30, kernel_regularizer=l2(0.90), recurrent_regularizer=l2(0.90), bias_regularizer=l2(0.50), return_sequences=False))\n",
    "model.add(Dense(2, activation='softmax'))\n",
    "model.compile(loss='categorical_crossentropy', optimizer='Adamax', metrics=['acc','mse', 'mae', 'mape', 'cosine'])\n",
    "#model.summary()"
   ]
  },
  {
   "cell_type": "code",
   "execution_count": 19,
   "metadata": {},
   "outputs": [
    {
     "name": "stdout",
     "output_type": "stream",
     "text": [
      "training started..... please wait.\n",
      "\n",
      "Epoch 00001: loss improved from inf to 49.08561, saving model to ./best_model_trained.hdf5\n",
      "\n",
      "Epoch 00002: loss improved from 49.08561 to 16.54398, saving model to ./best_model_trained.hdf5\n",
      "\n",
      "Epoch 00003: loss improved from 16.54398 to 9.89643, saving model to ./best_model_trained.hdf5\n",
      "\n",
      "Epoch 00004: loss improved from 9.89643 to 6.94677, saving model to ./best_model_trained.hdf5\n",
      "\n",
      "Epoch 00005: loss improved from 6.94677 to 5.01028, saving model to ./best_model_trained.hdf5\n",
      "\n",
      "Epoch 00006: loss improved from 5.01028 to 3.62151, saving model to ./best_model_trained.hdf5\n",
      "\n",
      "Epoch 00007: loss improved from 3.62151 to 2.62630, saving model to ./best_model_trained.hdf5\n",
      "\n",
      "Epoch 00008: loss improved from 2.62630 to 1.93608, saving model to ./best_model_trained.hdf5\n",
      "\n",
      "Epoch 00009: loss improved from 1.93608 to 1.46595, saving model to ./best_model_trained.hdf5\n",
      "\n",
      "Epoch 00010: loss improved from 1.46595 to 1.15690, saving model to ./best_model_trained.hdf5\n",
      "\n",
      "Epoch 00011: loss improved from 1.15690 to 0.96438, saving model to ./best_model_trained.hdf5\n",
      "\n",
      "Epoch 00012: loss improved from 0.96438 to 0.84311, saving model to ./best_model_trained.hdf5\n",
      "\n",
      "Epoch 00013: loss improved from 0.84311 to 0.77436, saving model to ./best_model_trained.hdf5\n",
      "\n",
      "Epoch 00014: loss improved from 0.77436 to 0.73009, saving model to ./best_model_trained.hdf5\n",
      "\n",
      "Epoch 00015: loss improved from 0.73009 to 0.70386, saving model to ./best_model_trained.hdf5\n",
      "\n",
      "Epoch 00016: loss improved from 0.70386 to 0.69523, saving model to ./best_model_trained.hdf5\n",
      "\n",
      "Epoch 00017: loss improved from 0.69523 to 0.67946, saving model to ./best_model_trained.hdf5\n",
      "\n",
      "Epoch 00018: loss improved from 0.67946 to 0.66996, saving model to ./best_model_trained.hdf5\n",
      "\n",
      "Epoch 00019: loss improved from 0.66996 to 0.66381, saving model to ./best_model_trained.hdf5\n",
      "\n",
      "Epoch 00020: loss improved from 0.66381 to 0.65108, saving model to ./best_model_trained.hdf5\n",
      "\n",
      "Epoch 00021: loss did not improve from 0.65108\n",
      "\n",
      "Epoch 00022: loss did not improve from 0.65108\n",
      "\n",
      "Epoch 00023: loss improved from 0.65108 to 0.64120, saving model to ./best_model_trained.hdf5\n",
      "\n",
      "Epoch 00024: loss improved from 0.64120 to 0.63997, saving model to ./best_model_trained.hdf5\n",
      "\n",
      "Epoch 00025: loss improved from 0.63997 to 0.62899, saving model to ./best_model_trained.hdf5\n",
      "\n",
      "Epoch 00026: loss improved from 0.62899 to 0.61994, saving model to ./best_model_trained.hdf5\n",
      "\n",
      "Epoch 00027: loss did not improve from 0.61994\n",
      "\n",
      "Epoch 00028: loss improved from 0.61994 to 0.61443, saving model to ./best_model_trained.hdf5\n",
      "\n",
      "Epoch 00029: loss improved from 0.61443 to 0.60748, saving model to ./best_model_trained.hdf5\n",
      "\n",
      "Epoch 00030: loss did not improve from 0.60748\n",
      "\n",
      "Epoch 00031: loss did not improve from 0.60748\n",
      "\n",
      "Epoch 00032: loss improved from 0.60748 to 0.60235, saving model to ./best_model_trained.hdf5\n",
      "\n",
      "Epoch 00033: loss improved from 0.60235 to 0.59575, saving model to ./best_model_trained.hdf5\n",
      "\n",
      "Epoch 00034: loss did not improve from 0.59575\n",
      "\n",
      "Epoch 00035: loss improved from 0.59575 to 0.56894, saving model to ./best_model_trained.hdf5\n",
      "\n",
      "Epoch 00036: loss did not improve from 0.56894\n",
      "\n",
      "Epoch 00037: loss did not improve from 0.56894\n",
      "\n",
      "Epoch 00038: loss did not improve from 0.56894\n",
      "\n",
      "Epoch 00039: loss did not improve from 0.56894\n",
      "\n",
      "Epoch 00040: loss did not improve from 0.56894\n",
      "\n",
      "Epoch 00041: loss improved from 0.56894 to 0.56320, saving model to ./best_model_trained.hdf5\n",
      "\n",
      "Epoch 00042: loss did not improve from 0.56320\n",
      "\n",
      "Epoch 00043: loss improved from 0.56320 to 0.56144, saving model to ./best_model_trained.hdf5\n",
      "\n",
      "Epoch 00044: loss did not improve from 0.56144\n",
      "\n",
      "Epoch 00045: loss improved from 0.56144 to 0.55592, saving model to ./best_model_trained.hdf5\n",
      "\n",
      "Epoch 00046: loss improved from 0.55592 to 0.53030, saving model to ./best_model_trained.hdf5\n",
      "\n",
      "Epoch 00047: loss did not improve from 0.53030\n",
      "\n",
      "Epoch 00048: loss did not improve from 0.53030\n",
      "\n",
      "Epoch 00049: loss did not improve from 0.53030\n",
      "\n",
      "Epoch 00050: loss did not improve from 0.53030\n",
      "_________________________________________________________________\n",
      "Layer (type)                 Output Shape              Param #   \n",
      "=================================================================\n",
      "lstm_1 (LSTM)                (None, 28, 32)            5120      \n",
      "_________________________________________________________________\n",
      "lstm_2 (LSTM)                (None, 32)                8320      \n",
      "_________________________________________________________________\n",
      "dense_2 (Dense)              (None, 2)                 66        \n",
      "=================================================================\n",
      "Total params: 13,506\n",
      "Trainable params: 13,506\n",
      "Non-trainable params: 0\n",
      "_________________________________________________________________\n",
      "training finised!\n",
      "Wall time: 2min 46s\n"
     ]
    }
   ],
   "source": [
    "%%time\n",
    "# saved model checkpoint file\n",
    "best_model_file=\"./best_model_trained.hdf5\"\n",
    "#train_model_file=file_path+\"/checkpoints/weights.best_{epoch:02d}-{loss:.2f}.hdf5\"\n",
    "MAX_PATIENT=12\n",
    "MAX_EPOCHS=50\n",
    "MAX_BATCH=7\n",
    "\n",
    "# callbacks\n",
    "# removed EarlyStopping(patience=MAX_PATIENT)\n",
    "callback=[ReduceLROnPlateau(patience=MAX_PATIENT, verbose=1),\n",
    "          ModelCheckpoint(filepath=best_model_file, monitor='loss', verbose=1, save_best_only=True)]\n",
    "\n",
    "print (\"training started..... please wait.\")\n",
    "# training\n",
    "history=model.fit(X_train, y_train_hot, \n",
    "                  batch_size=MAX_BATCH, \n",
    "                  epochs=MAX_EPOCHS,\n",
    "                  verbose=0,\n",
    "                  validation_data=(X_test, y_test_hot),\n",
    "                  callbacks=callback) \n",
    "model.summary()\n",
    "print (\"training finised!\")\n",
    "\n"
   ]
  },
  {
   "cell_type": "code",
   "execution_count": 20,
   "metadata": {},
   "outputs": [
    {
     "name": "stdout",
     "output_type": "stream",
     "text": [
      "model train data score       :  86.02 %\n",
      "model train data loss        :  0.44\n",
      "model test data score        :  82.35 %\n",
      "model train data loss        :  0.47\n"
     ]
    }
   ],
   "source": [
    "score = model.evaluate(X_train, y_train_hot, verbose=0) \n",
    "print (\"model train data score       : \",round(score[1]*100,2) , \"%\")\n",
    "print (\"model train data loss        : \",round(score[0],2))\n",
    "\n",
    "score = model.evaluate(X_test, y_test_hot, verbose=0) \n",
    "print (\"model test data score        : \",round(score[1]*100,2) , \"%\")\n",
    "print (\"model train data loss        : \",round(score[0],2))"
   ]
  },
  {
   "cell_type": "code",
   "execution_count": 21,
   "metadata": {},
   "outputs": [
    {
     "data": {
      "image/png": "[encoded data removed]",
      "text/plain": [
       "<Figure size 432x288 with 1 Axes>"
      ]
     },
     "metadata": {
      "needs_background": "light"
     },
     "output_type": "display_data"
    }
   ],
   "source": [
    "# summarize history for accuracy\n",
    "plt.plot(history.history['acc'])\n",
    "plt.plot(history.history['val_acc'])\n",
    "plt.title('model accuracy')\n",
    "plt.ylabel('accuracy')\n",
    "plt.xlabel('epoch')\n",
    "plt.legend(['train', 'test'], loc='upper left')\n",
    "plt.show()"
   ]
  },
  {
   "cell_type": "code",
   "execution_count": 22,
   "metadata": {},
   "outputs": [
    {
     "data": {
      "image/png": "[encoded data removed]",
      "text/plain": [
       "<Figure size 432x288 with 1 Axes>"
      ]
     },
     "metadata": {
      "needs_background": "light"
     },
     "output_type": "display_data"
    }
   ],
   "source": [
    "# summarize history for loss\n",
    "plt.plot(history.history['loss'])\n",
    "plt.plot(history.history['val_loss'])\n",
    "plt.title('model loss')\n",
    "plt.ylabel('loss')\n",
    "plt.xlabel('epoch')\n",
    "plt.legend(['train', 'test'], loc='upper left')\n",
    "plt.show()"
   ]
  }
 ],
 "metadata": {
  "kernelspec": {
   "display_name": "Python 3",
   "language": "python",
   "name": "python3"
  },
  "language_info": {
   "codemirror_mode": {
    "name": "ipython",
    "version": 3
   },
   "file_extension": ".py",
   "mimetype": "text/x-python",
   "name": "python",
   "nbconvert_exporter": "python",
   "pygments_lexer": "ipython3",
   "version": "3.6.4"
  }
 },
 "nbformat": 4,
 "nbformat_minor": 2
}
