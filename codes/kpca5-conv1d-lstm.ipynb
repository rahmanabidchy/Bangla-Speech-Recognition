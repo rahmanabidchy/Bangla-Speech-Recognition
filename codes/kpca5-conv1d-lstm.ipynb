{
 "cells": [
  {
   "cell_type": "code",
   "execution_count": 1,
   "metadata": {},
   "outputs": [
    {
     "name": "stderr",
     "output_type": "stream",
     "text": [
      "C:\\Users\\lenovo_pc\\Anaconda3\\lib\\site-packages\\h5py\\__init__.py:36: FutureWarning: Conversion of the second argument of issubdtype from `float` to `np.floating` is deprecated. In future, it will be treated as `np.float64 == np.dtype(float).type`.\n",
      "  from ._conv import register_converters as _register_converters\n",
      "Using TensorFlow backend.\n"
     ]
    }
   ],
   "source": [
    "import keras\n",
    "import os\n",
    "import librosa\n",
    "\n",
    "\n",
    "import numpy as np\n",
    "import pandas as pd\n",
    "\n",
    "from sklearn.preprocessing import StandardScaler\n",
    "from sklearn.decomposition import KernelPCA\n",
    "\n",
    "from keras.models import Sequential\n",
    "from keras.utils import np_utils\n",
    "from keras.utils import to_categorical\n",
    "from keras.layers import Dense, Dropout, GaussianNoise, Conv1D\n",
    "from keras.preprocessing.image import ImageDataGenerator\n",
    "\n",
    "import matplotlib.pyplot as plt\n",
    "import seaborn as sns\n",
    "%matplotlib inline"
   ]
  },
  {
   "cell_type": "code",
   "execution_count": 2,
   "metadata": {},
   "outputs": [],
   "source": [
    "DATA_PATH = r'C:\\Users\\lenovo_pc\\Desktop\\CNN_SR\\Dataset-merged'\n",
    "feature_dim_1 = 5"
   ]
  },
  {
   "cell_type": "code",
   "execution_count": 3,
   "metadata": {},
   "outputs": [],
   "source": [
    "def get_labels(path):\n",
    "    labels = os.listdir(path)\n",
    "    label_indices = np.arange(0, len(labels))    \n",
    "    return labels, label_indices, to_categorical(label_indices)\n",
    "\n",
    "\n",
    "\n"
   ]
  },
  {
   "cell_type": "code",
   "execution_count": 4,
   "metadata": {},
   "outputs": [],
   "source": [
    "\n",
    "\n",
    "def save_data_to_array(path, max_pad_len):\n",
    "    labels, _, _ = get_labels(path)\n",
    "\n",
    "    for label in labels:\n",
    "        # Init mfcc vectors\n",
    "        melspectrogram_vectors = []\n",
    "\n",
    "        wavfiles = [path + '/' + label + '/' + wavfile for wavfile in os.listdir(path + '/' + label)]\n",
    "        #wavfiles = librosa.util.find_files(db)\n",
    "        #print(wavfiles)\n",
    "        x=0\n",
    "        for wavfile in wavfiles:\n",
    "            name=label+'_'+str(x)\n",
    "            melspectrogram = wav2melspectrogram(wavfile, name, max_pad_len=max_pad_len)            \n",
    "            melspectrogram_vectors.append(melspectrogram)            \n",
    "            x=x+1\n",
    "        \n",
    "        #computing PCA and saving\n",
    "        \n",
    "        np.save(label + '.npy', melspectrogram_vectors)\n",
    "        #y=np.load(label + '.npy')\n",
    "        #y = sklearn.preprocessing.scale(y)\n",
    "        #y.mean()\n",
    "        #model = sklearn.decomposition.PCA(n_components=2, whiten=True)\n",
    "        #model.fit(y)\n",
    "        #y = model.transform(y)\n",
    "        #pd.DataFrame(y).to_csv(VALUE_PATH+'/'+label+'.csv')\n",
    "        \n",
    "        \n",
    "sample_x=[]\n",
    "\n",
    "def wav2melspectrogram(file_path, name, max_pad_len):\n",
    "    wave, sr = librosa.load(file_path)\n",
    "    x = librosa.feature.melspectrogram(wave, sr=sr)\n",
    "    pad_width = max_pad_len - x.shape[1]\n",
    "    x = np.pad(x, pad_width=((0, 0), (0, pad_width)), mode='constant')\n",
    "    #here the dimensions are getting reduced \n",
    "    #through PCA decompostion\n",
    "    x = reduce_dimension(x)\n",
    "    #pd.DataFrame(x).to_csv(VALUE_PATH+'/'+name+'.csv')\n",
    "    return x.T"
   ]
  },
  {
   "cell_type": "code",
   "execution_count": 5,
   "metadata": {},
   "outputs": [],
   "source": [
    "NCOMPONENTS = feature_dim_1\n",
    "def reduce_dimension(X):\n",
    "    scaler = StandardScaler()\n",
    "    scaler.fit(X.T)\n",
    "    X_data = scaler.transform(X.T)\n",
    "    \n",
    "    kpca = KernelPCA(n_components=NCOMPONENTS)\n",
    "    X_kpca = kpca.fit_transform(X.T)\n",
    "    \n",
    "    return X_kpca.T"
   ]
  },
  {
   "cell_type": "code",
   "execution_count": 6,
   "metadata": {},
   "outputs": [],
   "source": [
    "from sklearn.model_selection import train_test_split\n",
    "\n",
    "\n",
    "def get_train_test(split_ratio=0.8, random_state=42):\n",
    "    # Get available labels\n",
    "    labels, indices, _ = get_labels(DATA_PATH)\n",
    "\n",
    "    # Getting first arrays\n",
    "    X = np.load(labels[0] + '.npy')\n",
    "    # print(X.shape[0]) returns: 129\n",
    "    y = np.zeros(X.shape[0])\n",
    "\n",
    "    # Append all of the dataset into one single array, same goes for y\n",
    "    for i, label in enumerate(labels[1:]):\n",
    "        x = np.load(label + '.npy')\n",
    "        X = np.vstack((X, x))\n",
    "        #print(X.shape[0]) returns: 129+152=281\n",
    "        #print(i) returns: 0: So all y values are 1 for Seven and 0 for Tin\n",
    "        y = np.append(y, np.full(x.shape[0], fill_value= (i + 1)))\n",
    "\n",
    "    assert X.shape[0] == len(y)\n",
    "\n",
    "    return train_test_split(X, y, test_size= (1 - split_ratio), random_state=random_state, shuffle=True)\n",
    "\n"
   ]
  },
  {
   "cell_type": "code",
   "execution_count": 7,
   "metadata": {},
   "outputs": [],
   "source": [
    "\n",
    "\n",
    "#db = r'C:\\Users\\lenovo_pc\\Desktop\\CNN_SR\\SampleData'\n",
    "\n",
    "\n",
    "# Second dimension of the feature is dim2\n",
    "feature_dim_2 = 28\n",
    "\n",
    "# Save data to array file first\n",
    "save_data_to_array(DATA_PATH,feature_dim_2)\n",
    "\n",
    "# # Loading train set and test set\n",
    "X_train, X_test, y_train, y_test = get_train_test()\n",
    "\n",
    "# # Feature dimension\n",
    "channel = 1\n",
    "epochs = 50\n",
    "batch_size = 100\n",
    "verbose = 1\n",
    "num_classes = 2\n",
    "\n",
    "\n",
    "y_train_hot = to_categorical(y_train)\n",
    "y_test_hot = to_categorical(y_test)"
   ]
  },
  {
   "cell_type": "code",
   "execution_count": 8,
   "metadata": {},
   "outputs": [
    {
     "name": "stdout",
     "output_type": "stream",
     "text": [
      "(472, 28, 5)\n",
      "(119, 28, 5)\n"
     ]
    }
   ],
   "source": [
    "\n",
    "#X_train = np.array(x_train)\n",
    "print(X_train.shape)\n",
    "print(X_test.shape)"
   ]
  },
  {
   "cell_type": "markdown",
   "metadata": {},
   "source": [
    "# *********++++++*********++++++*********++++++*********++++++"
   ]
  },
  {
   "cell_type": "code",
   "execution_count": 9,
   "metadata": {},
   "outputs": [],
   "source": [
    "from keras.models import Sequential\n",
    "from keras.layers import Dense, Dropout\n",
    "from keras.layers import Embedding\n",
    "from keras import regularizers\n",
    "from keras.layers import Conv1D, GlobalAveragePooling1D, MaxPooling1D"
   ]
  },
  {
   "cell_type": "code",
   "execution_count": 10,
   "metadata": {},
   "outputs": [],
   "source": [
    "#seq_length = NCOMPONENTS\n",
    "\n",
    "#model = Sequential()\n",
    "#model.add(Conv1D(64, 3, activation='relu', input_shape=(feature_dim_2,seq_length), padding='causal'))\n",
    "#model.add(Conv1D(64, 3, activation='relu'))\n",
    "#model.add(MaxPooling1D(3))\n",
    "#model.add(Conv1D(128, 3, activation='relu'))\n",
    "#model.add(Conv1D(128, 3, activation='relu'))\n",
    "#model.add(GlobalAveragePooling1D())\n",
    "#model.add(Dropout(0.5))\n",
    "#model.add(Dense(2, activation='sigmoid'))"
   ]
  },
  {
   "cell_type": "code",
   "execution_count": 11,
   "metadata": {},
   "outputs": [],
   "source": [
    "\n",
    "\n",
    "model = Sequential()\n",
    "model.add(Conv1D(64, 3, activation='relu', input_shape=(feature_dim_2,feature_dim_1) ,padding='causal'))\n",
    "model.add(Conv1D(64, 3, activation='relu', ))\n",
    "model.add(MaxPooling1D(3))\n",
    "#model.add(Conv1D(128, 3, activation='relu', ))\n",
    "#model.add(Conv1D(128, 3, activation='relu', ))\n",
    "model.add(GlobalAveragePooling1D())\n",
    "model.add(Dropout(0.7))\n",
    "model.add(Dense(2, activation='sigmoid'))\n"
   ]
  },
  {
   "cell_type": "code",
   "execution_count": 12,
   "metadata": {},
   "outputs": [],
   "source": [
    "model.compile(loss='binary_crossentropy',\n",
    "              optimizer='rmsprop',\n",
    "              metrics=['accuracy'])"
   ]
  },
  {
   "cell_type": "code",
   "execution_count": 13,
   "metadata": {},
   "outputs": [
    {
     "name": "stdout",
     "output_type": "stream",
     "text": [
      "Train on 472 samples, validate on 119 samples\n",
      "Epoch 1/50\n",
      "472/472 [==============================] - 11s 24ms/step - loss: 5.0866 - acc: 0.4947 - val_loss: 3.4085 - val_acc: 0.5798\n",
      "Epoch 2/50\n",
      "472/472 [==============================] - 10s 20ms/step - loss: 4.5778 - acc: 0.5434 - val_loss: 2.8361 - val_acc: 0.5546\n",
      "Epoch 3/50\n",
      "472/472 [==============================] - 11s 23ms/step - loss: 4.4976 - acc: 0.5466 - val_loss: 2.6613 - val_acc: 0.5630\n",
      "Epoch 4/50\n",
      "472/472 [==============================] - 10s 21ms/step - loss: 4.2846 - acc: 0.5434 - val_loss: 4.2051 - val_acc: 0.5042\n",
      "Epoch 5/50\n",
      "472/472 [==============================] - 9s 19ms/step - loss: 4.4052 - acc: 0.5487 - val_loss: 3.3971 - val_acc: 0.5966\n",
      "Epoch 6/50\n",
      "472/472 [==============================] - 10s 21ms/step - loss: 3.8125 - acc: 0.5699 - val_loss: 3.3805 - val_acc: 0.5630\n",
      "Epoch 7/50\n",
      "472/472 [==============================] - 9s 19ms/step - loss: 3.7556 - acc: 0.5826 - val_loss: 3.6419 - val_acc: 0.4916\n",
      "Epoch 8/50\n",
      "472/472 [==============================] - 9s 20ms/step - loss: 3.5765 - acc: 0.5911 - val_loss: 2.6945 - val_acc: 0.5882\n",
      "Epoch 9/50\n",
      "472/472 [==============================] - 9s 20ms/step - loss: 3.3120 - acc: 0.6049 - val_loss: 2.7236 - val_acc: 0.5966\n",
      "Epoch 10/50\n",
      "472/472 [==============================] - 9s 19ms/step - loss: 2.9487 - acc: 0.6218 - val_loss: 2.9870 - val_acc: 0.5798\n",
      "Epoch 11/50\n",
      "472/472 [==============================] - 9s 20ms/step - loss: 2.9180 - acc: 0.6367 - val_loss: 1.8899 - val_acc: 0.6891\n",
      "Epoch 12/50\n",
      "472/472 [==============================] - 9s 20ms/step - loss: 2.8650 - acc: 0.6451 - val_loss: 1.9360 - val_acc: 0.7101\n",
      "Epoch 13/50\n",
      "472/472 [==============================] - 9s 18ms/step - loss: 2.5956 - acc: 0.6631 - val_loss: 2.1367 - val_acc: 0.7227\n",
      "Epoch 14/50\n",
      "472/472 [==============================] - 9s 19ms/step - loss: 2.4514 - acc: 0.6758 - val_loss: 1.9502 - val_acc: 0.7437\n",
      "Epoch 15/50\n",
      "472/472 [==============================] - 9s 19ms/step - loss: 2.3587 - acc: 0.6896 - val_loss: 1.7937 - val_acc: 0.7311\n",
      "Epoch 16/50\n",
      "472/472 [==============================] - 9s 18ms/step - loss: 1.9687 - acc: 0.7140 - val_loss: 2.0477 - val_acc: 0.7395\n",
      "Epoch 17/50\n",
      "472/472 [==============================] - 10s 20ms/step - loss: 1.8336 - acc: 0.7214 - val_loss: 1.7318 - val_acc: 0.7101\n",
      "Epoch 18/50\n",
      "472/472 [==============================] - 9s 19ms/step - loss: 1.5667 - acc: 0.7320 - val_loss: 1.8721 - val_acc: 0.7395\n",
      "Epoch 19/50\n",
      "472/472 [==============================] - 9s 19ms/step - loss: 1.4582 - acc: 0.7299 - val_loss: 1.5966 - val_acc: 0.7269\n",
      "Epoch 20/50\n",
      "472/472 [==============================] - 10s 21ms/step - loss: 1.2316 - acc: 0.7426 - val_loss: 1.4696 - val_acc: 0.7521\n",
      "Epoch 21/50\n",
      "472/472 [==============================] - 9s 19ms/step - loss: 1.1204 - acc: 0.7542 - val_loss: 1.3988 - val_acc: 0.7353\n",
      "Epoch 22/50\n",
      "472/472 [==============================] - 9s 18ms/step - loss: 0.9128 - acc: 0.7320 - val_loss: 1.2078 - val_acc: 0.7479\n",
      "Epoch 23/50\n",
      "472/472 [==============================] - 8s 18ms/step - loss: 0.8327 - acc: 0.7500 - val_loss: 1.0631 - val_acc: 0.7353\n",
      "Epoch 24/50\n",
      "472/472 [==============================] - 9s 18ms/step - loss: 0.7493 - acc: 0.7479 - val_loss: 0.9405 - val_acc: 0.7185\n",
      "Epoch 25/50\n",
      "472/472 [==============================] - 10s 21ms/step - loss: 0.7404 - acc: 0.7468 - val_loss: 0.8719 - val_acc: 0.7143\n",
      "Epoch 26/50\n",
      "472/472 [==============================] - 9s 18ms/step - loss: 0.6590 - acc: 0.7246 - val_loss: 0.8914 - val_acc: 0.7311\n",
      "Epoch 27/50\n",
      "472/472 [==============================] - 9s 19ms/step - loss: 0.6192 - acc: 0.7383 - val_loss: 0.7833 - val_acc: 0.7143\n",
      "Epoch 28/50\n",
      "472/472 [==============================] - 9s 18ms/step - loss: 0.6153 - acc: 0.7458 - val_loss: 0.7446 - val_acc: 0.7185\n",
      "Epoch 29/50\n",
      "472/472 [==============================] - 10s 20ms/step - loss: 0.5877 - acc: 0.7426 - val_loss: 0.7594 - val_acc: 0.7227\n",
      "Epoch 30/50\n",
      "472/472 [==============================] - 8s 18ms/step - loss: 0.5668 - acc: 0.7373 - val_loss: 0.7522 - val_acc: 0.7227\n",
      "Epoch 31/50\n",
      "472/472 [==============================] - 10s 21ms/step - loss: 0.6036 - acc: 0.7426 - val_loss: 0.7345 - val_acc: 0.7017\n",
      "Epoch 32/50\n",
      "472/472 [==============================] - 10s 20ms/step - loss: 0.5404 - acc: 0.7680 - val_loss: 0.6792 - val_acc: 0.7143\n",
      "Epoch 33/50\n",
      "472/472 [==============================] - 10s 21ms/step - loss: 0.5620 - acc: 0.7489 - val_loss: 0.7817 - val_acc: 0.7185\n",
      "Epoch 34/50\n",
      "472/472 [==============================] - 9s 18ms/step - loss: 0.5266 - acc: 0.7638 - val_loss: 0.7774 - val_acc: 0.7101\n",
      "Epoch 35/50\n",
      "472/472 [==============================] - 9s 18ms/step - loss: 0.5241 - acc: 0.7712 - val_loss: 0.7144 - val_acc: 0.6975\n",
      "Epoch 36/50\n",
      "472/472 [==============================] - 10s 21ms/step - loss: 0.5677 - acc: 0.7606 - val_loss: 0.7119 - val_acc: 0.7101\n",
      "Epoch 37/50\n",
      "472/472 [==============================] - 10s 21ms/step - loss: 0.5302 - acc: 0.7722 - val_loss: 0.7291 - val_acc: 0.7143\n",
      "Epoch 38/50\n",
      "472/472 [==============================] - 9s 19ms/step - loss: 0.5127 - acc: 0.7839 - val_loss: 0.6926 - val_acc: 0.7101\n",
      "Epoch 39/50\n",
      "472/472 [==============================] - 9s 19ms/step - loss: 0.4891 - acc: 0.7807 - val_loss: 0.6592 - val_acc: 0.7143\n",
      "Epoch 40/50\n",
      "472/472 [==============================] - 9s 20ms/step - loss: 0.5304 - acc: 0.7712 - val_loss: 0.7263 - val_acc: 0.7143\n",
      "Epoch 41/50\n",
      "472/472 [==============================] - 10s 20ms/step - loss: 0.5419 - acc: 0.7659 - val_loss: 0.7166 - val_acc: 0.7101\n",
      "Epoch 42/50\n",
      "472/472 [==============================] - 10s 22ms/step - loss: 0.5156 - acc: 0.7871 - val_loss: 0.7582 - val_acc: 0.7143\n",
      "Epoch 43/50\n",
      "472/472 [==============================] - 9s 19ms/step - loss: 0.4969 - acc: 0.7712 - val_loss: 0.6982 - val_acc: 0.6975\n",
      "Epoch 44/50\n",
      "472/472 [==============================] - 9s 19ms/step - loss: 0.5218 - acc: 0.7934 - val_loss: 0.6471 - val_acc: 0.7143\n",
      "Epoch 45/50\n",
      "472/472 [==============================] - 10s 21ms/step - loss: 0.4786 - acc: 0.7775 - val_loss: 0.6813 - val_acc: 0.7185\n",
      "Epoch 46/50\n",
      "472/472 [==============================] - 9s 20ms/step - loss: 0.4470 - acc: 0.7998 - val_loss: 0.7155 - val_acc: 0.7269\n",
      "Epoch 47/50\n",
      "472/472 [==============================] - 10s 21ms/step - loss: 0.4702 - acc: 0.8104 - val_loss: 0.6759 - val_acc: 0.7269\n",
      "Epoch 48/50\n",
      "472/472 [==============================] - 9s 19ms/step - loss: 0.4361 - acc: 0.8030 - val_loss: 0.7235 - val_acc: 0.7143\n",
      "Epoch 49/50\n",
      "472/472 [==============================] - 9s 19ms/step - loss: 0.4595 - acc: 0.8199 - val_loss: 0.7355 - val_acc: 0.7311\n",
      "Epoch 50/50\n",
      "472/472 [==============================] - 9s 19ms/step - loss: 0.4937 - acc: 0.7871 - val_loss: 0.6512 - val_acc: 0.7185\n"
     ]
    }
   ],
   "source": [
    "#model.fit(x_train, y_train, batch_size=7, epochs=10)\n",
    "\n",
    "history = model.fit(X_train, y_train_hot, batch_size=batch_size, epochs=50, verbose=verbose, validation_data=(X_test, y_test_hot))"
   ]
  },
  {
   "cell_type": "code",
   "execution_count": 14,
   "metadata": {},
   "outputs": [
    {
     "name": "stdout",
     "output_type": "stream",
     "text": [
      "model train data score: acc       :  86.76 %\n",
      "model train data score: loss      :  35.14 %\n",
      "model test data score: acc        :  71.85 %\n",
      "model test data score: loss       :  65.12 %\n"
     ]
    }
   ],
   "source": [
    "score = model.evaluate(X_train, y_train_hot, verbose=0) \n",
    "print (\"model train data score: acc       : \",round(score[1]*100,2) , \"%\")\n",
    "print (\"model train data score: loss      : \",round(score[0]*100,2) , \"%\")\n",
    "\n",
    "score = model.evaluate(X_test, y_test_hot, verbose=0) \n",
    "print (\"model test data score: acc        : \",round(score[1]*100,2) , \"%\")\n",
    "print (\"model test data score: loss       : \",round(score[0]*100,2) , \"%\")\n"
   ]
  },
  {
   "cell_type": "code",
   "execution_count": 15,
   "metadata": {},
   "outputs": [
    {
     "data": {
      "image/png": "[encoded data removed]",
      "text/plain": [
       "<Figure size 432x288 with 1 Axes>"
      ]
     },
     "metadata": {
      "needs_background": "light"
     },
     "output_type": "display_data"
    }
   ],
   "source": [
    "# summarize history for accuracy\n",
    "plt.plot(history.history['acc'])\n",
    "plt.plot(history.history['val_acc'])\n",
    "plt.title('model accuracy')\n",
    "plt.ylabel('accuracy')\n",
    "plt.xlabel('epoch')\n",
    "plt.legend(['train', 'test'], loc='upper left')\n",
    "plt.show()"
   ]
  },
  {
   "cell_type": "code",
   "execution_count": 16,
   "metadata": {},
   "outputs": [
    {
     "data": {
      "image/png": "[encoded data removed]",
      "text/plain": [
       "<Figure size 432x288 with 1 Axes>"
      ]
     },
     "metadata": {
      "needs_background": "light"
     },
     "output_type": "display_data"
    }
   ],
   "source": [
    "# summarize history for loss\n",
    "plt.plot(history.history['loss'])\n",
    "plt.plot(history.history['val_loss'])\n",
    "plt.title('model loss')\n",
    "plt.ylabel('loss')\n",
    "plt.xlabel('epoch')\n",
    "plt.legend(['train', 'test'], loc='upper left')\n",
    "plt.show()"
   ]
  },
  {
   "cell_type": "markdown",
   "metadata": {},
   "source": [
    "# RNN+LSTM\n"
   ]
  },
  {
   "cell_type": "code",
   "execution_count": 17,
   "metadata": {},
   "outputs": [],
   "source": [
    "import numpy as np\n",
    "from keras.models import Sequential\n",
    "from keras.layers import Dense, Dropout, Activation, Flatten, LSTM\n",
    "from keras.layers import Convolution2D, MaxPooling2D\n",
    "from keras.optimizers import Adam\n",
    "from keras.regularizers import l2\n",
    "from keras.callbacks import EarlyStopping,ReduceLROnPlateau,ModelCheckpoint,TensorBoard,ProgbarLogger\n",
    "from keras.utils import np_utils\n",
    "from sklearn import metrics \n",
    "from sklearn.metrics import confusion_matrix, classification_report, accuracy_score\n",
    "from sklearn.preprocessing import LabelEncoder\n",
    "import itertools"
   ]
  },
  {
   "cell_type": "code",
   "execution_count": 18,
   "metadata": {},
   "outputs": [
    {
     "name": "stdout",
     "output_type": "stream",
     "text": [
      "Build LSTM RNN model ...\n"
     ]
    }
   ],
   "source": [
    "print('Build LSTM RNN model ...')\n",
    "model = Sequential()\n",
    "model.add(LSTM(units=64, dropout=0.1, recurrent_dropout=0.15, kernel_regularizer=l2(0.05), recurrent_regularizer=l2(0.08), bias_regularizer=l2(0.06), return_sequences=True))\n",
    "model.add(LSTM(units=32, dropout=0.6, recurrent_dropout=0.60, kernel_regularizer=l2(0.90), recurrent_regularizer=l2(0.90), bias_regularizer=l2(0.10), return_sequences=False))\n",
    "model.add(Dense(2, activation='softmax'))\n",
    "model.compile(loss='categorical_crossentropy', optimizer='Adamax', metrics=['acc','mse', 'mae', 'mape', 'cosine'])\n",
    "#model.summary()"
   ]
  },
  {
   "cell_type": "code",
   "execution_count": 19,
   "metadata": {},
   "outputs": [
    {
     "name": "stdout",
     "output_type": "stream",
     "text": [
      "training started..... please wait.\n",
      "\n",
      "Epoch 00001: loss improved from inf to 52.37577, saving model to ./best_model_trained.hdf5\n",
      "\n",
      "Epoch 00002: loss improved from 52.37577 to 10.60288, saving model to ./best_model_trained.hdf5\n",
      "\n",
      "Epoch 00003: loss improved from 10.60288 to 4.97023, saving model to ./best_model_trained.hdf5\n",
      "\n",
      "Epoch 00004: loss improved from 4.97023 to 3.41707, saving model to ./best_model_trained.hdf5\n",
      "\n",
      "Epoch 00005: loss improved from 3.41707 to 2.57889, saving model to ./best_model_trained.hdf5\n",
      "\n",
      "Epoch 00006: loss improved from 2.57889 to 1.99319, saving model to ./best_model_trained.hdf5\n",
      "\n",
      "Epoch 00007: loss improved from 1.99319 to 1.57648, saving model to ./best_model_trained.hdf5\n",
      "\n",
      "Epoch 00008: loss improved from 1.57648 to 1.27795, saving model to ./best_model_trained.hdf5\n",
      "\n",
      "Epoch 00009: loss improved from 1.27795 to 1.07296, saving model to ./best_model_trained.hdf5\n",
      "\n",
      "Epoch 00010: loss improved from 1.07296 to 0.92545, saving model to ./best_model_trained.hdf5\n",
      "\n",
      "Epoch 00011: loss improved from 0.92545 to 0.83558, saving model to ./best_model_trained.hdf5\n",
      "\n",
      "Epoch 00012: loss improved from 0.83558 to 0.77926, saving model to ./best_model_trained.hdf5\n",
      "\n",
      "Epoch 00013: loss improved from 0.77926 to 0.74349, saving model to ./best_model_trained.hdf5\n",
      "\n",
      "Epoch 00014: loss improved from 0.74349 to 0.71021, saving model to ./best_model_trained.hdf5\n",
      "\n",
      "Epoch 00015: loss improved from 0.71021 to 0.69411, saving model to ./best_model_trained.hdf5\n",
      "\n",
      "Epoch 00016: loss improved from 0.69411 to 0.68696, saving model to ./best_model_trained.hdf5\n",
      "\n",
      "Epoch 00017: loss improved from 0.68696 to 0.67737, saving model to ./best_model_trained.hdf5\n",
      "\n",
      "Epoch 00018: loss improved from 0.67737 to 0.66976, saving model to ./best_model_trained.hdf5\n",
      "\n",
      "Epoch 00019: loss improved from 0.66976 to 0.66848, saving model to ./best_model_trained.hdf5\n",
      "\n",
      "Epoch 00020: loss improved from 0.66848 to 0.66226, saving model to ./best_model_trained.hdf5\n",
      "\n",
      "Epoch 00021: loss improved from 0.66226 to 0.65995, saving model to ./best_model_trained.hdf5\n",
      "\n",
      "Epoch 00022: loss did not improve from 0.65995\n",
      "\n",
      "Epoch 00023: loss improved from 0.65995 to 0.65134, saving model to ./best_model_trained.hdf5\n",
      "\n",
      "Epoch 00024: loss improved from 0.65134 to 0.64606, saving model to ./best_model_trained.hdf5\n",
      "\n",
      "Epoch 00025: loss did not improve from 0.64606\n",
      "\n",
      "Epoch 00026: loss improved from 0.64606 to 0.63990, saving model to ./best_model_trained.hdf5\n",
      "\n",
      "Epoch 00027: loss did not improve from 0.63990\n",
      "\n",
      "Epoch 00028: loss did not improve from 0.63990\n",
      "\n",
      "Epoch 00029: loss improved from 0.63990 to 0.62723, saving model to ./best_model_trained.hdf5\n",
      "\n",
      "Epoch 00030: loss did not improve from 0.62723\n",
      "\n",
      "Epoch 00031: loss did not improve from 0.62723\n",
      "\n",
      "Epoch 00032: loss improved from 0.62723 to 0.62285, saving model to ./best_model_trained.hdf5\n",
      "\n",
      "Epoch 00033: loss did not improve from 0.62285\n",
      "\n",
      "Epoch 00034: loss improved from 0.62285 to 0.61585, saving model to ./best_model_trained.hdf5\n",
      "\n",
      "Epoch 00035: loss did not improve from 0.61585\n",
      "\n",
      "Epoch 00036: loss did not improve from 0.61585\n",
      "\n",
      "Epoch 00037: loss did not improve from 0.61585\n",
      "\n",
      "Epoch 00038: loss did not improve from 0.61585\n",
      "\n",
      "Epoch 00039: loss did not improve from 0.61585\n",
      "\n",
      "Epoch 00040: loss improved from 0.61585 to 0.61114, saving model to ./best_model_trained.hdf5\n",
      "\n",
      "Epoch 00041: loss did not improve from 0.61114\n",
      "\n",
      "Epoch 00042: loss improved from 0.61114 to 0.60580, saving model to ./best_model_trained.hdf5\n",
      "\n",
      "Epoch 00043: loss did not improve from 0.60580\n",
      "\n",
      "Epoch 00044: loss did not improve from 0.60580\n",
      "\n",
      "Epoch 00045: loss did not improve from 0.60580\n",
      "\n",
      "Epoch 00046: loss improved from 0.60580 to 0.60324, saving model to ./best_model_trained.hdf5\n",
      "\n",
      "Epoch 00047: loss did not improve from 0.60324\n",
      "\n",
      "Epoch 00048: loss did not improve from 0.60324\n",
      "\n",
      "Epoch 00049: loss improved from 0.60324 to 0.59743, saving model to ./best_model_trained.hdf5\n",
      "\n",
      "Epoch 00050: loss improved from 0.59743 to 0.59474, saving model to ./best_model_trained.hdf5\n",
      "_________________________________________________________________\n",
      "Layer (type)                 Output Shape              Param #   \n",
      "=================================================================\n",
      "lstm_1 (LSTM)                (None, 28, 64)            17920     \n",
      "_________________________________________________________________\n",
      "lstm_2 (LSTM)                (None, 32)                12416     \n",
      "_________________________________________________________________\n",
      "dense_2 (Dense)              (None, 2)                 66        \n",
      "=================================================================\n",
      "Total params: 30,402\n",
      "Trainable params: 30,402\n",
      "Non-trainable params: 0\n",
      "_________________________________________________________________\n",
      "training finised!\n",
      "Wall time: 2min 44s\n"
     ]
    }
   ],
   "source": [
    "%%time\n",
    "# saved model checkpoint file\n",
    "best_model_file=\"./best_model_trained.hdf5\"\n",
    "#train_model_file=file_path+\"/checkpoints/weights.best_{epoch:02d}-{loss:.2f}.hdf5\"\n",
    "MAX_PATIENT=12\n",
    "MAX_EPOCHS=50\n",
    "MAX_BATCH=7\n",
    "\n",
    "# callbacks\n",
    "# removed EarlyStopping(patience=MAX_PATIENT)\n",
    "callback=[ReduceLROnPlateau(patience=MAX_PATIENT, verbose=1),\n",
    "          ModelCheckpoint(filepath=best_model_file, monitor='loss', verbose=1, save_best_only=True)]\n",
    "\n",
    "print (\"training started..... please wait.\")\n",
    "# training\n",
    "history=model.fit(X_train, y_train_hot, \n",
    "                  batch_size=MAX_BATCH, \n",
    "                  epochs=MAX_EPOCHS,\n",
    "                  verbose=0,\n",
    "                  validation_data=(X_test, y_test_hot),\n",
    "                  callbacks=callback) \n",
    "model.summary()\n",
    "print (\"training finised!\")\n"
   ]
  },
  {
   "cell_type": "code",
   "execution_count": 20,
   "metadata": {},
   "outputs": [
    {
     "name": "stdout",
     "output_type": "stream",
     "text": [
      "model train data score       :  78.39 %\n",
      "model train data loss        :  0.57 %\n",
      "model test data score        :  73.95 %\n",
      "model train data loss        :  0.65 %\n"
     ]
    }
   ],
   "source": [
    "score = model.evaluate(X_train, y_train_hot, verbose=0) \n",
    "print (\"model train data score       : \",round(score[1]*100,2) , \"%\")\n",
    "print (\"model train data loss        : \",round(score[0],2) , \"%\")\n",
    "\n",
    "score = model.evaluate(X_test, y_test_hot, verbose=0) \n",
    "print (\"model test data score        : \",round(score[1]*100,2) , \"%\")\n",
    "print (\"model train data loss        : \",round(score[0],2) , \"%\")"
   ]
  },
  {
   "cell_type": "code",
   "execution_count": 21,
   "metadata": {},
   "outputs": [
    {
     "data": {
      "image/png": "[encoded data removed]",
      "text/plain": [
       "<Figure size 432x288 with 1 Axes>"
      ]
     },
     "metadata": {
      "needs_background": "light"
     },
     "output_type": "display_data"
    }
   ],
   "source": [
    "# summarize history for accuracy\n",
    "plt.plot(history.history['acc'])\n",
    "plt.plot(history.history['val_acc'])\n",
    "plt.title('model accuracy')\n",
    "plt.ylabel('accuracy')\n",
    "plt.xlabel('epoch')\n",
    "plt.legend(['train', 'test'], loc='upper left')\n",
    "plt.show()"
   ]
  },
  {
   "cell_type": "code",
   "execution_count": 22,
   "metadata": {},
   "outputs": [
    {
     "data": {
      "image/png": "[encoded data removed]",
      "text/plain": [
       "<Figure size 432x288 with 1 Axes>"
      ]
     },
     "metadata": {
      "needs_background": "light"
     },
     "output_type": "display_data"
    }
   ],
   "source": [
    "# summarize history for loss\n",
    "plt.plot(history.history['loss'])\n",
    "plt.plot(history.history['val_loss'])\n",
    "plt.title('model loss')\n",
    "plt.ylabel('loss')\n",
    "plt.xlabel('epoch')\n",
    "plt.legend(['train', 'test'], loc='upper left')\n",
    "plt.show()"
   ]
  }
 ],
 "metadata": {
  "kernelspec": {
   "display_name": "Python 3",
   "language": "python",
   "name": "python3"
  },
  "language_info": {
   "codemirror_mode": {
    "name": "ipython",
    "version": 3
   },
   "file_extension": ".py",
   "mimetype": "text/x-python",
   "name": "python",
   "nbconvert_exporter": "python",
   "pygments_lexer": "ipython3",
   "version": "3.6.4"
  }
 },
 "nbformat": 4,
 "nbformat_minor": 2
}
