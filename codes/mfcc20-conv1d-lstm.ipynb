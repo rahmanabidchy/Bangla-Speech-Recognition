{
 "cells": [
  {
   "cell_type": "code",
   "execution_count": 1,
   "metadata": {},
   "outputs": [
    {
     "name": "stderr",
     "output_type": "stream",
     "text": [
      "C:\\Users\\lenovo_pc\\Anaconda3\\lib\\site-packages\\h5py\\__init__.py:36: FutureWarning: Conversion of the second argument of issubdtype from `float` to `np.floating` is deprecated. In future, it will be treated as `np.float64 == np.dtype(float).type`.\n",
      "  from ._conv import register_converters as _register_converters\n",
      "Using TensorFlow backend.\n"
     ]
    }
   ],
   "source": [
    "import keras\n",
    "import numpy as np\n",
    "import matplotlib.pyplot as plt\n",
    "import os\n",
    "import pandas as pd\n",
    "import librosa\n",
    "from keras.utils import to_categorical"
   ]
  },
  {
   "cell_type": "code",
   "execution_count": 2,
   "metadata": {},
   "outputs": [],
   "source": [
    "feature_dim_1 = 20"
   ]
  },
  {
   "cell_type": "code",
   "execution_count": 3,
   "metadata": {},
   "outputs": [],
   "source": [
    "def get_labels(path):\n",
    "    labels = os.listdir(path)\n",
    "    label_indices = np.arange(0, len(labels))    \n",
    "    return labels, label_indices, to_categorical(label_indices)\n",
    "\n",
    "\n",
    "\n"
   ]
  },
  {
   "cell_type": "code",
   "execution_count": 4,
   "metadata": {},
   "outputs": [],
   "source": [
    "from sklearn.model_selection import train_test_split\n",
    "\n",
    "def get_train_test(split_ratio=0.8, random_state=42):\n",
    "    # Get available labels\n",
    "    labels, indices, _ = get_labels(DATA_PATH)\n",
    "\n",
    "    # Getting first arrays\n",
    "    X = np.load(labels[0] + '.npy')\n",
    "    y = np.zeros(X.shape[0])\n",
    "\n",
    "    # Append all of the dataset into one single array, same goes for y\n",
    "    for i, label in enumerate(labels[1:]):\n",
    "        x = np.load(label + '.npy')\n",
    "        X = np.vstack((X, x))\n",
    "        y = np.append(y, np.full(x.shape[0], fill_value= (i + 1)))\n",
    "\n",
    "    assert X.shape[0] == len(y)\n",
    "\n",
    "    return train_test_split(X, y, test_size= (1 - split_ratio), random_state=random_state, shuffle=True)\n",
    "\n",
    "\n",
    "\n",
    "def save_data_to_array(path, max_pad_len):\n",
    "    labels, _, _ = get_labels(path)\n",
    "\n",
    "    for label in labels:\n",
    "        # Init mfcc vectors\n",
    "        mfcc_vectors = []\n",
    "\n",
    "        wavfiles = [path + '/' + label + '/' + wavfile for wavfile in os.listdir(path + '/' + label)]\n",
    "        #wavfiles = librosa.util.find_files(db)\n",
    "        #print(wavfiles)\n",
    "        x=0\n",
    "        for wavfile in wavfiles:\n",
    "            name=label+'_'+str(x)\n",
    "            mfcc = wav2mfcc(wavfile, name, max_pad_len=max_pad_len)\n",
    "            mfcc_vectors.append(mfcc)\n",
    "            x=x+1\n",
    "        np.save(label + '.npy', mfcc_vectors)\n",
    "        \n",
    "        \n",
    "        \n",
    "\n",
    "def wav2mfcc(file_path, name, max_pad_len=30):\n",
    "    wave, sr = librosa.load(file_path)\n",
    "    mfcc = librosa.feature.mfcc(wave, sr=sr, n_mfcc = feature_dim_1)\n",
    "    pad_width = max_pad_len - mfcc.shape[1]\n",
    "    mfcc = np.pad(mfcc, pad_width=((0, 0), (0, pad_width)), mode='constant')\n",
    "    return mfcc"
   ]
  },
  {
   "cell_type": "code",
   "execution_count": 5,
   "metadata": {},
   "outputs": [],
   "source": [
    "DATA_PATH = r'C:\\Users\\lenovo_pc\\Desktop\\CNN_SR\\Dataset-merged'\n",
    "\n",
    "\n",
    "#db = r'C:\\Users\\lenovo_pc\\Desktop\\CNN_SR\\SampleData'\n",
    "\n",
    "\n",
    "# Second dimension of the feature is dim2\n",
    "feature_dim_2 = 28\n",
    "\n",
    "# Save data to array file first\n",
    "save_data_to_array(DATA_PATH,feature_dim_2)\n",
    "\n",
    "# # Loading train set and test set\n",
    "X_train, X_test, y_train, y_test = get_train_test()\n",
    "\n",
    "# # Feature dimension\n",
    "verbose = 1\n",
    "num_classes = 2\n",
    "\n",
    "\n",
    "y_train_hot = to_categorical(y_train)\n",
    "y_test_hot = to_categorical(y_test)"
   ]
  },
  {
   "cell_type": "code",
   "execution_count": 6,
   "metadata": {},
   "outputs": [
    {
     "name": "stdout",
     "output_type": "stream",
     "text": [
      "(472, 20, 28)\n",
      "(119, 20, 28)\n"
     ]
    }
   ],
   "source": [
    "\n",
    "#X_train = np.array(x_train)\n",
    "print(X_train.shape)\n",
    "print(X_test.shape)\n"
   ]
  },
  {
   "cell_type": "code",
   "execution_count": 7,
   "metadata": {},
   "outputs": [],
   "source": [
    "from keras.models import Sequential\n",
    "from keras.layers import Dense, Dropout\n",
    "from keras.layers import Embedding\n",
    "from keras.regularizers import l2\n",
    "from keras import regularizers\n",
    "from keras.layers import Conv1D, GlobalAveragePooling1D, MaxPooling1D"
   ]
  },
  {
   "cell_type": "code",
   "execution_count": 8,
   "metadata": {},
   "outputs": [],
   "source": [
    "\n",
    "model = Sequential()\n",
    "model.add(Conv1D(64, 3, activation='relu', kernel_regularizer=l2(0.02), input_shape=(feature_dim_1,feature_dim_2) ,data_format='channels_first'))\n",
    "model.add(Conv1D(64, 3, activation='relu', kernel_regularizer=l2(0.05), ))\n",
    "model.add(MaxPooling1D(3))\n",
    "#model.add(Conv1D(128, 3, activation='relu', ))\n",
    "#model.add(Conv1D(128, 3, activation='relu', ))\n",
    "model.add(GlobalAveragePooling1D())\n",
    "model.add(Dropout(0.5))\n",
    "model.add(Dense(2, activation='sigmoid'))\n"
   ]
  },
  {
   "cell_type": "code",
   "execution_count": 9,
   "metadata": {},
   "outputs": [],
   "source": [
    "model.compile(loss='binary_crossentropy',\n",
    "              optimizer='rmsprop',\n",
    "              metrics=['accuracy'])\n",
    "\n"
   ]
  },
  {
   "cell_type": "code",
   "execution_count": 10,
   "metadata": {},
   "outputs": [
    {
     "name": "stdout",
     "output_type": "stream",
     "text": [
      "Train on 472 samples, validate on 119 samples\n",
      "Epoch 1/50\n",
      "472/472 [==============================] - 11s 22ms/step - loss: 8.7892 - acc: 0.5032 - val_loss: 8.0676 - val_acc: 0.5000\n",
      "Epoch 2/50\n",
      "472/472 [==============================] - 10s 22ms/step - loss: 7.9766 - acc: 0.5297 - val_loss: 4.5061 - val_acc: 0.5966\n",
      "Epoch 3/50\n",
      "472/472 [==============================] - 10s 21ms/step - loss: 7.2234 - acc: 0.5625 - val_loss: 4.2174 - val_acc: 0.7059\n",
      "Epoch 4/50\n",
      "472/472 [==============================] - 10s 21ms/step - loss: 6.9710 - acc: 0.5646 - val_loss: 4.0392 - val_acc: 0.7143\n",
      "Epoch 5/50\n",
      "472/472 [==============================] - 10s 21ms/step - loss: 6.1436 - acc: 0.5869 - val_loss: 3.3396 - val_acc: 0.6891\n",
      "Epoch 6/50\n",
      "472/472 [==============================] - 10s 21ms/step - loss: 5.4805 - acc: 0.5911 - val_loss: 2.9202 - val_acc: 0.7605\n",
      "Epoch 7/50\n",
      "472/472 [==============================] - 9s 18ms/step - loss: 4.9251 - acc: 0.6165 - val_loss: 2.5743 - val_acc: 0.8109\n",
      "Epoch 8/50\n",
      "472/472 [==============================] - 9s 20ms/step - loss: 4.1786 - acc: 0.6525 - val_loss: 2.5342 - val_acc: 0.7899\n",
      "Epoch 9/50\n",
      "472/472 [==============================] - 9s 19ms/step - loss: 3.7016 - acc: 0.6780 - val_loss: 2.2471 - val_acc: 0.8445\n",
      "Epoch 10/50\n",
      "472/472 [==============================] - 8s 18ms/step - loss: 3.4436 - acc: 0.7076 - val_loss: 2.1652 - val_acc: 0.8992\n",
      "Epoch 11/50\n",
      "472/472 [==============================] - 9s 19ms/step - loss: 2.8916 - acc: 0.7680 - val_loss: 2.0695 - val_acc: 0.9034\n",
      "Epoch 12/50\n",
      "472/472 [==============================] - 10s 21ms/step - loss: 2.6598 - acc: 0.7744 - val_loss: 2.0342 - val_acc: 0.9160\n",
      "Epoch 13/50\n",
      "472/472 [==============================] - 9s 18ms/step - loss: 2.4963 - acc: 0.8019 - val_loss: 1.9940 - val_acc: 0.9160\n",
      "Epoch 14/50\n",
      "472/472 [==============================] - 9s 20ms/step - loss: 2.3312 - acc: 0.8347 - val_loss: 1.9058 - val_acc: 0.9370\n",
      "Epoch 15/50\n",
      "472/472 [==============================] - 9s 19ms/step - loss: 2.2009 - acc: 0.8528 - val_loss: 1.8300 - val_acc: 0.9454\n",
      "Epoch 16/50\n",
      "472/472 [==============================] - 9s 18ms/step - loss: 2.0497 - acc: 0.8729 - val_loss: 1.7512 - val_acc: 0.9538\n",
      "Epoch 17/50\n",
      "472/472 [==============================] - 11s 22ms/step - loss: 2.0345 - acc: 0.8602 - val_loss: 1.6892 - val_acc: 0.9538\n",
      "Epoch 18/50\n",
      "472/472 [==============================] - 8s 18ms/step - loss: 1.8733 - acc: 0.8898 - val_loss: 1.6205 - val_acc: 0.9622\n",
      "Epoch 19/50\n",
      "472/472 [==============================] - 9s 19ms/step - loss: 1.8255 - acc: 0.8867 - val_loss: 1.5531 - val_acc: 0.9790\n",
      "Epoch 20/50\n",
      "472/472 [==============================] - 9s 18ms/step - loss: 1.6942 - acc: 0.9057 - val_loss: 1.4873 - val_acc: 0.9832\n",
      "Epoch 21/50\n",
      "472/472 [==============================] - 9s 19ms/step - loss: 1.6150 - acc: 0.9195 - val_loss: 1.4326 - val_acc: 0.9706\n",
      "Epoch 22/50\n",
      "472/472 [==============================] - 9s 18ms/step - loss: 1.5021 - acc: 0.9439 - val_loss: 1.3737 - val_acc: 0.9706\n",
      "Epoch 23/50\n",
      "472/472 [==============================] - 9s 19ms/step - loss: 1.4449 - acc: 0.9428 - val_loss: 1.2991 - val_acc: 0.9790\n",
      "Epoch 24/50\n",
      "472/472 [==============================] - 9s 18ms/step - loss: 1.3711 - acc: 0.9322 - val_loss: 1.2456 - val_acc: 0.9874\n",
      "Epoch 25/50\n",
      "472/472 [==============================] - 9s 19ms/step - loss: 1.3117 - acc: 0.9513 - val_loss: 1.1777 - val_acc: 0.9748\n",
      "Epoch 26/50\n",
      "472/472 [==============================] - 10s 21ms/step - loss: 1.2511 - acc: 0.9396 - val_loss: 1.1160 - val_acc: 0.9832\n",
      "Epoch 27/50\n",
      "472/472 [==============================] - 9s 19ms/step - loss: 1.1616 - acc: 0.9608 - val_loss: 1.0536 - val_acc: 0.9916\n",
      "Epoch 28/50\n",
      "472/472 [==============================] - 9s 19ms/step - loss: 1.0937 - acc: 0.9587 - val_loss: 0.9957 - val_acc: 0.9916\n",
      "Epoch 29/50\n",
      "472/472 [==============================] - 9s 19ms/step - loss: 1.0532 - acc: 0.9597 - val_loss: 0.9353 - val_acc: 0.9916\n",
      "Epoch 30/50\n",
      "472/472 [==============================] - 9s 19ms/step - loss: 0.9748 - acc: 0.9661 - val_loss: 0.9089 - val_acc: 0.9664\n",
      "Epoch 31/50\n",
      "472/472 [==============================] - 9s 19ms/step - loss: 0.9473 - acc: 0.9534 - val_loss: 0.8306 - val_acc: 1.0000\n",
      "Epoch 32/50\n",
      "472/472 [==============================] - 9s 18ms/step - loss: 0.8674 - acc: 0.9746 - val_loss: 0.7830 - val_acc: 1.0000\n",
      "Epoch 33/50\n",
      "472/472 [==============================] - 10s 21ms/step - loss: 0.8212 - acc: 0.9746 - val_loss: 0.7476 - val_acc: 0.9958\n",
      "Epoch 34/50\n",
      "472/472 [==============================] - 9s 18ms/step - loss: 0.7770 - acc: 0.9714 - val_loss: 0.6969 - val_acc: 1.0000\n",
      "Epoch 35/50\n",
      "472/472 [==============================] - 9s 19ms/step - loss: 0.7164 - acc: 0.9725 - val_loss: 0.6577 - val_acc: 1.0000\n",
      "Epoch 36/50\n",
      "472/472 [==============================] - 8s 18ms/step - loss: 0.6967 - acc: 0.9661 - val_loss: 0.6145 - val_acc: 1.0000\n",
      "Epoch 37/50\n",
      "472/472 [==============================] - 10s 20ms/step - loss: 0.6481 - acc: 0.9714 - val_loss: 0.5831 - val_acc: 0.9916\n",
      "Epoch 38/50\n",
      "472/472 [==============================] - 9s 20ms/step - loss: 0.6119 - acc: 0.9714 - val_loss: 0.5513 - val_acc: 0.9916\n",
      "Epoch 39/50\n",
      "472/472 [==============================] - 9s 18ms/step - loss: 0.5707 - acc: 0.9883 - val_loss: 0.5147 - val_acc: 1.0000\n",
      "Epoch 40/50\n",
      "472/472 [==============================] - 9s 19ms/step - loss: 0.5447 - acc: 0.9831 - val_loss: 0.4831 - val_acc: 1.0000\n",
      "Epoch 41/50\n",
      "472/472 [==============================] - 9s 19ms/step - loss: 0.4939 - acc: 0.9873 - val_loss: 0.4647 - val_acc: 0.9916\n",
      "Epoch 42/50\n",
      "472/472 [==============================] - 9s 19ms/step - loss: 0.4661 - acc: 0.9905 - val_loss: 0.4237 - val_acc: 1.0000\n",
      "Epoch 43/50\n",
      "472/472 [==============================] - 9s 20ms/step - loss: 0.4386 - acc: 0.9926 - val_loss: 0.4208 - val_acc: 0.9874\n",
      "Epoch 44/50\n",
      "472/472 [==============================] - 9s 18ms/step - loss: 0.4309 - acc: 0.9778 - val_loss: 0.3776 - val_acc: 1.0000\n",
      "Epoch 45/50\n",
      "472/472 [==============================] - 10s 22ms/step - loss: 0.4078 - acc: 0.9799 - val_loss: 0.3755 - val_acc: 0.9874\n",
      "Epoch 46/50\n",
      "472/472 [==============================] - 9s 18ms/step - loss: 0.3720 - acc: 0.9936 - val_loss: 0.3355 - val_acc: 1.0000\n",
      "Epoch 47/50\n",
      "472/472 [==============================] - 10s 20ms/step - loss: 0.3445 - acc: 0.9936 - val_loss: 0.3416 - val_acc: 0.9832\n",
      "Epoch 48/50\n",
      "472/472 [==============================] - 10s 21ms/step - loss: 0.3522 - acc: 0.9799 - val_loss: 0.3020 - val_acc: 1.0000\n",
      "Epoch 49/50\n",
      "472/472 [==============================] - 9s 18ms/step - loss: 0.3066 - acc: 0.9958 - val_loss: 0.2869 - val_acc: 1.0000\n",
      "Epoch 50/50\n",
      "472/472 [==============================] - 9s 19ms/step - loss: 0.3078 - acc: 0.9873 - val_loss: 0.2828 - val_acc: 0.9916\n"
     ]
    }
   ],
   "source": [
    "#model.fit(x_train, y_train, batch_size=7, epochs=10)\n",
    "\n",
    "history = model.fit(X_train, y_train_hot, batch_size=150, epochs=50, verbose=verbose, validation_data=(X_test, y_test_hot))"
   ]
  },
  {
   "cell_type": "code",
   "execution_count": 11,
   "metadata": {},
   "outputs": [
    {
     "name": "stdout",
     "output_type": "stream",
     "text": [
      "model train data score: acc       :  99.79 %\n",
      "model train data score: loss      :  27.2 %\n",
      "model test data score: acc        :  99.16 %\n",
      "model test data score: loss       :  28.28 %\n"
     ]
    }
   ],
   "source": [
    "score = model.evaluate(X_train, y_train_hot, verbose=0) \n",
    "print (\"model train data score: acc       : \",round(score[1]*100,2) , \"%\")\n",
    "print (\"model train data score: loss      : \",round(score[0]*100,2) , \"%\")\n",
    "\n",
    "score = model.evaluate(X_test, y_test_hot, verbose=0) \n",
    "print (\"model test data score: acc        : \",round(score[1]*100,2) , \"%\")\n",
    "print (\"model test data score: loss       : \",round(score[0]*100,2) , \"%\")\n"
   ]
  },
  {
   "cell_type": "code",
   "execution_count": 12,
   "metadata": {
    "scrolled": true
   },
   "outputs": [
    {
     "data": {
      "image/png": "[encoded data removed]",
      "text/plain": [
       "<Figure size 432x288 with 1 Axes>"
      ]
     },
     "metadata": {
      "needs_background": "light"
     },
     "output_type": "display_data"
    }
   ],
   "source": [
    "# summarize history for accuracy\n",
    "plt.plot(history.history['acc'])\n",
    "plt.plot(history.history['val_acc'])\n",
    "plt.title('model accuracy')\n",
    "plt.ylabel('accuracy')\n",
    "plt.xlabel('epoch')\n",
    "plt.legend(['train', 'test'], loc='upper left')\n",
    "plt.show()\n"
   ]
  },
  {
   "cell_type": "code",
   "execution_count": 13,
   "metadata": {},
   "outputs": [
    {
     "data": {
      "image/png": "[encoded data removed]",
      "text/plain": [
       "<Figure size 432x288 with 1 Axes>"
      ]
     },
     "metadata": {
      "needs_background": "light"
     },
     "output_type": "display_data"
    }
   ],
   "source": [
    "# summarize history for loss\n",
    "plt.plot(history.history['loss'])\n",
    "plt.plot(history.history['val_loss'])\n",
    "plt.title('model loss')\n",
    "plt.ylabel('loss')\n",
    "plt.xlabel('epoch')\n",
    "plt.legend(['train', 'test'], loc='upper left')\n",
    "plt.show()"
   ]
  },
  {
   "cell_type": "code",
   "execution_count": 14,
   "metadata": {},
   "outputs": [],
   "source": [
    "import numpy as np\n",
    "from keras.models import Sequential\n",
    "from keras.layers import Dense, Dropout, Activation, Flatten, LSTM\n",
    "from keras.layers import Convolution2D, MaxPooling2D\n",
    "from keras.optimizers import Adam\n",
    "from keras.regularizers import l2\n",
    "from keras.callbacks import EarlyStopping,ReduceLROnPlateau,ModelCheckpoint,TensorBoard,ProgbarLogger\n",
    "from keras.utils import np_utils\n",
    "from sklearn import metrics \n",
    "from sklearn.metrics import confusion_matrix, classification_report, accuracy_score\n",
    "from sklearn.preprocessing import LabelEncoder\n",
    "import itertools"
   ]
  },
  {
   "cell_type": "code",
   "execution_count": 15,
   "metadata": {},
   "outputs": [
    {
     "name": "stdout",
     "output_type": "stream",
     "text": [
      "Build LSTM RNN model ...\n",
      "_________________________________________________________________\n",
      "Layer (type)                 Output Shape              Param #   \n",
      "=================================================================\n",
      "lstm_1 (LSTM)                (None, 20, 64)            23808     \n",
      "_________________________________________________________________\n",
      "lstm_2 (LSTM)                (None, 32)                12416     \n",
      "_________________________________________________________________\n",
      "dense_2 (Dense)              (None, 2)                 66        \n",
      "=================================================================\n",
      "Total params: 36,290\n",
      "Trainable params: 36,290\n",
      "Non-trainable params: 0\n",
      "_________________________________________________________________\n"
     ]
    }
   ],
   "source": [
    "print('Build LSTM RNN model ...')\n",
    "model = Sequential()\n",
    "model.add(LSTM(units=64, dropout=0.05, recurrent_dropout=0.20, return_sequences=True,input_shape = (feature_dim_1,feature_dim_2)))\n",
    "model.add(LSTM(units=32, dropout=0.05, recurrent_dropout=0.20, return_sequences=False))\n",
    "model.add(Dense(2, activation='softmax'))\n",
    "model.compile(loss='categorical_crossentropy', optimizer='Adamax', metrics=['acc','mse', 'mae', 'mape', 'cosine'])\n",
    "model.summary()"
   ]
  },
  {
   "cell_type": "code",
   "execution_count": 16,
   "metadata": {},
   "outputs": [
    {
     "name": "stdout",
     "output_type": "stream",
     "text": [
      "training started..... please wait.\n",
      "\n",
      "Epoch 00001: loss improved from inf to 0.50870, saving model to ./best_model_trained.hdf5\n",
      "\n",
      "Epoch 00002: loss improved from 0.50870 to 0.26788, saving model to ./best_model_trained.hdf5\n",
      "\n",
      "Epoch 00003: loss improved from 0.26788 to 0.15102, saving model to ./best_model_trained.hdf5\n",
      "\n",
      "Epoch 00004: loss improved from 0.15102 to 0.12038, saving model to ./best_model_trained.hdf5\n",
      "\n",
      "Epoch 00005: loss improved from 0.12038 to 0.07596, saving model to ./best_model_trained.hdf5\n",
      "\n",
      "Epoch 00006: loss did not improve from 0.07596\n",
      "\n",
      "Epoch 00007: loss improved from 0.07596 to 0.06264, saving model to ./best_model_trained.hdf5\n",
      "\n",
      "Epoch 00008: loss did not improve from 0.06264\n",
      "\n",
      "Epoch 00009: loss improved from 0.06264 to 0.03893, saving model to ./best_model_trained.hdf5\n",
      "\n",
      "Epoch 00010: loss did not improve from 0.03893\n",
      "\n",
      "Epoch 00011: loss did not improve from 0.03893\n",
      "\n",
      "Epoch 00012: loss improved from 0.03893 to 0.03522, saving model to ./best_model_trained.hdf5\n",
      "\n",
      "Epoch 00013: loss improved from 0.03522 to 0.03431, saving model to ./best_model_trained.hdf5\n",
      "\n",
      "Epoch 00014: loss improved from 0.03431 to 0.02759, saving model to ./best_model_trained.hdf5\n",
      "\n",
      "Epoch 00015: loss improved from 0.02759 to 0.02577, saving model to ./best_model_trained.hdf5\n",
      "\n",
      "Epoch 00016: loss did not improve from 0.02577\n",
      "\n",
      "Epoch 00017: loss improved from 0.02577 to 0.01495, saving model to ./best_model_trained.hdf5\n",
      "\n",
      "Epoch 00018: loss did not improve from 0.01495\n",
      "\n",
      "Epoch 00019: loss did not improve from 0.01495\n",
      "\n",
      "Epoch 00020: loss did not improve from 0.01495\n",
      "\n",
      "Epoch 00021: loss did not improve from 0.01495\n",
      "\n",
      "Epoch 00022: loss did not improve from 0.01495\n",
      "\n",
      "Epoch 00023: loss did not improve from 0.01495\n",
      "\n",
      "Epoch 00024: loss did not improve from 0.01495\n",
      "\n",
      "Epoch 00025: loss improved from 0.01495 to 0.01455, saving model to ./best_model_trained.hdf5\n",
      "\n",
      "Epoch 00026: loss improved from 0.01455 to 0.01027, saving model to ./best_model_trained.hdf5\n",
      "\n",
      "Epoch 00027: loss did not improve from 0.01027\n",
      "\n",
      "Epoch 00028: loss did not improve from 0.01027\n",
      "\n",
      "Epoch 00029: loss did not improve from 0.01027\n",
      "\n",
      "Epoch 00030: loss did not improve from 0.01027\n",
      "\n",
      "Epoch 00031: loss did not improve from 0.01027\n",
      "\n",
      "Epoch 00032: loss improved from 0.01027 to 0.00711, saving model to ./best_model_trained.hdf5\n",
      "\n",
      "Epoch 00033: loss did not improve from 0.00711\n",
      "\n",
      "Epoch 00034: loss did not improve from 0.00711\n",
      "\n",
      "Epoch 00035: ReduceLROnPlateau reducing learning rate to 0.00020000000949949026.\n",
      "\n",
      "Epoch 00035: loss did not improve from 0.00711\n",
      "\n",
      "Epoch 00036: loss did not improve from 0.00711\n",
      "\n",
      "Epoch 00037: loss did not improve from 0.00711\n",
      "\n",
      "Epoch 00038: loss improved from 0.00711 to 0.00703, saving model to ./best_model_trained.hdf5\n",
      "\n",
      "Epoch 00039: loss did not improve from 0.00703\n",
      "\n",
      "Epoch 00040: loss did not improve from 0.00703\n",
      "\n",
      "Epoch 00041: loss did not improve from 0.00703\n",
      "\n",
      "Epoch 00042: loss did not improve from 0.00703\n",
      "\n",
      "Epoch 00043: loss improved from 0.00703 to 0.00568, saving model to ./best_model_trained.hdf5\n",
      "\n",
      "Epoch 00044: loss did not improve from 0.00568\n",
      "\n",
      "Epoch 00045: loss did not improve from 0.00568\n",
      "\n",
      "Epoch 00046: loss did not improve from 0.00568\n",
      "\n",
      "Epoch 00047: ReduceLROnPlateau reducing learning rate to 2.0000000949949027e-05.\n",
      "\n",
      "Epoch 00047: loss did not improve from 0.00568\n",
      "\n",
      "Epoch 00048: loss did not improve from 0.00568\n",
      "\n",
      "Epoch 00049: loss did not improve from 0.00568\n",
      "\n",
      "Epoch 00050: loss did not improve from 0.00568\n",
      "_________________________________________________________________\n",
      "Layer (type)                 Output Shape              Param #   \n",
      "=================================================================\n",
      "lstm_1 (LSTM)                (None, 20, 64)            23808     \n",
      "_________________________________________________________________\n",
      "lstm_2 (LSTM)                (None, 32)                12416     \n",
      "_________________________________________________________________\n",
      "dense_2 (Dense)              (None, 2)                 66        \n",
      "=================================================================\n",
      "Total params: 36,290\n",
      "Trainable params: 36,290\n",
      "Non-trainable params: 0\n",
      "_________________________________________________________________\n",
      "training finised!\n",
      "Wall time: 1min 59s\n"
     ]
    }
   ],
   "source": [
    "%%time\n",
    "# saved model checkpoint file\n",
    "best_model_file=\"./best_model_trained.hdf5\"\n",
    "#train_model_file=file_path+\"/checkpoints/weights.best_{epoch:02d}-{loss:.2f}.hdf5\"\n",
    "MAX_PATIENT=12\n",
    "MAX_EPOCHS=50\n",
    "MAX_BATCH=7\n",
    "\n",
    "# callbacks\n",
    "# removed EarlyStopping(patience=MAX_PATIENT)\n",
    "callback=[ReduceLROnPlateau(patience=MAX_PATIENT, verbose=1),\n",
    "          ModelCheckpoint(filepath=best_model_file, monitor='loss', verbose=1, save_best_only=True)]\n",
    "\n",
    "print (\"training started..... please wait.\")\n",
    "# training\n",
    "history=model.fit(X_train, y_train_hot, \n",
    "                  batch_size=MAX_BATCH, \n",
    "                  epochs=MAX_EPOCHS,\n",
    "                  verbose=0,\n",
    "                  validation_data=(X_test, y_test_hot),\n",
    "                  callbacks=callback) \n",
    "model.summary()\n",
    "print (\"training finised!\")\n",
    "\n",
    "\n"
   ]
  },
  {
   "cell_type": "code",
   "execution_count": 17,
   "metadata": {},
   "outputs": [
    {
     "name": "stdout",
     "output_type": "stream",
     "text": [
      "472/472 [==============================] - 0s 297us/step\n",
      "model train data score       :  100.0 %\n",
      "model train data score: loss :  0.05 %\n",
      "[0.0004665155340601706, 1.0, 8.247411160790746e-07, 0.00046610964118834524, 233054.80773305084, -0.9999995191218489]\n",
      "119/119 [==============================] - 0s 336us/step\n",
      "model test data score        :  98.32 %\n",
      "model test data score: loss  :  10.12 %\n",
      "[0.10119258973575315, 0.9831932773109243, 0.01680914328479797, 0.019064842085471424, 9532423.30987395, -0.9831849161316367]\n"
     ]
    }
   ],
   "source": [
    "score = model.evaluate(X_train, y_train_hot, verbose=1) \n",
    "print (\"model train data score       : \",round(score[1]*100,2) , \"%\")\n",
    "print (\"model train data score: loss : \",round(score[0]*100,2) , \"%\")\n",
    "print(score)\n",
    "score = model.evaluate(X_test, y_test_hot, verbose=1) \n",
    "print (\"model test data score        : \",round(score[1]*100,2) , \"%\")\n",
    "print (\"model test data score: loss  : \",round(score[0]*100,2) , \"%\")\n",
    "\n",
    "print(score)"
   ]
  },
  {
   "cell_type": "code",
   "execution_count": 18,
   "metadata": {},
   "outputs": [
    {
     "data": {
      "image/png": "[encoded data removed]",
      "text/plain": [
       "<Figure size 432x288 with 1 Axes>"
      ]
     },
     "metadata": {
      "needs_background": "light"
     },
     "output_type": "display_data"
    }
   ],
   "source": [
    "# summarize history for accuracy\n",
    "plt.plot(history.history['acc'])\n",
    "plt.plot(history.history['val_acc'])\n",
    "plt.title('model accuracy')\n",
    "plt.ylabel('accuracy')\n",
    "plt.xlabel('epoch')\n",
    "plt.legend(['train', 'test'], loc='upper left')\n",
    "plt.show()"
   ]
  },
  {
   "cell_type": "code",
   "execution_count": 19,
   "metadata": {},
   "outputs": [
    {
     "data": {
      "image/png": "[encoded data removed]",
      "text/plain": [
       "<Figure size 432x288 with 1 Axes>"
      ]
     },
     "metadata": {
      "needs_background": "light"
     },
     "output_type": "display_data"
    }
   ],
   "source": [
    "# summarize history for loss\n",
    "plt.plot(history.history['loss'])\n",
    "plt.plot(history.history['val_loss'])\n",
    "plt.title('model loss')\n",
    "plt.ylabel('loss')\n",
    "plt.xlabel('epoch')\n",
    "plt.legend(['train', 'test'], loc='upper left')\n",
    "plt.show()"
   ]
  }
 ],
 "metadata": {
  "kernelspec": {
   "display_name": "Python 3",
   "language": "python",
   "name": "python3"
  },
  "language_info": {
   "codemirror_mode": {
    "name": "ipython",
    "version": 3
   },
   "file_extension": ".py",
   "mimetype": "text/x-python",
   "name": "python",
   "nbconvert_exporter": "python",
   "pygments_lexer": "ipython3",
   "version": "3.6.4"
  }
 },
 "nbformat": 4,
 "nbformat_minor": 2
}
