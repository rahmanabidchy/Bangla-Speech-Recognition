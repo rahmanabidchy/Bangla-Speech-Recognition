{
 "cells": [
  {
   "cell_type": "code",
   "execution_count": 1,
   "metadata": {},
   "outputs": [
    {
     "name": "stderr",
     "output_type": "stream",
     "text": [
      "C:\\Users\\lenovo_pc\\Anaconda3\\lib\\site-packages\\h5py\\__init__.py:36: FutureWarning: Conversion of the second argument of issubdtype from `float` to `np.floating` is deprecated. In future, it will be treated as `np.float64 == np.dtype(float).type`.\n",
      "  from ._conv import register_converters as _register_converters\n",
      "Using TensorFlow backend.\n"
     ]
    }
   ],
   "source": [
    "import keras\n",
    "import numpy as np\n",
    "import matplotlib.pyplot as plt\n",
    "import os\n",
    "import pandas as pd\n",
    "import librosa\n",
    "from keras.utils import to_categorical"
   ]
  },
  {
   "cell_type": "code",
   "execution_count": 2,
   "metadata": {},
   "outputs": [],
   "source": [
    "feature_dim_1 = 100"
   ]
  },
  {
   "cell_type": "code",
   "execution_count": 3,
   "metadata": {},
   "outputs": [],
   "source": [
    "def get_labels(path):\n",
    "    labels = os.listdir(path)\n",
    "    label_indices = np.arange(0, len(labels))    \n",
    "    return labels, label_indices, to_categorical(label_indices)\n",
    "\n",
    "\n",
    "\n"
   ]
  },
  {
   "cell_type": "code",
   "execution_count": 4,
   "metadata": {},
   "outputs": [],
   "source": [
    "from sklearn.model_selection import train_test_split\n",
    "\n",
    "def get_train_test(split_ratio=0.8, random_state=42):\n",
    "    # Get available labels\n",
    "    labels, indices, _ = get_labels(DATA_PATH)\n",
    "\n",
    "    # Getting first arrays\n",
    "    X = np.load(labels[0] + '.npy')\n",
    "    y = np.zeros(X.shape[0])\n",
    "\n",
    "    # Append all of the dataset into one single array, same goes for y\n",
    "    for i, label in enumerate(labels[1:]):\n",
    "        x = np.load(label + '.npy')\n",
    "        X = np.vstack((X, x))\n",
    "        y = np.append(y, np.full(x.shape[0], fill_value= (i + 1)))\n",
    "\n",
    "    assert X.shape[0] == len(y)\n",
    "\n",
    "    return train_test_split(X, y, test_size= (1 - split_ratio), random_state=random_state, shuffle=True)\n",
    "\n",
    "\n",
    "\n",
    "def save_data_to_array(path, max_pad_len):\n",
    "    labels, _, _ = get_labels(path)\n",
    "\n",
    "    for label in labels:\n",
    "        # Init mfcc vectors\n",
    "        mfcc_vectors = []\n",
    "\n",
    "        wavfiles = [path + '/' + label + '/' + wavfile for wavfile in os.listdir(path + '/' + label)]\n",
    "        #wavfiles = librosa.util.find_files(db)\n",
    "        #print(wavfiles)\n",
    "        x=0\n",
    "        for wavfile in wavfiles:\n",
    "            name=label+'_'+str(x)\n",
    "            mfcc = wav2mfcc(wavfile, name, max_pad_len=max_pad_len)\n",
    "            mfcc_vectors.append(mfcc)\n",
    "            x=x+1\n",
    "        np.save(label + '.npy', mfcc_vectors)\n",
    "        \n",
    "        \n",
    "        \n",
    "\n",
    "def wav2mfcc(file_path, name, max_pad_len=30):\n",
    "    wave, sr = librosa.load(file_path)\n",
    "    mfcc = librosa.feature.melspectrogram(wave, sr=sr, n_mels = feature_dim_1)\n",
    "    pad_width = max_pad_len - mfcc.shape[1]\n",
    "    mfcc = np.pad(mfcc, pad_width=((0, 0), (0, pad_width)), mode='constant')\n",
    "    return mfcc"
   ]
  },
  {
   "cell_type": "code",
   "execution_count": 5,
   "metadata": {},
   "outputs": [],
   "source": [
    "DATA_PATH = r'C:\\Users\\lenovo_pc\\Desktop\\CNN_SR\\Dataset-merged'\n",
    "\n",
    "\n",
    "#db = r'C:\\Users\\lenovo_pc\\Desktop\\CNN_SR\\SampleData'\n",
    "\n",
    "\n",
    "# Second dimension of the feature is dim2\n",
    "feature_dim_2 = 28\n",
    "\n",
    "# Save data to array file first\n",
    "save_data_to_array(DATA_PATH,feature_dim_2)\n",
    "\n",
    "# # Loading train set and test set\n",
    "X_train, X_test, y_train, y_test = get_train_test()\n",
    "\n",
    "# # Feature dimension\n",
    "verbose = 1\n",
    "num_classes = 2\n",
    "\n",
    "\n",
    "y_train_hot = to_categorical(y_train)\n",
    "y_test_hot = to_categorical(y_test)"
   ]
  },
  {
   "cell_type": "code",
   "execution_count": 6,
   "metadata": {},
   "outputs": [
    {
     "name": "stdout",
     "output_type": "stream",
     "text": [
      "(472, 100, 28)\n",
      "(119, 100, 28)\n"
     ]
    }
   ],
   "source": [
    "\n",
    "#X_train = np.array(x_train)\n",
    "print(X_train.shape)\n",
    "print(X_test.shape)\n"
   ]
  },
  {
   "cell_type": "code",
   "execution_count": 7,
   "metadata": {},
   "outputs": [],
   "source": [
    "from keras.models import Sequential\n",
    "from keras.layers import Dense, Dropout\n",
    "from keras.layers import Embedding\n",
    "from keras.regularizers import l2\n",
    "from keras import regularizers\n",
    "from keras.layers import Conv1D, GlobalAveragePooling1D, MaxPooling1D"
   ]
  },
  {
   "cell_type": "code",
   "execution_count": 8,
   "metadata": {},
   "outputs": [],
   "source": [
    "\n",
    "model = Sequential()\n",
    "model.add(Conv1D(64, 3, activation='relu', kernel_regularizer=l2(0.02), input_shape=(feature_dim_1,feature_dim_2) ,data_format='channels_first'))\n",
    "model.add(Conv1D(64, 3, activation='relu', kernel_regularizer=l2(0.05), ))\n",
    "model.add(MaxPooling1D(3))\n",
    "#model.add(Conv1D(128, 3, activation='relu', ))\n",
    "#model.add(Conv1D(128, 3, activation='relu', ))\n",
    "model.add(GlobalAveragePooling1D())\n",
    "model.add(Dropout(0.5))\n",
    "model.add(Dense(2, activation='sigmoid'))\n"
   ]
  },
  {
   "cell_type": "code",
   "execution_count": 9,
   "metadata": {},
   "outputs": [],
   "source": [
    "model.compile(loss='binary_crossentropy',\n",
    "              optimizer='rmsprop',\n",
    "              metrics=['accuracy'])\n",
    "\n"
   ]
  },
  {
   "cell_type": "code",
   "execution_count": 10,
   "metadata": {},
   "outputs": [
    {
     "name": "stdout",
     "output_type": "stream",
     "text": [
      "Train on 472 samples, validate on 119 samples\n",
      "Epoch 1/50\n",
      "472/472 [==============================] - 10s 22ms/step - loss: 6.7654 - acc: 0.5307 - val_loss: 4.9124 - val_acc: 0.6218\n",
      "Epoch 2/50\n",
      "472/472 [==============================] - 9s 19ms/step - loss: 5.9659 - acc: 0.5636 - val_loss: 4.3498 - val_acc: 0.6639\n",
      "Epoch 3/50\n",
      "472/472 [==============================] - 9s 19ms/step - loss: 5.5649 - acc: 0.5805 - val_loss: 4.0367 - val_acc: 0.6723\n",
      "Epoch 4/50\n",
      "472/472 [==============================] - 9s 20ms/step - loss: 5.0443 - acc: 0.6303 - val_loss: 3.9059 - val_acc: 0.6975\n",
      "Epoch 5/50\n",
      "472/472 [==============================] - 9s 19ms/step - loss: 4.9598 - acc: 0.6081 - val_loss: 3.5677 - val_acc: 0.7521\n",
      "Epoch 6/50\n",
      "472/472 [==============================] - 10s 20ms/step - loss: 4.5804 - acc: 0.6441 - val_loss: 3.3258 - val_acc: 0.7689\n",
      "Epoch 7/50\n",
      "472/472 [==============================] - 9s 18ms/step - loss: 4.2472 - acc: 0.6536 - val_loss: 3.5026 - val_acc: 0.6765\n",
      "Epoch 8/50\n",
      "472/472 [==============================] - 9s 18ms/step - loss: 3.9931 - acc: 0.6716 - val_loss: 3.1351 - val_acc: 0.7437\n",
      "Epoch 9/50\n",
      "472/472 [==============================] - 10s 21ms/step - loss: 3.8328 - acc: 0.6790 - val_loss: 3.0000 - val_acc: 0.7227\n",
      "Epoch 10/50\n",
      "472/472 [==============================] - 9s 18ms/step - loss: 3.6097 - acc: 0.6960 - val_loss: 2.7861 - val_acc: 0.7521\n",
      "Epoch 11/50\n",
      "472/472 [==============================] - 9s 18ms/step - loss: 3.4731 - acc: 0.7034 - val_loss: 2.6115 - val_acc: 0.7773\n",
      "Epoch 12/50\n",
      "472/472 [==============================] - 10s 22ms/step - loss: 3.3973 - acc: 0.7235 - val_loss: 2.4125 - val_acc: 0.8067\n",
      "Epoch 13/50\n",
      "472/472 [==============================] - 9s 19ms/step - loss: 3.0856 - acc: 0.7468 - val_loss: 2.4093 - val_acc: 0.7647\n",
      "Epoch 14/50\n",
      "472/472 [==============================] - 10s 22ms/step - loss: 2.9345 - acc: 0.7362 - val_loss: 2.1568 - val_acc: 0.8109\n",
      "Epoch 15/50\n",
      "472/472 [==============================] - 8s 18ms/step - loss: 2.6676 - acc: 0.7669 - val_loss: 2.0942 - val_acc: 0.8109\n",
      "Epoch 16/50\n",
      "472/472 [==============================] - 9s 19ms/step - loss: 2.4770 - acc: 0.7881 - val_loss: 1.9961 - val_acc: 0.8277\n",
      "Epoch 17/50\n",
      "472/472 [==============================] - 10s 22ms/step - loss: 2.4005 - acc: 0.7807 - val_loss: 1.9186 - val_acc: 0.8319\n",
      "Epoch 18/50\n",
      "472/472 [==============================] - 9s 19ms/step - loss: 2.1979 - acc: 0.7754 - val_loss: 1.7901 - val_acc: 0.8782\n",
      "Epoch 19/50\n",
      "472/472 [==============================] - 9s 19ms/step - loss: 2.1111 - acc: 0.8061 - val_loss: 1.7496 - val_acc: 0.8655\n",
      "Epoch 20/50\n",
      "472/472 [==============================] - 9s 19ms/step - loss: 2.0120 - acc: 0.8167 - val_loss: 1.7329 - val_acc: 0.8613\n",
      "Epoch 21/50\n",
      "472/472 [==============================] - 9s 18ms/step - loss: 1.8845 - acc: 0.8030 - val_loss: 1.6423 - val_acc: 0.8613\n",
      "Epoch 22/50\n",
      "472/472 [==============================] - 9s 18ms/step - loss: 1.7277 - acc: 0.8432 - val_loss: 1.5437 - val_acc: 0.8950\n",
      "Epoch 23/50\n",
      "472/472 [==============================] - 9s 19ms/step - loss: 1.6601 - acc: 0.8379 - val_loss: 1.5196 - val_acc: 0.8908\n",
      "Epoch 24/50\n",
      "472/472 [==============================] - 9s 19ms/step - loss: 1.5527 - acc: 0.8517 - val_loss: 1.4711 - val_acc: 0.8824\n",
      "Epoch 25/50\n",
      "472/472 [==============================] - 9s 19ms/step - loss: 1.4686 - acc: 0.8602 - val_loss: 1.3863 - val_acc: 0.8866\n",
      "Epoch 26/50\n",
      "472/472 [==============================] - 9s 19ms/step - loss: 1.3931 - acc: 0.8708 - val_loss: 1.3332 - val_acc: 0.8908\n",
      "Epoch 27/50\n",
      "472/472 [==============================] - 9s 18ms/step - loss: 1.3581 - acc: 0.8655 - val_loss: 1.2837 - val_acc: 0.8950\n",
      "Epoch 28/50\n",
      "472/472 [==============================] - 10s 20ms/step - loss: 1.2969 - acc: 0.8782 - val_loss: 1.2408 - val_acc: 0.8782\n",
      "Epoch 29/50\n",
      "472/472 [==============================] - 10s 20ms/step - loss: 1.2115 - acc: 0.8676 - val_loss: 1.1602 - val_acc: 0.8908\n",
      "Epoch 30/50\n",
      "472/472 [==============================] - 11s 22ms/step - loss: 1.1742 - acc: 0.8697 - val_loss: 1.1268 - val_acc: 0.8866\n",
      "Epoch 31/50\n",
      "472/472 [==============================] - 8s 18ms/step - loss: 1.0782 - acc: 0.8994 - val_loss: 1.0483 - val_acc: 0.9034\n",
      "Epoch 32/50\n",
      "472/472 [==============================] - 9s 18ms/step - loss: 1.0096 - acc: 0.8962 - val_loss: 0.9933 - val_acc: 0.9034\n",
      "Epoch 33/50\n",
      "472/472 [==============================] - 9s 19ms/step - loss: 0.9623 - acc: 0.8962 - val_loss: 0.9451 - val_acc: 0.8950\n",
      "Epoch 34/50\n",
      "472/472 [==============================] - 9s 20ms/step - loss: 0.9012 - acc: 0.9036 - val_loss: 0.8977 - val_acc: 0.8950\n",
      "Epoch 35/50\n",
      "472/472 [==============================] - 9s 19ms/step - loss: 0.8775 - acc: 0.8962 - val_loss: 0.8443 - val_acc: 0.9034\n",
      "Epoch 36/50\n",
      "472/472 [==============================] - 9s 18ms/step - loss: 0.8211 - acc: 0.9089 - val_loss: 0.8003 - val_acc: 0.8992\n",
      "Epoch 37/50\n",
      "472/472 [==============================] - 9s 20ms/step - loss: 0.7834 - acc: 0.9057 - val_loss: 0.7595 - val_acc: 0.9034\n",
      "Epoch 38/50\n",
      "472/472 [==============================] - 10s 21ms/step - loss: 0.7668 - acc: 0.8930 - val_loss: 0.7335 - val_acc: 0.9034\n",
      "Epoch 39/50\n",
      "472/472 [==============================] - 9s 18ms/step - loss: 0.6986 - acc: 0.9089 - val_loss: 0.6870 - val_acc: 0.9202\n",
      "Epoch 40/50\n",
      "472/472 [==============================] - 9s 18ms/step - loss: 0.6658 - acc: 0.9121 - val_loss: 0.6590 - val_acc: 0.9118\n",
      "Epoch 41/50\n",
      "472/472 [==============================] - 9s 19ms/step - loss: 0.6515 - acc: 0.9121 - val_loss: 0.6307 - val_acc: 0.9160\n",
      "Epoch 42/50\n",
      "472/472 [==============================] - 9s 20ms/step - loss: 0.5910 - acc: 0.9163 - val_loss: 0.5999 - val_acc: 0.9118\n",
      "Epoch 43/50\n",
      "472/472 [==============================] - 9s 19ms/step - loss: 0.5692 - acc: 0.9163 - val_loss: 0.5805 - val_acc: 0.9118\n",
      "Epoch 44/50\n",
      "472/472 [==============================] - 9s 19ms/step - loss: 0.5506 - acc: 0.9142 - val_loss: 0.5610 - val_acc: 0.9160\n",
      "Epoch 45/50\n",
      "472/472 [==============================] - 9s 18ms/step - loss: 0.5153 - acc: 0.9174 - val_loss: 0.5248 - val_acc: 0.9160\n",
      "Epoch 46/50\n",
      "472/472 [==============================] - 9s 18ms/step - loss: 0.5040 - acc: 0.9258 - val_loss: 0.5080 - val_acc: 0.9160\n",
      "Epoch 47/50\n",
      "472/472 [==============================] - 10s 21ms/step - loss: 0.5028 - acc: 0.9227 - val_loss: 0.5033 - val_acc: 0.9076\n",
      "Epoch 48/50\n",
      "472/472 [==============================] - 9s 19ms/step - loss: 0.4503 - acc: 0.9269 - val_loss: 0.4698 - val_acc: 0.9160\n",
      "Epoch 49/50\n",
      "472/472 [==============================] - 8s 18ms/step - loss: 0.4346 - acc: 0.9258 - val_loss: 0.4530 - val_acc: 0.9160\n",
      "Epoch 50/50\n",
      "472/472 [==============================] - 9s 18ms/step - loss: 0.4350 - acc: 0.9248 - val_loss: 0.4455 - val_acc: 0.9160\n"
     ]
    }
   ],
   "source": [
    "#model.fit(x_train, y_train, batch_size=7, epochs=10)\n",
    "\n",
    "history = model.fit(X_train, y_train_hot, batch_size=150, epochs=50, verbose=verbose, validation_data=(X_test, y_test_hot))"
   ]
  },
  {
   "cell_type": "code",
   "execution_count": 11,
   "metadata": {},
   "outputs": [
    {
     "name": "stdout",
     "output_type": "stream",
     "text": [
      "model train data score: acc       :  93.75 %\n",
      "model train data score: loss      :  38.48 %\n",
      "model test data score: acc        :  91.6 %\n",
      "model test data score: loss       :  44.55 %\n"
     ]
    }
   ],
   "source": [
    "score = model.evaluate(X_train, y_train_hot, verbose=0) \n",
    "print (\"model train data score: acc       : \",round(score[1]*100,2) , \"%\")\n",
    "print (\"model train data score: loss      : \",round(score[0]*100,2) , \"%\")\n",
    "\n",
    "score = model.evaluate(X_test, y_test_hot, verbose=0) \n",
    "print (\"model test data score: acc        : \",round(score[1]*100,2) , \"%\")\n",
    "print (\"model test data score: loss       : \",round(score[0]*100,2) , \"%\")\n"
   ]
  },
  {
   "cell_type": "code",
   "execution_count": 12,
   "metadata": {
    "scrolled": true
   },
   "outputs": [
    {
     "data": {
      "image/png": "[encoded data removed]",
      "text/plain": [
       "<Figure size 432x288 with 1 Axes>"
      ]
     },
     "metadata": {
      "needs_background": "light"
     },
     "output_type": "display_data"
    }
   ],
   "source": [
    "# summarize history for accuracy\n",
    "plt.plot(history.history['acc'])\n",
    "plt.plot(history.history['val_acc'])\n",
    "plt.title('model accuracy')\n",
    "plt.ylabel('accuracy')\n",
    "plt.xlabel('epoch')\n",
    "plt.legend(['train', 'test'], loc='upper left')\n",
    "plt.show()\n"
   ]
  },
  {
   "cell_type": "code",
   "execution_count": 13,
   "metadata": {},
   "outputs": [
    {
     "data": {
      "image/png": "[encoded data removed]",
      "text/plain": [
       "<Figure size 432x288 with 1 Axes>"
      ]
     },
     "metadata": {
      "needs_background": "light"
     },
     "output_type": "display_data"
    }
   ],
   "source": [
    "# summarize history for loss\n",
    "plt.plot(history.history['loss'])\n",
    "plt.plot(history.history['val_loss'])\n",
    "plt.title('model loss')\n",
    "plt.ylabel('loss')\n",
    "plt.xlabel('epoch')\n",
    "plt.legend(['train', 'test'], loc='upper left')\n",
    "plt.show()"
   ]
  },
  {
   "cell_type": "code",
   "execution_count": 14,
   "metadata": {},
   "outputs": [],
   "source": [
    "import numpy as np\n",
    "from keras.models import Sequential\n",
    "from keras.layers import Dense, Dropout, Activation, Flatten, LSTM\n",
    "from keras.layers import Convolution2D, MaxPooling2D\n",
    "from keras.optimizers import Adam\n",
    "from keras.regularizers import l2\n",
    "from keras.callbacks import EarlyStopping,ReduceLROnPlateau,ModelCheckpoint,TensorBoard,ProgbarLogger\n",
    "from keras.utils import np_utils\n",
    "from sklearn import metrics \n",
    "from sklearn.metrics import confusion_matrix, classification_report, accuracy_score\n",
    "from sklearn.preprocessing import LabelEncoder\n",
    "import itertools"
   ]
  },
  {
   "cell_type": "code",
   "execution_count": 15,
   "metadata": {},
   "outputs": [
    {
     "name": "stdout",
     "output_type": "stream",
     "text": [
      "Build LSTM RNN model ...\n",
      "_________________________________________________________________\n",
      "Layer (type)                 Output Shape              Param #   \n",
      "=================================================================\n",
      "lstm_1 (LSTM)                (None, 100, 64)           23808     \n",
      "_________________________________________________________________\n",
      "lstm_2 (LSTM)                (None, 32)                12416     \n",
      "_________________________________________________________________\n",
      "dense_2 (Dense)              (None, 2)                 66        \n",
      "=================================================================\n",
      "Total params: 36,290\n",
      "Trainable params: 36,290\n",
      "Non-trainable params: 0\n",
      "_________________________________________________________________\n"
     ]
    }
   ],
   "source": [
    "print('Build LSTM RNN model ...')\n",
    "model = Sequential()\n",
    "model.add(LSTM(units=64, dropout=0.05, recurrent_dropout=0.20, return_sequences=True,input_shape = (feature_dim_1,feature_dim_2)))\n",
    "model.add(LSTM(units=32, dropout=0.05, recurrent_dropout=0.20, return_sequences=False))\n",
    "model.add(Dense(2, activation='softmax'))\n",
    "model.compile(loss='categorical_crossentropy', optimizer='Adamax', metrics=['acc','mse', 'mae', 'mape', 'cosine'])\n",
    "model.summary()"
   ]
  },
  {
   "cell_type": "code",
   "execution_count": 16,
   "metadata": {},
   "outputs": [
    {
     "name": "stdout",
     "output_type": "stream",
     "text": [
      "training started..... please wait.\n",
      "\n",
      "Epoch 00001: loss improved from inf to 0.68862, saving model to ./best_model_trained.hdf5\n",
      "\n",
      "Epoch 00002: loss improved from 0.68862 to 0.65807, saving model to ./best_model_trained.hdf5\n",
      "\n",
      "Epoch 00003: loss improved from 0.65807 to 0.53929, saving model to ./best_model_trained.hdf5\n",
      "\n",
      "Epoch 00004: loss improved from 0.53929 to 0.48155, saving model to ./best_model_trained.hdf5\n",
      "\n",
      "Epoch 00005: loss did not improve from 0.48155\n",
      "\n",
      "Epoch 00006: loss improved from 0.48155 to 0.47630, saving model to ./best_model_trained.hdf5\n",
      "\n",
      "Epoch 00007: loss improved from 0.47630 to 0.46314, saving model to ./best_model_trained.hdf5\n",
      "\n",
      "Epoch 00008: loss improved from 0.46314 to 0.45504, saving model to ./best_model_trained.hdf5\n",
      "\n",
      "Epoch 00009: loss improved from 0.45504 to 0.43550, saving model to ./best_model_trained.hdf5\n",
      "\n",
      "Epoch 00010: loss did not improve from 0.43550\n",
      "\n",
      "Epoch 00011: loss improved from 0.43550 to 0.42680, saving model to ./best_model_trained.hdf5\n",
      "\n",
      "Epoch 00012: loss improved from 0.42680 to 0.41803, saving model to ./best_model_trained.hdf5\n",
      "\n",
      "Epoch 00013: loss did not improve from 0.41803\n",
      "\n",
      "Epoch 00014: loss did not improve from 0.41803\n",
      "\n",
      "Epoch 00015: loss did not improve from 0.41803\n",
      "\n",
      "Epoch 00016: loss did not improve from 0.41803\n",
      "\n",
      "Epoch 00017: loss improved from 0.41803 to 0.41788, saving model to ./best_model_trained.hdf5\n",
      "\n",
      "Epoch 00018: loss improved from 0.41788 to 0.39048, saving model to ./best_model_trained.hdf5\n",
      "\n",
      "Epoch 00019: loss improved from 0.39048 to 0.38387, saving model to ./best_model_trained.hdf5\n",
      "\n",
      "Epoch 00020: loss did not improve from 0.38387\n",
      "\n",
      "Epoch 00021: loss did not improve from 0.38387\n",
      "\n",
      "Epoch 00022: loss improved from 0.38387 to 0.36452, saving model to ./best_model_trained.hdf5\n",
      "\n",
      "Epoch 00023: loss did not improve from 0.36452\n",
      "\n",
      "Epoch 00024: loss improved from 0.36452 to 0.35569, saving model to ./best_model_trained.hdf5\n",
      "\n",
      "Epoch 00025: loss improved from 0.35569 to 0.35507, saving model to ./best_model_trained.hdf5\n",
      "\n",
      "Epoch 00026: loss improved from 0.35507 to 0.31547, saving model to ./best_model_trained.hdf5\n",
      "\n",
      "Epoch 00027: loss did not improve from 0.31547\n",
      "\n",
      "Epoch 00028: loss improved from 0.31547 to 0.29303, saving model to ./best_model_trained.hdf5\n",
      "\n",
      "Epoch 00029: loss did not improve from 0.29303\n",
      "\n",
      "Epoch 00030: loss did not improve from 0.29303\n",
      "\n",
      "Epoch 00031: loss improved from 0.29303 to 0.27446, saving model to ./best_model_trained.hdf5\n",
      "\n",
      "Epoch 00032: loss did not improve from 0.27446\n",
      "\n",
      "Epoch 00033: loss did not improve from 0.27446\n",
      "\n",
      "Epoch 00034: loss did not improve from 0.27446\n",
      "\n",
      "Epoch 00035: loss improved from 0.27446 to 0.25441, saving model to ./best_model_trained.hdf5\n",
      "\n",
      "Epoch 00036: loss did not improve from 0.25441\n",
      "\n",
      "Epoch 00037: loss improved from 0.25441 to 0.24236, saving model to ./best_model_trained.hdf5\n",
      "\n",
      "Epoch 00038: loss did not improve from 0.24236\n",
      "\n",
      "Epoch 00039: loss did not improve from 0.24236\n",
      "\n",
      "Epoch 00040: loss did not improve from 0.24236\n",
      "\n",
      "Epoch 00041: loss did not improve from 0.24236\n",
      "\n",
      "Epoch 00042: loss improved from 0.24236 to 0.23495, saving model to ./best_model_trained.hdf5\n",
      "\n",
      "Epoch 00043: loss did not improve from 0.23495\n",
      "\n",
      "Epoch 00044: loss did not improve from 0.23495\n",
      "\n",
      "Epoch 00045: loss improved from 0.23495 to 0.22422, saving model to ./best_model_trained.hdf5\n",
      "\n",
      "Epoch 00046: loss improved from 0.22422 to 0.20669, saving model to ./best_model_trained.hdf5\n",
      "\n",
      "Epoch 00047: loss did not improve from 0.20669\n",
      "\n",
      "Epoch 00048: loss did not improve from 0.20669\n",
      "\n",
      "Epoch 00049: loss did not improve from 0.20669\n",
      "\n",
      "Epoch 00050: loss improved from 0.20669 to 0.19484, saving model to ./best_model_trained.hdf5\n",
      "_________________________________________________________________\n",
      "Layer (type)                 Output Shape              Param #   \n",
      "=================================================================\n",
      "lstm_1 (LSTM)                (None, 100, 64)           23808     \n",
      "_________________________________________________________________\n",
      "lstm_2 (LSTM)                (None, 32)                12416     \n",
      "_________________________________________________________________\n",
      "dense_2 (Dense)              (None, 2)                 66        \n",
      "=================================================================\n",
      "Total params: 36,290\n",
      "Trainable params: 36,290\n",
      "Non-trainable params: 0\n",
      "_________________________________________________________________\n",
      "training finised!\n",
      "Wall time: 9min 3s\n"
     ]
    }
   ],
   "source": [
    "%%time\n",
    "# saved model checkpoint file\n",
    "best_model_file=\"./best_model_trained.hdf5\"\n",
    "#train_model_file=file_path+\"/checkpoints/weights.best_{epoch:02d}-{loss:.2f}.hdf5\"\n",
    "MAX_PATIENT=12\n",
    "MAX_EPOCHS=50\n",
    "MAX_BATCH=7\n",
    "\n",
    "# callbacks\n",
    "# removed EarlyStopping(patience=MAX_PATIENT)\n",
    "callback=[ReduceLROnPlateau(patience=MAX_PATIENT, verbose=1),\n",
    "          ModelCheckpoint(filepath=best_model_file, monitor='loss', verbose=1, save_best_only=True)]\n",
    "\n",
    "print (\"training started..... please wait.\")\n",
    "# training\n",
    "history=model.fit(X_train, y_train_hot, \n",
    "                  batch_size=MAX_BATCH, \n",
    "                  epochs=MAX_EPOCHS,\n",
    "                  verbose=0,\n",
    "                  validation_data=(X_test, y_test_hot),\n",
    "                  callbacks=callback) \n",
    "model.summary()\n",
    "print (\"training finised!\")\n",
    "\n",
    "\n"
   ]
  },
  {
   "cell_type": "code",
   "execution_count": 17,
   "metadata": {},
   "outputs": [
    {
     "name": "stdout",
     "output_type": "stream",
     "text": [
      "472/472 [==============================] - 1s 1ms/step\n",
      "model train data score       :  97.25 %\n",
      "model train data score: loss :  10.71 %\n",
      "[0.10708612961284185, 0.9724576261083958, 0.024669674856556675, 0.06461340252120616, 32306704.33898305, -0.9744249895467596]\n",
      "119/119 [==============================] - 0s 1ms/step\n",
      "model test data score        :  96.64 %\n",
      "model test data score: loss  :  12.29 %\n",
      "[0.12292424821052231, 0.9663865566253662, 0.030075015672365157, 0.07395528037758435, 36977642.789915964, -0.9683429032814603]\n"
     ]
    }
   ],
   "source": [
    "score = model.evaluate(X_train, y_train_hot, verbose=1) \n",
    "print (\"model train data score       : \",round(score[1]*100,2) , \"%\")\n",
    "print (\"model train data score: loss : \",round(score[0]*100,2) , \"%\")\n",
    "print(score)\n",
    "score = model.evaluate(X_test, y_test_hot, verbose=1) \n",
    "print (\"model test data score        : \",round(score[1]*100,2) , \"%\")\n",
    "print (\"model test data score: loss  : \",round(score[0]*100,2) , \"%\")\n",
    "\n",
    "print(score)"
   ]
  },
  {
   "cell_type": "code",
   "execution_count": 18,
   "metadata": {},
   "outputs": [
    {
     "data": {
      "image/png": "[encoded data removed]",
      "text/plain": [
       "<Figure size 432x288 with 1 Axes>"
      ]
     },
     "metadata": {
      "needs_background": "light"
     },
     "output_type": "display_data"
    }
   ],
   "source": [
    "# summarize history for accuracy\n",
    "plt.plot(history.history['acc'])\n",
    "plt.plot(history.history['val_acc'])\n",
    "plt.title('model accuracy')\n",
    "plt.ylabel('accuracy')\n",
    "plt.xlabel('epoch')\n",
    "plt.legend(['train', 'test'], loc='upper left')\n",
    "plt.show()"
   ]
  },
  {
   "cell_type": "code",
   "execution_count": 19,
   "metadata": {},
   "outputs": [
    {
     "data": {
      "image/png": "[encoded data removed]",
      "text/plain": [
       "<Figure size 432x288 with 1 Axes>"
      ]
     },
     "metadata": {
      "needs_background": "light"
     },
     "output_type": "display_data"
    }
   ],
   "source": [
    "# summarize history for loss\n",
    "plt.plot(history.history['loss'])\n",
    "plt.plot(history.history['val_loss'])\n",
    "plt.title('model loss')\n",
    "plt.ylabel('loss')\n",
    "plt.xlabel('epoch')\n",
    "plt.legend(['train', 'test'], loc='upper left')\n",
    "plt.show()"
   ]
  }
 ],
 "metadata": {
  "kernelspec": {
   "display_name": "Python 3",
   "language": "python",
   "name": "python3"
  },
  "language_info": {
   "codemirror_mode": {
    "name": "ipython",
    "version": 3
   },
   "file_extension": ".py",
   "mimetype": "text/x-python",
   "name": "python",
   "nbconvert_exporter": "python",
   "pygments_lexer": "ipython3",
   "version": "3.6.4"
  }
 },
 "nbformat": 4,
 "nbformat_minor": 2
}
