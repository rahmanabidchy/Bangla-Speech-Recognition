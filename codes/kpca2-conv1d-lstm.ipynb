{
 "cells": [
  {
   "cell_type": "code",
   "execution_count": 1,
   "metadata": {},
   "outputs": [
    {
     "name": "stderr",
     "output_type": "stream",
     "text": [
      "C:\\Users\\lenovo_pc\\Anaconda3\\lib\\site-packages\\h5py\\__init__.py:36: FutureWarning: Conversion of the second argument of issubdtype from `float` to `np.floating` is deprecated. In future, it will be treated as `np.float64 == np.dtype(float).type`.\n",
      "  from ._conv import register_converters as _register_converters\n",
      "Using TensorFlow backend.\n"
     ]
    }
   ],
   "source": [
    "import keras\n",
    "import os\n",
    "import librosa\n",
    "\n",
    "\n",
    "import numpy as np\n",
    "import pandas as pd\n",
    "\n",
    "from sklearn.preprocessing import StandardScaler\n",
    "from sklearn.decomposition import KernelPCA\n",
    "\n",
    "from keras.models import Sequential\n",
    "from keras.utils import np_utils\n",
    "from keras.utils import to_categorical\n",
    "from keras.layers import Dense, Dropout, GaussianNoise, Conv1D\n",
    "from keras.preprocessing.image import ImageDataGenerator\n",
    "\n",
    "import matplotlib.pyplot as plt\n",
    "import seaborn as sns\n",
    "%matplotlib inline"
   ]
  },
  {
   "cell_type": "code",
   "execution_count": 2,
   "metadata": {},
   "outputs": [],
   "source": [
    "DATA_PATH = r'C:\\Users\\lenovo_pc\\Desktop\\CNN_SR\\Dataset-merged'\n",
    "feature_dim_1 = 2"
   ]
  },
  {
   "cell_type": "code",
   "execution_count": 3,
   "metadata": {},
   "outputs": [],
   "source": [
    "def get_labels(path):\n",
    "    labels = os.listdir(path)\n",
    "    label_indices = np.arange(0, len(labels))    \n",
    "    return labels, label_indices, to_categorical(label_indices)\n",
    "\n",
    "\n",
    "\n"
   ]
  },
  {
   "cell_type": "code",
   "execution_count": 4,
   "metadata": {},
   "outputs": [],
   "source": [
    "\n",
    "\n",
    "def save_data_to_array(path, max_pad_len):\n",
    "    labels, _, _ = get_labels(path)\n",
    "\n",
    "    for label in labels:\n",
    "        # Init mfcc vectors\n",
    "        melspectrogram_vectors = []\n",
    "\n",
    "        wavfiles = [path + '/' + label + '/' + wavfile for wavfile in os.listdir(path + '/' + label)]\n",
    "        #wavfiles = librosa.util.find_files(db)\n",
    "        #print(wavfiles)\n",
    "        x=0\n",
    "        for wavfile in wavfiles:\n",
    "            name=label+'_'+str(x)\n",
    "            melspectrogram = wav2melspectrogram(wavfile, name, max_pad_len=max_pad_len)            \n",
    "            melspectrogram_vectors.append(melspectrogram)            \n",
    "            x=x+1\n",
    "        \n",
    "        #computing PCA and saving\n",
    "        \n",
    "        np.save(label + '.npy', melspectrogram_vectors)\n",
    "        #y=np.load(label + '.npy')\n",
    "        #y = sklearn.preprocessing.scale(y)\n",
    "        #y.mean()\n",
    "        #model = sklearn.decomposition.PCA(n_components=2, whiten=True)\n",
    "        #model.fit(y)\n",
    "        #y = model.transform(y)\n",
    "        #pd.DataFrame(y).to_csv(VALUE_PATH+'/'+label+'.csv')\n",
    "        \n",
    "        \n",
    "sample_x=[]\n",
    "\n",
    "def wav2melspectrogram(file_path, name, max_pad_len):\n",
    "    wave, sr = librosa.load(file_path)\n",
    "    x = librosa.feature.melspectrogram(wave, sr=sr)\n",
    "    pad_width = max_pad_len - x.shape[1]\n",
    "    x = np.pad(x, pad_width=((0, 0), (0, pad_width)), mode='constant')\n",
    "    #here the dimensions are getting reduced \n",
    "    #through PCA decompostion\n",
    "    x = reduce_dimension(x)\n",
    "    #pd.DataFrame(x).to_csv(VALUE_PATH+'/'+name+'.csv')\n",
    "    return x.T"
   ]
  },
  {
   "cell_type": "code",
   "execution_count": 5,
   "metadata": {},
   "outputs": [],
   "source": [
    "NCOMPONENTS = feature_dim_1\n",
    "def reduce_dimension(X):\n",
    "    scaler = StandardScaler()\n",
    "    scaler.fit(X.T)\n",
    "    X_data = scaler.transform(X.T)\n",
    "    \n",
    "    kpca = KernelPCA(n_components=NCOMPONENTS)\n",
    "    X_kpca = kpca.fit_transform(X.T)\n",
    "    \n",
    "    return X_kpca.T"
   ]
  },
  {
   "cell_type": "code",
   "execution_count": 6,
   "metadata": {},
   "outputs": [],
   "source": [
    "from sklearn.model_selection import train_test_split\n",
    "\n",
    "\n",
    "def get_train_test(split_ratio=0.8, random_state=42):\n",
    "    # Get available labels\n",
    "    labels, indices, _ = get_labels(DATA_PATH)\n",
    "\n",
    "    # Getting first arrays\n",
    "    X = np.load(labels[0] + '.npy')\n",
    "    # print(X.shape[0]) returns: 129\n",
    "    y = np.zeros(X.shape[0])\n",
    "\n",
    "    # Append all of the dataset into one single array, same goes for y\n",
    "    for i, label in enumerate(labels[1:]):\n",
    "        x = np.load(label + '.npy')\n",
    "        X = np.vstack((X, x))\n",
    "        #print(X.shape[0]) returns: 129+152=281\n",
    "        #print(i) returns: 0: So all y values are 1 for Seven and 0 for Tin\n",
    "        y = np.append(y, np.full(x.shape[0], fill_value= (i + 1)))\n",
    "\n",
    "    assert X.shape[0] == len(y)\n",
    "\n",
    "    return train_test_split(X, y, test_size= (1 - split_ratio), random_state=random_state, shuffle=True)\n",
    "\n"
   ]
  },
  {
   "cell_type": "code",
   "execution_count": 7,
   "metadata": {},
   "outputs": [],
   "source": [
    "\n",
    "\n",
    "#db = r'C:\\Users\\lenovo_pc\\Desktop\\CNN_SR\\SampleData'\n",
    "\n",
    "\n",
    "# Second dimension of the feature is dim2\n",
    "feature_dim_2 = 28\n",
    "\n",
    "# Save data to array file first\n",
    "save_data_to_array(DATA_PATH,feature_dim_2)\n",
    "\n",
    "# # Loading train set and test set\n",
    "X_train, X_test, y_train, y_test = get_train_test()\n",
    "\n",
    "# # Feature dimension\n",
    "channel = 1\n",
    "epochs = 50\n",
    "batch_size = 100\n",
    "verbose = 1\n",
    "num_classes = 2\n",
    "\n",
    "\n",
    "y_train_hot = to_categorical(y_train)\n",
    "y_test_hot = to_categorical(y_test)"
   ]
  },
  {
   "cell_type": "code",
   "execution_count": 8,
   "metadata": {},
   "outputs": [
    {
     "name": "stdout",
     "output_type": "stream",
     "text": [
      "(472, 28, 2)\n",
      "(119, 28, 2)\n"
     ]
    }
   ],
   "source": [
    "\n",
    "#X_train = np.array(x_train)\n",
    "print(X_train.shape)\n",
    "print(X_test.shape)"
   ]
  },
  {
   "cell_type": "markdown",
   "metadata": {},
   "source": [
    "# *********++++++*********++++++*********++++++*********++++++"
   ]
  },
  {
   "cell_type": "code",
   "execution_count": 9,
   "metadata": {},
   "outputs": [],
   "source": [
    "from keras.models import Sequential\n",
    "from keras.layers import Dense, Dropout\n",
    "from keras.layers import Embedding\n",
    "from keras import regularizers\n",
    "from keras.layers import Conv1D, GlobalAveragePooling1D, MaxPooling1D"
   ]
  },
  {
   "cell_type": "code",
   "execution_count": 10,
   "metadata": {},
   "outputs": [],
   "source": [
    "#seq_length = NCOMPONENTS\n",
    "\n",
    "#model = Sequential()\n",
    "#model.add(Conv1D(64, 3, activation='relu', input_shape=(feature_dim_2,seq_length), padding='causal'))\n",
    "#model.add(Conv1D(64, 3, activation='relu'))\n",
    "#model.add(MaxPooling1D(3))\n",
    "#model.add(Conv1D(128, 3, activation='relu'))\n",
    "#model.add(Conv1D(128, 3, activation='relu'))\n",
    "#model.add(GlobalAveragePooling1D())\n",
    "#model.add(Dropout(0.5))\n",
    "#model.add(Dense(2, activation='sigmoid'))"
   ]
  },
  {
   "cell_type": "code",
   "execution_count": 11,
   "metadata": {},
   "outputs": [],
   "source": [
    "\n",
    "\n",
    "model = Sequential()\n",
    "model.add(Conv1D(64, 3, activation='relu', input_shape=(feature_dim_2,feature_dim_1) ,padding='causal'))\n",
    "model.add(Conv1D(64, 3, activation='relu', ))\n",
    "model.add(MaxPooling1D(3))\n",
    "#model.add(Conv1D(128, 3, activation='relu', ))\n",
    "#model.add(Conv1D(128, 3, activation='relu', ))\n",
    "model.add(GlobalAveragePooling1D())\n",
    "model.add(Dropout(0.7))\n",
    "model.add(Dense(2, activation='sigmoid'))\n"
   ]
  },
  {
   "cell_type": "code",
   "execution_count": 12,
   "metadata": {},
   "outputs": [],
   "source": [
    "model.compile(loss='binary_crossentropy',\n",
    "              optimizer='rmsprop',\n",
    "              metrics=['accuracy'])"
   ]
  },
  {
   "cell_type": "code",
   "execution_count": 13,
   "metadata": {},
   "outputs": [
    {
     "name": "stdout",
     "output_type": "stream",
     "text": [
      "Train on 472 samples, validate on 119 samples\n",
      "Epoch 1/50\n",
      "472/472 [==============================] - 11s 23ms/step - loss: 4.9673 - acc: 0.5169 - val_loss: 4.6824 - val_acc: 0.4874\n",
      "Epoch 2/50\n",
      "472/472 [==============================] - 9s 20ms/step - loss: 4.2591 - acc: 0.5551 - val_loss: 2.8833 - val_acc: 0.5462\n",
      "Epoch 3/50\n",
      "472/472 [==============================] - 9s 20ms/step - loss: 4.1068 - acc: 0.5646 - val_loss: 3.8526 - val_acc: 0.4958\n",
      "Epoch 4/50\n",
      "472/472 [==============================] - 10s 22ms/step - loss: 3.7000 - acc: 0.5805 - val_loss: 2.2891 - val_acc: 0.6513\n",
      "Epoch 5/50\n",
      "472/472 [==============================] - 8s 18ms/step - loss: 3.7715 - acc: 0.5731 - val_loss: 2.5562 - val_acc: 0.6218\n",
      "Epoch 6/50\n",
      "472/472 [==============================] - 10s 21ms/step - loss: 3.2913 - acc: 0.6186 - val_loss: 2.4296 - val_acc: 0.5966\n",
      "Epoch 7/50\n",
      "472/472 [==============================] - 9s 19ms/step - loss: 3.5399 - acc: 0.5932 - val_loss: 2.5103 - val_acc: 0.6303\n",
      "Epoch 8/50\n",
      "472/472 [==============================] - 9s 19ms/step - loss: 2.9552 - acc: 0.6292 - val_loss: 2.1516 - val_acc: 0.6765\n",
      "Epoch 9/50\n",
      "472/472 [==============================] - 9s 19ms/step - loss: 3.0355 - acc: 0.6356 - val_loss: 2.6264 - val_acc: 0.5840\n",
      "Epoch 10/50\n",
      "472/472 [==============================] - 9s 19ms/step - loss: 2.8521 - acc: 0.6239 - val_loss: 1.9656 - val_acc: 0.7227\n",
      "Epoch 11/50\n",
      "472/472 [==============================] - 10s 20ms/step - loss: 2.5899 - acc: 0.6377 - val_loss: 1.9619 - val_acc: 0.6681\n",
      "Epoch 12/50\n",
      "472/472 [==============================] - 9s 19ms/step - loss: 2.2432 - acc: 0.6621 - val_loss: 2.0420 - val_acc: 0.7311\n",
      "Epoch 13/50\n",
      "472/472 [==============================] - 8s 18ms/step - loss: 2.0835 - acc: 0.6790 - val_loss: 2.0888 - val_acc: 0.7017\n",
      "Epoch 14/50\n",
      "472/472 [==============================] - 9s 19ms/step - loss: 1.8908 - acc: 0.6992 - val_loss: 1.8824 - val_acc: 0.7353\n",
      "Epoch 15/50\n",
      "472/472 [==============================] - 10s 21ms/step - loss: 1.7295 - acc: 0.7309 - val_loss: 1.9383 - val_acc: 0.7227\n",
      "Epoch 16/50\n",
      "472/472 [==============================] - 9s 18ms/step - loss: 1.3525 - acc: 0.7225 - val_loss: 1.8010 - val_acc: 0.6597\n",
      "Epoch 17/50\n",
      "472/472 [==============================] - 9s 19ms/step - loss: 1.3010 - acc: 0.7267 - val_loss: 1.6321 - val_acc: 0.7017\n",
      "Epoch 18/50\n",
      "472/472 [==============================] - 10s 20ms/step - loss: 1.0300 - acc: 0.7256 - val_loss: 1.4142 - val_acc: 0.6975\n",
      "Epoch 19/50\n",
      "472/472 [==============================] - 9s 18ms/step - loss: 0.8732 - acc: 0.7585 - val_loss: 1.2483 - val_acc: 0.7143\n",
      "Epoch 20/50\n",
      "472/472 [==============================] - 9s 19ms/step - loss: 0.7935 - acc: 0.7744 - val_loss: 1.1267 - val_acc: 0.7269\n",
      "Epoch 21/50\n",
      "472/472 [==============================] - 9s 19ms/step - loss: 0.7942 - acc: 0.7341 - val_loss: 0.9677 - val_acc: 0.7101\n",
      "Epoch 22/50\n",
      "472/472 [==============================] - 10s 20ms/step - loss: 0.6618 - acc: 0.7585 - val_loss: 0.8967 - val_acc: 0.7143\n",
      "Epoch 23/50\n",
      "472/472 [==============================] - 10s 20ms/step - loss: 0.6318 - acc: 0.7225 - val_loss: 0.8632 - val_acc: 0.7101\n",
      "Epoch 24/50\n",
      "472/472 [==============================] - 9s 19ms/step - loss: 0.6931 - acc: 0.7447 - val_loss: 0.8049 - val_acc: 0.7059\n",
      "Epoch 25/50\n",
      "472/472 [==============================] - 9s 19ms/step - loss: 0.6238 - acc: 0.7299 - val_loss: 0.7046 - val_acc: 0.7143\n",
      "Epoch 26/50\n",
      "472/472 [==============================] - 9s 19ms/step - loss: 0.5497 - acc: 0.7521 - val_loss: 0.7887 - val_acc: 0.6849\n",
      "Epoch 27/50\n",
      "472/472 [==============================] - 10s 22ms/step - loss: 0.5449 - acc: 0.7691 - val_loss: 0.7201 - val_acc: 0.7227\n",
      "Epoch 28/50\n",
      "472/472 [==============================] - 9s 18ms/step - loss: 0.6313 - acc: 0.7468 - val_loss: 0.7581 - val_acc: 0.7143\n",
      "Epoch 29/50\n",
      "472/472 [==============================] - 10s 21ms/step - loss: 0.5554 - acc: 0.7479 - val_loss: 0.7923 - val_acc: 0.7101\n",
      "Epoch 30/50\n",
      "472/472 [==============================] - 9s 18ms/step - loss: 0.5628 - acc: 0.7521 - val_loss: 0.7332 - val_acc: 0.7269\n",
      "Epoch 31/50\n",
      "472/472 [==============================] - 9s 19ms/step - loss: 0.5527 - acc: 0.7542 - val_loss: 0.7620 - val_acc: 0.6891\n",
      "Epoch 32/50\n",
      "472/472 [==============================] - 9s 18ms/step - loss: 0.5569 - acc: 0.7256 - val_loss: 0.7109 - val_acc: 0.7143\n",
      "Epoch 33/50\n",
      "472/472 [==============================] - 9s 19ms/step - loss: 0.5532 - acc: 0.7659 - val_loss: 0.6957 - val_acc: 0.7479\n",
      "Epoch 34/50\n",
      "472/472 [==============================] - 9s 20ms/step - loss: 0.5466 - acc: 0.7426 - val_loss: 0.8736 - val_acc: 0.7479\n",
      "Epoch 35/50\n",
      "472/472 [==============================] - 8s 18ms/step - loss: 0.5919 - acc: 0.7617 - val_loss: 0.7883 - val_acc: 0.7227\n",
      "Epoch 36/50\n",
      "472/472 [==============================] - 9s 18ms/step - loss: 0.5316 - acc: 0.7712 - val_loss: 0.7266 - val_acc: 0.7311\n",
      "Epoch 37/50\n",
      "472/472 [==============================] - 9s 19ms/step - loss: 0.5555 - acc: 0.7532 - val_loss: 0.7528 - val_acc: 0.7437\n",
      "Epoch 38/50\n",
      "472/472 [==============================] - 10s 20ms/step - loss: 0.5198 - acc: 0.7903 - val_loss: 0.7242 - val_acc: 0.7311\n",
      "Epoch 39/50\n",
      "472/472 [==============================] - 9s 19ms/step - loss: 0.5425 - acc: 0.7595 - val_loss: 0.7281 - val_acc: 0.7353\n",
      "Epoch 40/50\n",
      "472/472 [==============================] - 10s 21ms/step - loss: 0.5032 - acc: 0.7786 - val_loss: 0.7517 - val_acc: 0.7479\n",
      "Epoch 41/50\n",
      "472/472 [==============================] - 9s 19ms/step - loss: 0.5276 - acc: 0.7669 - val_loss: 0.7580 - val_acc: 0.7101\n",
      "Epoch 42/50\n",
      "472/472 [==============================] - 9s 20ms/step - loss: 0.5032 - acc: 0.7744 - val_loss: 0.6309 - val_acc: 0.7227\n",
      "Epoch 43/50\n",
      "472/472 [==============================] - 9s 18ms/step - loss: 0.5198 - acc: 0.7627 - val_loss: 0.6900 - val_acc: 0.7395\n",
      "Epoch 44/50\n",
      "472/472 [==============================] - 9s 19ms/step - loss: 0.5097 - acc: 0.7797 - val_loss: 0.7597 - val_acc: 0.7353\n",
      "Epoch 45/50\n",
      "472/472 [==============================] - 9s 20ms/step - loss: 0.5143 - acc: 0.7786 - val_loss: 0.6970 - val_acc: 0.7311\n",
      "Epoch 46/50\n",
      "472/472 [==============================] - 9s 18ms/step - loss: 0.5194 - acc: 0.7765 - val_loss: 0.7100 - val_acc: 0.7353\n",
      "Epoch 47/50\n",
      "472/472 [==============================] - 9s 19ms/step - loss: 0.4983 - acc: 0.7733 - val_loss: 0.6776 - val_acc: 0.7269\n",
      "Epoch 48/50\n",
      "472/472 [==============================] - 9s 19ms/step - loss: 0.5508 - acc: 0.7691 - val_loss: 0.7182 - val_acc: 0.7395\n",
      "Epoch 49/50\n",
      "472/472 [==============================] - 9s 19ms/step - loss: 0.4942 - acc: 0.7648 - val_loss: 0.7165 - val_acc: 0.7479\n",
      "Epoch 50/50\n",
      "472/472 [==============================] - 8s 18ms/step - loss: 0.5040 - acc: 0.7828 - val_loss: 0.7026 - val_acc: 0.7395\n"
     ]
    }
   ],
   "source": [
    "#model.fit(x_train, y_train, batch_size=7, epochs=10)\n",
    "\n",
    "history = model.fit(X_train, y_train_hot, batch_size=batch_size, epochs=50, verbose=verbose, validation_data=(X_test, y_test_hot))"
   ]
  },
  {
   "cell_type": "code",
   "execution_count": 14,
   "metadata": {},
   "outputs": [
    {
     "name": "stdout",
     "output_type": "stream",
     "text": [
      "model train data score: acc       :  84.0 %\n",
      "model train data score: loss      :  42.69 %\n",
      "model test data score: acc        :  73.95 %\n",
      "model test data score: loss       :  70.26 %\n"
     ]
    }
   ],
   "source": [
    "score = model.evaluate(X_train, y_train_hot, verbose=0) \n",
    "print (\"model train data score: acc       : \",round(score[1]*100,2) , \"%\")\n",
    "print (\"model train data score: loss      : \",round(score[0]*100,2) , \"%\")\n",
    "\n",
    "score = model.evaluate(X_test, y_test_hot, verbose=0) \n",
    "print (\"model test data score: acc        : \",round(score[1]*100,2) , \"%\")\n",
    "print (\"model test data score: loss       : \",round(score[0]*100,2) , \"%\")\n"
   ]
  },
  {
   "cell_type": "code",
   "execution_count": 15,
   "metadata": {},
   "outputs": [
    {
     "data": {
      "image/png": "[encoded data removed]",
      "text/plain": [
       "<Figure size 432x288 with 1 Axes>"
      ]
     },
     "metadata": {
      "needs_background": "light"
     },
     "output_type": "display_data"
    }
   ],
   "source": [
    "# summarize history for accuracy\n",
    "plt.plot(history.history['acc'])\n",
    "plt.plot(history.history['val_acc'])\n",
    "plt.title('model accuracy')\n",
    "plt.ylabel('accuracy')\n",
    "plt.xlabel('epoch')\n",
    "plt.legend(['train', 'test'], loc='upper left')\n",
    "plt.show()"
   ]
  },
  {
   "cell_type": "code",
   "execution_count": 16,
   "metadata": {},
   "outputs": [
    {
     "data": {
      "image/png": "[encoded data removed]",
      "text/plain": [
       "<Figure size 432x288 with 1 Axes>"
      ]
     },
     "metadata": {
      "needs_background": "light"
     },
     "output_type": "display_data"
    }
   ],
   "source": [
    "# summarize history for loss\n",
    "plt.plot(history.history['loss'])\n",
    "plt.plot(history.history['val_loss'])\n",
    "plt.title('model loss')\n",
    "plt.ylabel('loss')\n",
    "plt.xlabel('epoch')\n",
    "plt.legend(['train', 'test'], loc='upper left')\n",
    "plt.show()"
   ]
  },
  {
   "cell_type": "markdown",
   "metadata": {},
   "source": [
    "# RNN+LSTM\n"
   ]
  },
  {
   "cell_type": "code",
   "execution_count": 17,
   "metadata": {},
   "outputs": [],
   "source": [
    "import numpy as np\n",
    "from keras.models import Sequential\n",
    "from keras.layers import Dense, Dropout, Activation, Flatten, LSTM\n",
    "from keras.layers import Convolution2D, MaxPooling2D\n",
    "from keras.optimizers import Adam\n",
    "from keras.regularizers import l2\n",
    "from keras.callbacks import EarlyStopping,ReduceLROnPlateau,ModelCheckpoint,TensorBoard,ProgbarLogger\n",
    "from keras.utils import np_utils\n",
    "from sklearn import metrics \n",
    "from sklearn.metrics import confusion_matrix, classification_report, accuracy_score\n",
    "from sklearn.preprocessing import LabelEncoder\n",
    "import itertools"
   ]
  },
  {
   "cell_type": "code",
   "execution_count": 18,
   "metadata": {},
   "outputs": [
    {
     "name": "stdout",
     "output_type": "stream",
     "text": [
      "Build LSTM RNN model ...\n"
     ]
    }
   ],
   "source": [
    "print('Build LSTM RNN model ...')\n",
    "model = Sequential()\n",
    "model.add(LSTM(units=64, dropout=0.1, recurrent_dropout=0.15, kernel_regularizer=l2(0.05), recurrent_regularizer=l2(0.08), bias_regularizer=l2(0.06), return_sequences=True))\n",
    "model.add(LSTM(units=32, dropout=0.6, recurrent_dropout=0.60, kernel_regularizer=l2(0.90), recurrent_regularizer=l2(0.90), bias_regularizer=l2(0.10), return_sequences=False))\n",
    "model.add(Dense(2, activation='softmax'))\n",
    "model.compile(loss='categorical_crossentropy', optimizer='Adamax', metrics=['acc','mse', 'mae', 'mape', 'cosine'])\n",
    "#model.summary()"
   ]
  },
  {
   "cell_type": "code",
   "execution_count": 19,
   "metadata": {},
   "outputs": [
    {
     "name": "stdout",
     "output_type": "stream",
     "text": [
      "training started..... please wait.\n",
      "\n",
      "Epoch 00001: loss improved from inf to 52.53429, saving model to ./best_model_trained.hdf5\n",
      "\n",
      "Epoch 00002: loss improved from 52.53429 to 10.61746, saving model to ./best_model_trained.hdf5\n",
      "\n",
      "Epoch 00003: loss improved from 10.61746 to 4.91314, saving model to ./best_model_trained.hdf5\n",
      "\n",
      "Epoch 00004: loss improved from 4.91314 to 3.36316, saving model to ./best_model_trained.hdf5\n",
      "\n",
      "Epoch 00005: loss improved from 3.36316 to 2.52584, saving model to ./best_model_trained.hdf5\n",
      "\n",
      "Epoch 00006: loss improved from 2.52584 to 1.95374, saving model to ./best_model_trained.hdf5\n",
      "\n",
      "Epoch 00007: loss improved from 1.95374 to 1.53922, saving model to ./best_model_trained.hdf5\n",
      "\n",
      "Epoch 00008: loss improved from 1.53922 to 1.24616, saving model to ./best_model_trained.hdf5\n",
      "\n",
      "Epoch 00009: loss improved from 1.24616 to 1.03633, saving model to ./best_model_trained.hdf5\n",
      "\n",
      "Epoch 00010: loss improved from 1.03633 to 0.90012, saving model to ./best_model_trained.hdf5\n",
      "\n",
      "Epoch 00011: loss improved from 0.90012 to 0.81341, saving model to ./best_model_trained.hdf5\n",
      "\n",
      "Epoch 00012: loss improved from 0.81341 to 0.74502, saving model to ./best_model_trained.hdf5\n",
      "\n",
      "Epoch 00013: loss improved from 0.74502 to 0.70453, saving model to ./best_model_trained.hdf5\n",
      "\n",
      "Epoch 00014: loss improved from 0.70453 to 0.70147, saving model to ./best_model_trained.hdf5\n",
      "\n",
      "Epoch 00015: loss improved from 0.70147 to 0.67963, saving model to ./best_model_trained.hdf5\n",
      "\n",
      "Epoch 00016: loss improved from 0.67963 to 0.67647, saving model to ./best_model_trained.hdf5\n",
      "\n",
      "Epoch 00017: loss improved from 0.67647 to 0.66911, saving model to ./best_model_trained.hdf5\n",
      "\n",
      "Epoch 00018: loss improved from 0.66911 to 0.66209, saving model to ./best_model_trained.hdf5\n",
      "\n",
      "Epoch 00019: loss did not improve from 0.66209\n",
      "\n",
      "Epoch 00020: loss improved from 0.66209 to 0.64781, saving model to ./best_model_trained.hdf5\n",
      "\n",
      "Epoch 00021: loss did not improve from 0.64781\n",
      "\n",
      "Epoch 00022: loss improved from 0.64781 to 0.64188, saving model to ./best_model_trained.hdf5\n",
      "\n",
      "Epoch 00023: loss did not improve from 0.64188\n",
      "\n",
      "Epoch 00024: loss improved from 0.64188 to 0.63735, saving model to ./best_model_trained.hdf5\n",
      "\n",
      "Epoch 00025: loss did not improve from 0.63735\n",
      "\n",
      "Epoch 00026: loss did not improve from 0.63735\n",
      "\n",
      "Epoch 00027: loss improved from 0.63735 to 0.63261, saving model to ./best_model_trained.hdf5\n",
      "\n",
      "Epoch 00028: loss did not improve from 0.63261\n",
      "\n",
      "Epoch 00029: loss did not improve from 0.63261\n",
      "\n",
      "Epoch 00030: loss improved from 0.63261 to 0.62750, saving model to ./best_model_trained.hdf5\n",
      "\n",
      "Epoch 00031: loss did not improve from 0.62750\n",
      "\n",
      "Epoch 00032: loss did not improve from 0.62750\n",
      "\n",
      "Epoch 00033: loss did not improve from 0.62750\n",
      "\n",
      "Epoch 00034: loss improved from 0.62750 to 0.62648, saving model to ./best_model_trained.hdf5\n",
      "\n",
      "Epoch 00035: loss improved from 0.62648 to 0.62514, saving model to ./best_model_trained.hdf5\n",
      "\n",
      "Epoch 00036: loss improved from 0.62514 to 0.61422, saving model to ./best_model_trained.hdf5\n",
      "\n",
      "Epoch 00037: loss did not improve from 0.61422\n",
      "\n",
      "Epoch 00038: loss did not improve from 0.61422\n",
      "\n",
      "Epoch 00039: loss did not improve from 0.61422\n",
      "\n",
      "Epoch 00040: loss did not improve from 0.61422\n",
      "\n",
      "Epoch 00041: loss did not improve from 0.61422\n",
      "\n",
      "Epoch 00042: loss did not improve from 0.61422\n",
      "\n",
      "Epoch 00043: loss did not improve from 0.61422\n",
      "\n",
      "Epoch 00044: loss did not improve from 0.61422\n",
      "\n",
      "Epoch 00045: loss did not improve from 0.61422\n",
      "\n",
      "Epoch 00046: loss did not improve from 0.61422\n",
      "\n",
      "Epoch 00047: loss did not improve from 0.61422\n",
      "\n",
      "Epoch 00048: loss did not improve from 0.61422\n",
      "\n",
      "Epoch 00049: loss improved from 0.61422 to 0.60900, saving model to ./best_model_trained.hdf5\n",
      "\n",
      "Epoch 00050: loss did not improve from 0.60900\n",
      "\n",
      "Epoch 00051: loss did not improve from 0.60900\n",
      "\n",
      "Epoch 00052: loss improved from 0.60900 to 0.60501, saving model to ./best_model_trained.hdf5\n",
      "\n",
      "Epoch 00053: loss did not improve from 0.60501\n",
      "\n",
      "Epoch 00054: loss improved from 0.60501 to 0.59999, saving model to ./best_model_trained.hdf5\n",
      "\n",
      "Epoch 00055: loss did not improve from 0.59999\n",
      "\n",
      "Epoch 00056: loss improved from 0.59999 to 0.59822, saving model to ./best_model_trained.hdf5\n",
      "\n",
      "Epoch 00057: loss did not improve from 0.59822\n",
      "\n",
      "Epoch 00058: loss did not improve from 0.59822\n",
      "\n",
      "Epoch 00059: loss improved from 0.59822 to 0.59818, saving model to ./best_model_trained.hdf5\n",
      "\n",
      "Epoch 00060: loss did not improve from 0.59818\n",
      "\n",
      "Epoch 00061: loss did not improve from 0.59818\n",
      "\n",
      "Epoch 00062: loss did not improve from 0.59818\n",
      "\n",
      "Epoch 00063: loss did not improve from 0.59818\n",
      "\n",
      "Epoch 00064: loss did not improve from 0.59818\n",
      "\n",
      "Epoch 00065: loss did not improve from 0.59818\n",
      "\n",
      "Epoch 00066: loss did not improve from 0.59818\n",
      "\n",
      "Epoch 00067: loss did not improve from 0.59818\n",
      "\n",
      "Epoch 00068: loss did not improve from 0.59818\n",
      "\n",
      "Epoch 00069: loss did not improve from 0.59818\n",
      "\n",
      "Epoch 00070: loss did not improve from 0.59818\n",
      "\n",
      "Epoch 00071: loss did not improve from 0.59818\n",
      "\n",
      "Epoch 00072: loss did not improve from 0.59818\n",
      "\n",
      "Epoch 00073: loss improved from 0.59818 to 0.59404, saving model to ./best_model_trained.hdf5\n",
      "\n",
      "Epoch 00074: loss did not improve from 0.59404\n",
      "\n",
      "Epoch 00075: loss did not improve from 0.59404\n",
      "\n",
      "Epoch 00076: loss did not improve from 0.59404\n",
      "\n",
      "Epoch 00077: loss did not improve from 0.59404\n",
      "\n",
      "Epoch 00078: loss did not improve from 0.59404\n",
      "\n",
      "Epoch 00079: loss improved from 0.59404 to 0.59050, saving model to ./best_model_trained.hdf5\n",
      "\n",
      "Epoch 00080: loss did not improve from 0.59050\n",
      "\n",
      "Epoch 00081: loss did not improve from 0.59050\n",
      "\n",
      "Epoch 00082: loss did not improve from 0.59050\n",
      "\n",
      "Epoch 00083: loss did not improve from 0.59050\n",
      "\n",
      "Epoch 00084: loss did not improve from 0.59050\n",
      "\n",
      "Epoch 00085: ReduceLROnPlateau reducing learning rate to 0.00020000000949949026.\n",
      "\n",
      "Epoch 00085: loss did not improve from 0.59050\n",
      "\n",
      "Epoch 00086: loss did not improve from 0.59050\n",
      "\n",
      "Epoch 00087: loss did not improve from 0.59050\n",
      "\n",
      "Epoch 00088: loss did not improve from 0.59050\n",
      "\n",
      "Epoch 00089: loss did not improve from 0.59050\n",
      "\n",
      "Epoch 00090: loss did not improve from 0.59050\n",
      "\n",
      "Epoch 00091: loss did not improve from 0.59050\n",
      "\n",
      "Epoch 00092: loss improved from 0.59050 to 0.58575, saving model to ./best_model_trained.hdf5\n",
      "\n",
      "Epoch 00093: loss did not improve from 0.58575\n",
      "\n",
      "Epoch 00094: loss did not improve from 0.58575\n",
      "\n",
      "Epoch 00095: loss did not improve from 0.58575\n",
      "\n",
      "Epoch 00096: loss improved from 0.58575 to 0.57613, saving model to ./best_model_trained.hdf5\n",
      "\n",
      "Epoch 00097: loss improved from 0.57613 to 0.57155, saving model to ./best_model_trained.hdf5\n",
      "\n",
      "Epoch 00098: loss did not improve from 0.57155\n",
      "\n",
      "Epoch 00099: loss did not improve from 0.57155\n",
      "\n",
      "Epoch 00100: loss did not improve from 0.57155\n",
      "_________________________________________________________________\n",
      "Layer (type)                 Output Shape              Param #   \n",
      "=================================================================\n",
      "lstm_1 (LSTM)                (None, 28, 64)            17152     \n",
      "_________________________________________________________________\n",
      "lstm_2 (LSTM)                (None, 32)                12416     \n",
      "_________________________________________________________________\n",
      "dense_2 (Dense)              (None, 2)                 66        \n",
      "=================================================================\n",
      "Total params: 29,634\n",
      "Trainable params: 29,634\n",
      "Non-trainable params: 0\n",
      "_________________________________________________________________\n",
      "training finised!\n",
      "Wall time: 5min 9s\n"
     ]
    }
   ],
   "source": [
    "%%time\n",
    "# saved model checkpoint file\n",
    "best_model_file=\"./best_model_trained.hdf5\"\n",
    "#train_model_file=file_path+\"/checkpoints/weights.best_{epoch:02d}-{loss:.2f}.hdf5\"\n",
    "MAX_PATIENT=12\n",
    "MAX_EPOCHS=100\n",
    "MAX_BATCH=7\n",
    "\n",
    "# callbacks\n",
    "# removed EarlyStopping(patience=MAX_PATIENT)\n",
    "callback=[ReduceLROnPlateau(patience=MAX_PATIENT, verbose=1),\n",
    "          ModelCheckpoint(filepath=best_model_file, monitor='loss', verbose=1, save_best_only=True)]\n",
    "\n",
    "print (\"training started..... please wait.\")\n",
    "# training\n",
    "history=model.fit(X_train, y_train_hot, \n",
    "                  batch_size=MAX_BATCH, \n",
    "                  epochs=MAX_EPOCHS,\n",
    "                  verbose=0,\n",
    "                  validation_data=(X_test, y_test_hot),\n",
    "                  callbacks=callback) \n",
    "model.summary()\n",
    "print (\"training finised!\")\n"
   ]
  },
  {
   "cell_type": "code",
   "execution_count": 20,
   "metadata": {},
   "outputs": [
    {
     "name": "stdout",
     "output_type": "stream",
     "text": [
      "model train data score       :  78.18 %\n",
      "model train data loss        :  0.56 %\n",
      "model test data score        :  72.27 %\n",
      "model train data loss        :  0.63 %\n"
     ]
    }
   ],
   "source": [
    "score = model.evaluate(X_train, y_train_hot, verbose=0) \n",
    "print (\"model train data score       : \",round(score[1]*100,2) , \"%\")\n",
    "print (\"model train data loss        : \",round(score[0],2) , \"%\")\n",
    "\n",
    "score = model.evaluate(X_test, y_test_hot, verbose=0) \n",
    "print (\"model test data score        : \",round(score[1]*100,2) , \"%\")\n",
    "print (\"model train data loss        : \",round(score[0],2) , \"%\")"
   ]
  },
  {
   "cell_type": "code",
   "execution_count": 21,
   "metadata": {},
   "outputs": [
    {
     "data": {
      "image/png": "[encoded data removed]",
      "text/plain": [
       "<Figure size 432x288 with 1 Axes>"
      ]
     },
     "metadata": {
      "needs_background": "light"
     },
     "output_type": "display_data"
    }
   ],
   "source": [
    "# summarize history for accuracy\n",
    "plt.plot(history.history['acc'])\n",
    "plt.plot(history.history['val_acc'])\n",
    "plt.title('model accuracy')\n",
    "plt.ylabel('accuracy')\n",
    "plt.xlabel('epoch')\n",
    "plt.legend(['train', 'test'], loc='upper left')\n",
    "plt.show()"
   ]
  },
  {
   "cell_type": "code",
   "execution_count": 22,
   "metadata": {},
   "outputs": [
    {
     "data": {
      "image/png": "[encoded data removed]",
      "text/plain": [
       "<Figure size 432x288 with 1 Axes>"
      ]
     },
     "metadata": {
      "needs_background": "light"
     },
     "output_type": "display_data"
    }
   ],
   "source": [
    "# summarize history for loss\n",
    "plt.plot(history.history['loss'])\n",
    "plt.plot(history.history['val_loss'])\n",
    "plt.title('model loss')\n",
    "plt.ylabel('loss')\n",
    "plt.xlabel('epoch')\n",
    "plt.legend(['train', 'test'], loc='upper left')\n",
    "plt.show()"
   ]
  }
 ],
 "metadata": {
  "kernelspec": {
   "display_name": "Python 3",
   "language": "python",
   "name": "python3"
  },
  "language_info": {
   "codemirror_mode": {
    "name": "ipython",
    "version": 3
   },
   "file_extension": ".py",
   "mimetype": "text/x-python",
   "name": "python",
   "nbconvert_exporter": "python",
   "pygments_lexer": "ipython3",
   "version": "3.6.4"
  }
 },
 "nbformat": 4,
 "nbformat_minor": 2
}
