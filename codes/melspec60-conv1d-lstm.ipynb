{
 "cells": [
  {
   "cell_type": "code",
   "execution_count": 1,
   "metadata": {},
   "outputs": [
    {
     "name": "stderr",
     "output_type": "stream",
     "text": [
      "C:\\Users\\lenovo_pc\\Anaconda3\\lib\\site-packages\\h5py\\__init__.py:36: FutureWarning: Conversion of the second argument of issubdtype from `float` to `np.floating` is deprecated. In future, it will be treated as `np.float64 == np.dtype(float).type`.\n",
      "  from ._conv import register_converters as _register_converters\n",
      "Using TensorFlow backend.\n"
     ]
    }
   ],
   "source": [
    "import keras\n",
    "import numpy as np\n",
    "import matplotlib.pyplot as plt\n",
    "import os\n",
    "import pandas as pd\n",
    "import librosa\n",
    "from keras.utils import to_categorical"
   ]
  },
  {
   "cell_type": "code",
   "execution_count": 2,
   "metadata": {},
   "outputs": [],
   "source": [
    "feature_dim_1 = 60"
   ]
  },
  {
   "cell_type": "code",
   "execution_count": 3,
   "metadata": {},
   "outputs": [],
   "source": [
    "def get_labels(path):\n",
    "    labels = os.listdir(path)\n",
    "    label_indices = np.arange(0, len(labels))    \n",
    "    return labels, label_indices, to_categorical(label_indices)\n",
    "\n",
    "\n",
    "\n"
   ]
  },
  {
   "cell_type": "code",
   "execution_count": 4,
   "metadata": {},
   "outputs": [],
   "source": [
    "from sklearn.model_selection import train_test_split\n",
    "\n",
    "def get_train_test(split_ratio=0.8, random_state=42):\n",
    "    # Get available labels\n",
    "    labels, indices, _ = get_labels(DATA_PATH)\n",
    "\n",
    "    # Getting first arrays\n",
    "    X = np.load(labels[0] + '.npy')\n",
    "    y = np.zeros(X.shape[0])\n",
    "\n",
    "    # Append all of the dataset into one single array, same goes for y\n",
    "    for i, label in enumerate(labels[1:]):\n",
    "        x = np.load(label + '.npy')\n",
    "        X = np.vstack((X, x))\n",
    "        y = np.append(y, np.full(x.shape[0], fill_value= (i + 1)))\n",
    "\n",
    "    assert X.shape[0] == len(y)\n",
    "\n",
    "    return train_test_split(X, y, test_size= (1 - split_ratio), random_state=random_state, shuffle=True)\n",
    "\n",
    "\n",
    "\n",
    "def save_data_to_array(path, max_pad_len):\n",
    "    labels, _, _ = get_labels(path)\n",
    "\n",
    "    for label in labels:\n",
    "        # Init mfcc vectors\n",
    "        mfcc_vectors = []\n",
    "\n",
    "        wavfiles = [path + '/' + label + '/' + wavfile for wavfile in os.listdir(path + '/' + label)]\n",
    "        #wavfiles = librosa.util.find_files(db)\n",
    "        #print(wavfiles)\n",
    "        x=0\n",
    "        for wavfile in wavfiles:\n",
    "            name=label+'_'+str(x)\n",
    "            mfcc = wav2mfcc(wavfile, name, max_pad_len=max_pad_len)\n",
    "            mfcc_vectors.append(mfcc)\n",
    "            x=x+1\n",
    "        np.save(label + '.npy', mfcc_vectors)\n",
    "        \n",
    "        \n",
    "        \n",
    "\n",
    "def wav2mfcc(file_path, name, max_pad_len=30):\n",
    "    wave, sr = librosa.load(file_path)\n",
    "    mfcc = librosa.feature.melspectrogram(wave, sr=sr, n_mels = feature_dim_1)\n",
    "    pad_width = max_pad_len - mfcc.shape[1]\n",
    "    mfcc = np.pad(mfcc, pad_width=((0, 0), (0, pad_width)), mode='constant')\n",
    "    return mfcc"
   ]
  },
  {
   "cell_type": "code",
   "execution_count": 5,
   "metadata": {},
   "outputs": [],
   "source": [
    "DATA_PATH = r'C:\\Users\\lenovo_pc\\Desktop\\CNN_SR\\Dataset-merged'\n",
    "\n",
    "\n",
    "#db = r'C:\\Users\\lenovo_pc\\Desktop\\CNN_SR\\SampleData'\n",
    "\n",
    "\n",
    "# Second dimension of the feature is dim2\n",
    "feature_dim_2 = 28\n",
    "\n",
    "# Save data to array file first\n",
    "save_data_to_array(DATA_PATH,feature_dim_2)\n",
    "\n",
    "# # Loading train set and test set\n",
    "X_train, X_test, y_train, y_test = get_train_test()\n",
    "\n",
    "# # Feature dimension\n",
    "verbose = 1\n",
    "num_classes = 2\n",
    "\n",
    "\n",
    "y_train_hot = to_categorical(y_train)\n",
    "y_test_hot = to_categorical(y_test)"
   ]
  },
  {
   "cell_type": "code",
   "execution_count": 6,
   "metadata": {},
   "outputs": [
    {
     "name": "stdout",
     "output_type": "stream",
     "text": [
      "(472, 60, 28)\n",
      "(119, 60, 28)\n"
     ]
    }
   ],
   "source": [
    "\n",
    "#X_train = np.array(x_train)\n",
    "print(X_train.shape)\n",
    "print(X_test.shape)\n"
   ]
  },
  {
   "cell_type": "code",
   "execution_count": 7,
   "metadata": {},
   "outputs": [],
   "source": [
    "from keras.models import Sequential\n",
    "from keras.layers import Dense, Dropout\n",
    "from keras.layers import Embedding\n",
    "from keras.regularizers import l2\n",
    "from keras import regularizers\n",
    "from keras.layers import Conv1D, GlobalAveragePooling1D, MaxPooling1D"
   ]
  },
  {
   "cell_type": "code",
   "execution_count": 8,
   "metadata": {},
   "outputs": [],
   "source": [
    "\n",
    "model = Sequential()\n",
    "model.add(Conv1D(64, 3, activation='relu', kernel_regularizer=l2(0.02), input_shape=(feature_dim_1,feature_dim_2) ,data_format='channels_first'))\n",
    "model.add(Conv1D(64, 3, activation='relu', kernel_regularizer=l2(0.05), ))\n",
    "model.add(MaxPooling1D(3))\n",
    "#model.add(Conv1D(128, 3, activation='relu', ))\n",
    "#model.add(Conv1D(128, 3, activation='relu', ))\n",
    "model.add(GlobalAveragePooling1D())\n",
    "model.add(Dropout(0.5))\n",
    "model.add(Dense(2, activation='sigmoid'))\n"
   ]
  },
  {
   "cell_type": "code",
   "execution_count": 9,
   "metadata": {},
   "outputs": [],
   "source": [
    "model.compile(loss='binary_crossentropy',\n",
    "              optimizer='rmsprop',\n",
    "              metrics=['accuracy'])\n",
    "\n"
   ]
  },
  {
   "cell_type": "code",
   "execution_count": 10,
   "metadata": {},
   "outputs": [
    {
     "name": "stdout",
     "output_type": "stream",
     "text": [
      "Train on 472 samples, validate on 119 samples\n",
      "Epoch 1/50\n",
      "472/472 [==============================] - 11s 23ms/step - loss: 6.2141 - acc: 0.5350 - val_loss: 5.6098 - val_acc: 0.4790\n",
      "Epoch 2/50\n",
      "472/472 [==============================] - 8s 18ms/step - loss: 5.5100 - acc: 0.5371 - val_loss: 4.7687 - val_acc: 0.4958\n",
      "Epoch 3/50\n",
      "472/472 [==============================] - 8s 18ms/step - loss: 5.0426 - acc: 0.5646 - val_loss: 4.6503 - val_acc: 0.5084\n",
      "Epoch 4/50\n",
      "472/472 [==============================] - 9s 19ms/step - loss: 4.5458 - acc: 0.5890 - val_loss: 3.7218 - val_acc: 0.5882\n",
      "Epoch 5/50\n",
      "472/472 [==============================] - 10s 22ms/step - loss: 4.1687 - acc: 0.6081 - val_loss: 3.3705 - val_acc: 0.6218\n",
      "Epoch 6/50\n",
      "472/472 [==============================] - 9s 20ms/step - loss: 3.9148 - acc: 0.6155 - val_loss: 3.1770 - val_acc: 0.6345\n",
      "Epoch 7/50\n",
      "472/472 [==============================] - 10s 21ms/step - loss: 3.6362 - acc: 0.6303 - val_loss: 2.8956 - val_acc: 0.6849\n",
      "Epoch 8/50\n",
      "472/472 [==============================] - 8s 17ms/step - loss: 3.4533 - acc: 0.6398 - val_loss: 2.7906 - val_acc: 0.6975\n",
      "Epoch 9/50\n",
      "472/472 [==============================] - 10s 20ms/step - loss: 3.1911 - acc: 0.6758 - val_loss: 2.9078 - val_acc: 0.6513\n",
      "Epoch 10/50\n",
      "472/472 [==============================] - 9s 19ms/step - loss: 3.0326 - acc: 0.6843 - val_loss: 2.6612 - val_acc: 0.6891\n",
      "Epoch 11/50\n",
      "472/472 [==============================] - 9s 19ms/step - loss: 2.9366 - acc: 0.6939 - val_loss: 2.4852 - val_acc: 0.7185\n",
      "Epoch 12/50\n",
      "472/472 [==============================] - 9s 19ms/step - loss: 2.6717 - acc: 0.7288 - val_loss: 2.3941 - val_acc: 0.7689\n",
      "Epoch 13/50\n",
      "472/472 [==============================] - 9s 19ms/step - loss: 2.5404 - acc: 0.7553 - val_loss: 2.2930 - val_acc: 0.7941\n",
      "Epoch 14/50\n",
      "472/472 [==============================] - 10s 20ms/step - loss: 2.3352 - acc: 0.7691 - val_loss: 2.2207 - val_acc: 0.7815\n",
      "Epoch 15/50\n",
      "472/472 [==============================] - 9s 19ms/step - loss: 2.2463 - acc: 0.7585 - val_loss: 2.1513 - val_acc: 0.7815\n",
      "Epoch 16/50\n",
      "472/472 [==============================] - 9s 18ms/step - loss: 2.0652 - acc: 0.7913 - val_loss: 2.0322 - val_acc: 0.7899\n",
      "Epoch 17/50\n",
      "472/472 [==============================] - 9s 19ms/step - loss: 2.0538 - acc: 0.7987 - val_loss: 1.9244 - val_acc: 0.8151\n",
      "Epoch 18/50\n",
      "472/472 [==============================] - 8s 18ms/step - loss: 1.9671 - acc: 0.8136 - val_loss: 1.8090 - val_acc: 0.8529\n",
      "Epoch 19/50\n",
      "472/472 [==============================] - 9s 19ms/step - loss: 1.8213 - acc: 0.8369 - val_loss: 1.7291 - val_acc: 0.8487\n",
      "Epoch 20/50\n",
      "472/472 [==============================] - 9s 18ms/step - loss: 1.6809 - acc: 0.8358 - val_loss: 1.6693 - val_acc: 0.8487\n",
      "Epoch 21/50\n",
      "472/472 [==============================] - 10s 21ms/step - loss: 1.6487 - acc: 0.8337 - val_loss: 1.5776 - val_acc: 0.8613\n",
      "Epoch 22/50\n",
      "472/472 [==============================] - 9s 19ms/step - loss: 1.5373 - acc: 0.8443 - val_loss: 1.4915 - val_acc: 0.8782\n",
      "Epoch 23/50\n",
      "472/472 [==============================] - 9s 20ms/step - loss: 1.4254 - acc: 0.8506 - val_loss: 1.4255 - val_acc: 0.8613\n",
      "Epoch 24/50\n",
      "472/472 [==============================] - 9s 18ms/step - loss: 1.3643 - acc: 0.8591 - val_loss: 1.3536 - val_acc: 0.8950\n",
      "Epoch 25/50\n",
      "472/472 [==============================] - 9s 18ms/step - loss: 1.2901 - acc: 0.8824 - val_loss: 1.2900 - val_acc: 0.8866\n",
      "Epoch 26/50\n",
      "472/472 [==============================] - 9s 19ms/step - loss: 1.2188 - acc: 0.8686 - val_loss: 1.2092 - val_acc: 0.8992\n",
      "Epoch 27/50\n",
      "472/472 [==============================] - 9s 19ms/step - loss: 1.1635 - acc: 0.8814 - val_loss: 1.1463 - val_acc: 0.8992\n",
      "Epoch 28/50\n",
      "472/472 [==============================] - 9s 19ms/step - loss: 1.1101 - acc: 0.8782 - val_loss: 1.0837 - val_acc: 0.8992\n",
      "Epoch 29/50\n",
      "472/472 [==============================] - 9s 20ms/step - loss: 1.0176 - acc: 0.8983 - val_loss: 1.0157 - val_acc: 0.9034\n",
      "Epoch 30/50\n",
      "472/472 [==============================] - 10s 22ms/step - loss: 0.9759 - acc: 0.8888 - val_loss: 0.9608 - val_acc: 0.9034\n",
      "Epoch 31/50\n",
      "472/472 [==============================] - 9s 18ms/step - loss: 0.9097 - acc: 0.8824 - val_loss: 0.9233 - val_acc: 0.8992\n",
      "Epoch 32/50\n",
      "472/472 [==============================] - 9s 19ms/step - loss: 0.8648 - acc: 0.8909 - val_loss: 0.8669 - val_acc: 0.9034\n",
      "Epoch 33/50\n",
      "472/472 [==============================] - 9s 18ms/step - loss: 0.8173 - acc: 0.9036 - val_loss: 0.8342 - val_acc: 0.9034\n",
      "Epoch 34/50\n",
      "472/472 [==============================] - 9s 18ms/step - loss: 0.7699 - acc: 0.8983 - val_loss: 0.7678 - val_acc: 0.9160\n",
      "Epoch 35/50\n",
      "472/472 [==============================] - 8s 18ms/step - loss: 0.7452 - acc: 0.9078 - val_loss: 0.7276 - val_acc: 0.9160\n",
      "Epoch 36/50\n",
      "472/472 [==============================] - 9s 18ms/step - loss: 0.6860 - acc: 0.9068 - val_loss: 0.6949 - val_acc: 0.9118\n",
      "Epoch 37/50\n",
      "472/472 [==============================] - 10s 20ms/step - loss: 0.6547 - acc: 0.9036 - val_loss: 0.6507 - val_acc: 0.9160\n",
      "Epoch 38/50\n",
      "472/472 [==============================] - 9s 18ms/step - loss: 0.6124 - acc: 0.9153 - val_loss: 0.6051 - val_acc: 0.9202\n",
      "Epoch 39/50\n",
      "472/472 [==============================] - 9s 19ms/step - loss: 0.5954 - acc: 0.9142 - val_loss: 0.5795 - val_acc: 0.9202\n",
      "Epoch 40/50\n",
      "472/472 [==============================] - 10s 22ms/step - loss: 0.5581 - acc: 0.9110 - val_loss: 0.5501 - val_acc: 0.9244\n",
      "Epoch 41/50\n",
      "472/472 [==============================] - 9s 19ms/step - loss: 0.5331 - acc: 0.9174 - val_loss: 0.5199 - val_acc: 0.9244\n",
      "Epoch 42/50\n",
      "472/472 [==============================] - 9s 18ms/step - loss: 0.5020 - acc: 0.9184 - val_loss: 0.4910 - val_acc: 0.9244\n",
      "Epoch 43/50\n",
      "472/472 [==============================] - 9s 18ms/step - loss: 0.4717 - acc: 0.9163 - val_loss: 0.4605 - val_acc: 0.9286\n",
      "Epoch 44/50\n",
      "472/472 [==============================] - 9s 19ms/step - loss: 0.4690 - acc: 0.9248 - val_loss: 0.4452 - val_acc: 0.9328\n",
      "Epoch 45/50\n",
      "472/472 [==============================] - 9s 20ms/step - loss: 0.4244 - acc: 0.9248 - val_loss: 0.4223 - val_acc: 0.9202\n",
      "Epoch 46/50\n",
      "472/472 [==============================] - 9s 19ms/step - loss: 0.4266 - acc: 0.9206 - val_loss: 0.4146 - val_acc: 0.9160\n",
      "Epoch 47/50\n",
      "472/472 [==============================] - 9s 19ms/step - loss: 0.4033 - acc: 0.9184 - val_loss: 0.4042 - val_acc: 0.9118\n",
      "Epoch 48/50\n",
      "472/472 [==============================] - 9s 19ms/step - loss: 0.3808 - acc: 0.9216 - val_loss: 0.3791 - val_acc: 0.9286\n",
      "Epoch 49/50\n",
      "472/472 [==============================] - 9s 18ms/step - loss: 0.3701 - acc: 0.9121 - val_loss: 0.3696 - val_acc: 0.9160\n",
      "Epoch 50/50\n",
      "472/472 [==============================] - 9s 18ms/step - loss: 0.3686 - acc: 0.9184 - val_loss: 0.3682 - val_acc: 0.9118\n"
     ]
    }
   ],
   "source": [
    "#model.fit(x_train, y_train, batch_size=7, epochs=10)\n",
    "\n",
    "history = model.fit(X_train, y_train_hot, batch_size=150, epochs=50, verbose=verbose, validation_data=(X_test, y_test_hot))"
   ]
  },
  {
   "cell_type": "code",
   "execution_count": 11,
   "metadata": {},
   "outputs": [
    {
     "name": "stdout",
     "output_type": "stream",
     "text": [
      "model train data score: acc       :  92.58 %\n",
      "model train data score: loss      :  32.79 %\n",
      "model test data score: acc        :  91.18 %\n",
      "model test data score: loss       :  36.82 %\n"
     ]
    }
   ],
   "source": [
    "score = model.evaluate(X_train, y_train_hot, verbose=0) \n",
    "print (\"model train data score: acc       : \",round(score[1]*100,2) , \"%\")\n",
    "print (\"model train data score: loss      : \",round(score[0]*100,2) , \"%\")\n",
    "\n",
    "score = model.evaluate(X_test, y_test_hot, verbose=0) \n",
    "print (\"model test data score: acc        : \",round(score[1]*100,2) , \"%\")\n",
    "print (\"model test data score: loss       : \",round(score[0]*100,2) , \"%\")\n"
   ]
  },
  {
   "cell_type": "code",
   "execution_count": 12,
   "metadata": {
    "scrolled": true
   },
   "outputs": [
    {
     "data": {
      "image/png": "[encoded data removed]",
      "text/plain": [
       "<Figure size 432x288 with 1 Axes>"
      ]
     },
     "metadata": {
      "needs_background": "light"
     },
     "output_type": "display_data"
    }
   ],
   "source": [
    "# summarize history for accuracy\n",
    "plt.plot(history.history['acc'])\n",
    "plt.plot(history.history['val_acc'])\n",
    "plt.title('model accuracy')\n",
    "plt.ylabel('accuracy')\n",
    "plt.xlabel('epoch')\n",
    "plt.legend(['train', 'test'], loc='upper left')\n",
    "plt.show()\n"
   ]
  },
  {
   "cell_type": "code",
   "execution_count": 13,
   "metadata": {},
   "outputs": [
    {
     "data": {
      "image/png": "[encoded data removed]",
      "text/plain": [
       "<Figure size 432x288 with 1 Axes>"
      ]
     },
     "metadata": {
      "needs_background": "light"
     },
     "output_type": "display_data"
    }
   ],
   "source": [
    "# summarize history for loss\n",
    "plt.plot(history.history['loss'])\n",
    "plt.plot(history.history['val_loss'])\n",
    "plt.title('model loss')\n",
    "plt.ylabel('loss')\n",
    "plt.xlabel('epoch')\n",
    "plt.legend(['train', 'test'], loc='upper left')\n",
    "plt.show()"
   ]
  },
  {
   "cell_type": "code",
   "execution_count": 14,
   "metadata": {},
   "outputs": [],
   "source": [
    "import numpy as np\n",
    "from keras.models import Sequential\n",
    "from keras.layers import Dense, Dropout, Activation, Flatten, LSTM\n",
    "from keras.layers import Convolution2D, MaxPooling2D\n",
    "from keras.optimizers import Adam\n",
    "from keras.regularizers import l2\n",
    "from keras.callbacks import EarlyStopping,ReduceLROnPlateau,ModelCheckpoint,TensorBoard,ProgbarLogger\n",
    "from keras.utils import np_utils\n",
    "from sklearn import metrics \n",
    "from sklearn.metrics import confusion_matrix, classification_report, accuracy_score\n",
    "from sklearn.preprocessing import LabelEncoder\n",
    "import itertools"
   ]
  },
  {
   "cell_type": "code",
   "execution_count": 15,
   "metadata": {},
   "outputs": [
    {
     "name": "stdout",
     "output_type": "stream",
     "text": [
      "Build LSTM RNN model ...\n",
      "_________________________________________________________________\n",
      "Layer (type)                 Output Shape              Param #   \n",
      "=================================================================\n",
      "lstm_1 (LSTM)                (None, 60, 64)            23808     \n",
      "_________________________________________________________________\n",
      "lstm_2 (LSTM)                (None, 32)                12416     \n",
      "_________________________________________________________________\n",
      "dense_2 (Dense)              (None, 2)                 66        \n",
      "=================================================================\n",
      "Total params: 36,290\n",
      "Trainable params: 36,290\n",
      "Non-trainable params: 0\n",
      "_________________________________________________________________\n"
     ]
    }
   ],
   "source": [
    "print('Build LSTM RNN model ...')\n",
    "model = Sequential()\n",
    "model.add(LSTM(units=64, dropout=0.05, recurrent_dropout=0.20, return_sequences=True,input_shape = (feature_dim_1,feature_dim_2)))\n",
    "model.add(LSTM(units=32, dropout=0.05, recurrent_dropout=0.20, return_sequences=False))\n",
    "model.add(Dense(2, activation='softmax'))\n",
    "model.compile(loss='categorical_crossentropy', optimizer='Adamax', metrics=['acc','mse', 'mae', 'mape', 'cosine'])\n",
    "model.summary()"
   ]
  },
  {
   "cell_type": "code",
   "execution_count": 16,
   "metadata": {},
   "outputs": [
    {
     "name": "stdout",
     "output_type": "stream",
     "text": [
      "training started..... please wait.\n",
      "\n",
      "Epoch 00001: loss improved from inf to 0.66091, saving model to ./best_model_trained.hdf5\n",
      "\n",
      "Epoch 00002: loss improved from 0.66091 to 0.51095, saving model to ./best_model_trained.hdf5\n",
      "\n",
      "Epoch 00003: loss improved from 0.51095 to 0.48449, saving model to ./best_model_trained.hdf5\n",
      "\n",
      "Epoch 00004: loss improved from 0.48449 to 0.40218, saving model to ./best_model_trained.hdf5\n",
      "\n",
      "Epoch 00005: loss improved from 0.40218 to 0.32561, saving model to ./best_model_trained.hdf5\n",
      "\n",
      "Epoch 00006: loss improved from 0.32561 to 0.30600, saving model to ./best_model_trained.hdf5\n",
      "\n",
      "Epoch 00007: loss did not improve from 0.30600\n",
      "\n",
      "Epoch 00008: loss did not improve from 0.30600\n",
      "\n",
      "Epoch 00009: loss improved from 0.30600 to 0.27853, saving model to ./best_model_trained.hdf5\n",
      "\n",
      "Epoch 00010: loss improved from 0.27853 to 0.26934, saving model to ./best_model_trained.hdf5\n",
      "\n",
      "Epoch 00011: loss did not improve from 0.26934\n",
      "\n",
      "Epoch 00012: loss improved from 0.26934 to 0.21022, saving model to ./best_model_trained.hdf5\n",
      "\n",
      "Epoch 00013: loss did not improve from 0.21022\n",
      "\n",
      "Epoch 00014: loss did not improve from 0.21022\n",
      "\n",
      "Epoch 00015: loss improved from 0.21022 to 0.19612, saving model to ./best_model_trained.hdf5\n",
      "\n",
      "Epoch 00016: loss did not improve from 0.19612\n",
      "\n",
      "Epoch 00017: loss improved from 0.19612 to 0.18900, saving model to ./best_model_trained.hdf5\n",
      "\n",
      "Epoch 00018: loss improved from 0.18900 to 0.17595, saving model to ./best_model_trained.hdf5\n",
      "\n",
      "Epoch 00019: loss did not improve from 0.17595\n",
      "\n",
      "Epoch 00020: loss improved from 0.17595 to 0.17075, saving model to ./best_model_trained.hdf5\n",
      "\n",
      "Epoch 00021: loss did not improve from 0.17075\n",
      "\n",
      "Epoch 00022: loss improved from 0.17075 to 0.15879, saving model to ./best_model_trained.hdf5\n",
      "\n",
      "Epoch 00023: loss improved from 0.15879 to 0.15353, saving model to ./best_model_trained.hdf5\n",
      "\n",
      "Epoch 00024: loss improved from 0.15353 to 0.14217, saving model to ./best_model_trained.hdf5\n",
      "\n",
      "Epoch 00025: loss did not improve from 0.14217\n",
      "\n",
      "Epoch 00026: loss did not improve from 0.14217\n",
      "\n",
      "Epoch 00027: loss did not improve from 0.14217\n",
      "\n",
      "Epoch 00028: loss did not improve from 0.14217\n",
      "\n",
      "Epoch 00029: loss did not improve from 0.14217\n",
      "\n",
      "Epoch 00030: loss did not improve from 0.14217\n",
      "\n",
      "Epoch 00031: loss improved from 0.14217 to 0.13220, saving model to ./best_model_trained.hdf5\n",
      "\n",
      "Epoch 00032: loss did not improve from 0.13220\n",
      "\n",
      "Epoch 00033: loss did not improve from 0.13220\n",
      "\n",
      "Epoch 00034: loss did not improve from 0.13220\n",
      "\n",
      "Epoch 00035: loss improved from 0.13220 to 0.10907, saving model to ./best_model_trained.hdf5\n",
      "\n",
      "Epoch 00036: loss did not improve from 0.10907\n",
      "\n",
      "Epoch 00037: loss did not improve from 0.10907\n",
      "\n",
      "Epoch 00038: loss did not improve from 0.10907\n",
      "\n",
      "Epoch 00039: loss did not improve from 0.10907\n",
      "\n",
      "Epoch 00040: loss did not improve from 0.10907\n",
      "\n",
      "Epoch 00041: loss improved from 0.10907 to 0.10088, saving model to ./best_model_trained.hdf5\n",
      "\n",
      "Epoch 00042: loss did not improve from 0.10088\n",
      "\n",
      "Epoch 00043: loss did not improve from 0.10088\n",
      "\n",
      "Epoch 00044: loss improved from 0.10088 to 0.09809, saving model to ./best_model_trained.hdf5\n",
      "\n",
      "Epoch 00045: loss did not improve from 0.09809\n",
      "\n",
      "Epoch 00046: loss did not improve from 0.09809\n",
      "\n",
      "Epoch 00047: loss improved from 0.09809 to 0.08879, saving model to ./best_model_trained.hdf5\n",
      "\n",
      "Epoch 00048: loss improved from 0.08879 to 0.07975, saving model to ./best_model_trained.hdf5\n",
      "\n",
      "Epoch 00049: loss did not improve from 0.07975\n",
      "\n",
      "Epoch 00050: loss improved from 0.07975 to 0.06081, saving model to ./best_model_trained.hdf5\n",
      "_________________________________________________________________\n",
      "Layer (type)                 Output Shape              Param #   \n",
      "=================================================================\n",
      "lstm_1 (LSTM)                (None, 60, 64)            23808     \n",
      "_________________________________________________________________\n",
      "lstm_2 (LSTM)                (None, 32)                12416     \n",
      "_________________________________________________________________\n",
      "dense_2 (Dense)              (None, 2)                 66        \n",
      "=================================================================\n",
      "Total params: 36,290\n",
      "Trainable params: 36,290\n",
      "Non-trainable params: 0\n",
      "_________________________________________________________________\n",
      "training finised!\n",
      "Wall time: 5min 19s\n"
     ]
    }
   ],
   "source": [
    "%%time\n",
    "# saved model checkpoint file\n",
    "best_model_file=\"./best_model_trained.hdf5\"\n",
    "#train_model_file=file_path+\"/checkpoints/weights.best_{epoch:02d}-{loss:.2f}.hdf5\"\n",
    "MAX_PATIENT=12\n",
    "MAX_EPOCHS=50\n",
    "MAX_BATCH=7\n",
    "\n",
    "# callbacks\n",
    "# removed EarlyStopping(patience=MAX_PATIENT)\n",
    "callback=[ReduceLROnPlateau(patience=MAX_PATIENT, verbose=1),\n",
    "          ModelCheckpoint(filepath=best_model_file, monitor='loss', verbose=1, save_best_only=True)]\n",
    "\n",
    "print (\"training started..... please wait.\")\n",
    "# training\n",
    "history=model.fit(X_train, y_train_hot, \n",
    "                  batch_size=MAX_BATCH, \n",
    "                  epochs=MAX_EPOCHS,\n",
    "                  verbose=0,\n",
    "                  validation_data=(X_test, y_test_hot),\n",
    "                  callbacks=callback) \n",
    "model.summary()\n",
    "print (\"training finised!\")\n",
    "\n",
    "\n"
   ]
  },
  {
   "cell_type": "code",
   "execution_count": 17,
   "metadata": {},
   "outputs": [
    {
     "name": "stdout",
     "output_type": "stream",
     "text": [
      "472/472 [==============================] - 0s 703us/step\n",
      "model train data score       :  99.15 %\n",
      "model train data score: loss :  4.8 %\n",
      "[0.04796256568535405, 0.9915254237288136, 0.008613810976138496, 0.022058155955904622, 11029078.813559322, -0.9913888068522437]\n",
      "119/119 [==============================] - 0s 728us/step\n",
      "model test data score        :  97.48 %\n",
      "model test data score: loss  :  10.52 %\n",
      "[0.10523635199090012, 0.9747899199734215, 0.02407807352396996, 0.03751721953143593, 18758612.100840338, -0.9753745478742263]\n"
     ]
    }
   ],
   "source": [
    "score = model.evaluate(X_train, y_train_hot, verbose=1) \n",
    "print (\"model train data score       : \",round(score[1]*100,2) , \"%\")\n",
    "print (\"model train data score: loss : \",round(score[0]*100,2) , \"%\")\n",
    "print(score)\n",
    "score = model.evaluate(X_test, y_test_hot, verbose=1) \n",
    "print (\"model test data score        : \",round(score[1]*100,2) , \"%\")\n",
    "print (\"model test data score: loss  : \",round(score[0]*100,2) , \"%\")\n",
    "\n",
    "print(score)"
   ]
  },
  {
   "cell_type": "code",
   "execution_count": 18,
   "metadata": {},
   "outputs": [
    {
     "data": {
      "image/png": "[encoded data removed]",
      "text/plain": [
       "<Figure size 432x288 with 1 Axes>"
      ]
     },
     "metadata": {
      "needs_background": "light"
     },
     "output_type": "display_data"
    }
   ],
   "source": [
    "# summarize history for accuracy\n",
    "plt.plot(history.history['acc'])\n",
    "plt.plot(history.history['val_acc'])\n",
    "plt.title('model accuracy')\n",
    "plt.ylabel('accuracy')\n",
    "plt.xlabel('epoch')\n",
    "plt.legend(['train', 'test'], loc='upper left')\n",
    "plt.show()"
   ]
  },
  {
   "cell_type": "code",
   "execution_count": 19,
   "metadata": {},
   "outputs": [
    {
     "data": {
      "image/png": "[encoded data removed]",
      "text/plain": [
       "<Figure size 432x288 with 1 Axes>"
      ]
     },
     "metadata": {
      "needs_background": "light"
     },
     "output_type": "display_data"
    }
   ],
   "source": [
    "# summarize history for loss\n",
    "plt.plot(history.history['loss'])\n",
    "plt.plot(history.history['val_loss'])\n",
    "plt.title('model loss')\n",
    "plt.ylabel('loss')\n",
    "plt.xlabel('epoch')\n",
    "plt.legend(['train', 'test'], loc='upper left')\n",
    "plt.show()"
   ]
  }
 ],
 "metadata": {
  "kernelspec": {
   "display_name": "Python 3",
   "language": "python",
   "name": "python3"
  },
  "language_info": {
   "codemirror_mode": {
    "name": "ipython",
    "version": 3
   },
   "file_extension": ".py",
   "mimetype": "text/x-python",
   "name": "python",
   "nbconvert_exporter": "python",
   "pygments_lexer": "ipython3",
   "version": "3.6.4"
  }
 },
 "nbformat": 4,
 "nbformat_minor": 2
}
