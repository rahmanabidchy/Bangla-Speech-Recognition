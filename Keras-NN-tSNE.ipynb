{
 "cells": [
  {
   "cell_type": "code",
   "execution_count": 13,
   "metadata": {},
   "outputs": [],
   "source": [
    "import keras\n",
    "import os\n",
    "import librosa\n",
    "\n",
    "\n",
    "import numpy as np\n",
    "import pandas as pd\n",
    "\n",
    "from sklearn.manifold import TSNE\n",
    "from sklearn.preprocessing import StandardScaler\n",
    "\n",
    "\n",
    "from keras.models import Sequential\n",
    "from keras.utils import np_utils\n",
    "from keras.utils import to_categorical\n",
    "from keras.layers import Dense, Dropout, GaussianNoise, Conv1D\n",
    "from keras.preprocessing.image import ImageDataGenerator\n",
    "\n",
    "import matplotlib.pyplot as plt\n",
    "import seaborn as sns\n",
    "%matplotlib inline"
   ]
  },
  {
   "cell_type": "code",
   "execution_count": 53,
   "metadata": {},
   "outputs": [],
   "source": [
    "def get_labels(path):\n",
    "    labels = os.listdir(path)\n",
    "    label_indices = np.arange(0, len(labels))    \n",
    "    return labels, label_indices, to_categorical(label_indices)\n",
    "\n",
    "\n",
    "\n"
   ]
  },
  {
   "cell_type": "code",
   "execution_count": 54,
   "metadata": {},
   "outputs": [],
   "source": [
    "\n",
    "\n",
    "def save_data_to_array(path, max_pad_len):\n",
    "    labels, _, _ = get_labels(path)\n",
    "\n",
    "    for label in labels:\n",
    "        # Init mfcc vectors\n",
    "        melspectrogram_vectors = []\n",
    "\n",
    "        wavfiles = [path + '/' + label + '/' + wavfile for wavfile in os.listdir(path + '/' + label)]\n",
    "        #wavfiles = librosa.util.find_files(db)\n",
    "        #print(wavfiles)\n",
    "        x=0\n",
    "        for wavfile in wavfiles:\n",
    "            name=label+'_'+str(x)\n",
    "            melspectrogram = wav2melspectrogram(wavfile, name, max_pad_len=max_pad_len)            \n",
    "            melspectrogram_vectors.append(melspectrogram)            \n",
    "            x=x+1\n",
    "        \n",
    "        #computing PCA and saving\n",
    "        \n",
    "        np.save(label + '.npy', melspectrogram_vectors)\n",
    "        #y=np.load(label + '.npy')\n",
    "        #y = sklearn.preprocessing.scale(y)\n",
    "        #y.mean()\n",
    "        #model = sklearn.decomposition.PCA(n_components=2, whiten=True)\n",
    "        #model.fit(y)\n",
    "        #y = model.transform(y)\n",
    "        #pd.DataFrame(y).to_csv(VALUE_PATH+'/'+label+'.csv')\n",
    "        \n",
    "        \n",
    "sample_x=[]\n",
    "\n",
    "def wav2melspectrogram(file_path, name, max_pad_len):\n",
    "    wave, sr = librosa.load(file_path)\n",
    "    x = librosa.feature.melspectrogram(wave, sr=sr)\n",
    "    pad_width = max_pad_len - x.shape[1]\n",
    "    x = np.pad(x, pad_width=((0, 0), (0, pad_width)), mode='constant')\n",
    "    #here the dimensions are getting reduced \n",
    "    #through PCA decompostion\n",
    "    x = reduce_dimension(x)\n",
    "    pd.DataFrame(x).to_csv(VALUE_PATH+'/'+name+'.csv')\n",
    "    return x"
   ]
  },
  {
   "cell_type": "code",
   "execution_count": 55,
   "metadata": {},
   "outputs": [],
   "source": [
    "DATA_PATH = r'C:\\Users\\lenovo_pc\\Desktop\\CNN_SR\\Dataset-v2'\n",
    "VALUE_PATH = r'C:\\Users\\lenovo_pc\\Desktop\\CNN_SR\\tSNE_matrix'"
   ]
  },
  {
   "cell_type": "markdown",
   "metadata": {},
   "source": [
    "# t-Distributed Stochastic Neighbour Embedding (t-SNE)\n",
    "Like PCA, t-SNE is another dimensionality reduction technique, developed in part by the godfather of machine learning himself, Geoffrey Hinton. Quoting Wikipedia : It is a nonlinear dimensionality reduction technique well-suited for embedding high-dimensional data for visualization in a low-dimensional space of two or three dimensions. Specifically, it models each high-dimensional object by a two- or three-dimensional point in such a way that similar objects are modeled by nearby points and dissimilar objects are modeled by distant points with high probability."
   ]
  },
  {
   "cell_type": "markdown",
   "metadata": {},
   "source": [
    "labels, indices, _ = get_labels(DATA_PATH)\n",
    "\n",
    " Getting first arrays\n",
    "T = np.load(labels[0] + '.npy')\n",
    " Getting first element of first array\n",
    "X = T[127]\n",
    "print(X.shape)\n",
    "\n",
    " Running t-SNE generating 3 dimensional data points\n",
    "print(\"Calculating TSNE\")\n",
    "tsne = TSNE(n_components=3, perplexity=40, verbose=2, n_iter=500,early_exaggeration=1)\n",
    "tsne0 = tsne.fit_transform(X.T)\n",
    "tsne0 = StandardScaler().fit_transform(tsne0)\n",
    "\n",
    "print(tsne0.T.shape)\n"
   ]
  },
  {
   "cell_type": "code",
   "execution_count": 56,
   "metadata": {},
   "outputs": [],
   "source": [
    "def reduce_dimension(X):\n",
    "    tsne = TSNE(n_components=6, perplexity=40, verbose=2, n_iter=500,early_exaggeration=1)\n",
    "    tsne0 = tsne.fit_transform(X.T)\n",
    "    tsne0 = StandardScaler().fit_transform(tsne0)\n",
    "    \n",
    "    return tsne0.T"
   ]
  },
  {
   "cell_type": "code",
   "execution_count": 57,
   "metadata": {},
   "outputs": [],
   "source": [
    "from sklearn.model_selection import train_test_split\n",
    "\n",
    "\n",
    "def get_train_test(split_ratio=0.8, random_state=42):\n",
    "    # Get available labels\n",
    "    labels, indices, _ = get_labels(DATA_PATH)\n",
    "\n",
    "    # Getting first arrays\n",
    "    X = np.load(labels[0] + '.npy')\n",
    "    # print(X.shape[0]) returns: 129\n",
    "    y = np.zeros(X.shape[0])\n",
    "\n",
    "    # Append all of the dataset into one single array, same goes for y\n",
    "    for i, label in enumerate(labels[1:]):\n",
    "        x = np.load(label + '.npy')\n",
    "        X = np.vstack((X, x))\n",
    "        #print(X.shape[0]) returns: 129+152=281\n",
    "        #print(i) returns: 0: So all y values are 1 for Seven and 0 for Tin\n",
    "        y = np.append(y, np.full(x.shape[0], fill_value= (i + 1)))\n",
    "\n",
    "    assert X.shape[0] == len(y)\n",
    "\n",
    "    return train_test_split(X, y, test_size= (1 - split_ratio), random_state=random_state, shuffle=True)\n",
    "\n"
   ]
  },
  {
   "cell_type": "code",
   "execution_count": 58,
   "metadata": {},
   "outputs": [
    {
     "ename": "ValueError",
     "evalue": "'n_components' should be inferior to 4 for the barnes_hut algorithm as it relies on quad-tree or oct-tree.",
     "output_type": "error",
     "traceback": [
      "\u001b[1;31m---------------------------------------------------------------------------\u001b[0m",
      "\u001b[1;31mValueError\u001b[0m                                Traceback (most recent call last)",
      "\u001b[1;32m<ipython-input-58-3a047b839ebf>\u001b[0m in \u001b[0;36m<module>\u001b[1;34m()\u001b[0m\n\u001b[0;32m      7\u001b[0m \u001b[1;33m\u001b[0m\u001b[0m\n\u001b[0;32m      8\u001b[0m \u001b[1;31m# Save data to array file first\u001b[0m\u001b[1;33m\u001b[0m\u001b[1;33m\u001b[0m\u001b[0m\n\u001b[1;32m----> 9\u001b[1;33m \u001b[0msave_data_to_array\u001b[0m\u001b[1;33m(\u001b[0m\u001b[0mDATA_PATH\u001b[0m\u001b[1;33m,\u001b[0m\u001b[0mfeature_dim_2\u001b[0m\u001b[1;33m)\u001b[0m\u001b[1;33m\u001b[0m\u001b[0m\n\u001b[0m\u001b[0;32m     10\u001b[0m \u001b[1;33m\u001b[0m\u001b[0m\n\u001b[0;32m     11\u001b[0m \u001b[1;31m# # Loading train set and test set\u001b[0m\u001b[1;33m\u001b[0m\u001b[1;33m\u001b[0m\u001b[0m\n",
      "\u001b[1;32m<ipython-input-54-44c87b9c8647>\u001b[0m in \u001b[0;36msave_data_to_array\u001b[1;34m(path, max_pad_len)\u001b[0m\n\u001b[0;32m     14\u001b[0m         \u001b[1;32mfor\u001b[0m \u001b[0mwavfile\u001b[0m \u001b[1;32min\u001b[0m \u001b[0mwavfiles\u001b[0m\u001b[1;33m:\u001b[0m\u001b[1;33m\u001b[0m\u001b[0m\n\u001b[0;32m     15\u001b[0m             \u001b[0mname\u001b[0m\u001b[1;33m=\u001b[0m\u001b[0mlabel\u001b[0m\u001b[1;33m+\u001b[0m\u001b[1;34m'_'\u001b[0m\u001b[1;33m+\u001b[0m\u001b[0mstr\u001b[0m\u001b[1;33m(\u001b[0m\u001b[0mx\u001b[0m\u001b[1;33m)\u001b[0m\u001b[1;33m\u001b[0m\u001b[0m\n\u001b[1;32m---> 16\u001b[1;33m             \u001b[0mmelspectrogram\u001b[0m \u001b[1;33m=\u001b[0m \u001b[0mwav2melspectrogram\u001b[0m\u001b[1;33m(\u001b[0m\u001b[0mwavfile\u001b[0m\u001b[1;33m,\u001b[0m \u001b[0mname\u001b[0m\u001b[1;33m,\u001b[0m \u001b[0mmax_pad_len\u001b[0m\u001b[1;33m=\u001b[0m\u001b[0mmax_pad_len\u001b[0m\u001b[1;33m)\u001b[0m\u001b[1;33m\u001b[0m\u001b[0m\n\u001b[0m\u001b[0;32m     17\u001b[0m             \u001b[0mmelspectrogram_vectors\u001b[0m\u001b[1;33m.\u001b[0m\u001b[0mappend\u001b[0m\u001b[1;33m(\u001b[0m\u001b[0mmelspectrogram\u001b[0m\u001b[1;33m)\u001b[0m\u001b[1;33m\u001b[0m\u001b[0m\n\u001b[0;32m     18\u001b[0m             \u001b[0mx\u001b[0m\u001b[1;33m=\u001b[0m\u001b[0mx\u001b[0m\u001b[1;33m+\u001b[0m\u001b[1;36m1\u001b[0m\u001b[1;33m\u001b[0m\u001b[0m\n",
      "\u001b[1;32m<ipython-input-54-44c87b9c8647>\u001b[0m in \u001b[0;36mwav2melspectrogram\u001b[1;34m(file_path, name, max_pad_len)\u001b[0m\n\u001b[0;32m     39\u001b[0m     \u001b[1;31m#here the dimensions are getting reduced\u001b[0m\u001b[1;33m\u001b[0m\u001b[1;33m\u001b[0m\u001b[0m\n\u001b[0;32m     40\u001b[0m     \u001b[1;31m#through PCA decompostion\u001b[0m\u001b[1;33m\u001b[0m\u001b[1;33m\u001b[0m\u001b[0m\n\u001b[1;32m---> 41\u001b[1;33m     \u001b[0mx\u001b[0m \u001b[1;33m=\u001b[0m \u001b[0mreduce_dimension\u001b[0m\u001b[1;33m(\u001b[0m\u001b[0mx\u001b[0m\u001b[1;33m)\u001b[0m\u001b[1;33m\u001b[0m\u001b[0m\n\u001b[0m\u001b[0;32m     42\u001b[0m     \u001b[0mpd\u001b[0m\u001b[1;33m.\u001b[0m\u001b[0mDataFrame\u001b[0m\u001b[1;33m(\u001b[0m\u001b[0mx\u001b[0m\u001b[1;33m)\u001b[0m\u001b[1;33m.\u001b[0m\u001b[0mto_csv\u001b[0m\u001b[1;33m(\u001b[0m\u001b[0mVALUE_PATH\u001b[0m\u001b[1;33m+\u001b[0m\u001b[1;34m'/'\u001b[0m\u001b[1;33m+\u001b[0m\u001b[0mname\u001b[0m\u001b[1;33m+\u001b[0m\u001b[1;34m'.csv'\u001b[0m\u001b[1;33m)\u001b[0m\u001b[1;33m\u001b[0m\u001b[0m\n\u001b[0;32m     43\u001b[0m     \u001b[1;32mreturn\u001b[0m \u001b[0mx\u001b[0m\u001b[1;33m\u001b[0m\u001b[0m\n",
      "\u001b[1;32m<ipython-input-56-8aea6395206c>\u001b[0m in \u001b[0;36mreduce_dimension\u001b[1;34m(X)\u001b[0m\n\u001b[0;32m      1\u001b[0m \u001b[1;32mdef\u001b[0m \u001b[0mreduce_dimension\u001b[0m\u001b[1;33m(\u001b[0m\u001b[0mX\u001b[0m\u001b[1;33m)\u001b[0m\u001b[1;33m:\u001b[0m\u001b[1;33m\u001b[0m\u001b[0m\n\u001b[0;32m      2\u001b[0m     \u001b[0mtsne\u001b[0m \u001b[1;33m=\u001b[0m \u001b[0mTSNE\u001b[0m\u001b[1;33m(\u001b[0m\u001b[0mn_components\u001b[0m\u001b[1;33m=\u001b[0m\u001b[1;36m6\u001b[0m\u001b[1;33m,\u001b[0m \u001b[0mperplexity\u001b[0m\u001b[1;33m=\u001b[0m\u001b[1;36m40\u001b[0m\u001b[1;33m,\u001b[0m \u001b[0mverbose\u001b[0m\u001b[1;33m=\u001b[0m\u001b[1;36m2\u001b[0m\u001b[1;33m,\u001b[0m \u001b[0mn_iter\u001b[0m\u001b[1;33m=\u001b[0m\u001b[1;36m500\u001b[0m\u001b[1;33m,\u001b[0m\u001b[0mearly_exaggeration\u001b[0m\u001b[1;33m=\u001b[0m\u001b[1;36m1\u001b[0m\u001b[1;33m)\u001b[0m\u001b[1;33m\u001b[0m\u001b[0m\n\u001b[1;32m----> 3\u001b[1;33m     \u001b[0mtsne0\u001b[0m \u001b[1;33m=\u001b[0m \u001b[0mtsne\u001b[0m\u001b[1;33m.\u001b[0m\u001b[0mfit_transform\u001b[0m\u001b[1;33m(\u001b[0m\u001b[0mX\u001b[0m\u001b[1;33m.\u001b[0m\u001b[0mT\u001b[0m\u001b[1;33m)\u001b[0m\u001b[1;33m\u001b[0m\u001b[0m\n\u001b[0m\u001b[0;32m      4\u001b[0m     \u001b[0mtsne0\u001b[0m \u001b[1;33m=\u001b[0m \u001b[0mStandardScaler\u001b[0m\u001b[1;33m(\u001b[0m\u001b[1;33m)\u001b[0m\u001b[1;33m.\u001b[0m\u001b[0mfit_transform\u001b[0m\u001b[1;33m(\u001b[0m\u001b[0mtsne0\u001b[0m\u001b[1;33m)\u001b[0m\u001b[1;33m\u001b[0m\u001b[0m\n\u001b[0;32m      5\u001b[0m \u001b[1;33m\u001b[0m\u001b[0m\n",
      "\u001b[1;32m~\\Anaconda3\\lib\\site-packages\\sklearn\\manifold\\t_sne.py\u001b[0m in \u001b[0;36mfit_transform\u001b[1;34m(self, X, y)\u001b[0m\n\u001b[0;32m    856\u001b[0m             \u001b[0mEmbedding\u001b[0m \u001b[0mof\u001b[0m \u001b[0mthe\u001b[0m \u001b[0mtraining\u001b[0m \u001b[0mdata\u001b[0m \u001b[1;32min\u001b[0m \u001b[0mlow\u001b[0m\u001b[1;33m-\u001b[0m\u001b[0mdimensional\u001b[0m \u001b[0mspace\u001b[0m\u001b[1;33m.\u001b[0m\u001b[1;33m\u001b[0m\u001b[0m\n\u001b[0;32m    857\u001b[0m         \"\"\"\n\u001b[1;32m--> 858\u001b[1;33m         \u001b[0membedding\u001b[0m \u001b[1;33m=\u001b[0m \u001b[0mself\u001b[0m\u001b[1;33m.\u001b[0m\u001b[0m_fit\u001b[0m\u001b[1;33m(\u001b[0m\u001b[0mX\u001b[0m\u001b[1;33m)\u001b[0m\u001b[1;33m\u001b[0m\u001b[0m\n\u001b[0m\u001b[0;32m    859\u001b[0m         \u001b[0mself\u001b[0m\u001b[1;33m.\u001b[0m\u001b[0membedding_\u001b[0m \u001b[1;33m=\u001b[0m \u001b[0membedding\u001b[0m\u001b[1;33m\u001b[0m\u001b[0m\n\u001b[0;32m    860\u001b[0m         \u001b[1;32mreturn\u001b[0m \u001b[0mself\u001b[0m\u001b[1;33m.\u001b[0m\u001b[0membedding_\u001b[0m\u001b[1;33m\u001b[0m\u001b[0m\n",
      "\u001b[1;32m~\\Anaconda3\\lib\\site-packages\\sklearn\\manifold\\t_sne.py\u001b[0m in \u001b[0;36m_fit\u001b[1;34m(self, X, skip_num_points)\u001b[0m\n\u001b[0;32m    660\u001b[0m                             dtype=[np.float32, np.float64])\n\u001b[0;32m    661\u001b[0m         \u001b[1;32mif\u001b[0m \u001b[0mself\u001b[0m\u001b[1;33m.\u001b[0m\u001b[0mmethod\u001b[0m \u001b[1;33m==\u001b[0m \u001b[1;34m'barnes_hut'\u001b[0m \u001b[1;32mand\u001b[0m \u001b[0mself\u001b[0m\u001b[1;33m.\u001b[0m\u001b[0mn_components\u001b[0m \u001b[1;33m>\u001b[0m \u001b[1;36m3\u001b[0m\u001b[1;33m:\u001b[0m\u001b[1;33m\u001b[0m\u001b[0m\n\u001b[1;32m--> 662\u001b[1;33m             raise ValueError(\"'n_components' should be inferior to 4 for the \"\n\u001b[0m\u001b[0;32m    663\u001b[0m                              \u001b[1;34m\"barnes_hut algorithm as it relies on \"\u001b[0m\u001b[1;33m\u001b[0m\u001b[0m\n\u001b[0;32m    664\u001b[0m                              \"quad-tree or oct-tree.\")\n",
      "\u001b[1;31mValueError\u001b[0m: 'n_components' should be inferior to 4 for the barnes_hut algorithm as it relies on quad-tree or oct-tree."
     ]
    }
   ],
   "source": [
    "\n",
    "\n",
    "\n",
    "\n",
    "# Second dimension of the feature is dim2\n",
    "feature_dim_2 = 22\n",
    "\n",
    "# Save data to array file first\n",
    "save_data_to_array(DATA_PATH,feature_dim_2)\n",
    "\n",
    "# # Loading train set and test set\n",
    "X_train, X_test, y_train, y_test = get_train_test()\n",
    "\n",
    "# # Feature dimension\n",
    "feature_dim_1 = 128\n",
    "channel = 1\n",
    "epochs = 50\n",
    "batch_size = 100\n",
    "verbose = 1\n",
    "num_classes = 2\n",
    "\n",
    "\n",
    "y_train_hot = to_categorical(y_train)\n",
    "y_test_hot = to_categorical(y_test)"
   ]
  },
  {
   "cell_type": "code",
   "execution_count": 30,
   "metadata": {},
   "outputs": [
    {
     "name": "stdout",
     "output_type": "stream",
     "text": [
      "(224, 3, 22)\n",
      "(57, 3, 22)\n"
     ]
    }
   ],
   "source": [
    "\n",
    "#X_train = np.array(x_train)\n",
    "print(X_train.shape)\n",
    "print(X_test.shape)"
   ]
  },
  {
   "cell_type": "markdown",
   "metadata": {},
   "source": [
    "# *********++++++*********++++++*********++++++*********++++++"
   ]
  },
  {
   "cell_type": "code",
   "execution_count": 31,
   "metadata": {},
   "outputs": [],
   "source": [
    "from keras.models import Sequential\n",
    "from keras.layers import Dense, Dropout\n",
    "from keras.layers import Embedding\n",
    "from keras.layers import Conv1D, GlobalAveragePooling1D, MaxPooling1D"
   ]
  },
  {
   "cell_type": "code",
   "execution_count": 34,
   "metadata": {},
   "outputs": [],
   "source": [
    "seq_length = 128\n",
    "\n",
    "model = Sequential()\n",
    "model.add(Conv1D(64, 3, activation='relu', input_shape=(3,22)))\n",
    "model.add(Conv1D(64, 1, activation='relu'))\n",
    "model.add(Conv1D(64, 1, activation='relu'))\n",
    "model.add(Conv1D(64, 1, activation='relu'))\n",
    "model.add(MaxPooling1D(1))\n",
    "model.add(Conv1D(128, 1, activation='relu'))\n",
    "model.add(Conv1D(128, 1, activation='relu'))\n",
    "model.add(Conv1D(128, 1, activation='relu'))\n",
    "model.add(MaxPooling1D(1))\n",
    "model.add(Conv1D(256, 1, activation='relu'))\n",
    "model.add(Conv1D(256, 1, activation='relu'))\n",
    "model.add(GlobalAveragePooling1D())\n",
    "model.add(Dropout(0.5))\n",
    "model.add(Dense(2, activation='sigmoid'))"
   ]
  },
  {
   "cell_type": "code",
   "execution_count": 35,
   "metadata": {},
   "outputs": [],
   "source": [
    "model.compile(loss='binary_crossentropy',\n",
    "              optimizer='sgd',\n",
    "              metrics=['accuracy'])"
   ]
  },
  {
   "cell_type": "code",
   "execution_count": 36,
   "metadata": {},
   "outputs": [
    {
     "name": "stdout",
     "output_type": "stream",
     "text": [
      "Train on 224 samples, validate on 57 samples\n",
      "Epoch 1/10\n",
      "224/224 [==============================] - 4s 20ms/step - loss: 0.6930 - acc: 0.5022 - val_loss: 0.6937 - val_acc: 0.5088\n",
      "Epoch 2/10\n",
      "224/224 [==============================] - 0s 925us/step - loss: 0.6926 - acc: 0.5223 - val_loss: 0.6936 - val_acc: 0.5088\n",
      "Epoch 3/10\n",
      "224/224 [==============================] - 0s 871us/step - loss: 0.6907 - acc: 0.5536 - val_loss: 0.6936 - val_acc: 0.5000\n",
      "Epoch 4/10\n",
      "224/224 [==============================] - 0s 876us/step - loss: 0.6905 - acc: 0.5536 - val_loss: 0.6936 - val_acc: 0.5088\n",
      "Epoch 5/10\n",
      "224/224 [==============================] - 0s 880us/step - loss: 0.6898 - acc: 0.5536 - val_loss: 0.6937 - val_acc: 0.5088\n",
      "Epoch 6/10\n",
      "224/224 [==============================] - 0s 867us/step - loss: 0.6902 - acc: 0.5513 - val_loss: 0.6938 - val_acc: 0.5088\n",
      "Epoch 7/10\n",
      "224/224 [==============================] - 0s 902us/step - loss: 0.6890 - acc: 0.5446 - val_loss: 0.6939 - val_acc: 0.5088\n",
      "Epoch 8/10\n",
      "224/224 [==============================] - 0s 898us/step - loss: 0.6890 - acc: 0.5491 - val_loss: 0.6940 - val_acc: 0.5088\n",
      "Epoch 9/10\n",
      "224/224 [==============================] - 0s 844us/step - loss: 0.6885 - acc: 0.5513 - val_loss: 0.6941 - val_acc: 0.5088\n",
      "Epoch 10/10\n",
      "224/224 [==============================] - 0s 885us/step - loss: 0.6888 - acc: 0.5491 - val_loss: 0.6942 - val_acc: 0.5088\n"
     ]
    }
   ],
   "source": [
    "\n",
    "history = model.fit(X_train, y_train_hot, batch_size=7, epochs=10, validation_data=(X_test, y_test_hot))"
   ]
  },
  {
   "cell_type": "code",
   "execution_count": 37,
   "metadata": {},
   "outputs": [
    {
     "data": {
      "image/png": "[encoded data removed]",
      "text/plain": [
       "<Figure size 432x288 with 1 Axes>"
      ]
     },
     "metadata": {
      "needs_background": "light"
     },
     "output_type": "display_data"
    }
   ],
   "source": [
    "# summarize history for accuracy\n",
    "plt.plot(history.history['acc'])\n",
    "plt.plot(history.history['val_acc'])\n",
    "plt.title('model accuracy')\n",
    "plt.ylabel('accuracy')\n",
    "plt.xlabel('epoch')\n",
    "plt.legend(['train', 'test'], loc='upper left')\n",
    "plt.show()\n"
   ]
  },
  {
   "cell_type": "code",
   "execution_count": 38,
   "metadata": {},
   "outputs": [
    {
     "data": {
      "image/png": "[encoded data removed]",
      "text/plain": [
       "<Figure size 432x288 with 1 Axes>"
      ]
     },
     "metadata": {
      "needs_background": "light"
     },
     "output_type": "display_data"
    }
   ],
   "source": [
    "# summarize history for loss\n",
    "plt.plot(history.history['loss'])\n",
    "plt.plot(history.history['val_loss'])\n",
    "plt.title('model loss')\n",
    "plt.ylabel('loss')\n",
    "plt.xlabel('epoch')\n",
    "plt.legend(['train', 'test'], loc='upper left')\n",
    "plt.show()"
   ]
  },
  {
   "cell_type": "markdown",
   "metadata": {},
   "source": [
    "# *********++++++*********++++++*********++++++*********++++++"
   ]
  },
  {
   "cell_type": "code",
   "execution_count": 42,
   "metadata": {},
   "outputs": [],
   "source": [
    "seq_length = 128\n",
    "\n",
    "model = Sequential()\n",
    "model.add(Conv1D(64, 3, activation='relu', input_shape=(3,22)))\n",
    "model.add(Conv1D(64, 1, activation='relu'))\n",
    "model.add(MaxPooling1D(1))\n",
    "model.add(Conv1D(128, 1, activation='relu'))\n",
    "model.add(Conv1D(128, 1, activation='relu'))\n",
    "model.add(GlobalAveragePooling1D())\n",
    "model.add(Dropout(0.5))\n",
    "model.add(Dense(2, activation='sigmoid'))\n"
   ]
  },
  {
   "cell_type": "code",
   "execution_count": 43,
   "metadata": {},
   "outputs": [],
   "source": [
    "model.compile(loss='binary_crossentropy',\n",
    "              optimizer='rmsprop',\n",
    "              metrics=['accuracy'])"
   ]
  },
  {
   "cell_type": "code",
   "execution_count": 44,
   "metadata": {},
   "outputs": [
    {
     "name": "stdout",
     "output_type": "stream",
     "text": [
      "Train on 224 samples, validate on 57 samples\n",
      "Epoch 1/50\n",
      "224/224 [==============================] - 1s 6ms/step - loss: 0.7045 - acc: 0.5000 - val_loss: 0.6952 - val_acc: 0.5000\n",
      "Epoch 2/50\n",
      "224/224 [==============================] - 0s 98us/step - loss: 0.6823 - acc: 0.5513 - val_loss: 0.6958 - val_acc: 0.5088\n",
      "Epoch 3/50\n",
      "224/224 [==============================] - 0s 94us/step - loss: 0.6662 - acc: 0.5737 - val_loss: 0.6952 - val_acc: 0.5351\n",
      "Epoch 4/50\n",
      "224/224 [==============================] - 0s 103us/step - loss: 0.6569 - acc: 0.6496 - val_loss: 0.6983 - val_acc: 0.5000\n",
      "Epoch 5/50\n",
      "224/224 [==============================] - 0s 89us/step - loss: 0.6412 - acc: 0.7121 - val_loss: 0.6927 - val_acc: 0.5088\n",
      "Epoch 6/50\n",
      "224/224 [==============================] - 0s 98us/step - loss: 0.6323 - acc: 0.6987 - val_loss: 0.7037 - val_acc: 0.5088\n",
      "Epoch 7/50\n",
      "224/224 [==============================] - 0s 112us/step - loss: 0.6099 - acc: 0.6763 - val_loss: 0.7078 - val_acc: 0.5000\n",
      "Epoch 8/50\n",
      "224/224 [==============================] - 0s 103us/step - loss: 0.5888 - acc: 0.7321 - val_loss: 0.7124 - val_acc: 0.4737\n",
      "Epoch 9/50\n",
      "224/224 [==============================] - 0s 121us/step - loss: 0.5573 - acc: 0.8013 - val_loss: 0.7250 - val_acc: 0.4912\n",
      "Epoch 10/50\n",
      "224/224 [==============================] - 0s 112us/step - loss: 0.5260 - acc: 0.8192 - val_loss: 0.7337 - val_acc: 0.4825\n",
      "Epoch 11/50\n",
      "224/224 [==============================] - 0s 89us/step - loss: 0.4929 - acc: 0.8192 - val_loss: 0.7579 - val_acc: 0.4386\n",
      "Epoch 12/50\n",
      "224/224 [==============================] - 0s 89us/step - loss: 0.4519 - acc: 0.8437 - val_loss: 0.7780 - val_acc: 0.4474\n",
      "Epoch 13/50\n",
      "224/224 [==============================] - 0s 107us/step - loss: 0.4154 - acc: 0.8772 - val_loss: 0.8026 - val_acc: 0.4649\n",
      "Epoch 14/50\n",
      "224/224 [==============================] - 0s 94us/step - loss: 0.3758 - acc: 0.8884 - val_loss: 0.8295 - val_acc: 0.4649\n",
      "Epoch 15/50\n",
      "224/224 [==============================] - 0s 94us/step - loss: 0.3272 - acc: 0.8996 - val_loss: 0.8877 - val_acc: 0.4386\n",
      "Epoch 16/50\n",
      "224/224 [==============================] - 0s 89us/step - loss: 0.2842 - acc: 0.9129 - val_loss: 0.9436 - val_acc: 0.4737\n",
      "Epoch 17/50\n",
      "224/224 [==============================] - 0s 80us/step - loss: 0.2495 - acc: 0.9531 - val_loss: 0.9652 - val_acc: 0.4386\n",
      "Epoch 18/50\n",
      "224/224 [==============================] - 0s 85us/step - loss: 0.1979 - acc: 0.9710 - val_loss: 1.0286 - val_acc: 0.4298\n",
      "Epoch 19/50\n",
      "224/224 [==============================] - 0s 107us/step - loss: 0.1726 - acc: 0.9688 - val_loss: 1.0989 - val_acc: 0.4561\n",
      "Epoch 20/50\n",
      "224/224 [==============================] - 0s 94us/step - loss: 0.1343 - acc: 0.9911 - val_loss: 1.1803 - val_acc: 0.4211\n",
      "Epoch 21/50\n",
      "224/224 [==============================] - 0s 85us/step - loss: 0.1334 - acc: 0.9777 - val_loss: 1.2335 - val_acc: 0.4298\n",
      "Epoch 22/50\n",
      "224/224 [==============================] - 0s 107us/step - loss: 0.0962 - acc: 0.9888 - val_loss: 1.3195 - val_acc: 0.4298\n",
      "Epoch 23/50\n",
      "224/224 [==============================] - 0s 103us/step - loss: 0.0673 - acc: 1.0000 - val_loss: 1.4255 - val_acc: 0.4386\n",
      "Epoch 24/50\n",
      "224/224 [==============================] - ETA: 0s - loss: 0.0600 - acc: 1.000 - 0s 98us/step - loss: 0.0626 - acc: 1.0000 - val_loss: 1.4452 - val_acc: 0.4561\n",
      "Epoch 25/50\n",
      "224/224 [==============================] - 0s 98us/step - loss: 0.0432 - acc: 1.0000 - val_loss: 1.5214 - val_acc: 0.4386\n",
      "Epoch 26/50\n",
      "224/224 [==============================] - 0s 89us/step - loss: 0.0421 - acc: 1.0000 - val_loss: 1.5885 - val_acc: 0.4561\n",
      "Epoch 27/50\n",
      "224/224 [==============================] - 0s 89us/step - loss: 0.0255 - acc: 1.0000 - val_loss: 1.6879 - val_acc: 0.4386\n",
      "Epoch 28/50\n",
      "224/224 [==============================] - 0s 98us/step - loss: 0.0214 - acc: 1.0000 - val_loss: 1.7633 - val_acc: 0.4474\n",
      "Epoch 29/50\n",
      "224/224 [==============================] - 0s 103us/step - loss: 0.0161 - acc: 1.0000 - val_loss: 1.8731 - val_acc: 0.4737\n",
      "Epoch 30/50\n",
      "224/224 [==============================] - 0s 94us/step - loss: 0.0154 - acc: 1.0000 - val_loss: 1.9597 - val_acc: 0.4386\n",
      "Epoch 31/50\n",
      "224/224 [==============================] - 0s 85us/step - loss: 0.0107 - acc: 1.0000 - val_loss: 2.0511 - val_acc: 0.4474\n",
      "Epoch 32/50\n",
      "224/224 [==============================] - 0s 85us/step - loss: 0.0072 - acc: 1.0000 - val_loss: 2.1016 - val_acc: 0.4211\n",
      "Epoch 33/50\n",
      "224/224 [==============================] - 0s 125us/step - loss: 0.0073 - acc: 1.0000 - val_loss: 2.2414 - val_acc: 0.4386\n",
      "Epoch 34/50\n",
      "224/224 [==============================] - 0s 116us/step - loss: 0.0066 - acc: 1.0000 - val_loss: 2.2980 - val_acc: 0.4298\n",
      "Epoch 35/50\n",
      "224/224 [==============================] - 0s 103us/step - loss: 0.0053 - acc: 1.0000 - val_loss: 2.4086 - val_acc: 0.4211\n",
      "Epoch 36/50\n",
      "224/224 [==============================] - 0s 80us/step - loss: 0.0036 - acc: 1.0000 - val_loss: 2.5566 - val_acc: 0.4386\n",
      "Epoch 37/50\n",
      "224/224 [==============================] - 0s 80us/step - loss: 0.0040 - acc: 1.0000 - val_loss: 2.6389 - val_acc: 0.4035\n",
      "Epoch 38/50\n",
      "224/224 [==============================] - 0s 94us/step - loss: 0.0024 - acc: 1.0000 - val_loss: 2.6545 - val_acc: 0.4211\n",
      "Epoch 39/50\n",
      "224/224 [==============================] - 0s 103us/step - loss: 0.0019 - acc: 1.0000 - val_loss: 2.7146 - val_acc: 0.4386\n",
      "Epoch 40/50\n",
      "224/224 [==============================] - 0s 94us/step - loss: 0.0014 - acc: 1.0000 - val_loss: 2.7462 - val_acc: 0.4035\n",
      "Epoch 41/50\n",
      "224/224 [==============================] - 0s 98us/step - loss: 0.0016 - acc: 1.0000 - val_loss: 2.8750 - val_acc: 0.4298\n",
      "Epoch 42/50\n",
      "224/224 [==============================] - 0s 98us/step - loss: 0.0011 - acc: 1.0000 - val_loss: 2.9837 - val_acc: 0.4474\n",
      "Epoch 43/50\n",
      "224/224 [==============================] - 0s 98us/step - loss: 0.0013 - acc: 1.0000 - val_loss: 3.0548 - val_acc: 0.4386\n",
      "Epoch 44/50\n",
      "224/224 [==============================] - 0s 89us/step - loss: 0.0010 - acc: 1.0000 - val_loss: 3.0928 - val_acc: 0.4123\n",
      "Epoch 45/50\n",
      "224/224 [==============================] - 0s 94us/step - loss: 6.9225e-04 - acc: 1.0000 - val_loss: 3.2711 - val_acc: 0.4386\n",
      "Epoch 46/50\n",
      "224/224 [==============================] - 0s 98us/step - loss: 4.5271e-04 - acc: 1.0000 - val_loss: 3.3159 - val_acc: 0.4211\n",
      "Epoch 47/50\n",
      "224/224 [==============================] - 0s 85us/step - loss: 4.1298e-04 - acc: 1.0000 - val_loss: 3.4012 - val_acc: 0.4123\n",
      "Epoch 48/50\n",
      "224/224 [==============================] - 0s 103us/step - loss: 4.2483e-04 - acc: 1.0000 - val_loss: 3.4664 - val_acc: 0.4825\n",
      "Epoch 49/50\n",
      "224/224 [==============================] - 0s 94us/step - loss: 0.0076 - acc: 1.0000 - val_loss: 3.4275 - val_acc: 0.4561\n",
      "Epoch 50/50\n",
      "224/224 [==============================] - 0s 85us/step - loss: 7.5512e-04 - acc: 1.0000 - val_loss: 3.4043 - val_acc: 0.4649\n"
     ]
    }
   ],
   "source": [
    "#model.fit(x_train, y_train, batch_size=7, epochs=10)\n",
    "\n",
    "history = model.fit(X_train, y_train_hot, batch_size=batch_size, epochs=epochs, verbose=verbose, validation_data=(X_test, y_test_hot))"
   ]
  },
  {
   "cell_type": "code",
   "execution_count": 45,
   "metadata": {},
   "outputs": [
    {
     "data": {
      "image/png": "[encoded data removed]",
      "text/plain": [
       "<Figure size 432x288 with 1 Axes>"
      ]
     },
     "metadata": {
      "needs_background": "light"
     },
     "output_type": "display_data"
    }
   ],
   "source": [
    "# summarize history for accuracy\n",
    "plt.plot(history.history['acc'])\n",
    "plt.plot(history.history['val_acc'])\n",
    "plt.title('model accuracy')\n",
    "plt.ylabel('accuracy')\n",
    "plt.xlabel('epoch')\n",
    "plt.legend(['train', 'test'], loc='upper left')\n",
    "plt.show()"
   ]
  },
  {
   "cell_type": "code",
   "execution_count": 46,
   "metadata": {},
   "outputs": [
    {
     "data": {
      "image/png": "[encoded data removed]",
      "text/plain": [
       "<Figure size 432x288 with 1 Axes>"
      ]
     },
     "metadata": {
      "needs_background": "light"
     },
     "output_type": "display_data"
    }
   ],
   "source": [
    "# summarize history for loss\n",
    "plt.plot(history.history['loss'])\n",
    "plt.plot(history.history['val_loss'])\n",
    "plt.title('model loss')\n",
    "plt.ylabel('loss')\n",
    "plt.xlabel('epoch')\n",
    "plt.legend(['train', 'test'], loc='upper left')\n",
    "plt.show()"
   ]
  },
  {
   "cell_type": "markdown",
   "metadata": {},
   "source": [
    "# *********++++++*********++++++*********++++++*********++++++"
   ]
  },
  {
   "cell_type": "markdown",
   "metadata": {},
   "source": [
    "# RNN+LSTM"
   ]
  },
  {
   "cell_type": "code",
   "execution_count": 47,
   "metadata": {},
   "outputs": [],
   "source": [
    "import numpy as np\n",
    "from keras.models import Sequential\n",
    "from keras.layers import Dense, Dropout, Activation, Flatten, LSTM\n",
    "from keras.layers import Convolution2D, MaxPooling2D\n",
    "from keras.optimizers import Adam\n",
    "from keras.callbacks import EarlyStopping,ReduceLROnPlateau,ModelCheckpoint,TensorBoard,ProgbarLogger\n",
    "from keras.utils import np_utils\n",
    "from sklearn import metrics \n",
    "from sklearn.metrics import confusion_matrix, classification_report, accuracy_score\n",
    "from sklearn.preprocessing import LabelEncoder\n",
    "import itertools"
   ]
  },
  {
   "cell_type": "code",
   "execution_count": 48,
   "metadata": {},
   "outputs": [
    {
     "name": "stdout",
     "output_type": "stream",
     "text": [
      "Build LSTM RNN model ...\n",
      "_________________________________________________________________\n",
      "Layer (type)                 Output Shape              Param #   \n",
      "=================================================================\n",
      "lstm_1 (LSTM)                (None, 3, 64)             22272     \n",
      "_________________________________________________________________\n",
      "lstm_2 (LSTM)                (None, 32)                12416     \n",
      "_________________________________________________________________\n",
      "dense_5 (Dense)              (None, 2)                 66        \n",
      "=================================================================\n",
      "Total params: 34,754\n",
      "Trainable params: 34,754\n",
      "Non-trainable params: 0\n",
      "_________________________________________________________________\n"
     ]
    }
   ],
   "source": [
    "print('Build LSTM RNN model ...')\n",
    "model = Sequential()\n",
    "model.add(LSTM(units=64, dropout=0.05, recurrent_dropout=0.20, return_sequences=True,input_shape = (3,22)))\n",
    "model.add(LSTM(units=32, dropout=0.05, recurrent_dropout=0.20, return_sequences=False))\n",
    "model.add(Dense(2, activation='softmax'))\n",
    "model.compile(loss='categorical_crossentropy', optimizer='Adamax', metrics=['acc','mse', 'mae', 'mape', 'cosine'])\n",
    "model.summary()"
   ]
  },
  {
   "cell_type": "code",
   "execution_count": 49,
   "metadata": {},
   "outputs": [
    {
     "name": "stdout",
     "output_type": "stream",
     "text": [
      "training started..... please wait.\n",
      "\n",
      "Epoch 00001: loss improved from inf to 0.68951, saving model to ./best_model_trained.hdf5\n",
      "\n",
      "Epoch 00002: loss improved from 0.68951 to 0.67715, saving model to ./best_model_trained.hdf5\n",
      "\n",
      "Epoch 00003: loss improved from 0.67715 to 0.67060, saving model to ./best_model_trained.hdf5\n",
      "\n",
      "Epoch 00004: loss improved from 0.67060 to 0.65990, saving model to ./best_model_trained.hdf5\n",
      "\n",
      "Epoch 00005: loss improved from 0.65990 to 0.65187, saving model to ./best_model_trained.hdf5\n",
      "\n",
      "Epoch 00006: loss improved from 0.65187 to 0.64035, saving model to ./best_model_trained.hdf5\n",
      "\n",
      "Epoch 00007: loss improved from 0.64035 to 0.63425, saving model to ./best_model_trained.hdf5\n",
      "\n",
      "Epoch 00008: loss improved from 0.63425 to 0.62176, saving model to ./best_model_trained.hdf5\n",
      "\n",
      "Epoch 00009: loss improved from 0.62176 to 0.60981, saving model to ./best_model_trained.hdf5\n",
      "\n",
      "Epoch 00010: loss improved from 0.60981 to 0.60190, saving model to ./best_model_trained.hdf5\n",
      "\n",
      "Epoch 00011: loss improved from 0.60190 to 0.57426, saving model to ./best_model_trained.hdf5\n",
      "\n",
      "Epoch 00012: loss improved from 0.57426 to 0.55680, saving model to ./best_model_trained.hdf5\n",
      "\n",
      "Epoch 00013: loss improved from 0.55680 to 0.54748, saving model to ./best_model_trained.hdf5\n",
      "\n",
      "Epoch 00014: loss improved from 0.54748 to 0.52180, saving model to ./best_model_trained.hdf5\n",
      "\n",
      "Epoch 00015: loss improved from 0.52180 to 0.49079, saving model to ./best_model_trained.hdf5\n",
      "\n",
      "Epoch 00016: ReduceLROnPlateau reducing learning rate to 0.00020000000949949026.\n",
      "\n",
      "Epoch 00016: loss improved from 0.49079 to 0.47751, saving model to ./best_model_trained.hdf5\n",
      "\n",
      "Epoch 00017: loss improved from 0.47751 to 0.43115, saving model to ./best_model_trained.hdf5\n",
      "\n",
      "Epoch 00018: loss did not improve from 0.43115\n",
      "\n",
      "Epoch 00019: loss improved from 0.43115 to 0.41560, saving model to ./best_model_trained.hdf5\n",
      "\n",
      "Epoch 00020: loss did not improve from 0.41560\n",
      "\n",
      "Epoch 00021: loss did not improve from 0.41560\n",
      "\n",
      "Epoch 00022: loss did not improve from 0.41560\n",
      "\n",
      "Epoch 00023: loss improved from 0.41560 to 0.41349, saving model to ./best_model_trained.hdf5\n",
      "\n",
      "Epoch 00024: loss improved from 0.41349 to 0.39068, saving model to ./best_model_trained.hdf5\n",
      "\n",
      "Epoch 00025: loss did not improve from 0.39068\n",
      "\n",
      "Epoch 00026: loss did not improve from 0.39068\n",
      "\n",
      "Epoch 00027: loss did not improve from 0.39068\n",
      "\n",
      "Epoch 00028: ReduceLROnPlateau reducing learning rate to 2.0000000949949027e-05.\n",
      "\n",
      "Epoch 00028: loss did not improve from 0.39068\n",
      "\n",
      "Epoch 00029: loss improved from 0.39068 to 0.37382, saving model to ./best_model_trained.hdf5\n",
      "\n",
      "Epoch 00030: loss improved from 0.37382 to 0.36874, saving model to ./best_model_trained.hdf5\n",
      "\n",
      "Epoch 00031: loss did not improve from 0.36874\n",
      "\n",
      "Epoch 00032: loss did not improve from 0.36874\n",
      "\n",
      "Epoch 00033: loss did not improve from 0.36874\n",
      "\n",
      "Epoch 00034: loss did not improve from 0.36874\n",
      "\n",
      "Epoch 00035: loss did not improve from 0.36874\n",
      "\n",
      "Epoch 00036: loss did not improve from 0.36874\n",
      "\n",
      "Epoch 00037: loss did not improve from 0.36874\n",
      "\n",
      "Epoch 00038: loss did not improve from 0.36874\n",
      "\n",
      "Epoch 00039: loss did not improve from 0.36874\n",
      "\n",
      "Epoch 00040: ReduceLROnPlateau reducing learning rate to 2.0000001313746906e-06.\n",
      "\n",
      "Epoch 00040: loss did not improve from 0.36874\n",
      "\n",
      "Epoch 00041: loss did not improve from 0.36874\n",
      "\n",
      "Epoch 00042: loss did not improve from 0.36874\n",
      "\n",
      "Epoch 00043: loss did not improve from 0.36874\n",
      "\n",
      "Epoch 00044: loss did not improve from 0.36874\n",
      "\n",
      "Epoch 00045: loss did not improve from 0.36874\n",
      "\n",
      "Epoch 00046: loss did not improve from 0.36874\n",
      "\n",
      "Epoch 00047: loss did not improve from 0.36874\n",
      "\n",
      "Epoch 00048: loss did not improve from 0.36874\n",
      "\n",
      "Epoch 00049: loss did not improve from 0.36874\n",
      "\n",
      "Epoch 00050: loss did not improve from 0.36874\n",
      "training finised!\n",
      "Wall time: 30.3 s\n"
     ]
    }
   ],
   "source": [
    "%%time\n",
    "# saved model checkpoint file\n",
    "best_model_file=\"./best_model_trained.hdf5\"\n",
    "#train_model_file=file_path+\"/checkpoints/weights.best_{epoch:02d}-{loss:.2f}.hdf5\"\n",
    "MAX_PATIENT=12\n",
    "MAX_EPOCHS=50\n",
    "MAX_BATCH=7\n",
    "\n",
    "# callbacks\n",
    "# removed EarlyStopping(patience=MAX_PATIENT)\n",
    "callback=[ReduceLROnPlateau(patience=MAX_PATIENT, verbose=1),\n",
    "          ModelCheckpoint(filepath=best_model_file, monitor='loss', verbose=1, save_best_only=True)]\n",
    "\n",
    "print (\"training started..... please wait.\")\n",
    "# training\n",
    "history=model.fit(X_train, y_train_hot, \n",
    "                  batch_size=MAX_BATCH, \n",
    "                  epochs=MAX_EPOCHS,\n",
    "                  verbose=0,\n",
    "                  validation_data=(X_test, y_test_hot),\n",
    "                  callbacks=callback) \n",
    "\n",
    "print (\"training finised!\")\n",
    "\n"
   ]
  },
  {
   "cell_type": "code",
   "execution_count": 50,
   "metadata": {},
   "outputs": [
    {
     "name": "stdout",
     "output_type": "stream",
     "text": [
      "model train data score       :  88.0 %\n",
      "model test data score        :  61.0 %\n"
     ]
    }
   ],
   "source": [
    "score = model.evaluate(X_train, y_train_hot, verbose=0) \n",
    "print (\"model train data score       : \",round(score[1]*100) , \"%\")\n",
    "\n",
    "score = model.evaluate(X_test, y_test_hot, verbose=0) \n",
    "print (\"model test data score        : \",round(score[1]*100) , \"%\")"
   ]
  },
  {
   "cell_type": "code",
   "execution_count": 51,
   "metadata": {},
   "outputs": [
    {
     "data": {
      "image/png": "[encoded data removed]",
      "text/plain": [
       "<Figure size 432x288 with 1 Axes>"
      ]
     },
     "metadata": {
      "needs_background": "light"
     },
     "output_type": "display_data"
    }
   ],
   "source": [
    "# summarize history for accuracy\n",
    "plt.plot(history.history['acc'])\n",
    "plt.plot(history.history['val_acc'])\n",
    "plt.title('model accuracy')\n",
    "plt.ylabel('accuracy')\n",
    "plt.xlabel('epoch')\n",
    "plt.legend(['train', 'test'], loc='upper left')\n",
    "plt.show()"
   ]
  },
  {
   "cell_type": "code",
   "execution_count": 52,
   "metadata": {},
   "outputs": [
    {
     "data": {
      "image/png": "[encoded data removed]",
      "text/plain": [
       "<Figure size 432x288 with 1 Axes>"
      ]
     },
     "metadata": {
      "needs_background": "light"
     },
     "output_type": "display_data"
    }
   ],
   "source": [
    "# summarize history for loss\n",
    "plt.plot(history.history['loss'])\n",
    "plt.plot(history.history['val_loss'])\n",
    "plt.title('model loss')\n",
    "plt.ylabel('loss')\n",
    "plt.xlabel('epoch')\n",
    "plt.legend(['train', 'test'], loc='upper left')\n",
    "plt.show()"
   ]
  },
  {
   "cell_type": "code",
   "execution_count": null,
   "metadata": {},
   "outputs": [],
   "source": []
  }
 ],
 "metadata": {
  "kernelspec": {
   "display_name": "Python 3",
   "language": "python",
   "name": "python3"
  },
  "language_info": {
   "codemirror_mode": {
    "name": "ipython",
    "version": 3
   },
   "file_extension": ".py",
   "mimetype": "text/x-python",
   "name": "python",
   "nbconvert_exporter": "python",
   "pygments_lexer": "ipython3",
   "version": "3.6.4"
  }
 },
 "nbformat": 4,
 "nbformat_minor": 2
}
